{
 "metadata": {
  "language_info": {
   "codemirror_mode": {
    "name": "ipython",
    "version": 3
   },
   "file_extension": ".py",
   "mimetype": "text/x-python",
   "name": "python",
   "nbconvert_exporter": "python",
   "pygments_lexer": "ipython3",
   "version": "3.8.6-final"
  },
  "orig_nbformat": 2,
  "kernelspec": {
   "name": "python3",
   "display_name": "Python 3"
  }
 },
 "nbformat": 4,
 "nbformat_minor": 2,
 "cells": [
  {
   "cell_type": "code",
   "execution_count": null,
   "metadata": {},
   "outputs": [],
   "source": [
    "%%markdown\n",
    "1. Discuss the meaning of a sequence. If a finite\n",
    "sequence is defined by a formula, what is its domain?\n",
    "What about an infinite sequence?\n",
    "A finite sequence describes a group of numbers in a known range, while an inifinite sequence is a function described by a formula whose range consists of positive integers which continues indefinitly"
   ]
  },
  {
   "cell_type": "code",
   "execution_count": null,
   "metadata": {},
   "outputs": [],
   "source": [
    "%%markdown\n",
    "2. Describe three ways that a sequence can be defined.\n",
    "-By a given explicit formula\n",
    "-When given terms for specific positions\n",
    "-By a grph"
   ]
  },
  {
   "cell_type": "code",
   "execution_count": null,
   "metadata": {},
   "outputs": [],
   "source": [
    "%%markdown\n",
    "3. Is the ordered set of even numbers an infinite\n",
    "sequence? What about the ordered set of odd\n",
    "numbers? Explain why or why not.\n",
    "<br>Yes, because there are infinite integers that could be divided by 2 without a reminder. The same goes for odd numbers, that could NOT be divided by 2 without a reminder"
   ]
  },
  {
   "cell_type": "code",
   "execution_count": 4,
   "metadata": {},
   "outputs": [
    {
     "output_type": "display_data",
     "data": {
      "text/plain": "<IPython.core.display.Markdown object>",
      "text/markdown": "4. What happens to the terms $a_n$ of a sequence when<br>\nthere is a negative factor in the formula that is raised<br>\nto a power that includes n? What is the term used to<br>\ndescribe this phenomenon?<br>\nThe term oscilates between signs. the term is $a_n = (-1)^n$\n"
     },
     "metadata": {}
    }
   ],
   "source": [
    "%%markdown\n",
    "4. What happens to the terms $a_n$ of a sequence when<br>\n",
    "there is a negative factor in the formula that is raised<br>\n",
    "to a power that includes n? What is the term used to<br>\n",
    "describe this phenomenon?<br>\n",
    "The term oscilates between signs. the term is $a_n = (-1)^n$"
   ]
  },
  {
   "cell_type": "code",
   "execution_count": 6,
   "metadata": {},
   "outputs": [
    {
     "output_type": "display_data",
     "data": {
      "text/plain": "<IPython.core.display.Markdown object>",
      "text/markdown": "5. What is a factorial, and how is it denoted? Use an\nexample to illustrate how factorial notation can be\nbeneficial.\n<br> A factorial describes a recursive sequnce in which the term $a! = a*(a-1$)! is a product of a number $a$ with the factorial of the preceeding number$a_{a-1}$\n"
     },
     "metadata": {}
    }
   ],
   "source": [
    "%%markdown\n",
    "5. What is a factorial, and how is it denoted? Use an\n",
    "example to illustrate how factorial notation can be\n",
    "beneficial.\n",
    "<br> A factorial describes a recursive sequnce in which the term $a! = a*(a-1$)! is a product of a number $a$ with the factorial of the preceeding number$a_{a-1}$"
   ]
  },
  {
   "cell_type": "code",
   "execution_count": null,
   "metadata": {},
   "outputs": [],
   "source": [
    "%%markdown\n",
    "For the following exercises, write the first four terms of the sequence"
   ]
  },
  {
   "cell_type": "code",
   "execution_count": 7,
   "metadata": {},
   "outputs": [
    {
     "output_type": "display_data",
     "data": {
      "text/plain": "<IPython.core.display.Markdown object>",
      "text/markdown": "7) $a = \\frac{16}{n+1}$\n<br>1) $8$\n<br>2) $\\frac{16}{3}$\n<br>3) $4$\n<br>4) $\\frac{16}{5}$\n"
     },
     "metadata": {}
    }
   ],
   "source": [
    "%%markdown\n",
    "7) $a = \\frac{16}{n+1}$\n",
    "<br>1) $8$\n",
    "<br>2) $\\frac{16}{3}$\n",
    "<br>3) $4$\n",
    "<br>4) $\\frac{16}{5}$"
   ]
  },
  {
   "cell_type": "code",
   "execution_count": 10,
   "metadata": {},
   "outputs": [
    {
     "output_type": "display_data",
     "data": {
      "text/plain": "<IPython.core.display.Markdown object>",
      "text/markdown": "9) $a_n = \\frac{2^n}{n^3}$\n<br>1) $2$\n<br>2) $frac{1}{2}$\n<br>3) $frac{8}{27}$\n<br>4) $frac{1}{4}$\n"
     },
     "metadata": {}
    }
   ],
   "source": [
    "%%markdown\n",
    "9) $a_n = \\frac{2^n}{n^3}$\n",
    "<br>1) $2$\n",
    "<br>2) $frac{1}{2}$\n",
    "<br>3) $frac{8}{27}$\n",
    "<br>4) $frac{1}{4}$"
   ]
  },
  {
   "cell_type": "code",
   "execution_count": 9,
   "metadata": {},
   "outputs": [
    {
     "output_type": "display_data",
     "data": {
      "text/plain": "<IPython.core.display.Markdown object>",
      "text/markdown": "$a_n = 1.25*(−4)^{n − 1}$\n"
     },
     "metadata": {}
    }
   ],
   "source": [
    "%%markdown\n",
    "11) $a_n = 1.25*(−4)^{n − 1}$\n",
    "<br>1) $\\frac{}{}$\n",
    "<br>2) $\\frac{}{}$\n",
    "<br>3) $\\frac{}{}$\n",
    "<br>4) $\\frac{}{}$"
   ]
  },
  {
   "cell_type": "code",
   "execution_count": null,
   "metadata": {},
   "outputs": [],
   "source": [
    "%%markdown\n",
    "13) $a_n = \\frac{n^2}{2n+1}$\n",
    "<br>1) $\\frac{1}{3}$\n",
    "<br>2) $\\frac{4}{5}$\n",
    "<br>3) $\\frac{9}{7}$\n",
    "<br>4) $\\frac{16}{9}$"
   ]
  },
  {
   "cell_type": "code",
   "execution_count": 13,
   "metadata": {},
   "outputs": [
    {
     "output_type": "display_data",
     "data": {
      "text/plain": "<IPython.core.display.Markdown object>",
      "text/markdown": "15) $a_n = -(\\frac{4*(-5)^{n-1}}{5})$\n<br>1) $-\\frac{4}{5}$\n<br>2) $4$\n<br>3) $20$\n<br>4) $100$\n"
     },
     "metadata": {}
    }
   ],
   "source": [
    "%%markdown\n",
    "15) $a_n = -(\\frac{4*(-5)^{n-1}}{5})$\n",
    "<br>1) $-\\frac{4}{5}$\n",
    "<br>2) $4$\n",
    "<br>3) $-20$\n",
    "<br>4) $100$"
   ]
  },
  {
   "cell_type": "code",
   "execution_count": null,
   "metadata": {},
   "outputs": [],
   "source": [
    "%%markdown\n",
    "For the following exercises, write the first eight terms of the piecewise sequence."
   ]
  },
  {
   "cell_type": "code",
   "execution_count": 17,
   "metadata": {},
   "outputs": [
    {
     "output_type": "display_data",
     "data": {
      "text/plain": "<IPython.core.display.Markdown object>",
      "text/markdown": "17) $a_n=\\begin{cases}\\frac{n^2}{2n+1} \\text{ if n} \\le 5\\\\n^2-5 \\text{ if n >5}\\end{cases}$\n<br>1) $\\frac{1}{3}$\n<br>2) $\\frac{4}{5}$\n<br>3) $\\frac{9}{7}$\n<br>4) $\\frac{16}{9}$\n<br>5) $\\frac{25}{11}$\n<br>6) $31$\n<br>7) $45$\n<br>8) $59$\n"
     },
     "metadata": {}
    }
   ],
   "source": [
    "%%markdown\n",
    "17) $a_n=\\begin{cases}\\frac{n^2}{2n+1} \\text{ if n} \\le 5\\\\n^2-5 \\text{ if n >5}\\end{cases}$\n",
    "<br>1) $\\frac{1}{3}$\n",
    "<br>2) $\\frac{4}{5}$\n",
    "<br>3) $\\frac{9}{7}$\n",
    "<br>4) $\\frac{16}{9}$\n",
    "<br>5) $\\frac{25}{11}$\n",
    "<br>6) $31$\n",
    "<br>7) $45$\n",
    "<br>8) $59$"
   ]
  },
  {
   "cell_type": "code",
   "execution_count": 30,
   "metadata": {},
   "outputs": [
    {
     "output_type": "display_data",
     "data": {
      "text/plain": "<IPython.core.display.Markdown object>",
      "text/markdown": "19) $a_n=\\begin{cases}-0.6\\cdot n^5 \\text{ if n is prime or 1}\\\\2.5*(-2)^n \\text{ if n is composite}\\end{cases}$\n<br>1) $-\\frac{3}{5}$\n<br>2) $-19\\frac{1}{5}$\n<br>3) $-145\\frac{4}{5}$\n<br>4) $40$\n<br>5) $-1875$\n<br>6) $160$\n<br>7) $-10084\\frac{1}{5}$\n<br>8) $640$\n"
     },
     "metadata": {}
    }
   ],
   "source": [
    "%%markdown\n",
    "19) $a_n=\\begin{cases}-0.6\\cdot n^5 \\text{ if n is prime or 1}\\\\2.5*(-2)^n \\text{ if n is composite}\\end{cases}$\n",
    "<br>1) $-\\frac{3}{5}$\n",
    "<br>2) $-19\\frac{1}{5}$\n",
    "<br>3) $-145\\frac{4}{5}$\n",
    "<br>4) $40$\n",
    "<br>5) $-1875$\n",
    "<br>6) $160$\n",
    "<br>7) $-10084\\frac{1}{5}$\n",
    "<br>8) $640$"
   ]
  },
  {
   "cell_type": "code",
   "execution_count": null,
   "metadata": {},
   "outputs": [],
   "source": [
    "%%markdown\n",
    "For the following exercises, write an explicit formula for each sequence."
   ]
  },
  {
   "cell_type": "code",
   "execution_count": 32,
   "metadata": {},
   "outputs": [
    {
     "output_type": "display_data",
     "data": {
      "text/plain": "<IPython.core.display.Markdown object>",
      "text/markdown": "21) 4, 7, 12, 19, 28, ...\n<br> $a_2 - a_1 = 3 \\text{,  } a_3 - a_2 = 5 \\text{,  } a_4 - a_3 = 7$\n<br> $a_n = (2n+1)$\n"
     },
     "metadata": {}
    }
   ],
   "source": [
    "%%markdown\n",
    "21) 4, 7, 12, 19, 28, ...\n",
    "<br> $a_2 - a_1 = 3 \\text{,  } a_3 - a_2 = 5 \\text{,  } a_4 - a_3 = 7$\n",
    "<br> $a_n = (2n+1)$"
   ]
  },
  {
   "cell_type": "code",
   "execution_count": 43,
   "metadata": {},
   "outputs": [
    {
     "output_type": "display_data",
     "data": {
      "text/plain": "<IPython.core.display.Markdown object>",
      "text/markdown": "23) $1, 1, \\frac{4}{3}, 2, \\frac{16}{5}...$\n<br> $a_1 =\\frac{(2)^{0}}{1} $\n<br> $a_2 =\\frac{(2)^{1}}{2} $\n<br> $a_3 =\\frac{(2)^{2}}{3} $\n<br> $a_4 =\\frac{(2)^{3}}{4} $\n<br> $a_5 =\\frac{(2)^{4}}{5} $\n<br> answer: $a_n =\\frac{(2)^{n-1}}{n} $\n"
     },
     "metadata": {}
    }
   ],
   "source": [
    "%%markdown\n",
    "23) $1, 1, \\frac{4}{3}, 2, \\frac{16}{5}...$\n",
    "<br> $a_1 =\\frac{(2)^{0}}{1} $\n",
    "<br> $a_2 =\\frac{(2)^{1}}{2} $\n",
    "<br> $a_3 =\\frac{(2)^{2}}{3} $\n",
    "<br> $a_4 =\\frac{(2)^{3}}{4} $\n",
    "<br> $a_5 =\\frac{(2)^{4}}{5} $\n",
    "<br> answer: $a_n =\\frac{(2)^{n-1}}{n} $"
   ]
  },
  {
   "cell_type": "code",
   "execution_count": 46,
   "metadata": {},
   "outputs": [
    {
     "output_type": "display_data",
     "data": {
      "text/plain": "<IPython.core.display.Markdown object>",
      "text/markdown": "25) $1, -\\frac{1}{2},\\frac{1}{4},-\\frac{1}{8},\\frac{1}{16}...$\n<br> answer: $a_n =\\frac{-1^n}{2^{n-1}} $\n"
     },
     "metadata": {}
    }
   ],
   "source": [
    "%%markdown\n",
    "25) $1, -\\frac{1}{2},\\frac{1}{4},-\\frac{1}{8},\\frac{1}{16}...$\n",
    "<br> answer: $a_n =\\frac{-1^n}{2^{n-1}} $"
   ]
  },
  {
   "cell_type": "code",
   "execution_count": null,
   "metadata": {},
   "outputs": [],
   "source": [
    "%%markdown\n",
    "For the following exercises, write the first five terms of the sequence."
   ]
  },
  {
   "cell_type": "code",
   "execution_count": 39,
   "metadata": {},
   "outputs": [
    {
     "output_type": "display_data",
     "data": {
      "text/plain": "<IPython.core.display.Markdown object>",
      "text/markdown": "27) $a_1 = 3, a_n = (−3)a_{n − 1}$\n"
     },
     "metadata": {}
    }
   ],
   "source": [
    "%%markdown\n",
    "27) $a_1 = 3, a_n = (−3)a_{n − 1}$\n",
    "<br> 1) $3$\n",
    "<br> 2) $-9$\n",
    "<br> 3) $27$\n",
    "<br> 4) $-81$\n",
    "<br> 5) $243$"
   ]
  },
  {
   "cell_type": "code",
   "execution_count": 52,
   "metadata": {},
   "outputs": [
    {
     "output_type": "display_data",
     "data": {
      "text/plain": "<IPython.core.display.Markdown object>",
      "text/markdown": "29) $a_1 = -1, a_n = \\frac{(−3)^{n-1}}{a_{n − 1}-2}$\n<br> 1) $-1$\n<br> 2) $3$\n<br> 3) $81$\n<br> 4) $177147$\n<br> 5) $2541865828329$\n"
     },
     "metadata": {}
    }
   ],
   "source": [
    "%%markdown\n",
    "29) $a_1 = -1, a_n = \\frac{(−3)^{n-1}}{a_{n − 1}-2}$\n",
    "<br> 1) $-1$\n",
    "<br> 2) $3$\n",
    "<br> 3) $81$\n",
    "<br> 4) $177147$\n",
    "<br> 5) $2541865828329$"
   ]
  },
  {
   "cell_type": "code",
   "execution_count": 53,
   "metadata": {},
   "outputs": [
    {
     "output_type": "display_data",
     "data": {
      "text/plain": "<IPython.core.display.Markdown object>",
      "text/markdown": "For the following exercises, write the first eight terms of the sequence.\n"
     },
     "metadata": {}
    }
   ],
   "source": [
    "%%markdown\n",
    "For the following exercises, write the first eight terms of the sequence."
   ]
  },
  {
   "cell_type": "code",
   "execution_count": 74,
   "metadata": {},
   "outputs": [
    {
     "output_type": "display_data",
     "data": {
      "text/plain": "<IPython.core.display.Markdown object>",
      "text/markdown": "31) $a_1 = \\frac{1}{24},a_2 = 1, a_n = (2a_{n-2})(3a_{n-1})$\n<br>1) $\\frac{1}{24}$\n<br>2) $1$\n<br>3) $\\frac{1}{36}$\n<br>4) $\\frac{4}{3}$\n<br>5) $\\frac{1}{72}$\n<br>6) $64$\n<br>7) $\\frac{1}{6912}$\n<br>8) $294912$\n"
     },
     "metadata": {}
    }
   ],
   "source": [
    "%%markdown\n",
    "31) $a_1 = \\frac{1}{24},a_2 = 1, a_n = (2a_{n-2})(3a_{n-1})$\n",
    "<br>1) $\\frac{1}{24}$\n",
    "<br>2) $1$\n",
    "<br>3) $\\frac{1}{36}$\n",
    "<br>4) $\\frac{4}{3}$\n",
    "<br>5) $\\frac{1}{72}$\n",
    "<br>6) $64$\n",
    "<br>7) $\\frac{1}{6912}$\n",
    "<br>8) $294912$"
   ]
  },
  {
   "cell_type": "code",
   "execution_count": 44,
   "metadata": {},
   "outputs": [
    {
     "output_type": "display_data",
     "data": {
      "text/plain": "<IPython.core.display.Markdown object>",
      "text/markdown": "33) $a_1 = 2,a_2 = 10, a_n = \\frac{2(a_{n-1}+2)}{a_{n-2}}$\n"
     },
     "metadata": {}
    }
   ],
   "source": [
    "%%markdown\n",
    "33) $a_1 = 2,a_2 = 10, a_n = \\frac{2(a_{n-1}+2)}{a_{n-2}}$\n",
    "<br>1) $\\frac{}{}$\n",
    "<br>2) $\\frac{}{}$\n",
    "<br>3) $\\frac{}{}$\n",
    "<br>4) $\\frac{}{}$\n",
    "<br>5) $\\frac{}{}$\n",
    "<br>6) $\\frac{}{}$\n",
    "<br>7) $\\frac{}{}$"
   ]
  },
  {
   "cell_type": "code",
   "execution_count": null,
   "metadata": {},
   "outputs": [],
   "source": [
    "%%markdown\n",
    "For the following exercises, write a recursive formula for each sequence."
   ]
  },
  {
   "cell_type": "code",
   "execution_count": 79,
   "metadata": {},
   "outputs": [
    {
     "output_type": "display_data",
     "data": {
      "text/plain": "<IPython.core.display.Markdown object>",
      "text/markdown": "35) −8, − 6, − 3, 1, 6, ...\n\n<br> answer: $a_n = n+a_{n-1}$\n"
     },
     "metadata": {}
    }
   ],
   "source": [
    "%%markdown\n",
    "35) −8, − 6, − 3, 1, 6, ...\n",
    "\n",
    "<br> answer: $a_n = n+a_{n-1}$"
   ]
  },
  {
   "cell_type": "code",
   "execution_count": 93,
   "metadata": {},
   "outputs": [
    {
     "output_type": "display_data",
     "data": {
      "text/plain": "<IPython.core.display.Markdown object>",
      "text/markdown": "38) 15, 3, $\\frac{3}{5}​, \\frac{3}{25}, \\frac{3}{125}​$, ...\n<br>\n15->/5 3->/5 $\\frac{3}{5}​->/5 \\frac{3}{25}->/5 \\frac{3}{125}​$, ...\n<br>answer: $a_n = \\frac{a_{n-1}}{5}$\n"
     },
     "metadata": {}
    }
   ],
   "source": [
    "%%markdown\n",
    "38) 15, 3, $\\frac{3}{5}​, \\frac{3}{25}, \\frac{3}{125}​$, ...\n",
    "<br>\n",
    "15->/5 3->/5 $\\frac{3}{5}​->/5 \\frac{3}{25}->/5 \\frac{3}{125}​$, ...\n",
    "<br>answer: $a_n = \\frac{a_{n-1}}{5}$\n"
   ]
  },
  {
   "cell_type": "code",
   "execution_count": null,
   "metadata": {},
   "outputs": [],
   "source": [
    "%%markdown\n",
    "For the following exercises, evaluate the factorial."
   ]
  },
  {
   "cell_type": "code",
   "execution_count": null,
   "metadata": {},
   "outputs": [],
   "source": [
    "%%markdown\n",
    "39. 6!\n",
    "<br>620"
   ]
  },
  {
   "cell_type": "code",
   "execution_count": null,
   "metadata": {},
   "outputs": [],
   "source": [
    "%%markdown\n",
    "41) $\\frac{12!}{6!}$\n",
    "<br>665280"
   ]
  },
  {
   "cell_type": "code",
   "execution_count": null,
   "metadata": {},
   "outputs": [],
   "source": [
    "%%markdown\n",
    "For the following exercises, write the first four terms of the sequence."
   ]
  },
  {
   "cell_type": "code",
   "execution_count": null,
   "metadata": {},
   "outputs": [],
   "source": [
    "%%markdown\n",
    "43) $a_n=\\frac{n!}{n^2}$\n",
    "<br> 1) $1$\n",
    "<br> 2) $\\frac{1}{2}$\n",
    "<br> 3) $\\frac{2}{3}$\n",
    "<br> 4) $\\frac{3}{2}$"
   ]
  },
  {
   "cell_type": "code",
   "execution_count": 109,
   "metadata": {},
   "outputs": [
    {
     "output_type": "display_data",
     "data": {
      "text/plain": "<IPython.core.display.Markdown object>",
      "text/markdown": "45)$a_n=\\frac{n!}{n^2-n-1}$\n<br> 1) $-1$\n<br> 2) $-2.5$\n<br> 3) $-3\\frac{1}{3}$\n<br> 4) $-3\\frac{1}{2}$\n"
     },
     "metadata": {}
    }
   ],
   "source": [
    "%%markdown\n",
    "45)$a_n=\\frac{n!}{n^2-n-1}$\n",
    "<br> 1) $-1$\n",
    "<br> 2) $-2.5$\n",
    "<br> 3) $-3\\frac{1}{3}$\n",
    "<br> 4) $-3\\frac{1}{2}$"
   ]
  },
  {
   "cell_type": "code",
   "execution_count": null,
   "metadata": {},
   "outputs": [],
   "source": [
    "%%markdown\n",
    "For the following exercises, write an explicit formula for the sequence using the first five points shown on the graph.\n",
    "53,55"
   ]
  },
  {
   "cell_type": "code",
   "execution_count": 111,
   "metadata": {},
   "outputs": [
    {
     "output_type": "display_data",
     "data": {
      "text/plain": "<IPython.core.display.Markdown object>",
      "text/markdown": "53) (1,0.5),(2,1)(3,2)(4,4)(5,8)\n<br> $a_n = 2(a_{n-1})$\n<br> 1) $\\frac{}{}$\n<br> 2) $\\frac{}{}$\n<br> 3) $\\frac{}{}$\n<br> 4) $\\frac{}{}$\n<br> 5) $\\frac{}{}$\n"
     },
     "metadata": {}
    }
   ],
   "source": [
    "%%markdown\n",
    "53) (1,0.5),(2,1)(3,2)(4,4)(5,8)\n",
    "<br> $a_n = 2(a_{n-1})$"
   ]
  },
  {
   "cell_type": "code",
   "execution_count": 112,
   "metadata": {},
   "outputs": [
    {
     "output_type": "display_data",
     "data": {
      "text/plain": "<IPython.core.display.Markdown object>",
      "text/markdown": "53) (1,6), (2,7), (3,9), (4, 13), (5,21)\n<br> $a_n = a_({n-1}+2^{n-2}$\n"
     },
     "metadata": {}
    }
   ],
   "source": [
    "%%markdown\n",
    "53) (1,6), (2,7), (3,9), (4, 13), (5,21)\n",
    "<br> $a_n = a_({n-1}+2^{n-2}$"
   ]
  },
  {
   "cell_type": "code",
   "execution_count": null,
   "metadata": {},
   "outputs": [],
   "source": [
    "%%markdown\n",
    "Follow these steps to evaluate a sequence defined recursively using a graphing calculator:\n",
    "• On the home screen, key in the value for the initial term a 1 and press [ENTER].\n",
    "• Enter the recursive formula by keying in all numerical values given in the formula, along with the key strokes\n",
    "[2ND] ANS for the previous term a n − 1 . Press [ENTER].\n",
    "• Continue pressing [ENTER] to calculate the values for each successive term."
   ]
  },
  {
   "cell_type": "code",
   "execution_count": null,
   "metadata": {},
   "outputs": [],
   "source": [
    "%%markdown\n",
    "For the following exercises, use the steps above to find the indicated term or terms for the sequence."
   ]
  },
  {
   "cell_type": "code",
   "execution_count": 113,
   "metadata": {},
   "outputs": [
    {
     "output_type": "display_data",
     "data": {
      "text/plain": "<IPython.core.display.Markdown object>",
      "text/markdown": "57) Find the first five terms of the sequence $a_1=\\frac{87}{111}, a_n=\\frac{4}{3}a_{n-1}+\\frac{12}{37}$ use the >Frac feature to give fractional results\n"
     },
     "metadata": {}
    }
   ],
   "source": [
    "%%markdown\n",
    "57) Find the first five terms of the sequence $a_1=\\frac{87}{111}, a_n=\\frac{4}{3}a_{n-1}+\\frac{12}{37}$ use the >Frac feature to give fractional results"
   ]
  },
  {
   "cell_type": "code",
   "execution_count": null,
   "metadata": {},
   "outputs": [],
   "source": [
    "%%markdown\n",
    "59)Find the first five terms of the sequence\n",
    "$a 1 = 2, a n = 2^{[(an − 1) − 1]} + 1$."
   ]
  },
  {
   "cell_type": "code",
   "execution_count": null,
   "metadata": {},
   "outputs": [],
   "source": [
    "%%markdown\n",
    "61) Find the tenth term of the sequence $a_1 = 2, a_n = na_{n − 1}$"
   ]
  },
  {
   "cell_type": "code",
   "execution_count": null,
   "metadata": {},
   "outputs": [],
   "source": [
    "%%markdown\n",
    "Follow these steps to evaluate a finite sequence defined by an explicit formula.\n",
    "Using a TI-84, do the following.\n",
    "• In the home screen, press [2ND] LIST.\n",
    "• Scroll over to OPS and choose “seq(” from the dropdown list. Press [ENTER].\n",
    "• In the line headed “Expr:” type in the explicit formula, using the [X,T, θ, n] button for n\n",
    "• In the line headed “Variable:” type in the variable used on the previous step.\n",
    "• In the line headed “start:” key in the value of n that begins the sequence.\n",
    "• In the line headed “end:” key in the value of n that ends the sequence.\n",
    "• Press [ENTER] 3 times to return to the home screen. You will see the sequence syntax on the screen. Press\n",
    "[ENTER] to see the list of terms for the finite sequence defined. Use the right arrow key to scroll through the\n",
    "list of terms."
   ]
  },
  {
   "cell_type": "code",
   "execution_count": null,
   "metadata": {},
   "outputs": [],
   "source": [
    "%%markdown\n",
    "Using a TI-83, do the following.\n",
    "• In the home screen, press [2ND] LIST.\n",
    "• Scroll over to OPS and choose “seq(” from the dropdown list. Press [ENTER].\n",
    "• Enter the items in the order “Expr”, “Variable”, “start”, “end” separated by commas. See the instructions above\n",
    "for the description of each item.\n",
    "• Press [ENTER] to see the list of terms for the finite sequence defined. Use the right arrow key to scroll through\n",
    "the list of terms."
   ]
  },
  {
   "cell_type": "code",
   "execution_count": null,
   "metadata": {},
   "outputs": [],
   "source": [
    "%%markdown\n",
    "For the following exercises, use the steps above to find the indicated terms for the sequence. Round to the nearest\n",
    "thousandth when necessary."
   ]
  },
  {
   "cell_type": "code",
   "execution_count": null,
   "metadata": {},
   "outputs": [],
   "source": [
    "%%markdown\n",
    "63) List the first six terms of the sequence.\n",
    "$a_n = \\frac{n^3-3.5n^2+4.1n-1.5}{2.4n}$"
   ]
  },
  {
   "cell_type": "code",
   "execution_count": null,
   "metadata": {},
   "outputs": [],
   "source": [
    "%%markdown\n",
    "65) List the first four terms of the sequence.\n",
    "$a_n = 5.7^n+0.275(n-1)!$"
   ]
  },
  {
   "cell_type": "code",
   "execution_count": null,
   "metadata": {},
   "outputs": [],
   "source": [
    "%%markdown\n",
    "67) Consider the sequence defined by $a_n = −6 − 8n$. Is\n",
    "$a_n = −421$ a term in the sequence? Verify the result.\n",
    "<br> no, because there is no positive integer for which the explicit formula would have an odd result"
   ]
  },
  {
   "cell_type": "code",
   "execution_count": 177,
   "metadata": {},
   "outputs": [
    {
     "output_type": "display_data",
     "data": {
      "text/plain": "<IPython.core.display.Markdown object>",
      "text/markdown": "\n69) find a recursive formula for the squence 1, 0, −1, −1, 0, 1, 1, 0, −1, −1, 0, 1, 1, ...\n<br> Hint: find a pattern for $a_n$ based on the first two terms.)\n\n<br> $a_n = (a_{n-1})^2+(a_{n-2})^3$\n\n<br> 1) $1$\n<br> 2) $0$\n<br> 3) $(0)^2+(-1})^3 \\Rightarrow -1$\n<br> 4) $(-1)^2+0^3 \\Rightarrow -1 $\n<br> 5) $(-1)^2+(-1)^3 \\Rightarrow 0$\n<br> 6) $(0)^2+(-1) \\Rightarrow -1$\n<br> 7) $(a_{n-1})^2+a_{n-2} \\Rightarrow $\n<br> 8) $(a_{n-1})^2+a_{n-2} \\Rightarrow $\n"
     },
     "metadata": {}
    }
   ],
   "source": [
    "%%markdown\n",
    "\n",
    "69) find a recursive formula for the squence 1, 0, −1, −1, 0, 1, 1, 0, −1, −1, 0, 1, 1, ...\n",
    "<br> Hint: find a pattern for $a_n$ based on the first two terms.)\n",
    "\n",
    "<br> $a_n = (a_{n-1})^2+(a_{n-2})^3$\n",
    "\n",
    "<br> 1) $1$\n",
    "<br> 2) $0$\n",
    "<br> 3) $ \\Rightarrow -1$\n",
    "<br> 4) $ \\Rightarrow -1 $\n",
    "<br> 5) $ \\Rightarrow 0$\n",
    "<br> 6) $ \\Rightarrow -1$\n",
    "<br> 7) $ \\Rightarrow $\n",
    "<br> 8) $ \\Rightarrow $"
   ]
  },
  {
   "cell_type": "code",
   "execution_count": 171,
   "metadata": {},
   "outputs": [
    {
     "output_type": "display_data",
     "data": {
      "text/plain": "<IPython.core.display.Markdown object>",
      "text/markdown": "<br> $1 \\rightarrow_{-1} 0\\rightarrow_{-1} −1\\rightarrow_{+0} −1\\rightarrow_{+1} 0\\rightarrow_{+1} 1\\rightarrow_{+0} 1\\rightarrow_{-1} 0\\rightarrow_{-1} −1\\rightarrow_{+0} −1\\rightarrow_{+1} 0\\rightarrow_{+1} 1\\rightarrow_{+0} 1,$\n"
     },
     "metadata": {}
    }
   ],
   "source": [
    "%%markdown\n",
    "<br> $1 \\rightarrow_{-1} 0\\rightarrow_{-1} −1\\rightarrow_{+0} −1\\rightarrow_{+1} 0\\rightarrow_{+1} 1\\rightarrow_{+0} 1\\rightarrow_{-1} 0\\rightarrow_{-1} −1\\rightarrow_{+0} −1\\rightarrow_{+1} 0\\rightarrow_{+1} 1\\rightarrow_{+0} 1,$"
   ]
  },
  {
   "cell_type": "code",
   "execution_count": 163,
   "metadata": {},
   "outputs": [
    {
     "output_type": "stream",
     "name": "stdout",
     "text": [
      "<br> 1) $$\n<br> 2) $$\n<br> 3) $$\n<br> 4) $$\n<br> 5) $$\n<br> 6) $$\n<br> 7) $$\n<br> 8) $$\n"
     ]
    }
   ],
   "source": [
    "import numpy as np\n",
    "from fractions import Fraction\n",
    "\n",
    "# round(np.math.factorial(4)/4**2-4-1, 3)\n",
    "# print(\"<br> answer: $a_n = a_{n-1}$\")\n",
    "for i in range(1, 9):\n",
    "    print(\"<br> \"+str(i)+\") $$\")\n",
    "    # \\\\frac{}{}\n",
    "    # print(\"<br> \"+str(i)+\") $\"+str(i**3+3*i**2+2*i)+\"$\")\n",
    "# 40320/120\n",
    "# 362880/720\n",
    "# 3628800/5040"
   ]
  },
  {
   "cell_type": "code",
   "execution_count": 149,
   "metadata": {},
   "outputs": [
    {
     "output_type": "display_data",
     "data": {
      "text/plain": "<IPython.core.display.Markdown object>",
      "text/markdown": "70) Calcualte the first eight terms of the sequences $a_n = \\frac{(n+2)!}{(n-1)!}\\text{  and }b_n=n^3+3n^2+2n$, and then make a conjecture about the relationship between these two sequences, and prove it\n<br> answer: up to the 8th term they describe the same sequence\n<br> 1) $6$\n<br> 2) $24$\n<br> 3) $60$\n<br> 4) $120$\n<br> 5) $210$\n<br> 6) $336$\n<br> 7) $504$\n<br> 8) $720$\n<br> 1) $6$\n<br> 2) $24$\n<br> 3) $60$\n<br> 4) $120$\n<br> 5) $210$\n<br> 6) $336$\n<br> 7) $504$\n<br> 8) $720$\n"
     },
     "metadata": {}
    }
   ],
   "source": [
    "%%markdown\n",
    "70) Calcualte the first eight terms of the sequences $a_n = \\frac{(n+2)!}{(n-1)!}\\text{  and }b_n=n^3+3n^2+2n$, and then make a conjecture about the relationship between these two sequences, and prove it\n",
    "<br> answer: up to the 8th term they describe the same sequence\n",
    "<br> 1) $6$\n",
    "<br> 2) $24$\n",
    "<br> 3) $60$\n",
    "<br> 4) $120$\n",
    "<br> 5) $210$\n",
    "<br> 6) $336$\n",
    "<br> 7) $504$\n",
    "<br> 8) $720$\n",
    "<br> 1) $6$\n",
    "<br> 2) $24$\n",
    "<br> 3) $60$\n",
    "<br> 4) $120$\n",
    "<br> 5) $210$\n",
    "<br> 6) $336$\n",
    "<br> 7) $504$\n",
    "<br> 8) $720$"
   ]
  },
  {
   "cell_type": "code",
   "execution_count": 124,
   "metadata": {},
   "outputs": [
    {
     "output_type": "execute_result",
     "data": {
      "text/plain": [
       "'herlo'"
      ]
     },
     "metadata": {},
     "execution_count": 124
    }
   ],
   "source": [
    "\"her\"+\"lo\""
   ]
  }
 ]
}