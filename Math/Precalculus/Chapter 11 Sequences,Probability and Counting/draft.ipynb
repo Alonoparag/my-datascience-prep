{
 "metadata": {
  "language_info": {
   "codemirror_mode": {
    "name": "ipython",
    "version": 3
   },
   "file_extension": ".py",
   "mimetype": "text/x-python",
   "name": "python",
   "nbconvert_exporter": "python",
   "pygments_lexer": "ipython3",
   "version": "3.8.6-final"
  },
  "orig_nbformat": 2,
  "kernelspec": {
   "name": "python3",
   "display_name": "Python 3"
  }
 },
 "nbformat": 4,
 "nbformat_minor": 2,
 "cells": [
  {
   "cell_type": "code",
   "execution_count": 4,
   "metadata": {},
   "outputs": [
    {
     "output_type": "display_data",
     "data": {
      "text/plain": "<IPython.core.display.Markdown object>",
      "text/markdown": "## $a_n = a-1+(n-1)d$\n## $a_n = a_{n-1}+d$\n"
     },
     "metadata": {}
    }
   ],
   "source": [
    "%%markdown\n",
    "## $a_n = a-1+(n-1)d$\n",
    "## $a_n = a_{n-1}+d$"
   ]
  },
  {
   "cell_type": "code",
   "execution_count": null,
   "metadata": {},
   "outputs": [],
   "source": [
    "%%markdown\n",
    "the Addition Principle\n",
    "According to the Addition Principle, if one event can occur in m ways and a second event with no common\n",
    "outcomes can occur in n ways, then the first or second event can occur in m + n ways\n",
    "the Multiplication Principle\n",
    "According to the Multiplication Principle, if one event can occur in m ways and a second event can occur in n\n",
    "ways after the first event has occurred, then the two events can occur in m × n ways. This is also known as the\n",
    "Fundamental Counting Principle.\n"
   ]
  },
  {
   "cell_type": "code",
   "execution_count": 4,
   "metadata": {},
   "outputs": [
    {
     "output_type": "display_data",
     "data": {
      "text/plain": "<IPython.core.display.Markdown object>",
      "text/markdown": "### 52\n### 4 sets\n### 13 cards\n\n### 7: $\\frac{4}{52}$\n### heart $\\frac{13}{52}$\n### 7-heart $\\frac{1}{52}$\n### heart or 7: $\\frac{4}{52} + \\frac{13}{52} - \\frac{1}{52} \\Rightarrow \\frac{4}{13}$\n"
     },
     "metadata": {}
    }
   ],
   "source": [
    "%%markdown\n",
    "### total cards: 52\n",
    "### 4 sets\n",
    "### 13 cards\n",
    "\n",
    "### 7: $\\frac{4}{52}$\n",
    "### heart $\\frac{13}{52}$\n",
    "### 7-heart $\\frac{1}{52}$\n",
    "### heart or 7: $\\frac{4}{52} + \\frac{13}{52} - \\frac{1}{52} \\Rightarrow \\frac{4}{13}$\n"
   ]
  }
 ]
}