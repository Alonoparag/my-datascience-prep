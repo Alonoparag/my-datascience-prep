{
 "metadata": {
  "language_info": {
   "codemirror_mode": {
    "name": "ipython",
    "version": 3
   },
   "file_extension": ".py",
   "mimetype": "text/x-python",
   "name": "python",
   "nbconvert_exporter": "python",
   "pygments_lexer": "ipython3",
   "version": "3.8.6-final"
  },
  "orig_nbformat": 2,
  "kernelspec": {
   "name": "python3",
   "display_name": "Python 3"
  }
 },
 "nbformat": 4,
 "nbformat_minor": 2,
 "cells": [
  {
   "cell_type": "code",
   "execution_count": 17,
   "metadata": {},
   "outputs": [],
   "source": [
    "import numpy as np\n",
    "import math\n",
    "import functools\n",
    "def arithmtc_sequence(a_1, difference, seq_range):\n",
    "    a = a_1\n",
    "    for i in range (1, seq_range+1):\n",
    "        ### \"+str(i)+\") $\"+(str)+\"$\n",
    "        print(\"### \"+str(i)+\") $\"+(str(a))+\"$\")\n",
    "        a = round(a+difference, 2)\n",
    "\n",
    "def geometric_sequence(a_1, ratio, seq_range):\n",
    "    a = a_1\n",
    "    for i in range (1, seq_range+1):\n",
    "        ### \"+str(i)+\") $\"+(str)+\"$\n",
    "        print(\"### \"+str(i)+\") $\"+(str(a))+\"$\")\n",
    "        a = round(a*ratio, 2)\n",
    "\n",
    "\n",
    "def geometric(a_1, r, n):\n",
    "    s = 0\n",
    "    a = a_1\n",
    "    for i in range(0,n):\n",
    "        print(\"<br> \"+str(i+1)+\") $\"+str(a)+\"$\")\n",
    "        s += a\n",
    "        a = round(a*r, 10)\n",
    "    print(\"sum: \"+str(round(s, 2)))\n",
    "\n",
    "def arithmtc(a_1, d, n):\n",
    "    s = 0\n",
    "    a = a_1\n",
    "    for i in range(0,n):\n",
    "        print(\"<br> \"+str(i+1)+\") $\"+str(a)+\"$\")\n",
    "        s += a\n",
    "        a = round(a+d, 10)\n",
    "    print(\"sum: \"+str(round(s, 2)))\n",
    "\n",
    "def ordered(n, r=False):\n",
    "    if not r:\n",
    "        r = n\n",
    "    return math.factorial(n)/math.factorial(n-r)\n",
    "def combine(n, r=False):\n",
    "    if not r:\n",
    "        r = n\n",
    "    return math.factorial(n)/(math.factorial(r)*math.factorial(n-r))\n",
    "def non_distinct(n, d_list):\n",
    "    return math.factorial(n)/functools.reduce(lambda a, b : a * math.factorial(b), d_list, 1)\n",
    "def split(word): \n",
    "    return [char for char in word]\n",
    "def prob_event(desired_out, total_out):\n",
    "    return round(desired_out/total_out, 4)\n",
    "\n",
    "def binom(n, r=False):\n",
    "    if not r:\n",
    "        r = n\n",
    "    return math.factorial(n)/(math.factorial(r)*math.factorial(n-r))\n",
    "\n",
    "def expand_co(power):\n",
    "    coefficients = []\n",
    "    for i in range(0, power+1):\n",
    "        coefficients.append(binom(power, i))\n",
    "    return coefficients\n",
    "def fact(num):\n",
    "    return math.factorial(num)\n",
    "\n"
   ]
  },
  {
   "cell_type": "code",
   "execution_count": 79,
   "metadata": {},
   "outputs": [],
   "source": [
    "def border(cell_count):\n",
    "    #We use this function to dynamically print borders\n",
    "    base_cell = \"+\"+\"-\"*5+\"+\"\n",
    "    additional_cell = \"-\"*5+\"+\"\n",
    "    total_cells = base_cell+additional_cell*cell_count\n",
    "    print(total_cells)\n",
    "    \n",
    "def cell_row(cell_count):\n",
    "    base_cell = \"/\"+\" \"*5+\"/\"\n",
    "    additional_cell = \" \"*5+\"/\"\n",
    "    total_cells = base_cell+additional_cell*cell_count\n",
    "    i = 0\n",
    "    while(i < 4):\n",
    "        print(total_cells)\n",
    "        i+=1\n",
    "\n",
    "def grid():\n",
    "    rows = int(input(\"Please enter the number of desired rows\"))\n",
    "    columns = int(input(\"Please enter the number of desired columns\"))\n",
    "    border(columns)\n",
    "    i_rows = 0\n",
    "    while i_rows < rows:\n",
    "        cell_row(columns)\n",
    "        border(columns)\n",
    "        i_rows += 1\n",
    "\n",
    "\n"
   ]
  },
  {
   "cell_type": "code",
   "execution_count": 2,
   "metadata": {},
   "outputs": [
    {
     "output_type": "display_data",
     "data": {
      "text/plain": "<IPython.core.display.Markdown object>",
      "text/markdown": "1. Write the first four terms of the sequence defined by the recursive formula $a=-14\\text{, }a_n = \\frac{2+a_{n-1}}{2}$\n"
     },
     "metadata": {}
    }
   ],
   "source": [
    "%%markdown\n",
    "1. Write the first four terms of the sequence defined by the recursive formula $a=-14\\text{, }a_n = \\frac{2+a_{n-1}}{2}$\n",
    "### 1) $14$\n",
    "### 2) $8.0$\n",
    "### 3) $5.0$\n",
    "### 4) $3.5$\n"
   ]
  },
  {
   "cell_type": "code",
   "execution_count": 3,
   "metadata": {},
   "outputs": [
    {
     "output_type": "display_data",
     "data": {
      "text/plain": "<IPython.core.display.Markdown object>",
      "text/markdown": "2. Write the first four terms of the sequence defined by the explicit formula $a_n = \\frac{n^2-n-1}{n!}$\n"
     },
     "metadata": {}
    }
   ],
   "source": [
    "%%markdown\n",
    "2. Write the first four terms of the sequence defined by the explicit formula $a_n = \\frac{n^2-n-1}{n!}$\n",
    "### 1) $-1$\n",
    "### 2) $-1.0$\n",
    "### 3) $0.5$\n",
    "### 4) $0.8333333333333334$"
   ]
  },
  {
   "cell_type": "code",
   "execution_count": 8,
   "metadata": {},
   "outputs": [
    {
     "output_type": "display_data",
     "data": {
      "text/plain": "<IPython.core.display.Markdown object>",
      "text/markdown": "3. Is the sequence 0.3, 1.2, 2.1, 3, ... arithmetic? If so find the common difference.\n# answer: Yes, the common difference is 0.9\n"
     },
     "metadata": {}
    }
   ],
   "source": [
    "%%markdown\n",
    "3. Is the sequence 0.3, 1.2, 2.1, 3, ... arithmetic? If so find the common difference.\n",
    "# answer: Yes, the common difference is 0.9\n"
   ]
  },
  {
   "cell_type": "code",
   "execution_count": 7,
   "metadata": {},
   "outputs": [
    {
     "output_type": "execute_result",
     "data": {
      "text/plain": [
       "0.8999999999999999"
      ]
     },
     "metadata": {},
     "execution_count": 7
    }
   ],
   "source": [
    "1.2-0.3#-(2.1-1.2)"
   ]
  },
  {
   "cell_type": "code",
   "execution_count": 10,
   "metadata": {},
   "outputs": [
    {
     "output_type": "display_data",
     "data": {
      "text/plain": "<IPython.core.display.Markdown object>",
      "text/markdown": "4. An arithmetic sequence has the first term a_1 = −4 and common difference $d = -\\frac{3}{4}$. what is the $6^{th}$ term?\n### 1) $-4$\n### 2) $-4.75$\n### 3) $-5.5$\n### 4) $-6.25$\n### 5) $-7.0$\n# answer: 6) $-7.75$\n"
     },
     "metadata": {}
    }
   ],
   "source": [
    "%%markdown\n",
    "4. An arithmetic sequence has the first term a_1 = −4 and common difference $d = -\\frac{3}{4}$. what is the $6^{th}$ term?\n",
    "### 1) $-4$\n",
    "### 2) $-4.75$\n",
    "### 3) $-5.5$\n",
    "### 4) $-6.25$\n",
    "### 5) $-7.0$\n",
    "# answer: 6) $-7.75$\n"
   ]
  },
  {
   "cell_type": "code",
   "execution_count": 16,
   "metadata": {},
   "outputs": [
    {
     "output_type": "display_data",
     "data": {
      "text/plain": "<IPython.core.display.Markdown object>",
      "text/markdown": "5. Write a recursive formula for the arithmetic sequence $-2,-\\frac{7}{2}, -5, -\\frac{13}{2}$ and then find the $22^{nd}$ term.\n### $-7/2 +2 \\Rightarrow -\\frac{3}{2}$\n### $ a_n = a_{n-1}  - \\frac{3}{2}$\n### $ a_22 = -2 - \\frac{3}{2}(22-1)$\n# answer: $a_22 = -\\frac{67}{2} $\n"
     },
     "metadata": {}
    }
   ],
   "source": [
    "%%markdown\n",
    "5. Write a recursive formula for the arithmetic sequence $-2,-\\frac{7}{2}, -5, -\\frac{13}{2}$ and then find the $22^{nd}$ term.\n",
    "### $-7/2 +2 \\Rightarrow -\\frac{3}{2}$\n",
    "### $ a_n = a_{n-1}  - \\frac{3}{2}$\n",
    "### $ a_22 = -2 - \\frac{3}{2}(22-1)$\n",
    "# answer: $a_22 = -\\frac{67}{2} $\n"
   ]
  },
  {
   "cell_type": "code",
   "execution_count": 19,
   "metadata": {},
   "outputs": [
    {
     "output_type": "display_data",
     "data": {
      "text/plain": "<IPython.core.display.Markdown object>",
      "text/markdown": "6. Write an explicit formula for the arithmetic sequence 15.6, 15, 14.4, 13.8, ... and then find the $32^{nd}$ term.\n### $d = -0.6$\n### $a_n = 15.6 - 0.6(n-1)$\n### $a_32 = 15.6 - 0.6*31\n### $a_32 = -3$\n"
     },
     "metadata": {}
    }
   ],
   "source": [
    "%%markdown\n",
    "6. Write an explicit formula for the arithmetic sequence 15.6, 15, 14.4, 13.8, ... and then find the $32^{nd}$ term.\n",
    "### $d = -0.6$\n",
    "### $a_n = 15.6 - 0.6(n-1)$\n",
    "### $a_32 = 15.6 - 0.6*31\n",
    "### $a_32 = -3$\n"
   ]
  },
  {
   "cell_type": "code",
   "execution_count": 8,
   "metadata": {},
   "outputs": [
    {
     "output_type": "display_data",
     "data": {
      "text/plain": "<IPython.core.display.Markdown object>",
      "text/markdown": "7. Is the sequence − 2, − 1, −0.5 ​,-0.25,  ... geometric? If so find the common ratio. If not, explain why.\n"
     },
     "metadata": {}
    }
   ],
   "source": [
    "%%markdown\n",
    "7. Is the sequence − 2, − 1, −0.5 ​,-0.25,  ... geometric? If so find the common ratio. If not, explain why.\n",
    "### Yes, the common ratio is 0.5.\n"
   ]
  },
  {
   "cell_type": "code",
   "execution_count": 3,
   "metadata": {},
   "outputs": [
    {
     "output_type": "display_data",
     "data": {
      "text/plain": "<IPython.core.display.Markdown object>",
      "text/markdown": "8. What is the 11 th term of the geometric sequence − 1.5, − 3, − 6, − 12, ... ?\n### $ d = -3/(-1.5) \\Rightarrow 2$\n### $ a_n = -1.5\\cdot (2)^{n-1}$\n### 11) $a_11 = -1536.0$\n"
     },
     "metadata": {}
    }
   ],
   "source": [
    "%%markdown\n",
    "8. What is the 11 th term of the geometric sequence − 1.5, − 3, − 6, − 12, ... ?\n",
    "### $ d = -3/(-1.5) \\Rightarrow 2$\n",
    "### $ a_n = -1.5\\cdot (2)^{n-1}$\n",
    "### 11) $a_11 = -1536.0$\n"
   ]
  },
  {
   "cell_type": "code",
   "execution_count": 4,
   "metadata": {},
   "outputs": [
    {
     "output_type": "display_data",
     "data": {
      "text/plain": "<IPython.core.display.Markdown object>",
      "text/markdown": "9. Write a recursive formula for the geometric\nsequence$1, -0.5, 0.25, -0.125, ...\n### $d = -0.5$\n### $a_n = -0.5\\cdot a_{n-1}$\n"
     },
     "metadata": {}
    }
   ],
   "source": [
    "%%markdown\n",
    "9. Write a recursive formula for the geometric\n",
    "sequence$1, -0.5, 0.25, -0.125, ...\n",
    "### $d = -0.5$\n",
    "### $a_n = -0.5\\cdot a_{n-1}$"
   ]
  },
  {
   "cell_type": "code",
   "execution_count": 8,
   "metadata": {},
   "outputs": [
    {
     "output_type": "display_data",
     "data": {
      "text/plain": "<IPython.core.display.Markdown object>",
      "text/markdown": "10. Write an explicit formula for the geometric sequence $4, -\\frac{4}{3}, \\frac{4}{9}, -\\frac{4}{27}...$\n### $d = -\\frac{1}{3}$\n### $a_n = 4\\cdot (\\frac{1}{3})^{n-1}$\n\n"
     },
     "metadata": {}
    }
   ],
   "source": [
    "%%markdown\n",
    "10. Write an explicit formula for the geometric sequence $4, -\\frac{4}{3}, \\frac{4}{9}, -\\frac{4}{27}...$\n",
    "### $d = -\\frac{1}{3}$\n",
    "### $a_n = 4\\cdot (\\frac{1}{3})^{n-1}$\n",
    "\n"
   ]
  },
  {
   "cell_type": "code",
   "execution_count": 10,
   "metadata": {},
   "outputs": [
    {
     "output_type": "display_data",
     "data": {
      "text/plain": "<IPython.core.display.Markdown object>",
      "text/markdown": "11. Use summation notation to write the sum of terms $3k^2-\\frac{5}{6}k$ from k=-3 to k=15\n### $\\sum\\limits_{k=-3}^{15}3k^2-\\frac{5}{6}k$\n"
     },
     "metadata": {}
    }
   ],
   "source": [
    "%%markdown\n",
    "11. Use summation notation to write the sum of terms $3k^2-\\frac{5}{6}k$ from k=-3 to k=15\n",
    "### $\\sum\\limits_{k=-3}^{15}3k^2-\\frac{5}{6}k$"
   ]
  },
  {
   "cell_type": "code",
   "execution_count": 20,
   "metadata": {},
   "outputs": [
    {
     "output_type": "display_data",
     "data": {
      "text/plain": "<IPython.core.display.Markdown object>",
      "text/markdown": "12. A community baseball stadium has 10 seats in the first row, 13 seats in the second row, 16 seats in the\nthird row, and so on. There are 56 rows in all. What is\nthe seating capacity of the stadium?\n### $a_n = 10+3(n-1)$\n### $S_{seats} = \\sum\\limits_{n=1}^{56}10+3(n-1)$\n### $S_{seats} = \\frac{n(a_1 + a_n)}{2}$\n### $S_{seats} = \\frac{56(10 + 175)}{2} \\Rightarrow 5180$\n"
     },
     "metadata": {}
    }
   ],
   "source": [
    "%%markdown\n",
    "12. A community baseball stadium has 10 seats in the first row, 13 seats in the second row, 16 seats in the\n",
    "third row, and so on. There are 56 rows in all. What is\n",
    "the seating capacity of the stadium?\n",
    "### $a_n = 10+3(n-1)$\n",
    "### $S_{seats} = \\sum\\limits_{n=1}^{56}10+3(n-1)$\n",
    "### $S_{seats} = \\frac{n(a_1 + a_n)}{2}$\n",
    "### $S_{seats} = \\frac{56(10 + 175)}{2} \\Rightarrow 5180$"
   ]
  },
  {
   "cell_type": "code",
   "execution_count": 29,
   "metadata": {},
   "outputs": [
    {
     "output_type": "display_data",
     "data": {
      "text/plain": "<IPython.core.display.Markdown object>",
      "text/markdown": "13. Use the formula for the sum of the first n terms of a geometric series to find $\\sum\\limits_{k=1}^{7}-0.2(-5)^{k-1}$\n### $S_\\infty = \\frac{a_1(1-r^n)}{1-r}$\n### $S_\\infty = \\frac{-0.2(1-(-5)^7)}{1-(-5)} \\Rightarrow \\frac{35}{6}$\n"
     },
     "metadata": {}
    }
   ],
   "source": [
    "%%markdown\n",
    "13. Use the formula for the sum of the first n terms of a geometric series to find $\\sum\\limits_{k=1}^{7}-0.2(-5)^{k-1}$\n",
    "### $S_\\infty = \\frac{a_1(1-r^n)}{1-r}$\n",
    "### $S_\\infty = \\frac{-0.2(1-(-5)^7)}{1-(-5)} \\Rightarrow -2604.2$\n"
   ]
  },
  {
   "cell_type": "code",
   "execution_count": 32,
   "metadata": {},
   "outputs": [
    {
     "output_type": "display_data",
     "data": {
      "text/plain": "<IPython.core.display.Markdown object>",
      "text/markdown": "14. Find the sum of the infinite geometric series. $\\sum\\limits_{k=1}^{\\infty}\\frac{1}{3}\\cdot(-0.2)^{k-1}$\n### $S_\\infty = \\frac{a_1}{1-r}$\n### $S_\\infty = \\frac{\\frac{1}{3}}{\\frac{6}{5}} \\Rightarrow \\frac{5}{18}$\n"
     },
     "metadata": {}
    }
   ],
   "source": [
    "%%markdown\n",
    "14. Find the sum of the infinite geometric series. $\\sum\\limits_{k=1}^{\\infty}\\frac{1}{3}\\cdot(-0.2)^{k-1}$\n",
    "### $S_\\infty = \\frac{a_1}{1-r}$\n",
    "### $S_\\infty = \\frac{\\frac{1}{3}}{\\frac{6}{5}} \\Rightarrow \\frac{5}{18}$"
   ]
  },
  {
   "cell_type": "code",
   "execution_count": 34,
   "metadata": {},
   "outputs": [
    {
     "output_type": "display_data",
     "data": {
      "text/plain": "<IPython.core.display.Markdown object>",
      "text/markdown": "15. Rachael deposits $3,600 into a retirement fund each year. The fund earns 7.5% annual interest,\ncompounded monthly. If she opened her account\nwhen she was 20 years old, how much will she have\nby the time she’s 55? How much of that amount was\ninterest earned?\n### $t = 55-20 \\Rightarrow 35$\n### $Deposits = 3600$\n### $Interest = 1.075$\n### $S_{annuity} = \\frac{3600(1-(1.075)^35)}{1-1.075} \\Rightarrow \\$555,305.78 $\n"
     },
     "metadata": {}
    }
   ],
   "source": [
    "%%markdown\n",
    "15. Rachael deposits $3,600 into a retirement fund each year. The fund earns 7.5% annual interest,\n",
    "compounded monthly. If she opened her account\n",
    "when she was 20 years old, how much will she have\n",
    "by the time she’s 55? How much of that amount was\n",
    "interest earned?\n",
    "### $t = 55-20 \\Rightarrow 35$\n",
    "### $Deposits = 3600$\n",
    "### $Interest = 1.075$\n",
    "### $S_{annuity} = \\frac{3600(1-(1.075)^35)}{1-1.075} \\Rightarrow \\$555,305.78 $"
   ]
  },
  {
   "cell_type": "code",
   "execution_count": 17,
   "metadata": {},
   "outputs": [
    {
     "output_type": "display_data",
     "data": {
      "text/plain": "<IPython.core.display.Markdown object>",
      "text/markdown": "16. In a competition of 50 professional ballroom dancers, 22 compete in the fox-trot competition, 18 compete\nin the tango competition, and 6 compete in both the\nfox-trot and tango competitions. How many dancers\ncompete in the foxtrot or tango competitions?\n"
     },
     "metadata": {}
    }
   ],
   "source": [
    "%%markdown\n",
    "16. In a competition of 50 professional ballroom dancers, 22 compete in the fox-trot competition, 18 compete\n",
    "in the tango competition, and 6 compete in both the\n",
    "fox-trot and tango competitions. How many dancers\n",
    "compete in the foxtrot or tango competitions?\n",
    "### We take the total number of dancer $n_{dancers} = 50$, and subtract the number of the dancers $n_{both} = 6$ that compete in both competition.\n",
    "# answer: 44 dancers compete either in the foxtrot or the tango competition\n"
   ]
  },
  {
   "cell_type": "code",
   "execution_count": 39,
   "metadata": {},
   "outputs": [
    {
     "output_type": "display_data",
     "data": {
      "text/plain": "<IPython.core.display.Markdown object>",
      "text/markdown": "17. A buyer of a new sedan can custom order the car by choosing from 5 different exterior colors, 3 different\ninterior colors, 2 sound systems, 3 motor designs,\nand either manual or automatic transmission. How\nmany choices does the buyer have?\n### $_5C(exterior\\ color)_1*_3C(interior\\ color)_1*_2C(sound\\ system)_1*_3C(motor\\ design)_1*_2C(transmission)_1 \\Rightarrow 180$\n"
     },
     "metadata": {}
    }
   ],
   "source": [
    "%%markdown\n",
    "17. A buyer of a new sedan can custom order the car by choosing from 5 different exterior colors, 3 different\n",
    "interior colors, 2 sound systems, 3 motor designs,\n",
    "and either manual or automatic transmission. How\n",
    "many choices does the buyer have?\n",
    "### $_5C(exterior\\ color)_1*_3C(interior\\ color)_1*_2C(sound\\ system)_1*_3C(motor\\ design)_1*_2C(transmission)_1 \\Rightarrow 180$\n"
   ]
  },
  {
   "cell_type": "code",
   "execution_count": 40,
   "metadata": {},
   "outputs": [
    {
     "output_type": "display_data",
     "data": {
      "text/plain": "<IPython.core.display.Markdown object>",
      "text/markdown": "18. To allocate annual bonuses, a manager must choose his top four employees and rank them first to fourth.\nIn how many ways can he create the “Top-Four” list\nout of the 32 employees?\n### $_{32}P^{top\\ employees}_{4} = \\frac{32!}{(32-4)!}$\n"
     },
     "metadata": {}
    }
   ],
   "source": [
    "%%markdown\n",
    "18. To allocate annual bonuses, a manager must choose his top four employees and rank them first to fourth.\n",
    "In how many ways can he create the “Top-Four” list\n",
    "out of the 32 employees?\n",
    "### $_{32}P^{top\\ employees}_{4} = \\frac{32!}{(32-4)!} \\Rightarrow 863,040.0$\n"
   ]
  },
  {
   "cell_type": "code",
   "execution_count": 20,
   "metadata": {},
   "outputs": [
    {
     "output_type": "display_data",
     "data": {
      "text/plain": "<IPython.core.display.Markdown object>",
      "text/markdown": "19. A rock group needs to choose 3 songs to play at the annual Battle of the Bands. How many ways can\nthey choose their set if have 15 songs to pick from?\n"
     },
     "metadata": {}
    }
   ],
   "source": [
    "%%markdown\n",
    "19. A rock group needs to choose 3 songs to play at the annual Battle of the Bands. How many ways can\n",
    "they choose their set if have 15 songs to pick from?\n",
    "### $_{15}P^{songs}_{3} = \\frac{32!}{(15-3)!} \\Rightarrow 2730.0$"
   ]
  },
  {
   "cell_type": "code",
   "execution_count": 21,
   "metadata": {},
   "outputs": [
    {
     "output_type": "display_data",
     "data": {
      "text/plain": "<IPython.core.display.Markdown object>",
      "text/markdown": "20. A self-serve frozen yogurt shop has 8 candy toppings and 4 fruit toppings to choose from. How many ways\nare there to top a frozen yogurt?\n"
     },
     "metadata": {}
    }
   ],
   "source": [
    "%%markdown\n",
    "20. A self-serve frozen yogurt shop has 8 candy toppings and 4 fruit toppings to choose from. How many ways\n",
    "are there to top a frozen yogurt?\n",
    "### $2^{toppins} \\Rightarrow 4096$"
   ]
  },
  {
   "cell_type": "code",
   "execution_count": 52,
   "metadata": {},
   "outputs": [
    {
     "output_type": "display_data",
     "data": {
      "text/plain": "<IPython.core.display.Markdown object>",
      "text/markdown": "21. How many distinct ways can the word\nEVANESCENCE be arranged if the anagram must\nend with the letter E?\n### Charcount: E: 3, V: 1, A: 1, N: 2, S: 1, C: 2\n# answer: 151,200\n"
     },
     "metadata": {}
    }
   ],
   "source": [
    "%%markdown\n",
    "21. How many distinct ways can the word\n",
    "EVANESCENCE be arranged if the anagram must\n",
    "end with the letter E?\n",
    "### Charcount: E: 3, V: 1, A: 1, N: 2, S: 1, C: 2\n",
    "# answer: 151,200"
   ]
  },
  {
   "cell_type": "code",
   "execution_count": 66,
   "metadata": {},
   "outputs": [
    {
     "output_type": "display_data",
     "data": {
      "text/plain": "<IPython.core.display.Markdown object>",
      "text/markdown": "22. Use the Binomial Theorem to expand $(\\frac{3}{2}x-\\frac{1}{2}y)^5$\n### $\\binom{5}{0}(1.5x)^{5}(-0.5y)^{0}+\\binom{5}{1}(1.5x)^{4}(-0.5y)^{1}+\\binom{5}{2}(1.5x)^{3}(-0.5y)^{2}+\\binom{5}{3}(1.5x)^{2}(-0.5y)^{3}+\\binom{5}{4}(1.5x)^{1}(-0.5y)^{4}+\\binom{5}{5}(1.5x)^{0}(-0.5y)^{5}$\n### $\\frac{243}{32}(x)^{5}+5*\\frac{81}{16}\\frac{-1}{2}(x)^{4}(y)+10\\frac{21}{8}\\frac{1}{4}(x)^{3}(y)^{2}+10\\frac{9}{4}\\frac{-1}{8}(x)^{2}(y)^{3}+5*\\frac{3}{2}\\frac{1}{16}(x)(y)^{4}+\\frac{-1}{32}(y)^{5}$\n### $\\frac{243}{32}(x)^{5}-\\frac{405}{32}(x)^{4}(y)+\\frac{210}{32}(x)^{3}(y)^{2}-\\frac{90}{32}(x)^{2}(y)^{3}+\\frac{15}{32}(x)(y)^{4}-\\frac{1}{32}(y)^{5}$\n"
     },
     "metadata": {}
    }
   ],
   "source": [
    "%%markdown\n",
    "22. Use the Binomial Theorem to expand $(\\frac{3}{2}x-\\frac{1}{2}y)^5$\n",
    "### $\\binom{5}{0}(1.5x)^{5}(-0.5y)^{0}+\\binom{5}{1}(1.5x)^{4}(-0.5y)^{1}+\\binom{5}{2}(1.5x)^{3}(-0.5y)^{2}+\\binom{5}{3}(1.5x)^{2}(-0.5y)^{3}+\\binom{5}{4}(1.5x)^{1}(-0.5y)^{4}+\\binom{5}{5}(1.5x)^{0}(-0.5y)^{5}$\n",
    "### $\\frac{243}{32}(x)^{5}+5*\\frac{81}{16}\\frac{-1}{2}(x)^{4}(y)+10\\frac{21}{8}\\frac{1}{4}(x)^{3}(y)^{2}+10\\frac{9}{4}\\frac{-1}{8}(x)^{2}(y)^{3}+5*\\frac{3}{2}\\frac{1}{16}(x)(y)^{4}+\\frac{-1}{32}(y)^{5}$\n",
    "### $\\frac{243}{32}(x)^{5}-\\frac{405}{32}(x)^{4}(y)+\\frac{210}{32}(x)^{3}(y)^{2}-\\frac{90}{32}(x)^{2}(y)^{3}+\\frac{15}{32}(x)(y)^{4}-\\frac{1}{32}(y)^{5}$"
   ]
  },
  {
   "cell_type": "code",
   "execution_count": 77,
   "metadata": {},
   "outputs": [
    {
     "output_type": "display_data",
     "data": {
      "text/plain": "<IPython.core.display.Markdown object>",
      "text/markdown": "23. Find the seventh term of $(x^2-\\frac{1}{2})^{13}$ without fully expanding the binomial\n### $\\binom{13}{6}(x^2)^7(-\\frac{1}{2})^6$\n### $\\frac{429}{16}(x)^14$\n"
     },
     "metadata": {}
    }
   ],
   "source": [
    "%%markdown\n",
    "23. Find the seventh term of $(x^2-\\frac{1}{2})^{13}$ without fully expanding the binomial\n",
    "### $\\binom{13}{6}(x^2)^7(-\\frac{1}{2})^6$\n",
    "### $\\frac{429}{16}(x)^14$\n"
   ]
  },
  {
   "cell_type": "code",
   "execution_count": 25,
   "metadata": {},
   "outputs": [
    {
     "output_type": "display_data",
     "data": {
      "text/plain": "<IPython.core.display.Markdown object>",
      "text/markdown": "For the following exercises, use the spinner in Figure 1.\n"
     },
     "metadata": {}
    }
   ],
   "source": [
    "%%markdown\n",
    "For the following exercises, use the spinner in Figure 1.\n"
   ]
  },
  {
   "cell_type": "code",
   "execution_count": 87,
   "metadata": {},
   "outputs": [
    {
     "output_type": "display_data",
     "data": {
      "text/plain": "<IPython.core.display.Markdown object>",
      "text/markdown": "24.-Construct-a-probability-model-showing-each-possible-outcome-and-its-associated-probability.\n(Use-the-first-letter-for-colors.)\n#### +-----+\n#### /-1B--/\n#### /-1/7-/\n#### +-----+\n#### /--2P-/\n#### /-1/7-/\n#### +-----+\n#### /--3G-/\n#### /-1/7-/\n#### +-----+\n#### /--4B-/\n#### /-1/7-/\n#### +-----+\n#### /--5R-/\n#### /-1/7-/\n#### +-----+\n#### /-6-O-/\n#### /-1/7-/\n#### +-----+\n#### /--7Y-/\n#### /-1/7-/\n#### +-----+\n"
     },
     "metadata": {}
    }
   ],
   "source": [
    "%%markdown\n",
    "24.-Construct-a-probability-model-showing-each-possible-outcome-and-its-associated-probability.\n",
    "(Use-the-first-letter-for-colors.)\n",
    "#### +-----+\n",
    "#### /-1B--/\n",
    "#### /-1/7-/\n",
    "#### +-----+\n",
    "#### /--2P-/\n",
    "#### /-1/7-/\n",
    "#### +-----+\n",
    "#### /--3G-/\n",
    "#### /-1/7-/\n",
    "#### +-----+\n",
    "#### /--4B-/\n",
    "#### /-1/7-/\n",
    "#### +-----+\n",
    "#### /--5R-/\n",
    "#### /-1/7-/\n",
    "#### +-----+\n",
    "#### /-6-O-/\n",
    "#### /-1/7-/\n",
    "#### +-----+\n",
    "#### /--7Y-/\n",
    "#### /-1/7-/\n",
    "#### +-----+\n"
   ]
  },
  {
   "cell_type": "code",
   "execution_count": 27,
   "metadata": {},
   "outputs": [
    {
     "output_type": "display_data",
     "data": {
      "text/plain": "<IPython.core.display.Markdown object>",
      "text/markdown": "25. What is the probability of landing on an odd number?\n"
     },
     "metadata": {}
    }
   ],
   "source": [
    "%%markdown\n",
    "25. What is the probability of landing on an odd number?\n",
    "### $_n(S) = {7}$ ; $_n(odd) ={4} $\n",
    "### $P(odd) = {\\frac{4}{7}}$ \n"
   ]
  },
  {
   "cell_type": "code",
   "execution_count": 88,
   "metadata": {},
   "outputs": [
    {
     "output_type": "display_data",
     "data": {
      "text/plain": "<IPython.core.display.Markdown object>",
      "text/markdown": "26. What is the probability of landing on blue?\n### $_n(S) = {7}$ ; $_n(blue) ={2} $\n### $P(blue) = {\\frac{2}{7}}$ \n"
     },
     "metadata": {}
    }
   ],
   "source": [
    "%%markdown\n",
    "26. What is the probability of landing on blue?\n",
    "### $_n(S) = {7}$ ; $_n(blue) ={2} $\n",
    "### $P(blue) = {\\frac{2}{7}}$ "
   ]
  },
  {
   "cell_type": "code",
   "execution_count": 93,
   "metadata": {},
   "outputs": [
    {
     "output_type": "display_data",
     "data": {
      "text/plain": "<IPython.core.display.Markdown object>",
      "text/markdown": "27. What is the probability of landing on blue or an odd number?\n### $_n(S) = {7}$ ; $_n(blue) ={2} $ ; $_n(odd) ={4}$ ; $_n(blue\\cap odd) ={1} $\n### $P(blue \\cup odd) P(blue) + $P(odd) -$P(blue\\cap odd)  \\Rightarrow {\\frac{5}{7}}$ \n"
     },
     "metadata": {}
    }
   ],
   "source": [
    "%%markdown\n",
    "27. What is the probability of landing on blue or an odd number?\n",
    "### $_n(S) = {7}$ ; $_n(blue) ={2} $ ; $_n(odd) ={4}$ ; $_n(blue\\cap odd) ={1} $\n",
    "### $P(blue \\cup odd) P(blue) + $P(odd) -$P(blue\\cap odd)  \\Rightarrow {\\frac{5}{7}}$ "
   ]
  },
  {
   "cell_type": "code",
   "execution_count": 94,
   "metadata": {},
   "outputs": [
    {
     "output_type": "display_data",
     "data": {
      "text/plain": "<IPython.core.display.Markdown object>",
      "text/markdown": "28. What is the probability of landing on anything other\nthan blue or an odd number?\n### $_n(S) = {7}$ ; $_n(blue) ={2} $ ; $_n(odd) ={4}$ ; $_n(blue\\cap odd) ={1} $\n### $P(blue \\cup odd) P(blue) + $P(odd) -$P(blue\\cap odd)  \\Rightarrow {\\frac{5}{7}}$ \n### $P'(blue \\cup odd)  = 1 - P(blue \\cup odd) \\Rightarrow \\frac{2}{7}$\n"
     },
     "metadata": {}
    }
   ],
   "source": [
    "%%markdown\n",
    "28. What is the probability of landing on anything other\n",
    "than blue or an odd number?\n",
    "### $_n(S) = {7}$ ; $_n(blue) ={2} $ ; $_n(odd) ={4}$ ; $_n(blue\\cap odd) ={1} $\n",
    "### $P(blue \\cup odd) P(blue) + $P(odd) -$P(blue\\cap odd)  \\Rightarrow {\\frac{5}{7}}$ \n",
    "### $P'(blue \\cup odd)  = 1 - P(blue \\cup odd) \\Rightarrow \\frac{2}{7}$"
   ]
  },
  {
   "cell_type": "code",
   "execution_count": 99,
   "metadata": {},
   "outputs": [
    {
     "output_type": "display_data",
     "data": {
      "text/plain": "<IPython.core.display.Markdown object>",
      "text/markdown": "29. A bowl of candy holds 16 peppermint, 14 butterscotch, and 10 strawberry flavored candies.\nSuppose a person grabs a handful of 7 candies. What\nis the percent chance that exactly 3 are butterscotch?\n(Show calculations and round to the nearest tenth of\na percent.)\n### $_n(S) = {40}$ ; $_n(peppermint) ={16} $ ; $_n(butterscotch) ={14} $ ; $_n(strawberry) ={10}$ ; $_n(Events) = 7$\n### $P(3 butterscotch) =  \\frac{_{14}C_{3}\\cdot_{26}C{4}}{_{40}C_{7}}$\n# answer: There's %29.2 that exactly 3 butterscotch candies would be taken.\n"
     },
     "metadata": {}
    }
   ],
   "source": [
    "%%markdown\n",
    "29. A bowl of candy holds 16 peppermint, 14 butterscotch, and 10 strawberry flavored candies.\n",
    "Suppose a person grabs a handful of 7 candies. What\n",
    "is the percent chance that exactly 3 are butterscotch?\n",
    "(Show calculations and round to the nearest tenth of\n",
    "a percent.)\n",
    "### $_n(S) = {40}$ ; $_n(peppermint) ={16} $ ; $_n(butterscotch) ={14} $ ; $_n(strawberry) ={10}$ ; $_n(Events) = 7$\n",
    "### $P(3 butterscotch) =  \\frac{_{14}C_{3}\\cdot_{26}C{4}}{_{40}C_{7}}$\n",
    "# answer: There's %29.2 that exactly 3 butterscotch candies would be taken."
   ]
  },
  {
   "cell_type": "code",
   "execution_count": 98,
   "metadata": {},
   "outputs": [
    {
     "output_type": "execute_result",
     "data": {
      "text/plain": [
       "0.2919"
      ]
     },
     "metadata": {},
     "execution_count": 98
    }
   ],
   "source": [
    "16+14+10\n",
    "### $_n(S) = {40}$ ; $_n() ={} $\n",
    "### $P() = {}$ \n",
    "# \\binom{}{}()^()^\n",
    "# x = split(\"EVANESCENCE\")\n",
    "# print(x)\n",
    "# print(len(x))\n",
    "# non_distinct(10, [3, 2, 2])\n",
    "# print(5*81)\n",
    "# expand_co(5)\n",
    "# combine(13, 6)/4\n",
    "prob_event(combine(14, 3)*(combine(26, 4)), combine(40, 7))\n",
    "# arithmtc_sequence(10, 3, 56)\n",
    "# arithmtc(10, 3, 56)\n",
    "# geometric(3600, 1.075, 35)\n",
    "# combine(15, 3)\n",
    "# ordered(15, 3)\n",
    "# 2**12\n",
    "# round(7/1.2,2)\n",
    "# 5/6"
   ]
  }
 ]
}