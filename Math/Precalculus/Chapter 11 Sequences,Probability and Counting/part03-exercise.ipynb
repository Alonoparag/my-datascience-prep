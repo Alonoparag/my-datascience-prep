{
 "metadata": {
  "language_info": {
   "codemirror_mode": {
    "name": "ipython",
    "version": 3
   },
   "file_extension": ".py",
   "mimetype": "text/x-python",
   "name": "python",
   "nbconvert_exporter": "python",
   "pygments_lexer": "ipython3",
   "version": "3.8.6-final"
  },
  "orig_nbformat": 2,
  "kernelspec": {
   "name": "python3",
   "display_name": "Python 3"
  }
 },
 "nbformat": 4,
 "nbformat_minor": 2,
 "cells": [
  {
   "cell_type": "code",
   "execution_count": 59,
   "metadata": {},
   "outputs": [
    {
     "output_type": "display_data",
     "data": {
      "text/plain": "<IPython.core.display.Markdown object>",
      "text/markdown": "1. What is a geometric sequence?\n<br> ## answer: A geometric sequence is a sequence in which the quotient from dividing a term with its preceeding term is constant\n2. How is the common ratio of a geometric sequence found?\n<br> ## answer: The common ratio of a geometric sequence is the quotient of a term $a_n$ with a directly preceeding term $a_{n-1}$\n3. What is the procedure for determining whether a\nsequence is geometric?\n<br> ## answer: comparing the quotient of the given terms in a sequence $a_2/a_1; a_3/a_2...etc$\n4. What is the difference between an arithmetic\nsequence and a geometric sequence?\n<br> ## answer: An arithmetic sequence grows by a common difference (addition of the difference to the preceeding term) while a geometric sequence grows by a common ratio (multiplication of the preceeding term by a given ratio)\n5. Describe how exponential functions and geometric\nsequences are similar. How are they different?\n<br> ## answer: Both exponential functions and geometric sequences change by a constant ratio, but while the domain of exponential functions is the set of real numbers, the domain of geometric sequences is the set of natural numbers\n"
     },
     "metadata": {}
    }
   ],
   "source": [
    "%%markdown\n",
    "1. What is a geometric sequence?\n",
    "<br> ## answer: A geometric sequence is a sequence in which the quotient from dividing a term with its preceeding term is constant\n",
    "2. How is the common ratio of a geometric sequence found?\n",
    "<br> ## answer: The common ratio of a geometric sequence is the quotient of a term $a_n$ with a directly preceeding term $a_{n-1}$\n",
    "3. What is the procedure for determining whether a\n",
    "sequence is geometric?\n",
    "<br> ## answer: comparing the quotient of the given terms in a sequence $a_2/a_1; a_3/a_2...etc$\n",
    "4. What is the difference between an arithmetic\n",
    "sequence and a geometric sequence?\n",
    "<br> ## answer: An arithmetic sequence grows by a common difference (addition of the difference to the preceeding term) while a geometric sequence grows by a common ratio (multiplication of the preceeding term by a given ratio)\n",
    "5. Describe how exponential functions and geometric\n",
    "sequences are similar. How are they different?\n",
    "<br> ## answer: Both exponential functions and geometric sequences change by a constant ratio, but while the domain of exponential functions is the set of real numbers, the domain of geometric sequences is the set of natural numbers\n"
   ]
  },
  {
   "cell_type": "code",
   "execution_count": 31,
   "metadata": {},
   "outputs": [
    {
     "output_type": "display_data",
     "data": {
      "text/plain": "<IPython.core.display.Markdown object>",
      "text/markdown": "For the following exercises, find the common ratio for the geometric sequence.\n7. −0.125, 0.25, −0.5, 1, −2, ..\n<br> 1) $-2$\n"
     },
     "metadata": {}
    }
   ],
   "source": [
    "%%markdown\n",
    "For the following exercises, find the common ratio for the geometric sequence.\n",
    "7. −0.125, 0.25, −0.5, 1, −2, ..\n",
    "<br> 1) $-2$"
   ]
  },
  {
   "cell_type": "code",
   "execution_count": 32,
   "metadata": {},
   "outputs": [
    {
     "output_type": "display_data",
     "data": {
      "text/plain": "<IPython.core.display.Markdown object>",
      "text/markdown": "For the following exercises, determine whether the sequence is geometric. If so, find the common ratio.\n9. −6, −12, −24, −48, −96, ...\n<br> answer: the sequence is geometric because it changes by a common ratio, which is 2\n"
     },
     "metadata": {}
    }
   ],
   "source": [
    "%%markdown\n",
    "For the following exercises, determine whether the sequence is geometric. If so, find the common ratio.\n",
    "9. −6, −12, −24, −48, −96, ...\n",
    "<br> answer: the sequence is geometric because it changes by a common ratio, which is 2"
   ]
  },
  {
   "cell_type": "code",
   "execution_count": 33,
   "metadata": {},
   "outputs": [
    {
     "output_type": "display_data",
     "data": {
      "text/plain": "<IPython.core.display.Markdown object>",
      "text/markdown": "11) $\\frac{1}{2}, -\\frac{1}{4}, \\frac{1}{8},  -\\frac{1}{16}...$\n<br> answer: the sequence is geometric because it changes by a common ratio, which is $-\\frac{1}{2}$\n"
     },
     "metadata": {}
    }
   ],
   "source": [
    "%%markdown\n",
    "11) $\\frac{1}{2}, -\\frac{1}{4}, \\frac{1}{8},  -\\frac{1}{16}...$\n",
    "<br> answer: the sequence is geometric because it changes by a common ratio, which is $-\\frac{1}{2}$"
   ]
  },
  {
   "cell_type": "code",
   "execution_count": 34,
   "metadata": {},
   "outputs": [
    {
     "output_type": "display_data",
     "data": {
      "text/plain": "<IPython.core.display.Markdown object>",
      "text/markdown": "13. 0.8, 4, 20, 100, 500, ...\n<br> answer: the sequence is geometric because it changes by a common ratio, which is 5\n"
     },
     "metadata": {}
    }
   ],
   "source": [
    "%%markdown\n",
    "13. 0.8, 4, 20, 100, 500, ...\n",
    "<br> answer: the sequence is geometric because it changes by a common ratio, which is 5\n"
   ]
  },
  {
   "cell_type": "code",
   "execution_count": 35,
   "metadata": {},
   "outputs": [
    {
     "output_type": "display_data",
     "data": {
      "text/plain": "<IPython.core.display.Markdown object>",
      "text/markdown": "For the following exercises, write the first five terms of the geometric sequence, given the first term and common ratio.\n15. a_1 = 5, r = \\frac{1}{5}\n<br> 1) $5$\n<br> 2) $1.0$\n<br> 3) $0.2$\n<br> 4) $0.04$\n<br> 5) $0.008$\n"
     },
     "metadata": {}
    }
   ],
   "source": [
    "%%markdown\n",
    "For the following exercises, write the first five terms of the geometric sequence, given the first term and common ratio.\n",
    "15. a_1 = 5, r = \\frac{1}{5}\n",
    "<br> 1) $5$\n",
    "<br> 2) $1.0$\n",
    "<br> 3) $0.2$\n",
    "<br> 4) $0.04$\n",
    "<br> 5) $0.008$"
   ]
  },
  {
   "cell_type": "code",
   "execution_count": 36,
   "metadata": {},
   "outputs": [
    {
     "output_type": "display_data",
     "data": {
      "text/plain": "<IPython.core.display.Markdown object>",
      "text/markdown": "For the following exercises, write the first five terms of the geometric sequence, given any two terms.\n17. a_6 = 25, a_8 = 6.25\n============\n<br> 1) $a_n = a_{n-1}r$\n<br> 2) $a_8 = a_7*r$ ; $a_7 = a_6*r$\n<br> 3) $\\frac{25}{4} = 25r^2$\n<br> 4) $r = \\pm\\frac{1}{2}$\n"
     },
     "metadata": {}
    }
   ],
   "source": [
    "%%markdown\n",
    "For the following exercises, write the first five terms of the geometric sequence, given any two terms.\n",
    "17. a_6 = 25, a_8 = 6.25\n",
    "============\n",
    "<br> 1) $a_n = a_{n-1}r$\n",
    "<br> 2) $a_8 = a_7*r$ ; $a_7 = a_6*r$\n",
    "<br> 3) $\\frac{25}{4} = 25r^2$\n",
    "<br> 4) $r = \\pm\\frac{1}{2}$\n"
   ]
  },
  {
   "cell_type": "code",
   "execution_count": 37,
   "metadata": {},
   "outputs": [
    {
     "output_type": "display_data",
     "data": {
      "text/plain": "<IPython.core.display.Markdown object>",
      "text/markdown": "For the following exercises, find the specified term for the geometric sequence, given the first term and common ratio.\n19. The first term is 16 and the common ratio is -\\frac{1}{3}, find the 4^{th} term\n<br> answer: $ a_4 = 16\\cdot \\frac{1}{3}^{3}\n<br> answer: $a_4 = -\\frac{16}{27}\n===========\n"
     },
     "metadata": {}
    }
   ],
   "source": [
    "%%markdown\n",
    "For the following exercises, find the specified term for the geometric sequence, given the first term and common ratio.\n",
    "19. The first term is 16 and the common ratio is -\\frac{1}{3}, find the 4^{th} term\n",
    "<br> answer: $ a_4 = 16\\cdot \\frac{1}{3}^{3}\n",
    "<br> answer: $a_4 = -\\frac{16}{27}\n",
    "===========\n"
   ]
  },
  {
   "cell_type": "code",
   "execution_count": 38,
   "metadata": {},
   "outputs": [
    {
     "output_type": "display_data",
     "data": {
      "text/plain": "<IPython.core.display.Markdown object>",
      "text/markdown": "For the following exercises, find the specified term for the geometric sequence, given the first four terms.\n21. $a_n = \\{​ −2, ​  \\frac{2}{3}  ​, −​\\frac{2}{9}  ​,\\frac{2}{27} ​, ....\\}$ ​ Find a_7 .\n===========\n<br> 1) r =  2/3/(-2)\n<br> 2) $r = -\\frac{1}{3}$\n<br> 3) $a_n = -2\\cdot(-\\frac{1}{3})^{n-1}$\n<br> 4) answer: $a_7 = -\\frac{2}{729}$\n"
     },
     "metadata": {}
    }
   ],
   "source": [
    "%%markdown\n",
    "For the following exercises, find the specified term for the geometric sequence, given the first four terms.\n",
    "21. $a_n = \\{​ −2, ​  \\frac{2}{3}  ​, −​\\frac{2}{9}  ​,\\frac{2}{27} ​, ....\\}$ ​ Find a_7 .\n",
    "===========\n",
    "<br> 1) r =  2/3/(-2)\n",
    "<br> 2) $r = -\\frac{1}{3}$\n",
    "<br> 3) $a_n = -2\\cdot(-\\frac{1}{3})^{n-1}$\n",
    "<br> 4) answer: $a_7 = -\\frac{2}{729}$"
   ]
  },
  {
   "cell_type": "code",
   "execution_count": 39,
   "metadata": {},
   "outputs": [
    {
     "output_type": "display_data",
     "data": {
      "text/plain": "<IPython.core.display.Markdown object>",
      "text/markdown": "For the following exercises, write the first five terms of the geometric sequence.\n23. a_1 = 7, a_n = 0.2a_{n − 1}\n===========\n<br> 1) $7$\n<br> 2) $1.4$\n<br> 3) $0.28$\n<br> 4) $0.056$\n<br> 5) $0.0112$\n"
     },
     "metadata": {}
    }
   ],
   "source": [
    "%%markdown\n",
    "For the following exercises, write the first five terms of the geometric sequence.\n",
    "23. a_1 = 7, a_n = 0.2a_{n − 1}\n",
    "===========\n",
    "<br> 1) $7$\n",
    "<br> 2) $1.4$\n",
    "<br> 3) $0.28$\n",
    "<br> 4) $0.056$\n",
    "<br> 5) $0.0112$\n"
   ]
  },
  {
   "cell_type": "code",
   "execution_count": 40,
   "metadata": {},
   "outputs": [
    {
     "output_type": "display_data",
     "data": {
      "text/plain": "<IPython.core.display.Markdown object>",
      "text/markdown": "For the following exercises, write a recursive formula for each geometric sequence.\n"
     },
     "metadata": {}
    }
   ],
   "source": [
    "%%markdown\n",
    "For the following exercises, write a recursive formula for each geometric sequence.\n"
   ]
  },
  {
   "cell_type": "code",
   "execution_count": 41,
   "metadata": {},
   "outputs": [
    {
     "output_type": "display_data",
     "data": {
      "text/plain": "<IPython.core.display.Markdown object>",
      "text/markdown": "25. a n = {−32, −16, −8, −4, ...}\n<br> answer: $a_n = 0.5\\cdot a_{n-1}$\n"
     },
     "metadata": {}
    }
   ],
   "source": [
    "%%markdown\n",
    "25. a n = {−32, −16, −8, −4, ...}\n",
    "<br> answer: $a_n = 0.5\\cdot a_{n-1}$\n"
   ]
  },
  {
   "cell_type": "code",
   "execution_count": 42,
   "metadata": {},
   "outputs": [
    {
     "output_type": "display_data",
     "data": {
      "text/plain": "<IPython.core.display.Markdown object>",
      "text/markdown": "27. a n = {10, −3, 0.9, −0.27, ...}\n<br> answer: $ a_n = -0.3\\cdot a_{n-1}$\n"
     },
     "metadata": {}
    }
   ],
   "source": [
    "%%markdown\n",
    "27. a n = {10, −3, 0.9, −0.27, ...}\n",
    "<br> answer: $ a_n = -0.3\\cdot a_{n-1}$\n"
   ]
  },
  {
   "cell_type": "code",
   "execution_count": 43,
   "metadata": {},
   "outputs": [
    {
     "output_type": "display_data",
     "data": {
      "text/plain": "<IPython.core.display.Markdown object>",
      "text/markdown": "29. $a n = ​ ​  \\frac{3}{5}​, \\frac{1}{10}  ​, \\frac{1}{60}  ​, \\frac{1}{360}  ​, ... ​$\n<br> answer: $r = \\frac{1}{10} / \\frac{3}{5} = \\frac{1}{6}$\n<br> $a_n = \\frac{1}{6}a_{n-1}$\n"
     },
     "metadata": {}
    }
   ],
   "source": [
    "%%markdown\n",
    "29. $a n = ​ ​  \\frac{3}{5}​, \\frac{1}{10}  ​, \\frac{1}{60}  ​, \\frac{1}{360}  ​, ... ​$\n",
    "<br> answer: $r = \\frac{1}{10} / \\frac{3}{5} = \\frac{1}{6}$\n",
    "<br> $a_n = \\frac{1}{6}a_{n-1}$\n"
   ]
  },
  {
   "cell_type": "code",
   "execution_count": 44,
   "metadata": {},
   "outputs": [
    {
     "output_type": "display_data",
     "data": {
      "text/plain": "<IPython.core.display.Markdown object>",
      "text/markdown": "31. $a_n = ​ ​  \\frac{1}{512}  ​, − ​  \\frac{1}{128}  ​, ​  \\frac{1}{32}  ​, −​  \\frac{1}{8}  ​, ... ​$\n<br> $r = -\\frac{1}{128}/ \\frac{1}{512}  = 4$\n<br> answer: $a_n = 4\\cdot a_{n-1}$\n"
     },
     "metadata": {}
    }
   ],
   "source": [
    "%%markdown\n",
    "31. $a_n = ​ ​  \\frac{1}{512}  ​, − ​  \\frac{1}{128}  ​, ​  \\frac{1}{32}  ​, −​  \\frac{1}{8}  ​, ... ​$\n",
    "<br> $r = -\\frac{1}{128}/ \\frac{1}{512}  = 4$\n",
    "<br> answer: $a_n = 4\\cdot a_{n-1}$\n"
   ]
  },
  {
   "cell_type": "code",
   "execution_count": 45,
   "metadata": {},
   "outputs": [
    {
     "output_type": "display_data",
     "data": {
      "text/plain": "<IPython.core.display.Markdown object>",
      "text/markdown": "For the following exercises, write the first five terms of the geometric sequence.\n32. a_n = −4 ⋅ 5^{n − 1}\n============\n<br> 1) $-4$\n<br> 2) $-20$\n<br> 3) $-100$\n<br> 4) $-500$\n<br> 5) $-2500$\n"
     },
     "metadata": {}
    }
   ],
   "source": [
    "%%markdown\n",
    "For the following exercises, write the first five terms of the geometric sequence.\n",
    "32. a_n = −4 ⋅ 5^{n − 1}\n",
    "============\n",
    "<br> 1) $-4$\n",
    "<br> 2) $-20$\n",
    "<br> 3) $-100$\n",
    "<br> 4) $-500$\n",
    "<br> 5) $-2500$"
   ]
  },
  {
   "cell_type": "code",
   "execution_count": 46,
   "metadata": {},
   "outputs": [
    {
     "output_type": "display_data",
     "data": {
      "text/plain": "<IPython.core.display.Markdown object>",
      "text/markdown": "For the following exercises, write an explicit formula for each geometric sequence.\n"
     },
     "metadata": {}
    }
   ],
   "source": [
    "%%markdown\n",
    "For the following exercises, write an explicit formula for each geometric sequence.\n"
   ]
  },
  {
   "cell_type": "code",
   "execution_count": 47,
   "metadata": {},
   "outputs": [
    {
     "output_type": "display_data",
     "data": {
      "text/plain": "<IPython.core.display.Markdown object>",
      "text/markdown": "35. a n = {1, 3, 9, 27, ...}\n<br> answer: $a_n = 3^{n-1}$\n"
     },
     "metadata": {}
    }
   ],
   "source": [
    "%%markdown\n",
    "35. a n = {1, 3, 9, 27, ...}\n",
    "<br> answer: $a_n = 3^{n-1}$"
   ]
  },
  {
   "cell_type": "code",
   "execution_count": 48,
   "metadata": {},
   "outputs": [
    {
     "output_type": "display_data",
     "data": {
      "text/plain": "<IPython.core.display.Markdown object>",
      "text/markdown": "37. a n = {0.8, −4, 20, −100, ...}\n<br> answer: $a_n = 0.8\\cdot-5^{n-1}$\n"
     },
     "metadata": {}
    }
   ],
   "source": [
    "%%markdown\n",
    "37. a n = {0.8, −4, 20, −100, ...}\n",
    "<br> answer: $a_n = 0.8\\cdot-5^{n-1}$\n"
   ]
  },
  {
   "cell_type": "code",
   "execution_count": 49,
   "metadata": {},
   "outputs": [
    {
     "output_type": "display_data",
     "data": {
      "text/plain": "<IPython.core.display.Markdown object>",
      "text/markdown": "39) $a_n = {-1, -\\frac{4}{5}, -\\frac{16}{25}, -\\frac{64}{125}}$\n<br> answer: $a_n = -(\\frac{4}{5})^{n-1}$\n"
     },
     "metadata": {}
    }
   ],
   "source": [
    "%%markdown\n",
    "39) $a_n = {-1, -\\frac{4}{5}, -\\frac{16}{25}, -\\frac{64}{125}}$\n",
    "<br> answer: $a_n = -(\\frac{4}{5})^{n-1}$\n"
   ]
  },
  {
   "cell_type": "code",
   "execution_count": 50,
   "metadata": {},
   "outputs": [
    {
     "output_type": "display_data",
     "data": {
      "text/plain": "<IPython.core.display.Markdown object>",
      "text/markdown": "41) $a_n = ​ {3, −1, ​ \\frac{1}{3}  ​, −​\\frac{1}{9}  ​, ... }$\n===============\n<br> answer: $a_n = 3\\cdot(-\\frac{1}{3})^{n-1}$\n"
     },
     "metadata": {}
    }
   ],
   "source": [
    "%%markdown\n",
    "41) $a_n = ​ {3, −1, ​ \\frac{1}{3}  ​, −​\\frac{1}{9}  ​, ... }$\n",
    "===============\n",
    "<br> answer: $a_n = 3\\cdot(-\\frac{1}{3})^{n-1}$"
   ]
  },
  {
   "cell_type": "code",
   "execution_count": 51,
   "metadata": {},
   "outputs": [
    {
     "output_type": "display_data",
     "data": {
      "text/plain": "<IPython.core.display.Markdown object>",
      "text/markdown": "For the following exercises, find the specified term for the geometric sequence given.\n43. Let $a_n = ​ -(-\\frac{1}{3})^{n-1}$. find a_12\n============\n<br> answer: $a_12 = \\frac{1}{177147}$\n"
     },
     "metadata": {}
    }
   ],
   "source": [
    "%%markdown\n",
    "For the following exercises, find the specified term for the geometric sequence given.\n",
    "43. Let $a_n = ​ -(-\\frac{1}{3})^{n-1}$. find a_12\n",
    "============\n",
    "<br> answer: $a_12 = \\frac{1}{177147}$"
   ]
  },
  {
   "cell_type": "code",
   "execution_count": 52,
   "metadata": {},
   "outputs": [
    {
     "output_type": "display_data",
     "data": {
      "text/plain": "<IPython.core.display.Markdown object>",
      "text/markdown": "For the following exercises, find the number of terms in the given finite geometric sequence.\n45) $a_n = \\{2, 1, \\frac{1​}{2},... ,\\frac{1}{1024}\\}$\n=======\n<br> 1) $a_n = 2\\cdot(0.5)^{n-1}$\n<br> 2) $\\frac{1}{1024} = 2\\cdot(0.5)^{n-1}$\n<br> 3) $\\log_{0.5}(\\frac{1}{2048}) = n-1$\n<br> 4) $n-1 = 11$\n<br> answer: $n = 13$, because there is an extra step to reduce, a_1 = 2\n"
     },
     "metadata": {}
    }
   ],
   "source": [
    "%%markdown\n",
    "For the following exercises, find the number of terms in the given finite geometric sequence.\n",
    "45) $a_n = \\{2, 1, \\frac{1​}{2},... ,\\frac{1}{1024}\\}$\n",
    "=======\n",
    "<br> 1) $a_n = 2\\cdot(0.5)^{n-1}$\n",
    "<br> 2) $\\frac{1}{1024} = 2\\cdot(0.5)^{n-1}$\n",
    "<br> 3) $\\log_{0.5}(\\frac{1}{2048}) = n-1$\n",
    "<br> 4) $n-1 = 11$\n",
    "<br> answer: $n = 13$, because there is an extra step to reduce, a_1 = 2\n"
   ]
  },
  {
   "cell_type": "code",
   "execution_count": 53,
   "metadata": {},
   "outputs": [
    {
     "output_type": "display_data",
     "data": {
      "text/plain": "<IPython.core.display.Markdown object>",
      "text/markdown": "51) Use the recursive formula to give two examples of geometric sequences whose 3 rd terms are 200.\n<br> 1) $a_n = r\\cdot(a_{n-1})$\n<br> 2) $200 = r\\cdot(a_2)$\n<br> 3) $a_n = \\{50, 100, 200 \\}$ ; $a_n = \\{800, 400, 200 \\}$\n"
     },
     "metadata": {}
    }
   ],
   "source": [
    "%%markdown\n",
    "51) Use the recursive formula to give two examples of geometric sequences whose 3 rd terms are 200.\n",
    "<br> 1) $a_n = r\\cdot(a_{n-1})$\n",
    "<br> 2) $200 = r\\cdot(a_2)$\n",
    "<br> 3) $a_n = \\{50, 100, 200 \\}$ ; $a_n = \\{800, 400, 200 \\}$\n"
   ]
  },
  {
   "cell_type": "code",
   "execution_count": 54,
   "metadata": {},
   "outputs": [
    {
     "output_type": "display_data",
     "data": {
      "text/plain": "<IPython.core.display.Markdown object>",
      "text/markdown": "52) Use explicit formula to give two examples of geometric sequences whose 7 th terms are 1024.\n<br> 1) $a_n = a_1\\cdot(r)^{n-1}$\n<br> 2) $1024 = a_1\\cdot(r)^6$\n<br> 3) $a_n = \\{16, 32, 64,128, 256, 512, 1024\\}$ ; $a_n = \\{746496, 248832\n , 82944,27648\n , 9216\n , 3072, 1024\\}$\n"
     },
     "metadata": {}
    }
   ],
   "source": [
    "%%markdown\n",
    "52) Use explicit formula to give two examples of geometric sequences whose 7 th terms are 1024.\n",
    "<br> 1) $a_n = a_1\\cdot(r)^{n-1}$\n",
    "<br> 2) $1024 = a_1\\cdot(r)^6$\n",
    "<br> 3) $a_n = \\{16, 32, 64,128, 256, 512, 1024\\}$ ; $a_n = \\{746496, 248832\n",
    " , 82944,27648\n",
    " , 9216\n",
    " , 3072, 1024\\}$"
   ]
  },
  {
   "cell_type": "code",
   "execution_count": 55,
   "metadata": {},
   "outputs": [
    {
     "output_type": "display_data",
     "data": {
      "text/plain": "<IPython.core.display.Markdown object>",
      "text/markdown": "55. At which term does the sequence 10, 12, 14.4, 17.28, ...} exceed 100?\n<br> $a_n = 10\\cdot(1.2)^{n-1}$\n<br> $100 = 10\\cdot(1.2)^{n-1}$\n<br> $log_{1.2}(10) = n-1$\n<br> $n-1 \\approx 12.62$\n<br> $n  \\approx 13.62$\n<br> if n = 13 $a_{13} = 89.161$\n<br> answer: n = 14\n"
     },
     "metadata": {}
    }
   ],
   "source": [
    "%%markdown\n",
    "55. At which term does the sequence 10, 12, 14.4, 17.28, ...} exceed 100?\n",
    "<br> $a_n = 10\\cdot(1.2)^{n-1}$\n",
    "<br> $100 = 10\\cdot(1.2)^{n-1}$\n",
    "<br> $log_{1.2}(10) = n-1$\n",
    "<br> $n-1 \\approx 12.62$\n",
    "<br> $n  \\approx 13.62$\n",
    "<br> if n = 13 $a_{13} = 89.161$\n",
    "<br> answer: n = 14"
   ]
  },
  {
   "cell_type": "code",
   "execution_count": 56,
   "metadata": {},
   "outputs": [
    {
     "output_type": "display_data",
     "data": {
      "text/plain": "<IPython.core.display.Markdown object>",
      "text/markdown": "57. For which term does the geometric sequence $a_n = −36 (\\frac{2}{3})^{n-1}$ first have a non-integer value?\n\n<br> answer: the 4th term\n"
     },
     "metadata": {}
    }
   ],
   "source": [
    "%%markdown\n",
    "57. For which term does the geometric sequence $a_n = −36 (\\frac{2}{3})^{n-1}$ first have a non-integer value?\n",
    "\n",
    "<br> answer: the 4th term\n"
   ]
  },
  {
   "cell_type": "code",
   "execution_count": 57,
   "metadata": {},
   "outputs": [
    {
     "output_type": "display_data",
     "data": {
      "text/plain": "<IPython.core.display.Markdown object>",
      "text/markdown": "59. Use the explicit formula to write a geometric\nsequence whose common ratio is a decimal number\nbetween 0 and 1. Show the first 4 terms, and then\nfind the 8 th term.\n<br> $a_n = 3\\cdot(0.5)^{n-1}$\n<br> 1) $3$\n<br> 2) $1.5$\n<br> 3) $0.75$\n<br> 4) $0.375$\n<br> 8) $0.0234375$\n"
     },
     "metadata": {}
    }
   ],
   "source": [
    "%%markdown\n",
    "59. Use the explicit formula to write a geometric\n",
    "sequence whose common ratio is a decimal number\n",
    "between 0 and 1. Show the first 4 terms, and then\n",
    "find the 8 th term.\n",
    "<br> $a_n = 3\\cdot(0.5)^{n-1}$\n",
    "<br> 1) $3$\n",
    "<br> 2) $1.5$\n",
    "<br> 3) $0.75$\n",
    "<br> 4) $0.375$\n",
    "<br> 8) $0.0234375$"
   ]
  },
  {
   "cell_type": "code",
   "execution_count": 58,
   "metadata": {},
   "outputs": [
    {
     "output_type": "stream",
     "name": "stdout",
     "text": [
      "<br> 1) $3$\n<br> 2) $1.5$\n<br> 3) $0.75$\n<br> 4) $0.375$\n<br> 5) $0.1875$\n<br> 6) $0.09375$\n<br> 7) $0.046875$\n<br> 8) $0.0234375$\n"
     ]
    }
   ],
   "source": [
    "import numpy as np\n",
    "import math\n",
    "\n",
    "a_1 =3\n",
    "r  = 0.5\n",
    "a = a_1\n",
    "for i in range(0,8):\n",
    "    print(\"<br> \"+str(i+1)+\") $\"+str(a)+\"$\")\n",
    "    a = round(a*r, 90)\n",
    "\n",
    "# (-3)**11\n",
    "# 0.0009765625/2\n",
    "# math.log(10, 1.2)\n",
    "# round(1/1024/2, 50)\n",
    "# 14.4/12"
   ]
  }
 ]
}