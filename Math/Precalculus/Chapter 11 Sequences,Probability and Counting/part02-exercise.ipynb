{
 "metadata": {
  "language_info": {
   "codemirror_mode": {
    "name": "ipython",
    "version": 3
   },
   "file_extension": ".py",
   "mimetype": "text/x-python",
   "name": "python",
   "nbconvert_exporter": "python",
   "pygments_lexer": "ipython3",
   "version": "3.8.6-final"
  },
  "orig_nbformat": 2,
  "kernelspec": {
   "name": "python3",
   "display_name": "Python 3"
  }
 },
 "nbformat": 4,
 "nbformat_minor": 2,
 "cells": [
  {
   "cell_type": "code",
   "execution_count": null,
   "metadata": {},
   "outputs": [],
   "source": [
    "%%markdown\n",
    "1. What is an arithmetic sequence?\n",
    "<br> an Arithmetic sequence is a sequence with a constant difference between each term\n",
    "2. How is the common difference of an arithmetic\n",
    "sequence found? by subtracting a subsequent term from a preceding term\n",
    "3. How do we determine whether a sequence is\n",
    "arithmetic?\n",
    "If the difference between consecutive terms is constant, the sequence is arithmetic\n",
    "4. What are the main differences between using a\n",
    "recursive formula and using an explicit formula to\n",
    "describe an arithmetic sequence?\n",
    "An explicit arithmetic formula takes the position $n$ of the term into account, while a recursive formula uses an nth term $a_n$ and a preceding term $a_{n-1}$\n",
    "5. Describe how linear functions and arithmetic\n",
    "sequences are similar. How are they different?\n",
    "Both linear functions and arithmetic sequences describe a set of numbers with a constant rate of change, $m$ for a linear function and $d$ for an arithmethic sequence. They are different though by that that the domain of a linear function includes all real numbers, while the domain of arithmethic sequence includes only natural numbers"
   ]
  },
  {
   "cell_type": "code",
   "execution_count": 1,
   "metadata": {},
   "outputs": [
    {
     "output_type": "display_data",
     "data": {
      "text/plain": "<IPython.core.display.Markdown object>",
      "text/markdown": "For the following exercises, find the common difference for the arithmetic sequence provided.\n<br> 7) $\\begin{cases}0,\\frac{1}{2},1,\\frac{3}{2},2,...\\end{cases}$\n<br> $ d=\\frac{1}{2}$\n"
     },
     "metadata": {}
    }
   ],
   "source": [
    "%%markdown\n",
    "For the following exercises, find the common difference for the arithmetic sequence provided.\n",
    "<br> 7) $\\begin{cases}0,\\frac{1}{2},1,\\frac{3}{2},2,...\\end{cases}$\n",
    "<br> $ d=\\frac{1}{2}$"
   ]
  },
  {
   "cell_type": "code",
   "execution_count": 3,
   "metadata": {},
   "outputs": [
    {
     "output_type": "display_data",
     "data": {
      "text/plain": "<IPython.core.display.Markdown object>",
      "text/markdown": "For the following exercises, determine whether the sequence is arithmetic. If so find the common difference.\n9) $9. \\{4, 16, 64, 256, 1024, ... \\}$\n<br> $16-4\\text{  ; }64-16$\n<br> $12 \\ne 34$\nthe sequence is not arithmetic\n"
     },
     "metadata": {}
    }
   ],
   "source": [
    "%%markdown\n",
    "For the following exercises, determine whether the sequence is arithmetic. If so find the common difference.\n",
    "9) $9. \\{4, 16, 64, 256, 1024, ... \\}$\n",
    "<br> $16-4\\text{  ; }64-16$\n",
    "<br> $12 \\ne 34$\n",
    "the sequence is not arithmetic"
   ]
  },
  {
   "cell_type": "code",
   "execution_count": null,
   "metadata": {},
   "outputs": [],
   "source": [
    "%%markdown\n",
    "For the following exercises, write the first five terms of the arithmetic sequence given the first term and common\n",
    "difference.\n",
    "11. a_1 = 0, d = ​\\frac{2}{3}\n",
    "<br> 1) $0$\n",
    "<br> 2) $0.6666666666666666$\n",
    "<br> 3) $1.3333333333333333$\n",
    "<br> 4) $2.0$\n",
    "<br> 5) $2.6666666666666665$"
   ]
  },
  {
   "cell_type": "code",
   "execution_count": 11,
   "metadata": {},
   "outputs": [
    {
     "output_type": "display_data",
     "data": {
      "text/plain": "<IPython.core.display.Markdown object>",
      "text/markdown": "For the following exercises, write the first five terms of the arithmetic series given two terms.\n13. a_13 = −60, a_33 = −160\n<br> 1) $a_n = a_1 + (n-1)d$\n<br> 2) $-60 = a_1 + (13-1)d$ ; $-160 = a_1 + (33-1)d$\n<br> 3) $-60 = a_1 + 12d$ - $-160 = a_1 + 32d$\n<br> 4) $-100 = 20d$\n<br> 5) $d = -5$\n<br> 6) $-60 = a_1 -60$\n<br> 7) $ a_1 = 0$\n### Terms:\n<br> 1) $0$\n<br> 2) $-5$\n<br> 3) $-10$\n<br> 4) $-15$\n<br> 5) $-20$\n"
     },
     "metadata": {}
    }
   ],
   "source": [
    "%%markdown\n",
    "For the following exercises, write the first five terms of the arithmetic series given two terms.\n",
    "13. a_13 = −60, a_33 = −160\n",
    "<br> 1) $a_n = a_1 + (n-1)d$\n",
    "<br> 2) $-60 = a_1 + (13-1)d$ ; $-160 = a_1 + (33-1)d$\n",
    "<br> 3) $-60 = a_1 + 12d$ - $-160 = a_1 + 32d$\n",
    "<br> 4) $-100 = 20d$\n",
    "<br> 5) $d = -5$\n",
    "<br> 6) $-60 = a_1 -60$\n",
    "<br> 7) $ a_1 = 0$\n",
    "### Terms:\n",
    "<br> 1) $0$\n",
    "<br> 2) $-5$\n",
    "<br> 3) $-10$\n",
    "<br> 4) $-15$\n",
    "<br> 5) $-20$"
   ]
  },
  {
   "cell_type": "code",
   "execution_count": null,
   "metadata": {},
   "outputs": [],
   "source": [
    "%%markdown\n",
    "For the following exercises, find the specified term for the arithmetic sequence given the first term and common\n",
    "difference."
   ]
  },
  {
   "cell_type": "code",
   "execution_count": 13,
   "metadata": {},
   "outputs": [
    {
     "output_type": "display_data",
     "data": {
      "text/plain": "<IPython.core.display.Markdown object>",
      "text/markdown": "15. First term is 4, common difference is 5, find the\n4 th term.\\\n<br> 1) $a_4 = 4 + 5(4-1)$\n<br> 2) $a_b = 19$\n"
     },
     "metadata": {}
    }
   ],
   "source": [
    "%%markdown\n",
    "15. First term is 4, common difference is 5, find the\n",
    "4 th term.\\\n",
    "<br> 1) $a_4 = 4 + 5(4-1)$\n",
    "<br> 2) $a_b = 19$"
   ]
  },
  {
   "cell_type": "code",
   "execution_count": 14,
   "metadata": {},
   "outputs": [
    {
     "output_type": "display_data",
     "data": {
      "text/plain": "<IPython.core.display.Markdown object>",
      "text/markdown": "17. First term is 6, common difference is 7, find the\n6 th term.\n<br> $a_6 = 6 + 7(6-1)$\n<br> $a_6 = 41$\n"
     },
     "metadata": {}
    }
   ],
   "source": [
    "%%markdown\n",
    "17. First term is 6, common difference is 7, find the\n",
    "6 th term.\n",
    "<br> $a_6 = 6 + 7(6-1)$\n",
    "<br> $a_6 = 41$\n"
   ]
  },
  {
   "cell_type": "code",
   "execution_count": null,
   "metadata": {},
   "outputs": [],
   "source": [
    "%%markdown\n",
    "For the following exercises, find the first term given two terms from an arithmetic sequence."
   ]
  },
  {
   "cell_type": "code",
   "execution_count": 21,
   "metadata": {},
   "outputs": [
    {
     "output_type": "display_data",
     "data": {
      "text/plain": "<IPython.core.display.Markdown object>",
      "text/markdown": "19) Find the first term or $a_1$ of an arithmetic sequence <br>if\n$a_6 = 12$ and $a_{14} = 28$.\n<br> 1) $a_n = a_1 + d(n-1)$\n<br> 2) $12 = a_1 + d(6-1)$ ; $28 = a_1 + d(14-1)$\n<br> 3) $12 = a_1 + 5d$ ; $28 = a_1 + 13d$\n<br> 4) $16 = 8d$\n<br> 5) $d = 2$\n<br> 6) $12 = a_1+5\\cdot2$\n<br> 7) $a_ = 2$\n"
     },
     "metadata": {}
    }
   ],
   "source": [
    "%%markdown\n",
    "19) Find the first term or $a_1$ of an arithmetic sequence <br>if\n",
    "$a_6 = 12$ and $a_{14} = 28$.\n",
    "<br> 1) $a_n = a_1 + d(n-1)$\n",
    "<br> 2) $12 = a_1 + d(6-1)$ ; $28 = a_1 + d(14-1)$\n",
    "<br> 3) $12 = a_1 + 5d$ ; $28 = a_1 + 13d$\n",
    "<br> 4) $16 = 8d$\n",
    "<br> 5) $d = 2$\n",
    "<br> 6) $12 = a_1+5\\cdot2$\n",
    "<br> 7) $a_1 = 2$"
   ]
  },
  {
   "cell_type": "code",
   "execution_count": 27,
   "metadata": {},
   "outputs": [
    {
     "output_type": "display_data",
     "data": {
      "text/plain": "<IPython.core.display.Markdown object>",
      "text/markdown": "21. Find the first term or $a_1$ of an arithmetic sequence<br> if\n$a_8 = 40$ and $a_{23} = 115$.\n<br> 1) $a_n = a_1 + d(n-1)$\n<br> 2) $40= a_1 + d(8-1)$ ; $115 = a_1 + d(23-1)$\n<br> 3) $40= a_1 + 7d$ ; $115 = a_1 + 22d$\n<br> 4) $75 = 15d$\n<br> 5) $d = 5$\n<br> 6) $40 = a_1 + 7\\cdot5$\n<br> 7) $a_1 = 5$\n"
     },
     "metadata": {}
    }
   ],
   "source": [
    "%%markdown\n",
    "21. Find the first term or $a_1$ of an arithmetic sequence<br> if\n",
    "$a_8 = 40$ and $a_{23} = 115$.\n",
    "<br> 1) $a_n = a_1 + d(n-1)$\n",
    "<br> 2) $40= a_1 + d(8-1)$ ; $115 = a_1 + d(23-1)$\n",
    "<br> 3) $40= a_1 + 7d$ ; $115 = a_1 + 22d$\n",
    "<br> 4) $75 = 15d$\n",
    "<br> 5) $d = 5$\n",
    "<br> 6) $40 = a_1 + 7\\cdot5$\n",
    "<br> 7) $a_1 = 5$"
   ]
  },
  {
   "cell_type": "code",
   "execution_count": 29,
   "metadata": {},
   "outputs": [
    {
     "output_type": "display_data",
     "data": {
      "text/plain": "<IPython.core.display.Markdown object>",
      "text/markdown": "23. Find the first term or $a_1$ of an arithmetic sequence<br> if\n$a_{11} = 11$ and $a_{21} = 16$\n<br> 1) $a_n = a_1 + d(n-1)$\n<br> 2) $11 = a_1 + d(11-1)$ ; $16 = a_1 + d(21-1)$\n<br> 3) $11 = a_1 + 10d$ ; $16 = a_1 + 20d$\n<br> 4) $10d = 5$\n<br> 5) $ d = \\frac{1}{2}$\n<br> 6) $ 11 = a_1 + 10\\cdot0.5$\n<br> 7) $a_1 = 6$\n"
     },
     "metadata": {}
    }
   ],
   "source": [
    "%%markdown\n",
    "23. Find the first term or $a_1$ of an arithmetic sequence<br> if\n",
    "$a_{11} = 11$ and $a_{21} = 16$\n",
    "<br> 1) $a_n = a_1 + d(n-1)$\n",
    "<br> 2) $11 = a_1 + d(11-1)$ ; $16 = a_1 + d(21-1)$\n",
    "<br> 3) $11 = a_1 + 10d$ ; $16 = a_1 + 20d$\n",
    "<br> 4) $10d = 5$\n",
    "<br> 5) $ d = \\frac{1}{2}$\n",
    "<br> 6) $ 11 = a_1 + 10\\cdot0.5$\n",
    "<br> 7) $a_1 = 6$"
   ]
  },
  {
   "cell_type": "code",
   "execution_count": 38,
   "metadata": {},
   "outputs": [
    {
     "output_type": "display_data",
     "data": {
      "text/plain": "<IPython.core.display.Markdown object>",
      "text/markdown": "For the following exercises, find the specified term given two terms from an arithmetic sequence.<br>\n25. $a_3 = −17.1$ and $a_{10 }= −15.7$. Find $a_{21}$ .\n<br> 1) $a_n = a_1 + d(n-1)$\n<br> 2) $-17.1 = a_1 + d(3-1)$ ; $-15.7 = a_1 + d(10-1)$\n<br> 3) $1.4 = 7d$\n<br> 4) $d = 0.2$\n<br> 5) $-17.1 = a_1 + 0.2\\cdot2$\n<br> 6) $ a_1 = -17.3$\n<br> 7) $a_{21} = -17.3 + 22\\cdot0.2$\n<br> 8) $a_{21} = 4.4$\n"
     },
     "metadata": {}
    }
   ],
   "source": [
    "%%markdown\n",
    "For the following exercises, find the specified term given two terms from an arithmetic sequence.<br>\n",
    "25. $a_3 = −17.1$ and $a_{10 }= −15.7$. Find $a_{21}$ .\n",
    "<br> 1) $a_n = a_1 + d(n-1)$\n",
    "<br> 2) $-17.1 = a_1 + d(3-1)$ ; $-15.7 = a_1 + d(10-1)$\n",
    "<br> 3) $1.4 = 7d$\n",
    "<br> 4) $d = 0.2$\n",
    "<br> 5) $-17.1 = a_1 + 0.2\\cdot2$\n",
    "<br> 6) $ a_1 = -17.3$\n",
    "<br> 7) $a_{21} = -17.3 + 22\\cdot0.2$\n",
    "<br> 8) $a_{21} = 4.4$\n"
   ]
  },
  {
   "cell_type": "code",
   "execution_count": 42,
   "metadata": {},
   "outputs": [
    {
     "output_type": "display_data",
     "data": {
      "text/plain": "<IPython.core.display.Markdown object>",
      "text/markdown": "For the following exercises, use the recursive formula to write the first five terms of the arithmetic sequence.\n27. a_1 = −19; a_n = a_{n − 1} −1.4\\\n<br> 1) $-19$\n<br> 2) $-20.4$\n<br> 3) $-21.8$\n<br> 4) $-23.2$\n<br> 5) $-24.6$\n"
     },
     "metadata": {}
    }
   ],
   "source": [
    "%%markdown\n",
    "For the following exercises, use the recursive formula to write the first five terms of the arithmetic sequence.\n",
    "27. a_1 = −19; a_n = a_{n − 1} −1.4\\\n",
    "<br> 1) $-19$\n",
    "<br> 2) $-20.4$\n",
    "<br> 3) $-21.8$\n",
    "<br> 4) $-23.2$\n",
    "<br> 5) $-24.6$"
   ]
  },
  {
   "cell_type": "code",
   "execution_count": null,
   "metadata": {},
   "outputs": [],
   "source": [
    "%%markdown\n",
    "For the following exercises, write a recursive formula for each arithmetic sequence."
   ]
  },
  {
   "cell_type": "code",
   "execution_count": 43,
   "metadata": {},
   "outputs": [
    {
     "output_type": "display_data",
     "data": {
      "text/plain": "<IPython.core.display.Markdown object>",
      "text/markdown": "29. a = {17, 26, 35, ... }\n<br> 1) $a_2 - a_1 = 9$\n<br> 2) $d = 9$\n<br> 3) $a_n = a_{n-1}+9$\n"
     },
     "metadata": {}
    }
   ],
   "source": [
    "%%markdown\n",
    "29. a = {17, 26, 35, ... }\n",
    "<br> 1) $a_2 - a_1 = 9$\n",
    "<br> 2) $d = 9$\n",
    "<br> 3) $a_n = a_{n-1}+9$"
   ]
  },
  {
   "cell_type": "code",
   "execution_count": null,
   "metadata": {},
   "outputs": [],
   "source": [
    "%%markdown\n",
    "31. a = {12, 17, 22, ... }\n",
    "<br> 1) $a_2 - a_1 = 5$\n",
    "<br> 2) $d = 5$\n",
    "<br> 3) $a_n = a_{n-1}+5$"
   ]
  },
  {
   "cell_type": "code",
   "execution_count": null,
   "metadata": {},
   "outputs": [],
   "source": [
    "%%markdown\n",
    "33. a = {8.9, 10.3, 11.7, ... }\n",
    "<br> 1) $a_2 - a_1 = 1.4$\n",
    "<br> 2) $d = 1.4$\n",
    "<br> 3) $a_n = a_{n-1}+1.4$"
   ]
  },
  {
   "cell_type": "code",
   "execution_count": 44,
   "metadata": {},
   "outputs": [
    {
     "output_type": "display_data",
     "data": {
      "text/plain": "<IPython.core.display.Markdown object>",
      "text/markdown": "35) $a=\\{\\frac{1}{5}, \\frac{9}{20}, \\frac{7}{10}\\}...$\n<br> 1) $a_2 - a_1 = \\frac{1}{4}$\n<br> 2) $d = \\frac{1}{4}$\n<br> 3) $a_n = a_{n-1}+\\frac{1}{4}$\n"
     },
     "metadata": {}
    }
   ],
   "source": [
    "%%markdown\n",
    "35) $a=\\{\\frac{1}{5}, \\frac{9}{20}, \\frac{7}{10}\\}...$\n",
    "<br> 1) $a_2 - a_1 = \\frac{1}{4}$\n",
    "<br> 2) $d = \\frac{1}{4}$\n",
    "<br> 3) $a_n = a_{n-1}+\\frac{1}{4}$"
   ]
  },
  {
   "cell_type": "code",
   "execution_count": 47,
   "metadata": {},
   "outputs": [
    {
     "output_type": "display_data",
     "data": {
      "text/plain": "<IPython.core.display.Markdown object>",
      "text/markdown": "37) $a = \\{\\frac{1}{6}, -\\frac{11}{12}, -2...\\}$\n<br> 1) $a_2 - a_1 = -\\frac{13}{12}$\n<br> 2) $d = -\\frac{13}{12}$\n<br> 3) $a_n = a_{n-1}-\\frac{13}{12}$\n"
     },
     "metadata": {}
    }
   ],
   "source": [
    "%%markdown\n",
    "37) $a = \\{\\frac{1}{6}, -\\frac{11}{12}, -2...\\}$\n",
    "<br> 1) $a_2 - a_1 = -\\frac{13}{12}$\n",
    "<br> 2) $d = -\\frac{13}{12}$\n",
    "<br> 3) $a_n = a_{n-1}-\\frac{13}{12}$"
   ]
  },
  {
   "cell_type": "code",
   "execution_count": 50,
   "metadata": {},
   "outputs": [
    {
     "output_type": "display_data",
     "data": {
      "text/plain": "<IPython.core.display.Markdown object>",
      "text/markdown": "For the following exercises, use the recursive formula to write the first five terms of the arithmetic sequence\n39. a = {4, 11, 18, ... }; Find the 14 th term.\n<br> <br> 1) $a_2 - a_1 = 7$\n<br> 2) $d = 7$\n<br> 3) $a_n = a_1 +7(n-1)$\n<br> 4) $a_14 = 4+7\\cdot13$\n<br> 5) $a_14 = 95$\n"
     },
     "metadata": {}
    }
   ],
   "source": [
    "%%markdown\n",
    "For the following exercises, use the recursive formula to write the first five terms of the arithmetic sequence\n",
    "39. a = {4, 11, 18, ... }; Find the 14 th term.\n",
    "<br> <br> 1) $a_2 - a_1 = 7$\n",
    "<br> 2) $d = 7$\n",
    "<br> 3) $a_n = a_1 +7(n-1)$\n",
    "<br> 4) $a_14 = 4+7\\cdot13$\n",
    "<br> 5) $a_14 = 95$"
   ]
  },
  {
   "cell_type": "code",
   "execution_count": 57,
   "metadata": {},
   "outputs": [
    {
     "output_type": "display_data",
     "data": {
      "text/plain": "<IPython.core.display.Markdown object>",
      "text/markdown": "For the following exercises, use the recursive formula to write the first five terms of the arithmetic sequence.<br>\n42) $a=\\frac{1}{2}\\cdot n - \\frac{1}{2}$\n<br> 1) $a_n = \\frac{1}{2}(n-1)$\n<br> 2) $a_1 = 0$\n<br> 1) $0$\n<br> 2) $0.5$\n<br> 3) $1.0$\n<br> 4) $1.5$\n<br> 5) $2.0$\n"
     },
     "metadata": {}
    }
   ],
   "source": [
    "%%markdown\n",
    "For the following exercises, use the recursive formula to write the first five terms of the arithmetic sequence.<br>\n",
    "42) $a=\\frac{1}{2}\\cdot n - \\frac{1}{2}$\n",
    "<br> 1) $a_n = \\frac{1}{2}(n-1)$\n",
    "<br> 2) $a_1 = 0$\n",
    "<br> 1) $0$\n",
    "<br> 2) $0.5$\n",
    "<br> 3) $1.0$\n",
    "<br> 4) $1.5$\n",
    "<br> 5) $2.0$"
   ]
  },
  {
   "cell_type": "code",
   "execution_count": null,
   "metadata": {},
   "outputs": [],
   "source": [
    "%%markdown\n",
    "For the following exercises, write an explicit formula for each arithmetic sequence."
   ]
  },
  {
   "cell_type": "code",
   "execution_count": 59,
   "metadata": {},
   "outputs": [
    {
     "output_type": "display_data",
     "data": {
      "text/plain": "<IPython.core.display.Markdown object>",
      "text/markdown": "43. a = {3, 5, 7, ... }\n<br> $a_n = a_1 +d(n-1)$\n<br> $a_n = 3+2(n-1)$\n"
     },
     "metadata": {}
    }
   ],
   "source": [
    "%%markdown\n",
    "43. a = {3, 5, 7, ... }\n",
    "<br> $a_n = a_1 +d(n-1)$\n",
    "<br> $a_n = 3+2(n-1)$"
   ]
  },
  {
   "cell_type": "code",
   "execution_count": null,
   "metadata": {},
   "outputs": [],
   "source": [
    "%%markdown\n",
    "45. a = {−5, 95, 195, ... }\n",
    "<br> $a_n = a_1 +d(n-1)$\n",
    "<br> $a_n = -5+100(n-1)$\n"
   ]
  },
  {
   "cell_type": "code",
   "execution_count": null,
   "metadata": {},
   "outputs": [],
   "source": [
    "%%markdown\n",
    "47. a = {1.8, 3.6, 5.4, ... }\n",
    "<br> $a_n = a_1 +d(n-1)$\n",
    "<br> $a_n = 1.8+1.8(n-1)$"
   ]
  },
  {
   "cell_type": "code",
   "execution_count": 60,
   "metadata": {},
   "outputs": [
    {
     "output_type": "display_data",
     "data": {
      "text/plain": "<IPython.core.display.Markdown object>",
      "text/markdown": "49. a = {15.8, 18.5, 21.2, ... }\n<br> $a_n = a_1 +d(n-1)$\n<br> $a_n = 15.8+2.7(n-1)$\n"
     },
     "metadata": {}
    }
   ],
   "source": [
    "%%markdown\n",
    "49. a = {15.8, 18.5, 21.2, ... }\n",
    "<br> $a_n = a_1 +d(n-1)$\n",
    "<br> $a_n = 15.8+2.7(n-1)$"
   ]
  },
  {
   "cell_type": "code",
   "execution_count": 62,
   "metadata": {},
   "outputs": [
    {
     "output_type": "display_data",
     "data": {
      "text/plain": "<IPython.core.display.Markdown object>",
      "text/markdown": "51) a = \\{0, \\frac{1}{3}, \\frac{2}{3}...\\}\n<br> $a_n = a_1 +d(n-1)$\n<br> $a_n = \\frac{1}{3}(n-1)$\n"
     },
     "metadata": {}
    }
   ],
   "source": [
    "%%markdown\n",
    "51) a = \\{0, \\frac{1}{3}, \\frac{2}{3}...\\}\n",
    "<br> $a_n = a_1 +d(n-1)$\n",
    "<br> $a_n = \\frac{1}{3}(n-1)$"
   ]
  },
  {
   "cell_type": "code",
   "execution_count": null,
   "metadata": {},
   "outputs": [],
   "source": [
    "%%markdown\n",
    "For the following exercises, find the number of terms in the given finite arithmetic sequence.\n"
   ]
  },
  {
   "cell_type": "code",
   "execution_count": null,
   "metadata": {},
   "outputs": [],
   "source": [
    "%%markdown\n",
    "53. a = {3, −4, −11, ... , −60}\n",
    "<br> $a_n = a_1 +d(n-1)$\n",
    "<br> $a_n = 3+-7(n-1)$\n",
    "<br> $-60 = 3-7n+7\n",
    "<br> $n = 10$"
   ]
  },
  {
   "cell_type": "code",
   "execution_count": 68,
   "metadata": {},
   "outputs": [
    {
     "output_type": "display_data",
     "data": {
      "text/plain": "<IPython.core.display.Markdown object>",
      "text/markdown": "55) $a= \\{\\frac{1}{2}, 2, \\frac{7}{2}...,8 \\}$\n<br> $a_n = a_1 +d(n-1)$\n<br> $a_n = \\frac{1}{2}+\\frac{3}{2}(n-1)$\n<br> $8 = \\frac{1}{2}+\\frac{3}{2}n - \\frac{3}{2}$\n<br> $n = 6$\n"
     },
     "metadata": {}
    }
   ],
   "source": [
    "%%markdown\n",
    "55) $a= \\{\\frac{1}{2}, 2, \\frac{7}{2}...,8 \\}$\n",
    "<br> $a_n = a_1 +d(n-1)$\n",
    "<br> $a_n = \\frac{1}{2}+\\frac{3}{2}(n-1)$\n",
    "<br> $8 = \\frac{1}{2}+\\frac{3}{2}n - \\frac{3}{2}$\n",
    "<br> $n = 6$"
   ]
  },
  {
   "cell_type": "code",
   "execution_count": null,
   "metadata": {},
   "outputs": [],
   "source": [
    "%%markdown\n",
    "For the following exercises, follow the steps to work with the arithmetic sequence $a_n = 3n − 2$ using a graphing\n",
    "calculator:\n",
    "• Press [MODE]\n",
    "› › Select [SEQ] in the fourth line\n",
    "› › Select [DOT] in the fifth line\n",
    "› › Press [ENTER]\n",
    "• Press [Y=]\n",
    "› › nMin is the first counting number for the sequence. Set nMin = 1\n",
    "› › u(n) is the pattern for the sequence. Set u(n) = 3n − 2\n",
    "› › u(nMin) is the first number in the sequence. Set u(nMin) = 1\n",
    "• Press [2ND] then [WINDOW] to go to TBLSET\n",
    "› › Set TblStart = 1\n",
    "› › Set ΔTbl = 1\n",
    "› › Set Indpnt: Auto and Depend: Auto\n",
    "• Press [2ND] then [GRAPH] to go to the [TABLE]"
   ]
  },
  {
   "cell_type": "code",
   "execution_count": null,
   "metadata": {},
   "outputs": [],
   "source": [
    "%%markdown\n",
    "61. What are the first seven terms shown in the column\n",
    "with the heading u(n)?"
   ]
  },
  {
   "cell_type": "code",
   "execution_count": null,
   "metadata": {},
   "outputs": [],
   "source": [
    "%%markdown\n",
    "63. Press [WINDOW]. Set nMin = 1, nMax = 5,\n",
    "xMin = 0, xMax = 6, yMin = −1, and\n",
    "yMax = 14. Then press [GRAPH]. Graph the\n",
    "sequence as it appears on the graphing calculator."
   ]
  },
  {
   "cell_type": "code",
   "execution_count": null,
   "metadata": {},
   "outputs": [],
   "source": [
    "%%markdown\n",
    "For the following exercises, follow the steps given above to work with the arithmetic sequence a n = ​  __  ​ n + 5 using a\n",
    "2\n",
    "graphing calculator."
   ]
  },
  {
   "cell_type": "code",
   "execution_count": null,
   "metadata": {},
   "outputs": [],
   "source": [
    "%%markdown\n",
    "65. Graph the sequence as it appears on the graphing\n",
    "calculator. Be sure to adjust the [WINDOW]\n",
    "settings as needed."
   ]
  },
  {
   "cell_type": "code",
   "execution_count": null,
   "metadata": {},
   "outputs": [],
   "source": [
    "%%markdown\n",
    "67. Give two examples of arithmetic sequences whose\n",
    "10 th terms are 206.\n",
    "<br> $206 = a_1 + 9d$\n",
    "<br> $a_1 = 9d-206$\n",
    "<br> a_n = -1+23(n-1)\n",
    "<br> a_n = 8+22(n-1)"
   ]
  },
  {
   "cell_type": "code",
   "execution_count": 90,
   "metadata": {},
   "outputs": [
    {
     "output_type": "display_data",
     "data": {
      "text/plain": "<IPython.core.display.Markdown object>",
      "text/markdown": "69. Find the 11 th term of the arithmetic sequence\n{3a − 2b, a + 2b, −a + 6b, ... }.\n<br> 1) $a_n = a_1 + d(n-1)$\n<br> 2) $d = a+2b - (3a-2b) \\Rightarrow -2a+4b$\n<br> 3) $a_{11} = -17a+38b$\n"
     },
     "metadata": {}
    }
   ],
   "source": [
    "%%markdown\n",
    "69. Find the 11 th term of the arithmetic sequence\n",
    "{3a − 2b, a + 2b, −a + 6b, ... }.\n",
    "<br> 1) $a_n = a_1 + d(n-1)$\n",
    "<br> 2) $d = a+2b - (3a-2b) \\Rightarrow -2a+4b$\n",
    "<br> 3) $a_{11} = -17a+38b$"
   ]
  },
  {
   "cell_type": "code",
   "execution_count": 122,
   "metadata": {},
   "outputs": [
    {
     "output_type": "display_data",
     "data": {
      "text/plain": "<IPython.core.display.Markdown object>",
      "text/markdown": "71. At which term does the sequence <br>\n# $​\\{\\frac{17}{3},\\frac{31}{6},\\frac{14}{3}... \\}$\n<br>begin to have negative values?\n<br> $a_n = a_1 + d(n-1)$\n<br> $a_2: \\frac{31}{6} = \\frac{17}{3}+d$\n<br> $d = -\\frac{1}{2}$\n<br> $a_n = \\frac{17}{3} -\\frac{1}{2}(n-1) = 0$\n<br> $1n/2 - 1/2 = 17/3$\n<br> $3n = 37$\n<br> $n= 12\\frac{1}{3}$\n# Answer: at the 13th term\n"
     },
     "metadata": {}
    }
   ],
   "source": [
    "%%markdown\n",
    "71. At which term does the sequence <br>\n",
    "# $​\\{\\frac{17}{3},\\frac{31}{6},\\frac{14}{3}... \\}$\n",
    "<br>begin to have negative values?\n",
    "<br> $a_n = a_1 + d(n-1)$\n",
    "<br> $a_2: \\frac{31}{6} = \\frac{17}{3}+d$\n",
    "<br> $d = -\\frac{1}{2}$\n",
    "<br> $a_n = \\frac{17}{3} -\\frac{1}{2}(n-1) = 0$\n",
    "<br> $1n/2 - 1/2 = 17/3$\n",
    "<br> $3n = 37$\n",
    "<br> $n= 12\\frac{1}{3}$\n",
    "# Answer: at the 13th term\n"
   ]
  },
  {
   "cell_type": "code",
   "execution_count": 126,
   "metadata": {},
   "outputs": [
    {
     "output_type": "stream",
     "name": "stdout",
     "text": [
      "<br> 1) $5$\n<br> 2) $10$\n<br> 3) $15$\n<br> 4) $20$\n<br> 5) $25$\n<br> 6) $30$\n<br> 7) $35$\n<br> 8) $40$\n<br> 9) $45$\n<br> 10) $50$\n<br> 11) $55$\n<br> 12) $60$\n<br> 13) $65$\n<br> 14) $70$\n<br> 15) $75$\n<br> 16) $80$\n<br> 17) $85$\n<br> 18) $90$\n<br> 19) $95$\n<br> 20) $100$\n<br> 21) $105$\n<br> 22) $110$\n<br> 23) $115$\n<br> 24) $120$\n<br> 25) $125$\n<br> 26) $130$\n<br> 27) $135$\n<br> 28) $140$\n<br> 29) $145$\n<br> 30) $150$\n<br> 31) $155$\n"
     ]
    }
   ],
   "source": [
    "import numpy as np\n",
    "a_1 = 5\n",
    "d = 5\n",
    "a = a_1\n",
    "for i in range(1, 32):\n",
    "    print(\"<br> \"+str(i)+\") $\"+str(a)+\"$\")\n",
    "    a= round(a+d, 2)\n",
    "# a_1_a = 3\n",
    "# a_1_b = -2\n",
    "# d_a = -2\n",
    "# d_b = 4\n",
    "# a_a = round(a_1_a, 2)\n",
    "# a_b = round(a_1_b, 2)\n",
    "# for i in range(1,1):\n",
    "    #  print(\"<br> \"+str(i)+\") $\"+str(a_a)+\"a + (\"+str(a_b)+\"b)$\")\n",
    "    #  a_a = round(a_a+d_a, 2)\n",
    "    #  a_b = round(a_b+d_b, 2)\n",
    "# (-15.7+17.1)/7*22\n",
    "# round(37/3)\n",
    "# 37%3\n"
   ]
  },
  {
   "cell_type": "code",
   "execution_count": 127,
   "metadata": {},
   "outputs": [
    {
     "output_type": "display_data",
     "data": {
      "text/plain": "<IPython.core.display.Markdown object>",
      "text/markdown": "73. Write an arithmetic sequence using a recursive formula. Show the first 4 terms, and then find the 31 st term.\n<br> $a_n = a_{n-1}+5$ ; $a_1 = 5$\n\n<br> 1) $5$\n<br> 2) $10$\n<br> 3) $15$\n<br> 4) $20$\n<br> 31) $155$\n"
     },
     "metadata": {}
    }
   ],
   "source": [
    "%%markdown\n",
    "73. Write an arithmetic sequence using a recursive formula. Show the first 4 terms, and then find the 31 st term.\n",
    "<br> $a_n = a_{n-1}+5$ ; $a_1 = 5$\n",
    "\n",
    "<br> 1) $5$\n",
    "<br> 2) $10$\n",
    "<br> 3) $15$\n",
    "<br> 4) $20$\n",
    "<br> 31) $155$"
   ]
  }
 ]
}