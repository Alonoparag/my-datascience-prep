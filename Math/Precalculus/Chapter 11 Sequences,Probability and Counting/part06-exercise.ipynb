{
 "metadata": {
  "language_info": {
   "codemirror_mode": {
    "name": "ipython",
    "version": 3
   },
   "file_extension": ".py",
   "mimetype": "text/x-python",
   "name": "python",
   "nbconvert_exporter": "python",
   "pygments_lexer": "ipython3",
   "version": "3.8.6-final"
  },
  "orig_nbformat": 2,
  "kernelspec": {
   "name": "python3",
   "display_name": "Python 3"
  }
 },
 "nbformat": 4,
 "nbformat_minor": 2,
 "cells": [
  {
   "cell_type": "code",
   "execution_count": 21,
   "metadata": {},
   "outputs": [],
   "source": [
    "import numpy as np\n",
    "import math\n",
    "import functools\n",
    "\n",
    "def binom(n, r=False):\n",
    "    if not r:\n",
    "        r = n\n",
    "    return math.factorial(n)/(math.factorial(r)*math.factorial(n-r))\n",
    "\n",
    "def expand_co(power):\n",
    "    coefficients = []\n",
    "    for i in range(0, power+1):\n",
    "        coefficients.append(binom(power, i))\n",
    "    return coefficients"
   ]
  },
  {
   "cell_type": "code",
   "execution_count": 4,
   "metadata": {},
   "outputs": [
    {
     "output_type": "display_data",
     "data": {
      "text/plain": "<IPython.core.display.Markdown object>",
      "text/markdown": "## $(x+y)^n = \\sum\\limits_{k=0}^n\\binom{n}{k}x^{n-k}\\cdot y^k$\n## $(x+y)^n = \\binom{n}{r}\\cdot x^{n-r}y^r$ \n"
     },
     "metadata": {}
    }
   ],
   "source": [
    "%%markdown\n",
    "## $(x+y)^n = \\sum\\limits_{k=0}^n\\binom{n}{k}x^{n-k}\\cdot y^k$\n",
    "## $(x+y)^n = \\binom{n}{r}\\cdot x^{n-r}y^r$ "
   ]
  },
  {
   "cell_type": "code",
   "execution_count": 1,
   "metadata": {},
   "outputs": [
    {
     "output_type": "display_data",
     "data": {
      "text/plain": "<IPython.core.display.Markdown object>",
      "text/markdown": "1) What is a binomial coefficient, and how it is calculated?\n2)What role do binomial coefificients play in a binomial expansion? Are they restricted to any type f number?\n3) What is the binomial Theorem and what is its use?\n4)When is it an advantage to use the binomial theorem? Explain.\n\nFor the following exercises, evaluate the binomial coefficient.\n5) $\\binom{6}{2}$\n"
     },
     "metadata": {}
    }
   ],
   "source": [
    "%%markdown\n",
    "1) What is a binomial coefficient, and how it is calculated?\n",
    "## answer: The binomial coefficient is the coefficient of a term in a binom, and it is calculated in the following formula: $\\binom{n}{k} = \\frac{n!}{k!(n-k)!}$\n",
    "2)What role do binomial coefificients play in a binomial expansion? Are they restricted to any type f number?\n",
    "## answer: They are restricted to non-negative integers, and they assist in calculating the coefficient of each term in an expanded binom.\n",
    "3) What is the binomial Theorem and what is its use?\n",
    "## answer: The binomial theorem is used to expand a binom without having to calculate each term by multiplication.\n",
    "4)When is it an advantage to use the binomial theorem? Explain.\n",
    "## answer: Since it follows a set pattern, it is easier to expand a binom using the binomial theorem than by multiplying each term and summing it."
   ]
  },
  {
   "cell_type": "code",
   "execution_count": null,
   "metadata": {},
   "outputs": [],
   "source": [
    "%%markdown\n",
    "For the following exercises, evaluate the binomial coefficient.\n"
   ]
  },
  {
   "cell_type": "code",
   "execution_count": 16,
   "metadata": {},
   "outputs": [
    {
     "output_type": "display_data",
     "data": {
      "text/plain": "<IPython.core.display.Markdown object>",
      "text/markdown": "5) $\\binom{6}{2} \\Rightarrow 15$\n"
     },
     "metadata": {}
    }
   ],
   "source": [
    "%%markdown\n",
    "5) $\\binom{6}{2} \\Rightarrow 15$\n"
   ]
  },
  {
   "cell_type": "code",
   "execution_count": null,
   "metadata": {},
   "outputs": [],
   "source": [
    "%%markdown\n",
    "7) $\\binom{7}{4} \\Rightarrow 35$\n"
   ]
  },
  {
   "cell_type": "code",
   "execution_count": null,
   "metadata": {},
   "outputs": [],
   "source": [
    "%%markdown\n",
    "9) $\\binom{10}{9} \\Rightarrow 10$\n"
   ]
  },
  {
   "cell_type": "code",
   "execution_count": 20,
   "metadata": {},
   "outputs": [
    {
     "output_type": "display_data",
     "data": {
      "text/plain": "<IPython.core.display.Markdown object>",
      "text/markdown": "11) $\\binom{17}{6} \\Rightarrow 12376$\n\n"
     },
     "metadata": {}
    }
   ],
   "source": [
    "%%markdown\n",
    "11) $\\binom{17}{6} \\Rightarrow 12376$\n",
    "\n"
   ]
  },
  {
   "cell_type": "code",
   "execution_count": null,
   "metadata": {},
   "outputs": [],
   "source": [
    "%%markdown\n",
    "For the following exercises, use the Binomial Theorem to expand each binomial.\n"
   ]
  },
  {
   "cell_type": "code",
   "execution_count": 26,
   "metadata": {},
   "outputs": [
    {
     "output_type": "display_data",
     "data": {
      "text/plain": "<IPython.core.display.Markdown object>",
      "text/markdown": "13. $(4a − b)^3 \\Rightarrow$\n### $\\binom{3}{0}(4a)^3(-b)^0+\\binom{3}{1}(4a)^2(-b)^1+\\binom{3}{2}(4a)^1(-b)^2+\\binom{3}{3}(4a)^0(-b)^3$\n### $64a^3-12a^2\\cdot b+12a\\cdot b^2-b^3$\n"
     },
     "metadata": {}
    }
   ],
   "source": [
    "%%markdown\n",
    "13. $(4a − b)^3 \\Rightarrow$\n",
    "### $\\binom{3}{0}(4a)^3(-b)^0+\\binom{3}{1}(4a)^2(-b)^1+\\binom{3}{2}(4a)^1(-b)^2+\\binom{3}{3}(4a)^0(-b)^3$\n",
    "### $64a^3-12a^2\\cdot b+12a\\cdot b^2-b^3$"
   ]
  },
  {
   "cell_type": "code",
   "execution_count": 28,
   "metadata": {},
   "outputs": [
    {
     "output_type": "display_data",
     "data": {
      "text/plain": "<IPython.core.display.Markdown object>",
      "text/markdown": "15. (3a + 2b)^3\n### $\\binom{3}{0}(3a)^3(2b)^0+\\binom{3}{1}(3a)^2(2b)^1+\\binom{3}{2}(3a)^1(2b)^2+\\binom{3}{3}(3a)^0(2b)^3$\n### $27a^3+54a^2\\cdot b+36a\\cdot b^2+8b^3$\n"
     },
     "metadata": {}
    }
   ],
   "source": [
    "%%markdown\n",
    "15. (3a + 2b)^3\n",
    "### $\\binom{3}{0}(3a)^3(2b)^0+\\binom{3}{1}(3a)^2(2b)^1+\\binom{3}{2}(3a)^1(2b)^2+\\binom{3}{3}(3a)^0(2b)^3$\n",
    "### $27a^3+54a^2\\cdot b+36a\\cdot b^2+8b^3$\n"
   ]
  },
  {
   "cell_type": "code",
   "execution_count": 41,
   "metadata": {},
   "outputs": [
    {
     "output_type": "display_data",
     "data": {
      "text/plain": "<IPython.core.display.Markdown object>",
      "text/markdown": "17. (4x + 2y)^5\n### $\\binom{5}{0}\\cdot(4x)^5cdot(-3y)^0+\\binom{5}{1}\\cdot(4x)^4cdot(-3y)^1+\\binom{5}{2}\\cdot(4x)^3cdot(-3y)^2+\\binom{5}{3}\\cdot(4x)^2cdot(-3y)^3+\\binom{5}{4}\\cdot(4x)^1cdot(-3y)^4+\\binom{5}{5}\\cdot(4x)^0cdot(-3y)^5$\n### $1024x^5-3840x^4\\cdot y+5760(x)^3\\cdot(y)^2-4320(x)^2\\cdot(y)^3+1620(x)\\cdot(y)^4-243(y)^5$\n"
     },
     "metadata": {}
    }
   ],
   "source": [
    "%%markdown\n",
    "17. (4x + 2y)^5"
   ]
  },
  {
   "cell_type": "code",
   "execution_count": 37,
   "metadata": {},
   "outputs": [
    {
     "output_type": "execute_result",
     "data": {
      "text/plain": [
       "1620"
      ]
     },
     "metadata": {},
     "execution_count": 37
    }
   ],
   "source": [
    "5*4*81"
   ]
  },
  {
   "cell_type": "code",
   "execution_count": 42,
   "metadata": {},
   "outputs": [
    {
     "output_type": "display_data",
     "data": {
      "text/plain": "<IPython.core.display.Markdown object>",
      "text/markdown": "19. (4x − 3y)^5 \n### $\\binom{5}{0}\\cdot(4x)^5cdot(-3y)^0+\\binom{5}{1}\\cdot(4x)^4cdot(-3y)^1+\\binom{5}{2}\\cdot(4x)^3cdot(-3y)^2+\\binom{5}{3}\\cdot(4x)^2cdot(-3y)^3+\\binom{5}{4}\\cdot(4x)^1cdot(-3y)^4+\\binom{5}{5}\\cdot(4x)^0cdot(-3y)^5$\n### $1024x^5-3840x^4\\cdot y+5760(x)^3\\cdot(y)^2-4320(x)^2\\cdot(y)^3+1620(x)\\cdot(y)^4-243(y)^5$\n"
     },
     "metadata": {}
    }
   ],
   "source": [
    "%%markdown\n",
    "19. (4x − 3y)^5 \n",
    "### $\\binom{5}{0}\\cdot(4x)^5cdot(-3y)^0+\\binom{5}{1}\\cdot(4x)^4cdot(-3y)^1+\\binom{5}{2}\\cdot(4x)^3cdot(-3y)^2+\\binom{5}{3}\\cdot(4x)^2cdot(-3y)^3+\\binom{5}{4}\\cdot(4x)^1cdot(-3y)^4+\\binom{5}{5}\\cdot(4x)^0cdot(-3y)^5$\n",
    "### $1024x^5-3840x^4\\cdot y+5760(x)^3\\cdot(y)^2-4320(x)^2\\cdot(y)^3+1620(x)\\cdot(y)^4-243(y)^5$"
   ]
  },
  {
   "cell_type": "code",
   "execution_count": 48,
   "metadata": {},
   "outputs": [
    {
     "output_type": "display_data",
     "data": {
      "text/plain": "<IPython.core.display.Markdown object>",
      "text/markdown": "20) $(\\frac{1}{x}+3y)^5$\n## $\\binom{5}{0}(\\frac{1}{x})^5\\cdot(3y)^0+\\binom{5}{1}(\\frac{1}{x})^4\\cdot(3y)^1+\\binom{5}{2}(\\frac{1}{x})^3\\cdot(3y)^2+\\binom{5}{3}(\\frac{1}{x})^2\\cdot(3y)^3+\\binom{5}{4}(\\frac{1}{x})^1\\cdot(3y)^4+\\binom{5}{5}(\\frac{1}{x})^0\\cdot(3y)^5$\n## $(\\frac{1}{x^5})+15(\\frac{1}{x^4})\\cdot(y)+90(\\frac{1}{x^3})\\cdot(y)^2+270(\\frac{1}{x^2})\\cdot(y)^3+405(\\frac{1}{x})\\cdot(y^4)^4+243(y)^5$\n"
     },
     "metadata": {}
    }
   ],
   "source": [
    "%%markdown\n",
    "20) $(\\frac{1}{x}+3y)^5$\n",
    "## $\\binom{5}{0}(\\frac{1}{x})^5\\cdot(3y)^0+\\binom{5}{1}(\\frac{1}{x})^4\\cdot(3y)^1+\\binom{5}{2}(\\frac{1}{x})^3\\cdot(3y)^2+\\binom{5}{3}(\\frac{1}{x})^2\\cdot(3y)^3+\\binom{5}{4}(\\frac{1}{x})^1\\cdot(3y)^4+\\binom{5}{5}(\\frac{1}{x})^0\\cdot(3y)^5$\n",
    "## $(\\frac{1}{x^5})+15(\\frac{1}{x^4})\\cdot(y)+90(\\frac{1}{x^3})\\cdot(y)^2+270(\\frac{1}{x^2})\\cdot(y)^3+405(\\frac{1}{x})\\cdot(y^4)^4+243(y)^5$\n"
   ]
  },
  {
   "cell_type": "code",
   "execution_count": 47,
   "metadata": {},
   "outputs": [
    {
     "output_type": "execute_result",
     "data": {
      "text/plain": [
       "15"
      ]
     },
     "metadata": {},
     "execution_count": 47
    }
   ],
   "source": [
    "5*3"
   ]
  },
  {
   "cell_type": "code",
   "execution_count": 57,
   "metadata": {},
   "outputs": [
    {
     "output_type": "display_data",
     "data": {
      "text/plain": "<IPython.core.display.Markdown object>",
      "text/markdown": "## 21. $(x^{ −1} + 2\\cdot(y)^{−1} )^4$\n## $\\binom{4}{0}(x^{-1})^4(2y^{-1})^0+\\binom{4}{1}(x^{-1})^3(2y^{-1})^1+\\binom{4}{2}(x^{-1})^2(2y^{-1})^2+\\binom{4}{3}(x^{-1})^1(2y^{-1})^3+\\binom{4}{4}(x^{-1})^0(2y^{-1})^4$\n## $(x^{-4})+8(x^{-3})(2y^{-1})+24(x^{-2})(y^{-2})+32(x^{-1})(y^{-3})+16(y^{-4})$\n"
     },
     "metadata": {}
    }
   ],
   "source": [
    "\n",
    "%%markdown\n",
    "## 21. $(x^{ −1} + 2\\cdot(y)^{−1} )^4$\n",
    "## $\\binom{4}{0}(x^{-1})^4(2y^{-1})^0+\\binom{4}{1}(x^{-1})^3(2y^{-1})^1+\\binom{4}{2}(x^{-1})^2(2y^{-1})^2+\\binom{4}{3}(x^{-1})^1(2y^{-1})^3+\\binom{4}{4}(x^{-1})^0(2y^{-1})^4$\n",
    "## $(x^{-4})+8(x^{-3})(2y^{-1})+24(x^{-2})(y^{-2})+32(x^{-1})(y^{-3})+16(y^{-4})$\n"
   ]
  },
  {
   "cell_type": "code",
   "execution_count": null,
   "metadata": {},
   "outputs": [],
   "source": [
    "%%markdown\n",
    "For the following exercises, use the Binomial Theorem to write the first three terms of each binomial.\n"
   ]
  },
  {
   "cell_type": "code",
   "execution_count": 59,
   "metadata": {},
   "outputs": [
    {
     "output_type": "display_data",
     "data": {
      "text/plain": "<IPython.core.display.Markdown object>",
      "text/markdown": "23. (a + b)^17\n## $\\binom{17}{0}(a)^{17}(b)^{0}+\\binom{17}{1}(a)^{16}(b)^{1}+\\binom{17}{2}(a)^{15}(b)^{2} $\n## $(a)^{17}+17(a)^{16}(b)+136(a)^{15}(b)^{2} $\n"
     },
     "metadata": {}
    }
   ],
   "source": [
    "%%markdown\n",
    "23. (a + b)^17\n",
    "## $\\binom{17}{0}(a)^{17}(b)^{0}+\\binom{17}{1}(a)^{16}(b)^{1}+\\binom{17}{2}(a)^{15}(b)^{2} $\n",
    "## $(a)^{17}+17(a)^{16}(b)+136(a)^{15}(b)^{2} $\n"
   ]
  },
  {
   "cell_type": "code",
   "execution_count": 61,
   "metadata": {},
   "outputs": [
    {
     "output_type": "display_data",
     "data": {
      "text/plain": "<IPython.core.display.Markdown object>",
      "text/markdown": "25. (a − 2b)^15\n## $\\binom{15}{0}(a)^{15}(-2b)^{0}+\\binom{15}{1}(a)^{14}(-2b)^{1}+\\binom{15}{2}(a)^{13}(-2b)^{2} $\n## $(a)^{15}-30(a)^{14}(b)^{1}+420(a)^{13}(b)^{2} $\n"
     },
     "metadata": {}
    }
   ],
   "source": [
    "%%markdown\n",
    "25. (a − 2b)^15\n",
    "## $\\binom{15}{0}(a)^{15}(-2b)^{0}+\\binom{15}{1}(a)^{14}(-2b)^{1}+\\binom{15}{2}(a)^{13}(-2b)^{2} $\n",
    "## $(a)^{15}-30(a)^{14}(b)^{1}+420(a)^{13}(b)^{2} $\n"
   ]
  },
  {
   "cell_type": "code",
   "execution_count": 65,
   "metadata": {},
   "outputs": [
    {
     "output_type": "display_data",
     "data": {
      "text/plain": "<IPython.core.display.Markdown object>",
      "text/markdown": "27. (3a + b)^20\n## $\\binom{20}{0}(3a)^{20}(b)^{0}+\\binom{20}{1}(3a)^{19}(b)^{1}+\\binom{20}{2}(3a)^{18}(b)^{2} $\n## $3486784401(a)^{20}+23245229340(a)^{19}(b)+73609892910(a)^{18}(b)^{2} $\n"
     },
     "metadata": {}
    }
   ],
   "source": [
    "%%markdown\n",
    "27. (3a + b)^20\n",
    "## $\\binom{20}{0}(3a)^{20}(b)^{0}+\\binom{20}{1}(3a)^{19}(b)^{1}+\\binom{20}{2}(3a)^{18}(b)^{2} $\n",
    "## $3486784401(a)^{20}+23245229340(a)^{19}(b)+73609892910(a)^{18}(b)^{2} $"
   ]
  },
  {
   "cell_type": "code",
   "execution_count": 72,
   "metadata": {},
   "outputs": [
    {
     "output_type": "display_data",
     "data": {
      "text/plain": "<IPython.core.display.Markdown object>",
      "text/markdown": "29. ( x^3 − ​ √ y ​ )^8\n## $\\binom{8}{0}(x^3)^{8}(y^{\\frac{1}{2}})^{0}+\\binom{8}{1}(x^3)^{7}(y^{\\frac{1}{2}})^{1}+\\binom{8}{2}(x^3)^{6}(y^{\\frac{1}{2}})^{2} $\n## $(x^{24})+8(x^{21})(y^{\\frac{1}{2}})+28(x^{18})(y) $\n"
     },
     "metadata": {}
    }
   ],
   "source": [
    "%%markdown\n",
    "29. ( x^3 − ​ √ y ​ )^8\n",
    "## $\\binom{8}{0}(x^3)^{8}(y^{\\frac{1}{2}})^{0}+\\binom{8}{1}(x^3)^{7}(y^{\\frac{1}{2}})^{1}+\\binom{8}{2}(x^3)^{6}(y^{\\frac{1}{2}})^{2} $\n",
    "## $(x^{24})+8(x^{21})(y^{\\frac{1}{2}})+28(x^{18})(y) $\n"
   ]
  },
  {
   "cell_type": "code",
   "execution_count": null,
   "metadata": {},
   "outputs": [],
   "source": [
    "%%markdown\n",
    "For the following exercises, find the indicated term of each binomial without fully expanding the binomial.\n"
   ]
  },
  {
   "cell_type": "code",
   "execution_count": 75,
   "metadata": {},
   "outputs": [
    {
     "output_type": "display_data",
     "data": {
      "text/plain": "<IPython.core.display.Markdown object>",
      "text/markdown": "31. The fourth term of (3x − 2y)^5\n## $ -720x^2y^3$\n"
     },
     "metadata": {}
    }
   ],
   "source": [
    "%%markdown\n",
    "31. The fourth term of (3x − 2y)^5\n",
    "## $ -720x^2y^3$\n"
   ]
  },
  {
   "cell_type": "code",
   "execution_count": 78,
   "metadata": {},
   "outputs": [
    {
     "output_type": "display_data",
     "data": {
      "text/plain": "<IPython.core.display.Markdown object>",
      "text/markdown": "33. The eighth term of (7 + 5y)^14\n## $220812466875000\\cdot y^7$\n"
     },
     "metadata": {}
    }
   ],
   "source": [
    "%%markdown\n",
    "33. The eighth term of (7 + 5y)^14\n",
    "## $220812466875000\\cdot y^7$\n"
   ]
  },
  {
   "cell_type": "code",
   "execution_count": 80,
   "metadata": {},
   "outputs": [
    {
     "output_type": "display_data",
     "data": {
      "text/plain": "<IPython.core.display.Markdown object>",
      "text/markdown": "35. The fifth term of (x − y) 7\n## $ 35x^3y^4 $\n"
     },
     "metadata": {}
    }
   ],
   "source": [
    "%%markdown\n",
    "35. The fifth term of (x − y) 7\n",
    "## $ 35x^3y^4 $\n"
   ]
  },
  {
   "cell_type": "code",
   "execution_count": 83,
   "metadata": {},
   "outputs": [
    {
     "output_type": "display_data",
     "data": {
      "text/plain": "<IPython.core.display.Markdown object>",
      "text/markdown": "37. The ninth term of (a − 3b^2 ) 11\n## $ 1082565\\cdot a^3b^8$\n"
     },
     "metadata": {}
    }
   ],
   "source": [
    "%%markdown\n",
    "37. The ninth term of (a − 3b^2 ) 11\n",
    "## $ 1082565\\cdot a^3b^8$\n"
   ]
  },
  {
   "cell_type": "code",
   "execution_count": 86,
   "metadata": {},
   "outputs": [
    {
     "output_type": "display_data",
     "data": {
      "text/plain": "<IPython.core.display.Markdown object>",
      "text/markdown": "39. The eighth term of $(\\frac{y}{2}+\\frac{2}{x})^9$\n## $ 1,152\\cdot y^2 \\cdot x^{-7} $\n"
     },
     "metadata": {}
    }
   ],
   "source": [
    "%%markdown\n",
    "39. The eighth term of $(\\frac{y}{2}+\\frac{2}{x})^9$\n",
    "## $ 1,152\\cdot y^2 \\cdot x^{-7} $"
   ]
  },
  {
   "cell_type": "code",
   "execution_count": 91,
   "metadata": {},
   "outputs": [
    {
     "output_type": "display_data",
     "data": {
      "text/plain": "<IPython.core.display.Markdown object>",
      "text/markdown": "45) In the expansion of $(5x+3y)^n$, each term has the form $\\binom{n}{k}a^{n-k}b^k$, where k successively takes on the value 0, 1, 2, ..., n. if $\\binom{n}{k} = \\binom{7}{2}$,, what is the corresponding term?\n## $ (5x+3y)^7$\n## $ 590,625 \\cdot x^5 \\cdot y^2 $\n"
     },
     "metadata": {}
    }
   ],
   "source": [
    "%%markdown\n",
    "45) In the expansion of $(5x+3y)^n$, each term has the form $\\binom{n}{k}a^{n-k}b^k$, where k successively takes on the value 0, 1, 2, ..., n. if $\\binom{n}{k} = \\binom{7}{2}$,, what is the corresponding term?\n",
    "## $ (5x+3y)^7$\n",
    "## $ 590,625 \\cdot x^5 \\cdot y^2 $\n"
   ]
  },
  {
   "cell_type": "code",
   "execution_count": 90,
   "metadata": {},
   "outputs": [
    {
     "output_type": "execute_result",
     "data": {
      "text/plain": [
       "590625.0"
      ]
     },
     "metadata": {},
     "execution_count": 90
    }
   ],
   "source": [
    "# print(3**20)\n",
    "# print((3**19)*20)\n",
    "# print((3**18)*190)\n",
    "# print(3**5)\n",
    "binom(7, 2)*((5)**5)*((3)**2)\n",
    "# print(expand_co(8))"
   ]
  },
  {
   "cell_type": "code",
   "execution_count": 94,
   "metadata": {},
   "outputs": [
    {
     "output_type": "display_data",
     "data": {
      "text/plain": "<IPython.core.display.Markdown object>",
      "text/markdown": "47) Consider the expansion of (x+b)^40. What is the exponent of b in the $k^{th}$ term?\n## answer: the exponent of b in the $k_{th}$ term is $k-1 \\Rightarrow b^{k-1}$\n"
     },
     "metadata": {}
    }
   ],
   "source": [
    "%%markdown\n",
    "47) Consider the expansion of (x+b)^40. What is the exponent of b in the $k^{th}$ term?\n",
    "## answer: the exponent of b in the $k_{th}$ term is $k-1 \\Rightarrow b^{k-1}$\n"
   ]
  },
  {
   "cell_type": "code",
   "execution_count": 97,
   "metadata": {},
   "outputs": [
    {
     "output_type": "display_data",
     "data": {
      "text/plain": "<IPython.core.display.Markdown object>",
      "text/markdown": "49) Which expression cannot be expanded using the binomial Theorem? Explain? \n### a. $(x^2 − 2x + 1)$ Y\n### b. $( \\sqrt{ a }​ + 4 \\sqrt{ a }​ − 5 )$\n### c. $(x^3 + 2y^2 − z)$ \n### d. $( 3x 2 − \\sqrt{ 2y^3} ) ​$\n# answer: expression c is a trinom and therefore cannot be expanded through the binomial theorem\n"
     },
     "metadata": {}
    }
   ],
   "source": [
    "%%markdown\n",
    "49) Which expression cannot be expanded using the binomial Theorem? Explain? \n",
    "### a. $(x^2 − 2x + 1)$ Y\n",
    "### b. $( \\sqrt{ a }​ + 4 \\sqrt{ a }​ − 5 )$\n",
    "### c. $(x^3 + 2y^2 − z)$ \n",
    "### d. $( 3x 2 − \\sqrt{ 2y^3} ) ​$\n",
    "# answer: expression c is a trinom and therefore cannot be expanded through the binomial theorem"
   ]
  }
 ]
}