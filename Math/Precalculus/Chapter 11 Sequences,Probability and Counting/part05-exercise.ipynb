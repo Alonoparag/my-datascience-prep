{
 "metadata": {
  "language_info": {
   "codemirror_mode": {
    "name": "ipython",
    "version": 3
   },
   "file_extension": ".py",
   "mimetype": "text/x-python",
   "name": "python",
   "nbconvert_exporter": "python",
   "pygments_lexer": "ipython3",
   "version": "3.8.6-final"
  },
  "orig_nbformat": 2,
  "kernelspec": {
   "name": "python3",
   "display_name": "Python 3"
  }
 },
 "nbformat": 4,
 "nbformat_minor": 2,
 "cells": [
  {
   "cell_type": "code",
   "execution_count": 117,
   "metadata": {},
   "outputs": [],
   "source": [
    "import numpy as np\n",
    "import math\n",
    "import functools\n",
    "fact = math.factorial\n",
    "def ordered(n, r=False):\n",
    "    if not r:\n",
    "        r = n\n",
    "    return math.factorial(n)/math.factorial(n-r)\n",
    "def combine(n, r=False):\n",
    "    if not r:\n",
    "        r = n\n",
    "    return math.factorial(n)/(math.factorial(r)*math.factorial(n-r))\n",
    "def non_distinct(n, d_list):\n",
    "    return math.factorial(n)/functools.reduce(lambda a, b : a * math.factorial(b), d_list, 1)\n",
    "def split(word): \n",
    "    return [char for char in word]  "
   ]
  },
  {
   "cell_type": "code",
   "execution_count": 1,
   "metadata": {},
   "outputs": [
    {
     "output_type": "display_data",
     "data": {
      "text/plain": "<IPython.core.display.Markdown object>",
      "text/markdown": "For the following exercises, assume that there are n ways an event A can happen, m ways an event B can happen, and\nthat A and B are non-overlapping.\n1. Use the Addition Principle of counting to explain\nhow many ways event A or B can occur.\n## answer: If event A can happen $m$ times and event B can happen $n$ times and they are not related, they can happen in $m+n$ ways\n2. Use the Multiplication Principle of counting to\nexplain how many ways event A and B can occur.\nAnswer the following questions.\n## answer: if event A occurs after event B, they can occur in $A\\cdot B$ ways\n3. When given two separate events, how do we know\nwhether to apply the Addition Principle or the\nMultiplication Principle when calculating possible\noutcomes? What conjunctions may help to determine\nwhich operations to use?\n## answer: Assuming event two events A and B, if B occurs after A and have a combined outcome, then the Multiplication Principle should be used. if The events have no common outcome, the the Addition Priciple should be used.\n4. Describe how the permutation of n objects differs\nfrom the permutation of choosing r objects from a\nset of n objects. Include how each is calculated.\n## answer:Choosing $r$ objects from a set of $n$ objects limits the number of permutations.\n5. What is the term for the arrangement that selects r\nobjects from a set of n objects when the order of the\nr objects is not important? What is the formula for\ncalculating the number of possible outcomes for this\ntype of arrangement?\n## answer: It is refered to as $n$ taken $r$ at a time, and the formula is $_nP_r = \\frac{n!}{(n-r)!}$\n"
     },
     "metadata": {}
    }
   ],
   "source": [
    "%%markdown\n",
    "For the following exercises, assume that there are n ways an event A can happen, m ways an event B can happen, and\n",
    "that A and B are non-overlapping.\n",
    "1. Use the Addition Principle of counting to explain\n",
    "how many ways event A or B can occur.\n",
    "## answer: If event A can happen $m$ times and event B can happen $n$ times and they are not related, they can happen in $m+n$ ways\n",
    "2. Use the Multiplication Principle of counting to\n",
    "explain how many ways event A and B can occur.\n",
    "Answer the following questions.\n",
    "## answer: if event A occurs after event B, they can occur in $A\\cdot B$ ways\n",
    "3. When given two separate events, how do we know\n",
    "whether to apply the Addition Principle or the\n",
    "Multiplication Principle when calculating possible\n",
    "outcomes? What conjunctions may help to determine\n",
    "which operations to use?\n",
    "## answer: Assuming event two events A and B, if B occurs after A and have a combined outcome, then the Multiplication Principle should be used. if The events have no common outcome, the the Addition Priciple should be used.\n",
    "4. Describe how the permutation of n objects differs\n",
    "from the permutation of choosing r objects from a\n",
    "set of n objects. Include how each is calculated.\n",
    "## answer:Choosing $r$ objects from a set of $n$ objects limits the number of permutations.\n",
    "5. What is the term for the arrangement that selects r\n",
    "objects from a set of n objects when the order of the\n",
    "r objects is not important? What is the formula for\n",
    "calculating the number of possible outcomes for this\n",
    "type of arrangement?\n",
    "## answer: It is refered to as $n$ taken $r$ at a time, and the formula is $_nP_r = \\frac{n!}{(n-r)!}$"
   ]
  },
  {
   "cell_type": "code",
   "execution_count": null,
   "metadata": {},
   "outputs": [],
   "source": [
    "%%markdown\n",
    "For the following exercises, determine whether to use the Addition Principle or the Multiplication Principle. Then\n",
    "perform the calculations.\n"
   ]
  },
  {
   "cell_type": "code",
   "execution_count": 38,
   "metadata": {},
   "outputs": [
    {
     "output_type": "display_data",
     "data": {
      "text/plain": "<IPython.core.display.Markdown object>",
      "text/markdown": "7. Let the set B = { −23, −16, −7, −2, 20, 36, 48, 72}.\nHow many ways are there to choose a positive or an\nodd number from A?\n### $n_{positive} = 4$ ; $n_{negative} = 4$\n### $ P = 8$\n"
     },
     "metadata": {}
    }
   ],
   "source": [
    "%%markdown\n",
    "7. Let the set B = { −23, −16, −7, −2, 20, 36, 48, 72}.\n",
    "How many ways are there to choose a positive or an\n",
    "odd number from A?\n",
    "### $n_{positive} = 4$ ; $n_{negative} = 4$\n",
    "### $ P = 8$\n"
   ]
  },
  {
   "cell_type": "code",
   "execution_count": null,
   "metadata": {},
   "outputs": [],
   "source": [
    "%%markdown\n",
    "9. How many ways are there to pick a paint color from 5 shades of green, 4 shades of blue, or 7 shades of\n",
    "yellow?\n",
    "### $n_{green} = 5$ ; $n_{blue} = 4$ ; $n_{yellow} = 7$\n",
    "### $ P = 16$"
   ]
  },
  {
   "cell_type": "code",
   "execution_count": null,
   "metadata": {},
   "outputs": [],
   "source": [
    "%%markdown\n",
    "11. How many outcomes are possible from tossing a coin\n",
    "and rolling a 6-sided die\n",
    "### $n_{coin} = 2$ ; $n_{dice} = 6$\n",
    "### $P = 12$\n"
   ]
  },
  {
   "cell_type": "code",
   "execution_count": 41,
   "metadata": {},
   "outputs": [
    {
     "output_type": "display_data",
     "data": {
      "text/plain": "<IPython.core.display.Markdown object>",
      "text/markdown": "13. How many ways are there to construct a string of 3\ndigits if numbers can be repeated?\n### $n_{digits} = 10$\n### $P = 10^3 = 1000$\n\n"
     },
     "metadata": {}
    }
   ],
   "source": [
    "%%markdown\n",
    "13. How many ways are there to construct a string of 3\n",
    "digits if numbers can be repeated?\n",
    "### $n_{digits} = 10$\n",
    "### $P = 10^3 = 1000$\n",
    "\n"
   ]
  },
  {
   "cell_type": "code",
   "execution_count": 39,
   "metadata": {},
   "outputs": [
    {
     "output_type": "execute_result",
     "data": {
      "text/plain": [
       "729"
      ]
     },
     "metadata": {},
     "execution_count": 39
    }
   ],
   "source": [
    "9**3"
   ]
  },
  {
   "cell_type": "code",
   "execution_count": null,
   "metadata": {},
   "outputs": [],
   "source": [
    "%%markdown\n",
    "For the following exercises, compute the value of the expression.\n"
   ]
  },
  {
   "cell_type": "code",
   "execution_count": null,
   "metadata": {},
   "outputs": [],
   "source": [
    "%%markdown\n",
    "15. P(5, 2)\n",
    "### $_5P_2 = 20$"
   ]
  },
  {
   "cell_type": "code",
   "execution_count": 42,
   "metadata": {},
   "outputs": [
    {
     "output_type": "execute_result",
     "data": {
      "text/plain": [
       "20.0"
      ]
     },
     "metadata": {},
     "execution_count": 42
    }
   ],
   "source": [
    "ordered(5, 2)"
   ]
  },
  {
   "cell_type": "code",
   "execution_count": 44,
   "metadata": {},
   "outputs": [
    {
     "output_type": "display_data",
     "data": {
      "text/plain": "<IPython.core.display.Markdown object>",
      "text/markdown": "17. P(3, 3)\n### $_nP_r = \\frac{n!}{(n-r)!}$\n### $_5P_2 = 20$\n"
     },
     "metadata": {}
    }
   ],
   "source": [
    "%%markdown\n",
    "17. P(3, 3)\n",
    "### $_nP_r = \\frac{n!}{(n-r)!}$\n",
    "### $_3P_3 = 20$\n"
   ]
  },
  {
   "cell_type": "code",
   "execution_count": 45,
   "metadata": {},
   "outputs": [
    {
     "output_type": "display_data",
     "data": {
      "text/plain": "<IPython.core.display.Markdown object>",
      "text/markdown": "19. P(11, 5)\n### $_nP_r = \\frac{n!}{(n-r)!}$\n### $_3P_3 = 20$\n"
     },
     "metadata": {}
    }
   ],
   "source": [
    "%%markdown\n",
    "19. P(11, 5)\n",
    "### $_nP_r = \\frac{n!}{(n-r)!}$\n",
    "### $_11P_5 = 55440$\n"
   ]
  },
  {
   "cell_type": "code",
   "execution_count": 48,
   "metadata": {},
   "outputs": [
    {
     "output_type": "display_data",
     "data": {
      "text/plain": "<IPython.core.display.Markdown object>",
      "text/markdown": "21. C(12, 4)\n### $_nC_r = \\frac{n!}{r!(n-r)!}$\n### $_{12}P_4 = $\n"
     },
     "metadata": {}
    }
   ],
   "source": [
    "%%markdown\n",
    "21. C(12, 4)\n",
    "### $_nC_r = \\frac{n!}{r!(n-r)!}$\n",
    "### $_{12}P_4 = 239500800$"
   ]
  },
  {
   "cell_type": "code",
   "execution_count": 52,
   "metadata": {},
   "outputs": [
    {
     "output_type": "display_data",
     "data": {
      "text/plain": "<IPython.core.display.Markdown object>",
      "text/markdown": "23. C(7, 6)\n### $_nC_r = \\frac{n!}{r!(n-r)!}$\n### $_{7}P_{6} = 7$\n"
     },
     "metadata": {}
    }
   ],
   "source": [
    "%%markdown\n",
    "23. C(7, 6)\n",
    "### $_nC_r = \\frac{n!}{r!(n-r)!}$\n",
    "### $_{7}P_{6} = 7$"
   ]
  },
  {
   "cell_type": "code",
   "execution_count": null,
   "metadata": {},
   "outputs": [],
   "source": [
    "%%markdown\n",
    "For the following exercises, find the number of subsets in each given set.\n"
   ]
  },
  {
   "cell_type": "code",
   "execution_count": null,
   "metadata": {},
   "outputs": [],
   "source": [
    "%%markdown\n",
    "25. {1, 2, 3, 4, 5, 6, 7, 8, 9, 10}\n",
    "### 1024\n"
   ]
  },
  {
   "cell_type": "code",
   "execution_count": null,
   "metadata": {},
   "outputs": [],
   "source": [
    "%%markdown\n",
    "27. A set containing 5 distinct numbers, 4 distinct\n",
    "letters, and 3 distinct symbols\n",
    "### 4096\n"
   ]
  },
  {
   "cell_type": "code",
   "execution_count": null,
   "metadata": {},
   "outputs": [],
   "source": [
    "%%markdown\n",
    "29. The set of two-digit numbers between 1 and 100\n",
    "containing the digit 0\n",
    "10, 20, 30, 40, 50, 60, 70, 80, 90\n",
    "### 512"
   ]
  },
  {
   "cell_type": "code",
   "execution_count": null,
   "metadata": {},
   "outputs": [],
   "source": [
    "%%markdown\n",
    "For the following exercises, find the distinct number of arrangements.\n"
   ]
  },
  {
   "cell_type": "code",
   "execution_count": null,
   "metadata": {},
   "outputs": [],
   "source": [
    "%%markdown\n",
    "31. The letters in the word “academia”\n",
    "    "
   ]
  },
  {
   "cell_type": "code",
   "execution_count": null,
   "metadata": {},
   "outputs": [],
   "source": [
    "%%markdown\n",
    "33. The symbols in the string \\#,\\#,\\#,\\@,\\@,\\$,\\$,\\$,\\%,\\%,\\%,\\%\n",
    "### 277200\n"
   ]
  },
  {
   "cell_type": "code",
   "execution_count": 81,
   "metadata": {},
   "outputs": [
    {
     "output_type": "display_data",
     "data": {
      "text/plain": "<IPython.core.display.Markdown object>",
      "text/markdown": "35) The set ,S consists of 900,000,000 whole numbers, each being the same number of digits long. How many digits long is a number from S?(Hint: use the fact that a whole number cannot start with the digit 0).\n### 1) $S_{size} = 900000000$\n### 2) $9\\cdot_{10}N_{r-1} = 900000000$\n### 3) $9\\cdot_{10}N_{r-1} = 900000000$\n### 4) $_nC_r = \\frac{n!}{r!(n-r)!}$\n### 5) $_10C_r-1 = \\frac{10!}{(r-1)!(10-(r-1))!}$\n### 6) $9\\cdot \\frac{10!}{(r-1)!(10-(r-1))!} = 900000000$\n### 7) $\\frac{3,628,800}{(r-1)!(11-r))!} = 100,000,000$\n"
     },
     "metadata": {}
    }
   ],
   "source": [
    "%%markdown\n",
    "35) The set ,S consists of 900,000,000 whole numbers, each being the same number of digits long. How many digits long is a number from S?(Hint: use the fact that a whole number cannot start with the digit 0).\n",
    "### 1) $S_{size} = 900000000$\n",
    "### 2) $9\\cdot10^8 = 900000000$\n",
    "### 3)"
   ]
  },
  {
   "cell_type": "code",
   "execution_count": 82,
   "metadata": {},
   "outputs": [
    {
     "output_type": "display_data",
     "data": {
      "text/plain": "<IPython.core.display.Markdown object>",
      "text/markdown": "37) Can C(n, r) ever equal P(n,r)? Explain,\n###  $\\frac{n!}{r!(n-r)!} = \\frac{n!}{(n-r)!}$\n### the nominators are the same, so lets compare the denominators:\n### $r!(n-r)! = (n-r)!$\n"
     },
     "metadata": {}
    }
   ],
   "source": [
    "%%markdown\n",
    "37) Can C(n, r) ever equal P(n,r)? Explain,\n",
    "###  $\\frac{n!}{r!(n-r)!} = \\frac{n!}{(n-r)!}$\n",
    "### the nominators are the same, so lets compare the denominators:\n",
    "### $r!(n-r)! = (n-r)!$ assume $n\\ne r$\n",
    "### $r! = 1 \\Rightarrow r = 0 or r = 1$\n"
   ]
  },
  {
   "cell_type": "code",
   "execution_count": 95,
   "metadata": {},
   "outputs": [
    {
     "output_type": "display_data",
     "data": {
      "text/plain": "<IPython.core.display.Markdown object>",
      "text/markdown": "39) How many arrangements can be made from the letters of the word \"mountains\" if all the vowels must form a string?\n  ### Compute the permutations of the vowls as a string:\n  ### \\[o,u,a,i\\]\n  ### $_nP_r = \\frac{n!}{(n-r)!}$\n  ### $_4P_4 = \\frac{4!}{(0)!} \\Rightarrow 24$\n  ### Compute the distinct permutations of the consonants and a string of vowlsvand multiply it with the permutation of the string of vowls \\[m, n. t, n, s,vowls]:\n  ### $\\frac{n!}{n_1!\\cdot...n_k!}$\n  ### $\\frac{6!}{2!}\\cdot24 \\Rightarrow 8640$\n  # answer: there are 8,640 different arrangements from the letters of the word mountains if all the vowels must form a string\n"
     },
     "metadata": {}
    }
   ],
   "source": [
    "%%markdown\n",
    "39) How many arrangements can be made from the letters of the word \"mountains\" if all the vowels must form a string?\n",
    "  ### Compute the permutations of the vowls as a string:\n",
    "  ### \\[o,u,a,i\\]\n",
    "  ### $_nP_r = \\frac{n!}{(n-r)!}$\n",
    "  ### $_4P_4 = \\frac{4!}{(0)!} \\Rightarrow 24$\n",
    "  ### Compute the distinct permutations of the consonants and a string of vowlsvand multiply it with the permutation of the string of vowls \\[m, n. t, n, s,vowls]:\n",
    "  ### $\\frac{n!}{n_1!\\cdot...n_k!}$\n",
    "  ### $\\frac{6!}{2!}\\cdot24 \\Rightarrow 8640$\n",
    "  # answer: there are 8,640 different arrangements from the letters of the word mountains if all the vowels must form a string\n"
   ]
  },
  {
   "cell_type": "code",
   "execution_count": 96,
   "metadata": {},
   "outputs": [
    {
     "output_type": "display_data",
     "data": {
      "text/plain": "<IPython.core.display.Markdown object>",
      "text/markdown": "41) A cell phone company offers 6 different voice packages and 8 different data packages. Of those, 3 packages include both voice and data. How man ways are there to choose either voice or data, but not both?\n### $num_{voice packages} = 6$\n### $num_{data packages} = 8$\n### $num_{voice \\cap data} = 3$\n"
     },
     "metadata": {}
    }
   ],
   "source": [
    "%%markdown\n",
    "41) A cell phone company offers 6 different voice packages and 8 different data packages. Of those, 3 packages include both voice and data. How man ways are there to choose either voice or data, but not both?\n",
    "### $num_{voice packages} = 6$\n",
    "### $num_{data packages} = 8$\n",
    "### $num_{voice \\cap data} = 3$\n",
    "### There are 5 packages that only include data, and 3 packages that only include voice, added together there are 8 ways to choose either one but not both"
   ]
  },
  {
   "cell_type": "code",
   "execution_count": 97,
   "metadata": {},
   "outputs": [
    {
     "output_type": "display_data",
     "data": {
      "text/plain": "<IPython.core.display.Markdown object>",
      "text/markdown": "43) A wholesale T-shirt company offers sizes small, medium, large, and XL in organic or non-organic cotton and colors white, black, gray, blue and red. How many different T-shirts are there to choose from?\n### Sizes: \\[s, m, l, xl\\]\n### Cotton: \\[organic, non\\]\n### Color: \\[white, black, gray, blue, red\\]\n"
     },
     "metadata": {}
    }
   ],
   "source": [
    "%%markdown\n",
    "43) A wholesale T-shirt company offers sizes small, medium, large, and XL in organic or non-organic cotton and colors white, black, gray, blue and red. How many different T-shirts are there to choose from?\n",
    "### Sizes: \\[s, m, l, xl\\]\n",
    "### Cotton: \\[organic, non\\]\n",
    "### Color: \\[white, black, gray, blue, red\\]\n",
    "### There are 4 Size options, 2 cotton options, and 5 color options, multiplied together it produces 40 different t shirts.\n"
   ]
  },
  {
   "cell_type": "code",
   "execution_count": null,
   "metadata": {},
   "outputs": [],
   "source": [
    "%%markdown\n",
    "45) An art store has 4 brands of paint pens in 12 different colors and 3 types of ink. How many paint pens are there to choose from?\n",
    "    ### brands:4\n",
    "    ### Colors: 12\n",
    "    ### ink Type: 3\n",
    "    # answer: there are 144 different pens to choose from\n"
   ]
  },
  {
   "cell_type": "code",
   "execution_count": null,
   "metadata": {},
   "outputs": [],
   "source": [
    "%%markdown\n",
    "47)How many ways can a baseball coach arrange the order of 9 batters if there are 15 players on the team?\n",
    "### $_nP_r = \\frac{n!}{(n-r)!}$\n",
    "### $_{15}P_P9 = \\frac{15!}{(15-9)! = 1,816,214,400}$"
   ]
  },
  {
   "cell_type": "code",
   "execution_count": 122,
   "metadata": {},
   "outputs": [
    {
     "output_type": "display_data",
     "data": {
      "text/plain": "<IPython.core.display.Markdown object>",
      "text/markdown": "49) A motorcycle shop has 10 choppers, 6 bobbers and 5 cafe racers - different types of vintage motorcycles. How many ways can the shop choose 3 choppers, 5 bobbers and 2 cafe racers for a weekend showcase?\n### choppers:10\n### bobbers: 6\n### cafe racers: 5\n### $_nP_r = \\frac{n!}{(n-r)!}$\n### choppers: $_{10}P_3 = \\frac{10!}{(7)!} \\Rightarrow 120$\n### bobbers: $_6P_5 = \\frac{6!}{(1)!} \\Rightarrow 6$\n### cafe racers: $_5P_2 = \\frac{5!}{(3)!} \\Rightarrow 10$\n# answer: There are 7,200 ways for him to organize the bikes for the shocase\n"
     },
     "metadata": {}
    }
   ],
   "source": [
    "%%markdown\n",
    "49) A motorcycle shop has 10 choppers, 6 bobbers and 5 cafe racers - different types of vintage motorcycles. How many ways can the shop choose 3 choppers, 5 bobbers and 2 cafe racers for a weekend showcase?\n",
    "### choppers:10\n",
    "### bobbers: 6\n",
    "### cafe racers: 5\n",
    "### $_nP_r = \\frac{n!}{(n-r)!}$\n",
    "### choppers: $_{10}P_3 = \\frac{10!}{(7)!} \\Rightarrow 120$\n",
    "### bobbers: $_6P_5 = \\frac{6!}{(1)!} \\Rightarrow 6$\n",
    "### cafe racers: $_5P_2 = \\frac{5!}{(3)!} \\Rightarrow 10$\n",
    "# answer: There are 7,200 ways for him to organize the bikes for the shocase"
   ]
  },
  {
   "cell_type": "code",
   "execution_count": null,
   "metadata": {},
   "outputs": [],
   "source": [
    "%%markdown\n",
    "51) Just-For-Kicks Sneaker Company offers an online customizing service. How any ways are there to design a custom pair of Just-For_kicks sneakers if a customer can choose from a basic shoe up to 11 customizable options?\n",
    "### 2^11  = 2048\n"
   ]
  },
  {
   "cell_type": "code",
   "execution_count": null,
   "metadata": {},
   "outputs": [],
   "source": [
    "%%markdown\n",
    "53) Susan bought 20 plants to arrange along the border of her garden. How many distinct arrangements can she make if the plants are comprised of 6 tulips, 6 roses, and 8 daises?\n",
    "### Tulips:6\n",
    "### Roses: 6\n",
    "### Daisies: 8\n",
    "### arrangements: $\\frac{20!}{6!\\cdot6!\\cdot8!} \\Rightarrow 116,396,280$"
   ]
  },
  {
   "cell_type": "code",
   "execution_count": 125,
   "metadata": {},
   "outputs": [
    {
     "output_type": "execute_result",
     "data": {
      "text/plain": [
       "116396280.0"
      ]
     },
     "metadata": {},
     "execution_count": 125
    }
   ],
   "source": [
    "# math.factorial(10)\n",
    "# l = list(\"###@@$$$%%%%\")\n",
    "# print (l)\n",
    "# print(len(l))\n",
    "# ordered(10, 3)*ordered(6, 5)*ordered(5, 2)\n",
    "# print(fact(15))\n",
    "# print(fact(6))\n",
    "# print(fact(15)/fact(6))\n",
    "#combine\n",
    "# 3*4*12\n",
    "non_distinct(20,[6, 6, 8])\n",
    "# 2**11"
   ]
  }
 ]
}