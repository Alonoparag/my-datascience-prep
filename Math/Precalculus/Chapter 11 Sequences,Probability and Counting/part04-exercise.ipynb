{
 "metadata": {
  "language_info": {
   "codemirror_mode": {
    "name": "ipython",
    "version": 3
   },
   "file_extension": ".py",
   "mimetype": "text/x-python",
   "name": "python",
   "nbconvert_exporter": "python",
   "pygments_lexer": "ipython3",
   "version": "3.8.6-final"
  },
  "orig_nbformat": 2,
  "kernelspec": {
   "name": "python3",
   "display_name": "Python 3"
  }
 },
 "nbformat": 4,
 "nbformat_minor": 2,
 "cells": [
  {
   "cell_type": "code",
   "execution_count": 46,
   "metadata": {},
   "outputs": [
    {
     "output_type": "display_data",
     "data": {
      "text/plain": "<IPython.core.display.Markdown object>",
      "text/markdown": "# $S_n = \\frac{n(a_1+a_n)}{2}$\n# <br>$S_n = \\frac{a_1(1-r^n)}{1-r}$\n# <br>$S_n = \\frac{a_1}{1-r}$\n"
     },
     "metadata": {}
    }
   ],
   "source": [
    "%%markdown\n",
    "# $S_n = \\frac{n(a_1+a_n)}{2}$\n",
    "# <br>$S_n = \\frac{a_1(1-r^n)}{1-r}$\n",
    "# <br>$S_n = \\frac{a_1}{1-r}$"
   ]
  },
  {
   "cell_type": "code",
   "execution_count": null,
   "metadata": {},
   "outputs": [],
   "source": [
    "import numpy as np\n",
    "import math\n",
    "\n",
    "def geometric(a_1, r, n):\n",
    "    s = 0\n",
    "    a = a_1\n",
    "    for i in range(0,n):\n",
    "        print(\"<br> \"+str(i+1)+\") $\"+str(a)+\"$\")\n",
    "        s += a\n",
    "        a = round(a*r, 10)\n",
    "    print(\"sum: \"+str(round(s, 2)))\n",
    "\n",
    "def arithmtc(a_1, d, n):\n",
    "    s = 0\n",
    "    a = a_1\n",
    "    for i in range(0,n):\n",
    "        print(\"<br> \"+str(i+1)+\") $\"+str(a)+\"$\")\n",
    "        s += a\n",
    "        a = round(a+d, 10)\n",
    "    print(\"sum: \"+str(round(s, 2)))"
   ]
  },
  {
   "cell_type": "code",
   "execution_count": 1,
   "metadata": {},
   "outputs": [
    {
     "output_type": "display_data",
     "data": {
      "text/plain": "<IPython.core.display.Markdown object>",
      "text/markdown": "1. What is an nth partial sum?\n2. What is the difference between an arithmetic sequence and an arithmetic series?\n3. What is a geometric series?\n4. How is finding the sum of an infinite geometric\nseries different from finding the nth partial sum?\n5. What is an annuity?\n"
     },
     "metadata": {}
    }
   ],
   "source": [
    "%%markdown\n",
    "1. What is an nth partial sum?\n",
    "### <br> answer: the nth partial sum is the sum of terms of a given finite sequence $a_n$\n",
    "2. What is the difference between an arithmetic sequence and an arithmetic series?\n",
    "### <br> answer: An arithmetic sequence is a set of terms that has a common difference between each term. An arithmetic series is the sum of terms of an arithmetic sequence\n",
    "3. What is a geometric series?\n",
    "### <br> answer: A geometric series is the sum of terms of a geometric sequence\n",
    "4. How is finding the sum of an infinite geometric series different from finding the nth partial sum?\n",
    "### <br> answer: The sum of an infinite geometric series is dependent upon the first term and the common ratio, while the sum of the nth partial sum takes the nth term into account as well\n",
    "5. What is an annuity?\n",
    "### <br> answer: an annuity is a payment which is payed into an account in a constant interval."
   ]
  },
  {
   "cell_type": "code",
   "execution_count": 2,
   "metadata": {},
   "outputs": [
    {
     "output_type": "display_data",
     "data": {
      "text/plain": "<IPython.core.display.Markdown object>",
      "text/markdown": "For the following exercises, express each description of a sum using summation notation.\n"
     },
     "metadata": {}
    }
   ],
   "source": [
    "\n",
    "%%markdown\n",
    "For the following exercises, express each description of a sum using summation notation.\n"
   ]
  },
  {
   "cell_type": "code",
   "execution_count": 53,
   "metadata": {},
   "outputs": [
    {
     "output_type": "display_data",
     "data": {
      "text/plain": "<IPython.core.display.Markdown object>",
      "text/markdown": "7. The sum from of n = 0 to n = 4 of 5n\n<br> $\\sum\\limits_{n=0}^{4}5n$\n\n"
     },
     "metadata": {}
    }
   ],
   "source": [
    "%%markdown\n",
    "7. The sum from of n = 0 to n = 4 of 5n\n",
    "<br> $\\sum\\limits_{n=0}^{4}5n$\n",
    "\n"
   ]
  },
  {
   "cell_type": "code",
   "execution_count": 54,
   "metadata": {},
   "outputs": [
    {
     "output_type": "display_data",
     "data": {
      "text/plain": "<IPython.core.display.Markdown object>",
      "text/markdown": "9. The sum that results from adding the number 4 five\ntimes\n<br> $\\sum\\limits_{n=1}^{5}4\\cdot5n$\n"
     },
     "metadata": {}
    }
   ],
   "source": [
    "%%markdown\n",
    "9. The sum that results from adding the number 4 five\n",
    "times\n",
    "<br> $\\sum\\limits_{n=1}^{5}4\\cdot5n$"
   ]
  },
  {
   "cell_type": "code",
   "execution_count": 59,
   "metadata": {},
   "outputs": [
    {
     "output_type": "display_data",
     "data": {
      "text/plain": "<IPython.core.display.Markdown object>",
      "text/markdown": "For the following exercises, express each arithmetic sum using summation notation.\n11. 10 + 18 + 26 + ... + 162\n<br> $\\sum\\limits_{n=0}^{n}10+8n$\n<br> $a_n = a_1+d(n-1)$\n<br> $162 = 10-8n-8$\n<br> $n = 20$\n## <br> answer: $\\sum\\limits_{n=0}^{20}10+8*20$\n\n"
     },
     "metadata": {}
    }
   ],
   "source": [
    "%%markdown\n",
    "For the following exercises, express each arithmetic sum using summation notation.\n",
    "11. 10 + 18 + 26 + ... + 162\n",
    "<br> $\\sum\\limits_{n=0}^{n}10+8n$\n",
    "<br> $a_n = a_1+d(n-1)$\n",
    "<br> $162 = 10-8n-8$\n",
    "<br> $n = 20$\n",
    "## <br> answer: $\\sum\\limits_{n=0}^{20}10+8\\cdot20$\n",
    "\n"
   ]
  },
  {
   "cell_type": "code",
   "execution_count": 6,
   "metadata": {},
   "outputs": [
    {
     "output_type": "display_data",
     "data": {
      "text/plain": "<IPython.core.display.Markdown object>",
      "text/markdown": "For the following exercises, use the formula for the sum of the first n terms of each arithmetic sequence.\n\n"
     },
     "metadata": {}
    }
   ],
   "source": [
    "%%markdown\n",
    "For the following exercises, use the formula for the sum of the first n terms of each arithmetic sequence.\n",
    "\n"
   ]
  },
  {
   "cell_type": "code",
   "execution_count": 62,
   "metadata": {},
   "outputs": [
    {
     "output_type": "display_data",
     "data": {
      "text/plain": "<IPython.core.display.Markdown object>",
      "text/markdown": "13) $\\frac{3}{2}+2+\\frac{5}{2}+3+\\frac{7}{2}$\n<br> $S_n = \\frac{n(a_1+a_n)}{2}$\n<br> $S_5 = \\frac{5(\\frac{3}{2}+\\frac{7}{2})}{2}$\n## <br> answer: $S_5 = 12.5$\n"
     },
     "metadata": {}
    }
   ],
   "source": [
    "%%markdown\n",
    "13) $\\frac{3}{2}+2+\\frac{5}{2}+3+\\frac{7}{2}$\n",
    "<br> $S_n = \\frac{n(a_1+a_n)}{2}$\n",
    "<br> $S_5 = \\frac{5(\\frac{3}{2}+\\frac{7}{2})}{2}$\n",
    "## <br> answer: $S_5 = 12.5$\n"
   ]
  },
  {
   "cell_type": "code",
   "execution_count": 76,
   "metadata": {},
   "outputs": [
    {
     "output_type": "display_data",
     "data": {
      "text/plain": "<IPython.core.display.Markdown object>",
      "text/markdown": "15. 3.2 + 3.4 + 3.6 + ... + 5.6\n<br> $a_n = a_1+d(n-1)$\n<br> $5.6 = 3.2+0.2n-0.2$\n<br> $n = 13$\n<br> $S_n = \\frac{n(a_1+a_n)}{2}$\n## answer: $S_13 = 57.2$\n"
     },
     "metadata": {}
    }
   ],
   "source": [
    "%%markdown\n",
    "15. 3.2 + 3.4 + 3.6 + ... + 5.6\n",
    "<br> $a_n = a_1+d(n-1)$\n",
    "<br> $5.6 = 3.2+0.2n-0.2$\n",
    "<br> $n = 13$\n",
    "<br> $S_n = \\frac{n(a_1+a_n)}{2}$\n",
    "## answer: $S_13 = 57.2$\n"
   ]
  },
  {
   "cell_type": "code",
   "execution_count": 9,
   "metadata": {},
   "outputs": [
    {
     "output_type": "display_data",
     "data": {
      "text/plain": "<IPython.core.display.Markdown object>",
      "text/markdown": "For the following exercises, express each geometric sum using summation notation.\n\n"
     },
     "metadata": {}
    }
   ],
   "source": [
    "%%markdown\n",
    "For the following exercises, express each geometric sum using summation notation.\n",
    "\n"
   ]
  },
  {
   "cell_type": "code",
   "execution_count": 89,
   "metadata": {},
   "outputs": [
    {
     "output_type": "display_data",
     "data": {
      "text/plain": "<IPython.core.display.Markdown object>",
      "text/markdown": "17. 8 + 4 + 2 + ... + 0.125\n<br> $a_n = a_1r^{n-1}$\n<br> $0.125 = 8\\cdot(0.5)^{n-1}$\n<br> $log_{0.5}(0.015625) = n-1$\n<br> $n = 7$\n<br> $S_n = \\frac{a1(1-r^n)}{1-r}$\n<br> $S_7 = \\frac{8(1-0.5^7)}{0.5}$\n# answer: $S_7 = 15.875$\n"
     },
     "metadata": {}
    }
   ],
   "source": [
    "%%markdown\n",
    "17. 8 + 4 + 2 + ... + 0.125\n",
    "<br> $a_n = a_1r^{n-1}$\n",
    "<br> $0.125 = 8\\cdot(0.5)^{n-1}$\n",
    "<br> $log_{0.5}(0.015625) = n-1$\n",
    "<br> $n = 7$\n",
    "<br> $S_n = \\frac{a1(1-r^n)}{1-r}$\n",
    "<br> $S_7 = \\frac{8(1-0.5^7)}{0.5}$\n",
    "# answer: $S_7 = 15.875$"
   ]
  },
  {
   "cell_type": "code",
   "execution_count": 11,
   "metadata": {},
   "outputs": [
    {
     "output_type": "display_data",
     "data": {
      "text/plain": "<IPython.core.display.Markdown object>",
      "text/markdown": "For the following exercises, use the formula for the sum of the first n terms of each geometric sequence, and then state\nthe indicated sum.\n\n"
     },
     "metadata": {}
    }
   ],
   "source": [
    "%%markdown\n",
    "For the following exercises, use the formula for the sum of the first n terms of each geometric sequence, and then state\n",
    "the indicated sum.\n",
    "\n"
   ]
  },
  {
   "cell_type": "code",
   "execution_count": 97,
   "metadata": {},
   "outputs": [
    {
     "output_type": "display_data",
     "data": {
      "text/plain": "<IPython.core.display.Markdown object>",
      "text/markdown": "19) $9+3+1+\\frac{1}{3}+\\frac{1}{9}$\n### <br> $a_n = a_1\\cdot r^{n-1}$\n### <br> $S_n = \\frac{a_1(1-r^n)}{1-r}$\n### <br> $S_5 = \\frac{9(1-(\\frac{1}{3})^5)}{1-\\frac{1}{3}}$\n# answer: = $S_n = 13\\cdot\\frac{4}{9}$\n\n"
     },
     "metadata": {}
    }
   ],
   "source": [
    "%%markdown\n",
    "19) $9+3+1+\\frac{1}{3}+\\frac{1}{9}$\n",
    "### <br> $a_n = a_1\\cdot r^{n-1}$\n",
    "### <br> $S_n = \\frac{a_1(1-r^n)}{1-r}$\n",
    "### <br> $S_5 = \\frac{9(1-(\\frac{1}{3})^5)}{1-\\frac{1}{3}}$\n",
    "# answer: = $S_n = 13\\cdot\\frac{4}{9}$\n",
    "\n"
   ]
  },
  {
   "cell_type": "code",
   "execution_count": 119,
   "metadata": {},
   "outputs": [
    {
     "output_type": "display_data",
     "data": {
      "text/plain": "<IPython.core.display.Markdown object>",
      "text/markdown": "21) $\\sum_{a=1}^{11} 64\\cdot(-0.2)^{a-1}$\n### $S_n = \\frac{a_1(1-r^n)}{1-r}$\n### $S_11 = \\frac{64(1-(-0.2)^11)}{1+0.2}$\n### $S_11 = \\frac{64(1)}{1.2}$\n#   answer: $S_11 = 53.33\n"
     },
     "metadata": {}
    }
   ],
   "source": [
    "%%markdown\n",
    "21) $\\sum_{a=1}^{11} 64\\cdot(-0.2)^{a-1}$\n",
    "### $S_n = \\frac{a_1(1-r^n)}{1-r}$\n",
    "### $S_11 = \\frac{64(1-(-0.2)^11)}{1+0.2}$\n",
    "### $S_11 = \\frac{64(1)}{1.2}$\n",
    "#   answer: $S_11 = 53.33\n"
   ]
  },
  {
   "cell_type": "code",
   "execution_count": 120,
   "metadata": {},
   "outputs": [
    {
     "output_type": "execute_result",
     "data": {
      "text/plain": [
       "53.333333333333336"
      ]
     },
     "metadata": {},
     "execution_count": 120
    }
   ],
   "source": [
    "round((-0.2)**11, 8)\n",
    "64/1.2\n",
    "# geometric(64, -0.2, 11)\n",
    "# arithmtc(3.2, 0.2, 13)\n",
    "# math.log(0.125/8, 0.5)\n",
    "# .125/8\n",
    "# (-3)**11\n",
    "# 0.0009765625/2\n",
    "# math.log(10, 1.2)\n",
    "# round(1/1024/2, 50)\n",
    "# 14.4/12"
   ]
  },
  {
   "cell_type": "code",
   "execution_count": 14,
   "metadata": {},
   "outputs": [
    {
     "output_type": "display_data",
     "data": {
      "text/plain": "<IPython.core.display.Markdown object>",
      "text/markdown": "For the following exercises, determine whether the infinite series has a sum. If so, write the formula for the sum. If\nnot, state the reason.\n\n"
     },
     "metadata": {}
    }
   ],
   "source": [
    "%%markdown\n",
    "For the following exercises, determine whether the infinite series has a sum. If so, write the formula for the sum. If\n",
    "not, state the reason.\n",
    "\n"
   ]
  },
  {
   "cell_type": "code",
   "execution_count": 128,
   "metadata": {},
   "outputs": [
    {
     "output_type": "display_data",
     "data": {
      "text/plain": "<IPython.core.display.Markdown object>",
      "text/markdown": "23. 2 + 1.6 + 1.28 + 1.024 + ...\n### $1.6/2 = 0.8$ ; $1.28/1.6 = 0.8$\n### $\\sum\\limits_1^\\infty = S_\\infty = \\frac{a_1}{1-r}$\n### $S_\\infty = \\frac{2}{0.2}$\n# answer: $ S_\\infty = 10$\n"
     },
     "metadata": {}
    }
   ],
   "source": [
    "%%markdown\n",
    "23. 2 + 1.6 + 1.28 + 1.024 + ...\n",
    "### $1.6/2 = 0.8$ ; $1.28/1.6 = 0.8$\n",
    "### $\\sum\\limits_1^\\infty = S_\\infty = \\frac{a_1}{1-r}$\n",
    "### $S_\\infty = \\frac{2}{0.2}$\n",
    "# answer: $ S_\\infty = 10$\n"
   ]
  },
  {
   "cell_type": "code",
   "execution_count": 133,
   "metadata": {},
   "outputs": [
    {
     "output_type": "display_data",
     "data": {
      "text/plain": "<IPython.core.display.Markdown object>",
      "text/markdown": "# 24) $\\sum\\limits_{k=1}^{\\infty}-(-\\frac{1}{2})^{k-1}$\n### $S = \\frac{a_1}{1-(-\\frac{1}{2})}$\n### $S = \\frac{-1}{1.5}$\n# answer: $S = -\\frac{2}{3}$\n\n"
     },
     "metadata": {}
    }
   ],
   "source": [
    "%%markdown\n",
    "# 24) $\\sum\\limits_{k=1}^{\\infty}-(-\\frac{1}{2})^{k-1}$\n",
    "### $S = \\frac{a_1}{1-(-\\frac{1}{2})}$\n",
    "### $S = \\frac{-1}{1.5}$\n",
    "# answer: $S = -\\frac{2}{3}$\n",
    "\n"
   ]
  },
  {
   "cell_type": "code",
   "execution_count": 131,
   "metadata": {},
   "outputs": [
    {
     "output_type": "execute_result",
     "data": {
      "text/plain": [
       "-0.6666666666666666"
      ]
     },
     "metadata": {},
     "execution_count": 131
    }
   ],
   "source": [
    "-1/1.5"
   ]
  },
  {
   "cell_type": "code",
   "execution_count": 17,
   "metadata": {},
   "outputs": [
    {
     "output_type": "display_data",
     "data": {
      "text/plain": "<IPython.core.display.Markdown object>",
      "text/markdown": "For the following exercises, find the indicated sum.\n"
     },
     "metadata": {}
    }
   ],
   "source": [
    "\n",
    "%%markdown\n",
    "For the following exercises, find the indicated sum.\n"
   ]
  },
  {
   "cell_type": "code",
   "execution_count": 140,
   "metadata": {},
   "outputs": [
    {
     "output_type": "display_data",
     "data": {
      "text/plain": "<IPython.core.display.Markdown object>",
      "text/markdown": "31) $\\sum_{n=1}^{6}n(n-2)$\n### term1): -1\n### term2): 0\n### term3): 3\n### term4): 8\n### term5): 15\n### term6): 24\n# answer: 49\n"
     },
     "metadata": {}
    }
   ],
   "source": [
    "%%markdown\n",
    "31) $\\sum_{n=1}^{6}n(n-2)$\n",
    "### term1): -1\n",
    "### term2): 0\n",
    "### term3): 3\n",
    "### term4): 8\n",
    "### term5): 15\n",
    "### term6): 24\n",
    "# answer: 49"
   ]
  },
  {
   "cell_type": "code",
   "execution_count": 143,
   "metadata": {},
   "outputs": [
    {
     "output_type": "display_data",
     "data": {
      "text/plain": "<IPython.core.display.Markdown object>",
      "text/markdown": "33) $\\sum\\limits_{k=1}^{7}2^k$\n### term 1): 2\n### term 2): 4\n### term 3): 8\n### term 4): 16\n### term 5): 32\n### term 6): 64\n### term 7): 128\n# answer: 254\n"
     },
     "metadata": {}
    }
   ],
   "source": [
    "%%markdown\n",
    "33) $\\sum\\limits_{k=1}^{7}2^k$\n",
    "### term 1): 2\n",
    "### term 2): 4\n",
    "### term 3): 8\n",
    "### term 4): 16\n",
    "### term 5): 32\n",
    "### term 6): 64\n",
    "### term 7): 128\n",
    "# answer: 254\n"
   ]
  },
  {
   "cell_type": "code",
   "execution_count": 20,
   "metadata": {},
   "outputs": [
    {
     "output_type": "display_data",
     "data": {
      "text/plain": "<IPython.core.display.Markdown object>",
      "text/markdown": "For the following exercises, use the formula for the sum of the first n terms of an arithmetic series to find the sum.\n"
     },
     "metadata": {}
    }
   ],
   "source": [
    "%%markdown\n",
    "For the following exercises, use the formula for the sum of the first n terms of an arithmetic series to find the sum.\n"
   ]
  },
  {
   "cell_type": "code",
   "execution_count": 158,
   "metadata": {},
   "outputs": [
    {
     "output_type": "display_data",
     "data": {
      "text/plain": "<IPython.core.display.Markdown object>",
      "text/markdown": "35) $6+\\frac{15}{2}+9+\\frac{21}{2}+12+\\frac{27}{2}+15$\n### $S_n = \\frac{n(a_1+a_n)}{2}$\n### $S_7 = \\frac{7(6+15)}{2}$\n# answer: $S_7 = 73.5$\n"
     },
     "metadata": {}
    }
   ],
   "source": [
    "\n",
    "%%markdown\n",
    "35) $6+\\frac{15}{2}+9+\\frac{21}{2}+12+\\frac{27}{2}+15$\n",
    "### $S_n = \\frac{n(a_1+a_n)}{2}$\n",
    "### $S_7 = \\frac{7(6+15)}{2}$\n",
    "# answer: $S_7 = 73.5$\n"
   ]
  },
  {
   "cell_type": "code",
   "execution_count": 156,
   "metadata": {},
   "outputs": [
    {
     "output_type": "stream",
     "name": "stdout",
     "text": [
      "<br> 1) $6$\n<br> 2) $7.5$\n<br> 3) $9.0$\n<br> 4) $10.5$\n<br> 5) $12.0$\n<br> 6) $13.5$\n<br> 7) $15.0$\nsum: 73.5\n"
     ]
    }
   ],
   "source": [
    "arithmtc(6, 1.5, 7)"
   ]
  },
  {
   "cell_type": "code",
   "execution_count": 162,
   "metadata": {},
   "outputs": [
    {
     "output_type": "display_data",
     "data": {
      "text/plain": "<IPython.core.display.Markdown object>",
      "text/markdown": "37) $\\sum\\limits_{k=1}^{11}(\\frac{k}{2}-\\frac{1}{2})$\n### $S_n = \\frac{n(a_1+a_n)}{2}$\n### $S_11 = \\frac{11(0+a_{11})}{2}$\n### $a_11 = 1/2(11-1)$\n### $a_11 = 5%\n# answerr: $S_11 =  27.5$\n"
     },
     "metadata": {}
    }
   ],
   "source": [
    "%%markdown\n",
    "37) $\\sum\\limits_{k=1}^{11}(\\frac{k}{2}-\\frac{1}{2})$\n",
    "### $S_n = \\frac{n(a_1+a_n)}{2}$\n",
    "### $S_11 = \\frac{11(0+a_{11})}{2}$\n",
    "### $a_11 = 1/2(11-1)$\n",
    "### $a_11 = 5%\n",
    "# answerr: $S_11 =  27.5$"
   ]
  },
  {
   "cell_type": "code",
   "execution_count": 161,
   "metadata": {},
   "outputs": [
    {
     "output_type": "stream",
     "name": "stdout",
     "text": [
      "<br> 1) $0$\n<br> 2) $0.5$\n<br> 3) $1.0$\n<br> 4) $1.5$\n<br> 5) $2.0$\n<br> 6) $2.5$\n<br> 7) $3.0$\n<br> 8) $3.5$\n<br> 9) $4.0$\n<br> 10) $4.5$\n<br> 11) $5.0$\nsum: 27.5\n"
     ]
    }
   ],
   "source": [
    "arithmtc(0,0.5,11)"
   ]
  },
  {
   "cell_type": "code",
   "execution_count": 23,
   "metadata": {},
   "outputs": [
    {
     "output_type": "display_data",
     "data": {
      "text/plain": "<IPython.core.display.Markdown object>",
      "text/markdown": "For the following exercises, use the formula for the sum of the first n terms of a geometric series to find the partial sum.\n\n"
     },
     "metadata": {}
    }
   ],
   "source": [
    "%%markdown\n",
    "For the following exercises, use the formula for the sum of the first n terms of a geometric series to find the partial sum.\n",
    "\n"
   ]
  },
  {
   "cell_type": "code",
   "execution_count": 167,
   "metadata": {},
   "outputs": [
    {
     "output_type": "display_data",
     "data": {
      "text/plain": "<IPython.core.display.Markdown object>",
      "text/markdown": "39. $S_7$ for the series 0.4 − 2 + 10 − 50 ...\n### $S_n = \\frac{a_1(1-r^{n})}{1-r}$\n### $S_7 = \\frac{0.4(1-(-5^{7})}{1-(-5)}$\n# answer: $S_7 = 52084.4$\n"
     },
     "metadata": {}
    }
   ],
   "source": [
    "%%markdown\n",
    "39. $S_7$ for the series 0.4 − 2 + 10 − 50 ...\n",
    "### $S_n = \\frac{a_1(1-r^{n})}{1-r}$\n",
    "### $S_7 = \\frac{0.4(1-(-5^{7})}{1-(-5)}$\n",
    "# answer: $S_7 = 52084.4$"
   ]
  },
  {
   "cell_type": "code",
   "execution_count": 164,
   "metadata": {},
   "outputs": [
    {
     "output_type": "stream",
     "name": "stdout",
     "text": [
      "<br> 1) $0.4$\n<br> 2) $-2.0$\n<br> 3) $10.0$\n<br> 4) $-50.0$\n<br> 5) $250.0$\n<br> 6) $-1250.0$\n<br> 7) $6250.0$\nsum: 5208.4\n"
     ]
    }
   ],
   "source": [
    "-2/0.4\n",
    "geometric(0.4, -5.0, 7)"
   ]
  },
  {
   "cell_type": "code",
   "execution_count": 171,
   "metadata": {},
   "outputs": [
    {
     "output_type": "display_data",
     "data": {
      "text/plain": "<IPython.core.display.Markdown object>",
      "text/markdown": "41) $\\sum\\limits_{n=1}^{10}-2(\\frac{1}{2})^{n-1}$\n### $S_n = \\frac{a_1(1-r^{n})}{1-r}$\n### $S_{10} = \\frac{-2(1-(0.5^{10})}{1-(0.5)}$\n# answer: $S_{10} \\approx -4$\n"
     },
     "metadata": {}
    }
   ],
   "source": [
    "%%markdown\n",
    "41) $\\sum\\limits_{n=1}^{10}-2(\\frac{1}{2})^{n-1}$\n",
    "### $S_n = \\frac{a_1(1-r^{n})}{1-r}$\n",
    "### $S_{10} = \\frac{-2(1-(0.5^{10})}{1-(0.5)}$\n",
    "# answer: $S_{10} \\approx -4$"
   ]
  },
  {
   "cell_type": "code",
   "execution_count": 169,
   "metadata": {},
   "outputs": [
    {
     "output_type": "stream",
     "name": "stdout",
     "text": [
      "<br> 1) $-2$\n<br> 2) $-1.0$\n<br> 3) $-0.5$\n<br> 4) $-0.25$\n<br> 5) $-0.125$\n<br> 6) $-0.0625$\n<br> 7) $-0.03125$\n<br> 8) $-0.015625$\n<br> 9) $-0.0078125$\n<br> 10) $-0.00390625$\nsum: -4.0\n"
     ]
    }
   ],
   "source": [
    "geometric(-2, 0.5, 10)"
   ]
  },
  {
   "cell_type": "code",
   "execution_count": 26,
   "metadata": {},
   "outputs": [
    {
     "output_type": "display_data",
     "data": {
      "text/plain": "<IPython.core.display.Markdown object>",
      "text/markdown": "For the following exercises, find the sum of the infinite geometric series.\n\n"
     },
     "metadata": {}
    }
   ],
   "source": [
    "%%markdown\n",
    "For the following exercises, find the sum of the infinite geometric series.\n",
    "\n"
   ]
  },
  {
   "cell_type": "code",
   "execution_count": 175,
   "metadata": {},
   "outputs": [
    {
     "output_type": "display_data",
     "data": {
      "text/plain": "<IPython.core.display.Markdown object>",
      "text/markdown": "43) $-1-\\frac{1}{4}-\\frac{1}{16}-\\frac{1}{64}...$\n### $S_\\infty = \\frac{a_1}{1-r}$\n### $S_\\infty = \\frac{-1}{1-(0.25)}$\n# answer: $S_\\infty = -\\frac{4}{3}$\n"
     },
     "metadata": {}
    }
   ],
   "source": [
    "%%markdown\n",
    "43) $-1-\\frac{1}{4}-\\frac{1}{16}-\\frac{1}{64}...$\n",
    "### $S_\\infty = \\frac{a_1}{1-r}$\n",
    "### $S_\\infty = \\frac{-1}{1-(0.25)}$\n",
    "# answer: $S_\\infty = -\\frac{4}{3}$\n"
   ]
  },
  {
   "cell_type": "code",
   "execution_count": 183,
   "metadata": {},
   "outputs": [
    {
     "output_type": "display_data",
     "data": {
      "text/plain": "<IPython.core.display.Markdown object>",
      "text/markdown": "45) $\\sum\\limits_{n=1}^{\\infty}4.6\\cdot0.5^{n-1}$\n### $S_\\infty = \\frac{a_1}{1-r}$\n### $S_\\infty = \\frac{4.6}{1-(05)}$\n### $S_\\infty = \\frac{46}{10}\\cdot2$\n# answer: $S_\\infty = 9.2$\n"
     },
     "metadata": {}
    }
   ],
   "source": [
    "%%markdown\n",
    "45) $\\sum\\limits_{n=1}^{\\infty}4.6\\cdot0.5^{n-1}$\n",
    "### $S_\\infty = \\frac{a_1}{1-r}$\n",
    "### $S_\\infty = \\frac{4.6}{1-(05)}$\n",
    "### $S_\\infty = \\frac{46}{10}\\cdot2$\n",
    "# answer: $S_\\infty = 9.2$"
   ]
  },
  {
   "cell_type": "code",
   "execution_count": 182,
   "metadata": {},
   "outputs": [
    {
     "output_type": "stream",
     "name": "stdout",
     "text": [
      "sum: 0\n"
     ]
    },
    {
     "output_type": "execute_result",
     "data": {
      "text/plain": [
       "9.2"
      ]
     },
     "metadata": {},
     "execution_count": 182
    }
   ],
   "source": [
    "geometric(4.6, 0.5, 0)\n",
    "46/5"
   ]
  },
  {
   "cell_type": "code",
   "execution_count": 29,
   "metadata": {},
   "outputs": [
    {
     "output_type": "display_data",
     "data": {
      "text/plain": "<IPython.core.display.Markdown object>",
      "text/markdown": "For the following exercises, determine the value of the annuity for the indicated monthly deposit amount, the number\nof deposits, and the interest rate.\n\n"
     },
     "metadata": {}
    }
   ],
   "source": [
    "\n",
    "%%markdown\n",
    "For the following exercises, determine the value of the annuity for the indicated monthly deposit amount, the number\n",
    "of deposits, and the interest rate.\n",
    "\n"
   ]
  },
  {
   "cell_type": "code",
   "execution_count": 201,
   "metadata": {},
   "outputs": [
    {
     "output_type": "display_data",
     "data": {
      "text/plain": "<IPython.core.display.Markdown object>",
      "text/markdown": "46. Deposit amount: $50; total deposits: 60; interest rate:\n5%, compounded monthly\n### $ r = 1+0.05/12 \\Rightarrow = \\frac{241}{240}$\n### $S_n = \\frac{a_1(1-r^n)}{1-r}$\n### $S_{60} = \\frac{50(1 - (\\frac{241}{240})^{60})}{1-\\frac{241}{240}}$\n# answer: The value of the annuity after 60 deposits will be \\$3400.3\n"
     },
     "metadata": {}
    }
   ],
   "source": [
    "%%markdown\n",
    "46. Deposit amount: $50; total deposits: 60; interest rate:\n",
    "5%, compounded monthly\n",
    "### $ r = 1+0.05/12 \\Rightarrow = \\frac{241}{240}$\n",
    "### $S_n = \\frac{a_1(1-r^n)}{1-r}$\n",
    "### $S_{60} = \\frac{50(1 - (\\frac{241}{240})^{60})}{1-\\frac{241}{240}}$\n",
    "# answer: The value of the annuity after 60 deposits will be \\$3400.3\n"
   ]
  },
  {
   "cell_type": "code",
   "execution_count": 200,
   "metadata": {},
   "outputs": [
    {
     "output_type": "stream",
     "name": "stdout",
     "text": [
      "<br> 1) $50$\n<br> 2) $50.2083333333$\n<br> 3) $50.4175347222$\n<br> 4) $50.6276077835$\n<br> 5) $50.8385561493$\n<br> 6) $51.0503834666$\n<br> 7) $51.2630933977$\n<br> 8) $51.4766896202$\n<br> 9) $51.691175827$\n<br> 10) $51.9065557263$\n<br> 11) $52.1228330418$\n<br> 12) $52.3400115128$\n<br> 13) $52.5580948941$\n<br> 14) $52.7770869562$\n<br> 15) $52.9969914852$\n<br> 16) $53.2178122831$\n<br> 17) $53.4395531676$\n<br> 18) $53.6622179725$\n<br> 19) $53.8858105474$\n<br> 20) $54.110334758$\n<br> 21) $54.3357944862$\n<br> 22) $54.5621936299$\n<br> 23) $54.7895361034$\n<br> 24) $55.0178258372$\n<br> 25) $55.2470667782$\n<br> 26) $55.4772628898$\n<br> 27) $55.7084181518$\n<br> 28) $55.9405365608$\n<br> 29) $56.1736221298$\n<br> 30) $56.4076788887$\n<br> 31) $56.6427108841$\n<br> 32) $56.8787221795$\n<br> 33) $57.1157168552$\n<br> 34) $57.3536990088$\n<br> 35) $57.5926727547$\n<br> 36) $57.8326422245$\n<br> 37) $58.0736115671$\n<br> 38) $58.3155849486$\n<br> 39) $58.5585665526$\n<br> 40) $58.8025605799$\n<br> 41) $59.047571249$\n<br> 42) $59.2936027959$\n<br> 43) $59.5406594742$\n<br> 44) $59.7887455553$\n<br> 45) $60.0378653284$\n<br> 46) $60.2880231006$\n<br> 47) $60.5392231969$\n<br> 48) $60.7914699602$\n<br> 49) $61.0447677517$\n<br> 50) $61.2991209507$\n<br> 51) $61.5545339547$\n<br> 52) $61.8110111795$\n<br> 53) $62.0685570594$\n<br> 54) $62.3271760471$\n<br> 55) $62.586872614$\n<br> 56) $62.8476512499$\n<br> 57) $63.1095164634$\n<br> 58) $63.372472782$\n<br> 59) $63.6365247519$\n<br> 60) $63.9016769384$\nsum: 3400.3\n"
     ]
    },
    {
     "output_type": "execute_result",
     "data": {
      "text/plain": [
       "0.004166666666666667"
      ]
     },
     "metadata": {},
     "execution_count": 200
    }
   ],
   "source": [
    "geometric(50, 241/240, 60)\n",
    "0.05/12"
   ]
  },
  {
   "cell_type": "code",
   "execution_count": 206,
   "metadata": {},
   "outputs": [
    {
     "output_type": "display_data",
     "data": {
      "text/plain": "<IPython.core.display.Markdown object>",
      "text/markdown": "47. Deposit amount: $150; total deposits: 24; interest\nrate: 3%, compounded monthly\n### $r = 1+0.03/12 \\Rightarrow 1.0025$\n### $S_n = \\frac{a_1(1-r^n)}{1-r}$\n### $S_24 = \\frac{150(1-1.0025^24)}{1-1.0025}$\n# answer: The value of the annuity after 60 deposits will be \\$3705.42\n"
     },
     "metadata": {}
    }
   ],
   "source": [
    "%%markdown\n",
    "47. Deposit amount: $150; total deposits: 24; interest\n",
    "rate: 3%, compounded monthly\n",
    "### $r = 1+0.03/12 \\Rightarrow 1.0025$\n",
    "### $S_n = \\frac{a_1(1-r^n)}{1-r}$\n",
    "### $S_24 = \\frac{150(1-1.0025^24)}{1-1.0025}$\n",
    "# answer: The value of the annuity after 60 deposits will be \\$3705.42"
   ]
  },
  {
   "cell_type": "code",
   "execution_count": 205,
   "metadata": {},
   "outputs": [
    {
     "output_type": "stream",
     "name": "stdout",
     "text": [
      "<br> 1) $150$\n<br> 2) $150.375$\n<br> 3) $150.7509375$\n<br> 4) $151.1278148437$\n<br> 5) $151.5056343808$\n<br> 6) $151.8843984668$\n<br> 7) $152.264109463$\n<br> 8) $152.6447697367$\n<br> 9) $153.026381661$\n<br> 10) $153.4089476152$\n<br> 11) $153.7924699842$\n<br> 12) $154.1769511592$\n<br> 13) $154.5623935371$\n<br> 14) $154.9487995209$\n<br> 15) $155.3361715197$\n<br> 16) $155.7245119485$\n<br> 17) $156.1138232284$\n<br> 18) $156.5041077865$\n<br> 19) $156.895368056$\n<br> 20) $157.2876064761$\n<br> 21) $157.6808254923$\n<br> 22) $158.075027556$\n<br> 23) $158.4702151249$\n<br> 24) $158.8663906627$\nsum: 3705.42\n"
     ]
    }
   ],
   "source": [
    "0.03/12\n",
    "geometric(150, 1.0025, 24)"
   ]
  },
  {
   "cell_type": "code",
   "execution_count": 32,
   "metadata": {},
   "outputs": [
    {
     "output_type": "display_data",
     "data": {
      "text/plain": "<IPython.core.display.Markdown object>",
      "text/markdown": "48. Deposit amount: $450; total deposits: 60; interest\nrate: 4.5%, compounded quarterly\n"
     },
     "metadata": {}
    }
   ],
   "source": [
    "%%markdown\n",
    "48. Deposit amount: $450; total deposits: 60; interest\n",
    "rate: 4.5%, compounded quarterly\n",
    "### $r = 1+0.045/12 \\Rightarrow 1.00375$\n",
    "### $S_n = \\frac{a_1(1-r^n)}{1-r}$\n",
    "### $S_60 = \\frac{450(1-1.00375^60)}{1-1.00375}$\n",
    "# answer: The value of the annuity after 60 deposits will be \\$30215.5"
   ]
  },
  {
   "cell_type": "code",
   "execution_count": 208,
   "metadata": {},
   "outputs": [
    {
     "output_type": "stream",
     "name": "stdout",
     "text": [
      "<br> 1) $450$\n<br> 2) $451.6875$\n<br> 3) $453.381328125$\n<br> 4) $455.0815081055$\n<br> 5) $456.7880637609$\n<br> 6) $458.501019$\n<br> 7) $460.2203978212$\n<br> 8) $461.946224313$\n<br> 9) $463.6785226542$\n<br> 10) $465.4173171142$\n<br> 11) $467.1626320534$\n<br> 12) $468.9144919236$\n<br> 13) $470.6729212683$\n<br> 14) $472.4379447231$\n<br> 15) $474.2095870158$\n<br> 16) $475.9878729671$\n<br> 17) $477.7728274907$\n<br> 18) $479.5644755938$\n<br> 19) $481.3628423773$\n<br> 20) $483.1679530362$\n<br> 21) $484.9798328601$\n<br> 22) $486.7985072333$\n<br> 23) $488.6240016354$\n<br> 24) $490.4563416415$\n<br> 25) $492.2955529227$\n<br> 26) $494.1416612462$\n<br> 27) $495.9946924759$\n<br> 28) $497.8546725727$\n<br> 29) $499.7216275948$\n<br> 30) $501.5955836983$\n<br> 31) $503.4765671372$\n<br> 32) $505.364604264$\n<br> 33) $507.25972153$\n<br> 34) $509.1619454857$\n<br> 35) $511.0713027813$\n<br> 36) $512.9878201667$\n<br> 37) $514.9115244923$\n<br> 38) $516.8424427091$\n<br> 39) $518.7806018693$\n<br> 40) $520.7260291263$\n<br> 41) $522.6787517355$\n<br> 42) $524.6387970545$\n<br> 43) $526.6061925435$\n<br> 44) $528.5809657655$\n<br> 45) $530.5631443871$\n<br> 46) $532.5527561786$\n<br> 47) $534.5498290143$\n<br> 48) $536.5543908731$\n<br> 49) $538.5664698389$\n<br> 50) $540.5860941008$\n<br> 51) $542.6132919537$\n<br> 52) $544.6480917985$\n<br> 53) $546.6905221427$\n<br> 54) $548.7406116007$\n<br> 55) $550.7983888942$\n<br> 56) $552.8638828526$\n<br> 57) $554.9371224133$\n<br> 58) $557.0181366223$\n<br> 59) $559.1069546346$\n<br> 60) $561.2036057145$\nsum: 30215.5\n"
     ]
    }
   ],
   "source": [
    "0.045/12\n",
    "geometric(450,1.00375, 60)"
   ]
  },
  {
   "cell_type": "code",
   "execution_count": 212,
   "metadata": {},
   "outputs": [
    {
     "output_type": "display_data",
     "data": {
      "text/plain": "<IPython.core.display.Markdown object>",
      "text/markdown": "49. Deposit amount: $100; total deposits: 120; interest\nrate: 10%, compounded semi-annually\n### $r = 1+0.1/12 \\Rightarrow 1.00833$\n### $S_n = \\frac{a_1(1-r^n)}{1-r}$\n### $S_120 = \\frac{100(1-1.00833^{120})}{1-1.00833}$\n# answer: The value of the annuity after 60 deposits will be \\$20479.81\n"
     },
     "metadata": {}
    }
   ],
   "source": [
    "%%markdown\n",
    "49. Deposit amount: $100; total deposits: 120; interest\n",
    "rate: 10%, compounded semi-annually\n",
    "### $r = 1+0.1/12 \\Rightarrow 1.00833$\n",
    "### $S_n = \\frac{a_1(1-r^n)}{1-r}$\n",
    "### $S_120 = \\frac{100(1-1.00833^{120})}{1-1.00833}$\n",
    "# answer: The value of the annuity after 60 deposits will be \\$20479.81"
   ]
  },
  {
   "cell_type": "code",
   "execution_count": 210,
   "metadata": {},
   "outputs": [
    {
     "output_type": "stream",
     "name": "stdout",
     "text": [
      "<br> 1) $100$\n<br> 2) $100.833$\n<br> 3) $101.67293889$\n<br> 4) $102.519874471$\n<br> 5) $103.3738650253$\n<br> 6) $104.234969321$\n<br> 7) $105.1032466154$\n<br> 8) $105.9787566597$\n<br> 9) $106.8615597027$\n<br> 10) $107.751716495$\n<br> 11) $108.6492882934$\n<br> 12) $109.5543368649$\n<br> 13) $110.466924491$\n<br> 14) $111.387113972$\n<br> 15) $112.3149686314$\n<br> 16) $113.2505523201$\n<br> 17) $114.1939294209$\n<br> 18) $115.145164853$\n<br> 19) $116.1043240762$\n<br> 20) $117.0714730958$\n<br> 21) $118.0466784667$\n<br> 22) $119.0300072983$\n<br> 23) $120.0215272591$\n<br> 24) $121.0213065812$\n<br> 25) $122.029414065$\n<br> 26) $123.0459190842$\n<br> 27) $124.0708915902$\n<br> 28) $125.1044021171$\n<br> 29) $126.1465217867$\n<br> 30) $127.1973223132$\n<br> 31) $128.2568760081$\n<br> 32) $129.3252557852$\n<br> 33) $130.4025351659$\n<br> 34) $131.4887882838$\n<br> 35) $132.5840898902$\n<br> 36) $133.688515359$\n<br> 37) $134.8021406919$\n<br> 38) $135.9250425239$\n<br> 39) $137.0572981281$\n<br> 40) $138.1989854215$\n<br> 41) $139.3501829701$\n<br> 42) $140.5109699942$\n<br> 43) $141.6814263743$\n<br> 44) $142.861632656$\n<br> 45) $144.051670056$\n<br> 46) $145.2516204676$\n<br> 47) $146.4615664661$\n<br> 48) $147.6815913148$\n<br> 49) $148.9117789705$\n<br> 50) $150.1522140893$\n<br> 51) $151.4029820327$\n<br> 52) $152.664168873$\n<br> 53) $153.9358613997$\n<br> 54) $155.2181471252$\n<br> 55) $156.5111142908$\n<br> 56) $157.8148518728$\n<br> 57) $159.1294495889$\n<br> 58) $160.454997904$\n<br> 59) $161.7915880365$\n<br> 60) $163.1393119648$\n<br> 61) $164.4982624335$\n<br> 62) $165.8685329596$\n<br> 63) $167.2502178392$\n<br> 64) $168.6434121538$\n<br> 65) $170.048211777$\n<br> 66) $171.4647133811$\n<br> 67) $172.8930144436$\n<br> 68) $174.3332132539$\n<br> 69) $175.7854089203$\n<br> 70) $177.2497013766$\n<br> 71) $178.7261913891$\n<br> 72) $180.2149805634$\n<br> 73) $181.7161713515$\n<br> 74) $183.2298670589$\n<br> 75) $184.7561718515$\n<br> 76) $186.295190763$\n<br> 77) $187.8470297021$\n<br> 78) $189.4117954595$\n<br> 79) $190.9895957157$\n<br> 80) $192.580539048$\n<br> 81) $194.1847349383$\n<br> 82) $195.8022937803$\n<br> 83) $197.4333268875$\n<br> 84) $199.0779465005$\n<br> 85) $200.7362657948$\n<br> 86) $202.4083988889$\n<br> 87) $204.0944608516$\n<br> 88) $205.7945677105$\n<br> 89) $207.5088364595$\n<br> 90) $209.2373850672$\n<br> 91) $210.9803324848$\n<br> 92) $212.7377986544$\n<br> 93) $214.5099045172$\n<br> 94) $216.2967720218$\n<br> 95) $218.0985241327$\n<br> 96) $219.9152848387$\n<br> 97) $221.7471791614$\n<br> 98) $223.5943331638$\n<br> 99) $225.4568739591$\n<br> 100) $227.3349297192$\n<br> 101) $229.2286296838$\n<br> 102) $231.1381041691$\n<br> 103) $233.0634845768$\n<br> 104) $235.0049034033$\n<br> 105) $236.9624942486$\n<br> 106) $238.9363918257$\n<br> 107) $240.9267319696$\n<br> 108) $242.9336516469$\n<br> 109) $244.9572889651$\n<br> 110) $246.9977831822$\n<br> 111) $249.0552747161$\n<br> 112) $251.1299051545$\n<br> 113) $253.2218172644$\n<br> 114) $255.3311550022$\n<br> 115) $257.4580635234$\n<br> 116) $259.6026891925$\n<br> 117) $261.7651795935$\n<br> 118) $263.9456835395$\n<br> 119) $266.1443510834$\n<br> 120) $268.3613335279$\nsum: 20479.81\n"
     ]
    }
   ],
   "source": [
    "0.1/12\n",
    "geometric(100,1.00833,)"
   ]
  },
  {
   "cell_type": "code",
   "execution_count": 221,
   "metadata": {},
   "outputs": [
    {
     "output_type": "display_data",
     "data": {
      "text/plain": "<IPython.core.display.Markdown object>",
      "text/markdown": "51) $\\text{ Write an explicit formula for }a_k \\text{  such that }\\sum\\limits_{k=0}^6ak = 189 \\text{. assume this is an arithmetic series}$\n### $ S_n = \\frac{n(a_1+a_n)}{2}$\n### $ S_7 = \\frac{7(a_1+a_7)}{2} = 189$\n### $a+2a+3a+4a+5a+6a = 189$\n### $a = 21$\n### $a_k = 21(k-1)$\n"
     },
     "metadata": {}
    }
   ],
   "source": [
    "%%markdown\n",
    "51) $\\text{ Write an explicit formula for }a_k \\text{  such that }\\sum\\limits_{k=0}^6ak = 189 \\text{. assume this is an arithmetic series}$\n",
    "### $ S_n = \\frac{n(a_1+a_n)}{2}$\n",
    "### $ S_7 = \\frac{7(a_1+a_7)}{2} = 189$\n",
    "### $a+2a+3a+4a+5a+6a = 189$\n",
    "### $a = 9$\n",
    "# answer $a_k = 9(k-1)$"
   ]
  },
  {
   "cell_type": "code",
   "execution_count": 225,
   "metadata": {},
   "outputs": [
    {
     "output_type": "stream",
     "name": "stdout",
     "text": [
      "<br> 1) $0$\n<br> 2) $9$\n<br> 3) $18$\n<br> 4) $27$\n<br> 5) $36$\n<br> 6) $45$\n<br> 7) $54$\nsum: 189\n"
     ]
    }
   ],
   "source": [
    "189/21\n",
    "arithmtc(0, 9, 7)"
   ]
  },
  {
   "cell_type": "code",
   "execution_count": 227,
   "metadata": {},
   "outputs": [
    {
     "output_type": "display_data",
     "data": {
      "text/plain": "<IPython.core.display.Markdown object>",
      "text/markdown": "53) $\\text{How many terms must be added before the series }-1-3-5-7...\\text{  has a sum less than }-75?$\n### $a_n = -1-2(n-1)$\n### $S_k = \\frac{k(a_1+a_k)}{2} = -75\n"
     },
     "metadata": {}
    }
   ],
   "source": [
    "%%markdown\n",
    "53) $\\text{How many terms must be added before the series }-1-3-5-7...\\text{  has a sum less than }-75?$\n",
    "### $a_n = -1-2(n-1)$\n",
    "### $S_k = \\frac{k(a_1+a_k)}{2} = -75$\n",
    "### $k(a_k-1) = -150$\n",
    "### $a_k = -1-2k+2 \\Rightarrow 1-2k$\n",
    "### $k(1-2k-1)=-150$\n",
    "### $2k^2 = 150$\n",
    "### $k = 5\\sqrt{3}$\n",
    "# answer: At least 9 terms should be added to the abovementioned series before the sum will be less than -75\n"
   ]
  },
  {
   "cell_type": "code",
   "execution_count": 230,
   "metadata": {},
   "outputs": [
    {
     "output_type": "stream",
     "name": "stdout",
     "text": [
      "<br> 1) $-1$\n<br> 2) $-3$\n<br> 3) $-5$\n<br> 4) $-7$\n<br> 5) $-9$\n<br> 6) $-11$\n<br> 7) $-13$\n<br> 8) $-15$\n<br> 9) $-17$\nsum: -81\n"
     ]
    }
   ],
   "source": [
    "np.sqrt(75)\n",
    "arithmtc(-1, -2, 9)"
   ]
  },
  {
   "cell_type": "code",
   "execution_count": 234,
   "metadata": {},
   "outputs": [
    {
     "output_type": "display_data",
     "data": {
      "text/plain": "<IPython.core.display.Markdown object>",
      "text/markdown": "55) The sum of an infinite geometric series is five times the value of the first term. What is the common ratio of the series?\n### $S_\\infty = 5\\cdot{a_1}$\n### $S_\\infty = \\frac{a1}{1-r}$\n### $5a_1(1-r) =a_1/ assumig that a_1 \\ne 0$\n### $5-5r = 1$\n### $r = 0.8$\n# answer:  the common ratio of the series equal 0.8\n"
     },
     "metadata": {}
    }
   ],
   "source": [
    "%%markdown\n",
    "55) The sum of an infinite geometric series is five times the value of the first term. What is the common ratio of the series?\n",
    "### $S_\\infty = 5\\cdot{a_1}$\n",
    "### $S_\\infty = \\frac{a1}{1-r}$\n",
    "### $5a_1(1-r) =a_1/ assumig that a_1 \\ne 0$\n",
    "### $5-5r = 1$\n",
    "### $r = 0.8$\n",
    "# answer:  the common ratio of the series equal 0.8\n"
   ]
  },
  {
   "cell_type": "code",
   "execution_count": 268,
   "metadata": {},
   "outputs": [
    {
     "output_type": "display_data",
     "data": {
      "text/plain": "<IPython.core.display.Markdown object>",
      "text/markdown": "# 57) Karl has two years to save \\$10,000 to buy a used car when he graduates. to the nearest dollar, what would his monthly deposits need to be if he invests in an account offering a 4.2% annual interest rate that compounds monthly?\n### $S_{car} = 10,000$\n### $ r = 1+0.042/12 \\Rightarrow 1.0035$\n### $ t = 2\\cdot12 \\Rightarrow 24$\n### deposit: $d\n### $S_n = \\frac{a_1(1-r^n)}{1-r}$\n### $S_{car} = \\frac{d(1-1.0035^{24})}{1-1.0035} = 10,000$\n### $\\frac{-0.08747d}{-0.0035} = 10,000$\n### $24.99d = 10000$\n### $d > 400.16$\n# answer: Karl should deposit at least $4 per month to have enough money to buy a $10,000 worth car after 2 years\n"
     },
     "metadata": {}
    }
   ],
   "source": [
    "%%markdown\n",
    "# 57) Karl has two years to save \\$10,000 to buy a used car when he graduates. to the nearest dollar, what would his monthly deposits need to be if he invests in an account offering a 4.2% annual interest rate that compounds monthly?\n",
    "### $S_{car} = 10,000$\n",
    "### $ r = 1+0.042/12 \\Rightarrow 1.0035$\n",
    "### $ t = 2\\cdot12 \\Rightarrow 24$\n",
    "### deposit: $d\n",
    "### $S_n = \\frac{a_1(1-r^n)}{1-r}$\n",
    "### $S_{car} = \\frac{d(1-1.0035^{24})}{1-1.0035} = 10,000$\n",
    "### $\\frac{-0.08747d}{-0.0035} = 10,000$\n",
    "### $24.99d = 10000$\n",
    "### $d > 400.16$\n",
    "# answer: Karl should deposit at least $401 per month to have enough money to buy a $10,000 worth car after 2 years"
   ]
  },
  {
   "cell_type": "code",
   "execution_count": 267,
   "metadata": {},
   "outputs": [
    {
     "output_type": "stream",
     "name": "stdout",
     "text": [
      "1.0035\n24.99126\n400.16\n"
     ]
    }
   ],
   "source": [
    "print(1+0.042/12)\n",
    "print(round((1-1.0035**24)/(1-1.0035), 5))\n",
    "print(round(10000/24.99, 2))\n",
    "# geometric(401, 1.0035, 24)"
   ]
  },
  {
   "cell_type": "code",
   "execution_count": 277,
   "metadata": {},
   "outputs": [
    {
     "output_type": "display_data",
     "data": {
      "text/plain": "<IPython.core.display.Markdown object>",
      "text/markdown": "59) A boulder rolled down a mountain, traveling 6 feet in the first secound. Each successive second , its distance increased by 8 feet. How far did the boulder travel after 10 seconds\n### $X_{t = 1} = 6_{ft}$\n### $\\Delta_tX = 8$\n### $ t = 10$\n### $X_{10} = 6+8\\cdot9$\n### $X_{10} = 78_{ft}$\n### $S_10 = \\frac{10(6+78)}{2}$\n### $S_10 = 420$\n# answer: After 10 seconds the boulder traveled 420 feet\n"
     },
     "metadata": {}
    }
   ],
   "source": [
    "%%markdown\n",
    "59) A boulder rolled down a mountain, traveling 6 feet in the first secound. Each successive second , its distance increased by 8 feet. How far did the boulder travel after 10 seconds\n",
    "### $X_{t = 1} = 6_{ft}$\n",
    "### $\\Delta_tX = 8$\n",
    "### $ t = 10$\n",
    "### $X_{10} = 6+8\\cdot9$\n",
    "### $X_{10} = 78_{ft}$\n",
    "### $S_10 = \\frac{10(6+78)}{2}$\n",
    "### $S_10 = 420$\n",
    "# answer: After 10 seconds the boulder traveled 420 feet\n"
   ]
  },
  {
   "cell_type": "code",
   "execution_count": 275,
   "metadata": {},
   "outputs": [
    {
     "output_type": "stream",
     "name": "stdout",
     "text": [
      "<br> 1) $6$\n<br> 2) $14$\n<br> 3) $22$\n<br> 4) $30$\n<br> 5) $38$\n<br> 6) $46$\n<br> 7) $54$\n<br> 8) $62$\n<br> 9) $70$\n<br> 10) $78$\nsum: 420\n"
     ]
    }
   ],
   "source": [
    "arithmtc(6, 8, 10)"
   ]
  },
  {
   "cell_type": "code",
   "execution_count": 285,
   "metadata": {},
   "outputs": [
    {
     "output_type": "display_data",
     "data": {
      "text/plain": "<IPython.core.display.Markdown object>",
      "text/markdown": "# 61)  A pendulum travels a distance of 3 feet on its first swing. on each successive swing, it travels $\\frac{3}{4}$ the distance of the previous swing. What is the total distance traveled by the pendulum when it stops swinging?\n### $X_1 = 3_{ft}$\n### $\\Delta{X} = \\frac{3}{4}$\n### $S_\\infty = \\frac{a_1}{1-r}$\n### $S_\\infty = \\frac{3}{0.25} \\Rightarrow 12$\n# answer: The pendulum would travel 12 ft before it stops swinging\n"
     },
     "metadata": {}
    }
   ],
   "source": [
    "%%markdown\n",
    "# 61)  A pendulum travels a distance of 3 feet on its first swing. on each successive swing, it travels $\\frac{3}{4}$ the distance of the previous swing. What is the total distance traveled by the pendulum when it stops swinging?\n",
    "### $X_1 = 3_{ft}$\n",
    "### $\\Delta{X} = \\frac{3}{4}$\n",
    "### $S_\\infty = \\frac{a_1}{1-r}$\n",
    "### $S_\\infty = \\frac{3}{0.25} \\Rightarrow 12$\n",
    "# answer: The pendulum would travel 12 ft before it stops swinging"
   ]
  },
  {
   "cell_type": "code",
   "execution_count": 283,
   "metadata": {},
   "outputs": [
    {
     "output_type": "execute_result",
     "data": {
      "text/plain": [
       "12.0"
      ]
     },
     "metadata": {},
     "execution_count": 283
    }
   ],
   "source": [
    "3/0.25"
   ]
  },
  {
   "cell_type": "code",
   "execution_count": 142,
   "metadata": {},
   "outputs": [
    {
     "output_type": "stream",
     "name": "stdout",
     "text": [
      "### term 1): 2\n### term 2): 4\n### term 3): 8\n### term 4): 16\n### term 5): 32\n### term 6): 64\n### term 7): 128\n# answer: 254\n"
     ]
    }
   ],
   "source": [
    "### $r = 1+0.045/12 \\Rightarrow 1.00375$\n",
    "### $S_n = \\frac{a_1(1-r^n)}{1-r}$\n",
    "### $S_60 = \\frac{450(1-1.00375^60)}{1-1.00375}$\n",
    "# answer: The value of the annuity after 60 deposits will be \\$3705.42\n",
    "def term(n):\n",
    "    return 2**n\n",
    "\n",
    "sum = 0\n",
    "for i in range(1, 8):\n",
    "    print(\"### term \" +str(i)+\"): \"+str(term(i)))\n",
    "    sum+=term(i)\n",
    "print(\"# answer: \" +str(sum))"
   ]
  }
 ]
}