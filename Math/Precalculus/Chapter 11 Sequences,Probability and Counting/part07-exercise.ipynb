{
 "metadata": {
  "language_info": {
   "codemirror_mode": {
    "name": "ipython",
    "version": 3
   },
   "file_extension": ".py",
   "mimetype": "text/x-python",
   "name": "python",
   "nbconvert_exporter": "python",
   "pygments_lexer": "ipython3",
   "version": "3.8.6-final"
  },
  "orig_nbformat": 2,
  "kernelspec": {
   "name": "python3",
   "display_name": "Python 3"
  }
 },
 "nbformat": 4,
 "nbformat_minor": 2,
 "cells": [
  {
   "cell_type": "code",
   "execution_count": 3,
   "metadata": {},
   "outputs": [],
   "source": [
    "import numpy as np\n",
    "import math\n",
    "import functools\n",
    "fact = math.factorial\n",
    "def ordered(n, r=False):\n",
    "    if not r:\n",
    "        r = n\n",
    "    return math.factorial(n)/math.factorial(n-r)\n",
    "def combine(n, r=False):\n",
    "    if not r:\n",
    "        r = n\n",
    "    return math.factorial(n)/(math.factorial(r)*math.factorial(n-r))\n",
    "def non_distinct(n, d_list):\n",
    "    return math.factorial(n)/functools.reduce(lambda a, b : a * math.factorial(b), d_list, 1)\n",
    "def split(word): \n",
    "    return [char for char in word]\n",
    "def prob_event(desired_out, total_out):\n",
    "    return round(desired_out/total_out, 4)\n",
    "\n",
    "\n"
   ]
  },
  {
   "cell_type": "code",
   "execution_count": 8,
   "metadata": {},
   "outputs": [
    {
     "output_type": "display_data",
     "data": {
      "text/plain": "<IPython.core.display.Markdown object>",
      "text/markdown": "## Union $\\cup$\n## Intersection $\\cap$\n## computing the probability of an event E with equally likely outcomes within sample space S:\n## $P_{e} = \\frac{_n(E)}{_n(S)}$\n## The probability of a union of two events:\n### $P_{(E\\cup F)} = P_E+P_F - P_{(E \\cap F)}$\n"
     },
     "metadata": {}
    }
   ],
   "source": [
    "%%markdown\n",
    "## Union $\\cup$\n",
    "## Intersection $\\cap$\n",
    "## computing the probability of an event E with equally likely outcomes within sample space S:\n",
    "## $P_{e} = \\frac{_n(E)}{_n(S)}$\n",
    "## The probability of a union of two events:\n",
    "### $P_{(E\\cup F)} = P_E+P_F - P_{(E \\cap F)}$"
   ]
  },
  {
   "cell_type": "code",
   "execution_count": 1,
   "metadata": {},
   "outputs": [
    {
     "output_type": "display_data",
     "data": {
      "text/plain": "<IPython.core.display.Markdown object>",
      "text/markdown": "1. What term is used to express the likelihood of an\nevent occurring? Are there restrictions on its values?\nIf so, what are they? If not, explain.\n# answer: The likelihood of an event to happen is called probability. Its values should be between $0 \\le p \\le 1$\n2. What is a sample space?\n# answer: set of all possible outcomes of an experiment\n3. What is an experiment?\n# answer: an activity with an observable result\n4. What is the difference between events and\noutcomes? Give an example of both using the\nsample space of tossing a coin 50 times.\n# answer: An outcome is a possible result of an experiment, while an event produces an actual result. in a sample space of tossing a coin 50 times, heads is an outcome (possible result) while a toss out of the 50 is an event\n5. The union of two sets is defined as a set of elements\nthat are present in at least one of the sets. How is\nthis similar to the definition used for the union\nof two events from a probability model? How is it\ndifferent?\n# answer: The definition used for the union of two events is the probability that one of the events will happen, excluding  outcomes that are common between the event. while the union of two sets includes all of the common elements of both of the sets\n"
     },
     "metadata": {}
    }
   ],
   "source": [
    "%%markdown\n",
    "1. What term is used to express the likelihood of an\n",
    "event occurring? Are there restrictions on its values?\n",
    "If so, what are they? If not, explain.\n",
    "# answer: The likelihood of an event to happen is called probability. Its values should be between $0 \\le p \\le 1$\n",
    "2. What is a sample space?\n",
    "# answer: set of all possible outcomes of an experiment\n",
    "3. What is an experiment?\n",
    "# answer: an activity with an observable result\n",
    "4. What is the difference between events and\n",
    "outcomes? Give an example of both using the\n",
    "sample space of tossing a coin 50 times.\n",
    "# answer: An outcome is a possible result of an experiment, while an event produces an actual result. in a sample space of tossing a coin 50 times, heads is an outcome (possible result) while a toss out of the 50 is an event\n",
    "5. The union of two sets is defined as a set of elements\n",
    "that are present in at least one of the sets. How is\n",
    "this similar to the definition used for the union\n",
    "of two events from a probability model? How is it\n",
    "different?\n",
    "# answer: The definition used for the union of two events is the probability that one of the events will happen, excluding  outcomes that are common between the event. while the union of two sets includes all of the common elements of both of the sets"
   ]
  },
  {
   "cell_type": "code",
   "execution_count": null,
   "metadata": {},
   "outputs": [],
   "source": [
    "%%markdown\n",
    "For the following exercises, use the spinner shown in Figure "
   ]
  },
  {
   "cell_type": "code",
   "execution_count": 5,
   "metadata": {},
   "outputs": [
    {
     "output_type": "display_data",
     "data": {
      "text/plain": "<IPython.core.display.Markdown object>",
      "text/markdown": "6. Landing on red\n### $_n(S) = 12$ ; $_n(E) = 1$\n### $P_(red) = 0.0833$\n"
     },
     "metadata": {}
    }
   ],
   "source": [
    "%%markdown\n",
    "6. Landing on red\n",
    "### $_n(S) = 12$ ; $_n(Red) = 1$\n",
    "### $P_(red) = 0.0833$"
   ]
  },
  {
   "cell_type": "code",
   "execution_count": null,
   "metadata": {},
   "outputs": [],
   "source": [
    "%%markdown\n",
    "7. Landing on a vowel\n",
    "### $_n(S) = 12$ ; $_n(Vowl) = 4$\n",
    "### $P_(red) = 0.3333$"
   ]
  },
  {
   "cell_type": "code",
   "execution_count": 8,
   "metadata": {},
   "outputs": [
    {
     "output_type": "display_data",
     "data": {
      "text/plain": "<IPython.core.display.Markdown object>",
      "text/markdown": "8. Not landing on blue\n### $_n(S) = 12$ ; $_n(Blue) = 3$\n### $P_(Blue) = 0.25$\n### $P_(Not blue) = 1 - 0.25 \\Rightarrow 0.75$\n"
     },
     "metadata": {}
    }
   ],
   "source": [
    "%%markdown\n",
    "8. Not landing on blue\n",
    "### $_n(S) = 12$ ; $_n(Blue) = 2$\n",
    "### $P_(Blue) = 0.1.667$\n",
    "### $P_(Not blue) = 1 - 0.1667 \\Rightarrow 0.8333$"
   ]
  },
  {
   "cell_type": "code",
   "execution_count": 14,
   "metadata": {},
   "outputs": [
    {
     "output_type": "display_data",
     "data": {
      "text/plain": "<IPython.core.display.Markdown object>",
      "text/markdown": "9. Landing on purple or a vowel\n### $_n(S) = 12$ ; $_n(vowl) = 4$ ; $_n(purple) = 1$\n### $P_(vowl) = 0.3333$ ; $P_(purple) = 0.0833$\n### $P_{vowl\\cup purple} = P_(vowl) + P_(purple) \\Rightarrow 0.4166$\n"
     },
     "metadata": {}
    }
   ],
   "source": [
    "%%markdown\n",
    "9. Landing on purple or a vowel\n",
    "### $_n(S) = 12$ ; $_n(vowl) = 4$ ; $_n(purple) = 1$\n",
    "### $P_(vowl) = 0.3333$ ; $P_(purple) = 0.0833$\n",
    "### $P_{vowl\\cup purple} = P_(vowl) + P_(purple) \\Rightarrow 0.4166$"
   ]
  },
  {
   "cell_type": "code",
   "execution_count": 16,
   "metadata": {},
   "outputs": [
    {
     "output_type": "display_data",
     "data": {
      "text/plain": "<IPython.core.display.Markdown object>",
      "text/markdown": "10. Landing on blue or a vowel\n### $_n(S) = 12$ ; $_n(vowl) = 4$ ; $_n(blue) = 2$ ; $_n(blue\\cap vowl) = 1$\n### $P(vowl\\cup blue) = P(vowl) + P(blue) - P(vowl\\cap blue) \\Rightarrow 0.4167$\n"
     },
     "metadata": {}
    }
   ],
   "source": [
    "%%markdown\n",
    "10. Landing on blue or a vowel\n",
    "### $_n(S) = 12$ ; $_n(vowl) = 4$ ; $_n(blue) = 2$ ; $_n(blue\\cap vowl) = 1$\n",
    "### $P(vowl\\cup blue) = P(vowl) + P(blue) - P(vowl\\cap blue) \\Rightarrow 0.4167$\n"
   ]
  },
  {
   "cell_type": "code",
   "execution_count": null,
   "metadata": {},
   "outputs": [],
   "source": [
    "%%markdown\n",
    "11. Landing on green or blue\n",
    "### $_n(S) = 12$ ; $_n(green) = 2$ ; $_n(blue) = 2$\n",
    "### $P(vowl\\cup blue) = P(vowl) + P(blue) \\Rightarrow 0.3333$"
   ]
  },
  {
   "cell_type": "code",
   "execution_count": null,
   "metadata": {},
   "outputs": [],
   "source": [
    "%%markdown\n",
    "12. Landing on yellow or a consonant\n",
    "### $_n(S) = 12$ ; $_n(yellow) = 1$ ; $_n(consonant) = 4$ ; $_n(consonant\\cap consonant) = 0$\n",
    "### $P(consonant\\cup yellow) = P(consonant) + P(yellow) - P(consonant\\cap yellow) \\Rightarrow 0.4167$"
   ]
  },
  {
   "cell_type": "code",
   "execution_count": null,
   "metadata": {},
   "outputs": [],
   "source": [
    "%%markdown\n",
    "13. Not landing on yellow or a consonant\n",
    "### $P'(consonant\\cup yellow) = 1-P(consonant\\cup yellow) = 0.5833$"
   ]
  },
  {
   "cell_type": "code",
   "execution_count": null,
   "metadata": {},
   "outputs": [],
   "source": [
    "%%markdown\n",
    "For the following exercises, two coins are tossed.\n"
   ]
  },
  {
   "cell_type": "code",
   "execution_count": null,
   "metadata": {},
   "outputs": [],
   "source": [
    "%%markdown\n",
    "14. What is the sample space?\n",
    "# answer: {\n",
    "# [heads, heads]\n",
    "# [heads, tails]\n",
    "# [tails, heads]\n",
    "# [tails, tails]\n",
    "# }\n"
   ]
  },
  {
   "cell_type": "code",
   "execution_count": null,
   "metadata": {},
   "outputs": [],
   "source": [
    "%%markdown\n",
    "15. Find the probability of tossing two heads.\n",
    "### $_n(S) = 4$ ; $_n([heads, heads]) = 1$\n",
    "### $P(heads, heads) = 0.25$"
   ]
  },
  {
   "cell_type": "code",
   "execution_count": 18,
   "metadata": {},
   "outputs": [
    {
     "output_type": "display_data",
     "data": {
      "text/plain": "<IPython.core.display.Markdown object>",
      "text/markdown": "16. Find the probability of tossing exactly one tail.\n### $_n(S) = 4$ ; $_n([heads, tails]) = 1$ ; $_n( [tails, heads]) = 1$\n### $P([heads, tails] \\cup [tails, heads]) = 0.5$\n"
     },
     "metadata": {}
    }
   ],
   "source": [
    "%%markdown\n",
    "16. Find the probability of tossing exactly one tail.\n",
    "### $_n(S) = 4$ ; $_n([heads, tails]) = 1$ ; $_n( [tails, heads]) = 1$\n",
    "### $P([heads, tails] \\cup [tails, heads]) = 0.5$"
   ]
  },
  {
   "cell_type": "code",
   "execution_count": null,
   "metadata": {},
   "outputs": [],
   "source": [
    "%%markdown\n",
    "17. Find the probability of tossing at least one tail.\n",
    "\n",
    "### $_n(S) = 4$ ; $_n([heads, tails]) = 1$ ; $_n( [tails, heads]) = 1$ ; $_n( [tails, tails]) = 1$\n",
    "### $P([heads, tails] \\cup [tails, heads] \\cup  [tails, tails]) = 0.75$"
   ]
  },
  {
   "cell_type": "code",
   "execution_count": null,
   "metadata": {},
   "outputs": [],
   "source": [
    "%%markdown\n",
    "For the following exercises, four coins are tossed.\n"
   ]
  },
  {
   "cell_type": "code",
   "execution_count": null,
   "metadata": {},
   "outputs": [],
   "source": [
    "%%markdown\n",
    "18. What is the sample space?\n",
    "# answer: {\n",
    "# [head, head, head, head]\n",
    "----\n",
    "# [tail, head, head, head]\n",
    "# [head, tail, head, head]\n",
    "# [head, head, tail, head]\n",
    "# [head, head, head, tail]\n",
    "----\n",
    "# [tail, tail, head, head]\n",
    "# [tail, head, tail, head]\n",
    "# [tail, head, head, tail\n",
    "# [head, tail, tail, head]\n",
    "# [head, tail, head, tail]\n",
    "# [head, head, tail, tail]\n",
    "---\n",
    "# [head, tail, tail, tail]\n",
    "# [tail, head, tail, tail\n",
    "# [tail, tail, head, tail]\n",
    "# [tail, tail, tail, head]\n",
    "----\n",
    "# [tail, tail, tail, tail]"
   ]
  },
  {
   "cell_type": "code",
   "execution_count": null,
   "metadata": {},
   "outputs": [],
   "source": [
    "%%markdown\n",
    "19. Find the probability of tossing exactly two heads.\n",
    "### $_n(S) = 16$ ; $_n([heads, heads]) = 6$\n",
    "### $P(heads, heads) = 0.375$"
   ]
  },
  {
   "cell_type": "code",
   "execution_count": null,
   "metadata": {},
   "outputs": [],
   "source": [
    "%%markdown\n",
    "20. Find the probability of tossing exactly three heads.\n",
    "### $_n(S) = 16$ ; $_n([heads, heads, heads]) = 4$\n",
    "### $P(heads, heads) = 0.25$"
   ]
  },
  {
   "cell_type": "code",
   "execution_count": null,
   "metadata": {},
   "outputs": [],
   "source": [
    "%%markdown\n",
    "21. Find the probability of tossing four heads or four tails\n",
    "### $_n(S) = 16$ ; $_n([heads, heads, heads, heads]) = 1$ ; $_n([tail, tail, tail, tail]) = 1$\n",
    "### $P(heads* \\cup  *tails) = 0.125$"
   ]
  },
  {
   "cell_type": "code",
   "execution_count": 27,
   "metadata": {},
   "outputs": [
    {
     "output_type": "display_data",
     "data": {
      "text/plain": "<IPython.core.display.Markdown object>",
      "text/markdown": "22. Find the probability of tossing all tails. \n\n### $_n(S) = 16$ ; $_n([tail, tail, tail, tail]) = 1$\n#### $P(*tail) = 0.0625$\n"
     },
     "metadata": {}
    }
   ],
   "source": [
    "%%markdown\n",
    "22. Find the probability of tossing all tails. \n",
    "\n",
    "### $_n(S) = 16$ ; $_n([tail, tail, tail, tail]) = 1$\n",
    "### $P(*tail) = 0.0625$"
   ]
  },
  {
   "cell_type": "code",
   "execution_count": null,
   "metadata": {},
   "outputs": [],
   "source": [
    "%%markdown\n",
    "23. Find the probability of tossing not all tails.\n",
    "### $_n(S) = 16$ ; $_n([tail, tail, tail, tail]) = 1$\n",
    "### $P(*tail) = 0.0625$\n",
    "### $P'(*tail) = 0.9375$"
   ]
  },
  {
   "cell_type": "code",
   "execution_count": null,
   "metadata": {},
   "outputs": [],
   "source": [
    "%%markdown\n",
    "24. Find the probability of tossing exactly two heads or \n",
    "at least two tails.\n",
    "### $_n(S) = 16$ ; $_n([heads, heads]) = 6$ ; $_n([tail, tail, tail, tail]) = 1$ ; $_n([tail\\cdot 3) = 1$\n",
    "### The possibility of tossing exactly two tails is included in the possibility of tossing exactly two heads\n",
    "### $P((heads, heads)\\cup(tail\\cdot3)\\cup(tail\\cdot4)) = 0.6875$"
   ]
  },
  {
   "cell_type": "code",
   "execution_count": null,
   "metadata": {},
   "outputs": [],
   "source": [
    "%%markdown\n",
    "25. Find the probability of tossing either two heads or\n",
    "three heads.\n",
    "### $_n(S) = 16$ ; $_n([heads, heads]) = 6$ ; $_n([heads, heads, head]) = 4$\n",
    "### $P(heads, heads) = 0.625$"
   ]
  },
  {
   "cell_type": "code",
   "execution_count": null,
   "metadata": {},
   "outputs": [],
   "source": [
    "%%markdown\n",
    "For the following exercises, one card is drawn from a standard deck of 52 cards. Find the probability of drawing the\n",
    "following:\n"
   ]
  },
  {
   "cell_type": "code",
   "execution_count": null,
   "metadata": {},
   "outputs": [],
   "source": [
    "%%markdown\n",
    "27. A two\n",
    "### $P(two) = 0.0769$\n"
   ]
  },
  {
   "cell_type": "code",
   "execution_count": 37,
   "metadata": {},
   "outputs": [
    {
     "output_type": "display_data",
     "data": {
      "text/plain": "<IPython.core.display.Markdown object>",
      "text/markdown": "29. Red six\n### $P(red\\ six) = 0.0385$\n"
     },
     "metadata": {}
    }
   ],
   "source": [
    "%%markdown\n",
    "29. Red six\n",
    "### $P(red\\ six) = 0.0385$\n"
   ]
  },
  {
   "cell_type": "code",
   "execution_count": null,
   "metadata": {},
   "outputs": [],
   "source": [
    "%%markdown\n",
    "31. A non-ace\n",
    "### $P'(ace) = 0.9231$\n"
   ]
  },
  {
   "cell_type": "code",
   "execution_count": null,
   "metadata": {},
   "outputs": [],
   "source": [
    "%%markdown\n",
    "For the following exercises, two dice are rolled, and the results are summed.\n"
   ]
  },
  {
   "cell_type": "code",
   "execution_count": 42,
   "metadata": {},
   "outputs": [
    {
     "output_type": "stream",
     "name": "stdout",
     "text": [
      "+-----+-----+-----+-----+-----+-----+\n/     /     /     /     /     /     /\n/     /     /     /     /     /     /\n+-----+-----+-----+-----+-----+-----+\n/     /     /     /     /     /     /\n/     /     /     /     /     /     /\n+-----+-----+-----+-----+-----+-----+\n/     /     /     /     /     /     /\n/     /     /     /     /     /     /\n+-----+-----+-----+-----+-----+-----+\n/     /     /     /     /     /     /\n/     /     /     /     /     /     /\n+-----+-----+-----+-----+-----+-----+\n/     /     /     /     /     /     /\n/     /     /     /     /     /     /\n+-----+-----+-----+-----+-----+-----+\n/     /     /     /     /     /     /\n/     /     /     /     /     /     /\n+-----+-----+-----+-----+-----+-----+\n"
     ]
    }
   ],
   "source": [
    "def border(cell_count):\n",
    "    #We use this function to dynamically print borders\n",
    "    base_cell = \"+\"+\"-\"*5+\"+\"\n",
    "    additional_cell = \"-\"*5+\"+\"\n",
    "    total_cells = base_cell+additional_cell*cell_count\n",
    "    print(total_cells)\n",
    "    \n",
    "def cell_row(cell_count):\n",
    "    base_cell = \"/\"+\" \"*5+\"/\"\n",
    "    additional_cell = \" \"*5+\"/\"\n",
    "    total_cells = base_cell+additional_cell*cell_count\n",
    "    i = 0\n",
    "    while(i < 2):\n",
    "        print(total_cells)\n",
    "        i+=1\n",
    "\n",
    "def grid(rows, columns):\n",
    "    border(columns)\n",
    "    i_rows = 0\n",
    "    while i_rows < rows:\n",
    "        cell_row(columns)\n",
    "        border(columns)\n",
    "        i_rows += 1\n",
    "\n",
    "rows = int(input(\"Please enter the number of desired rows\"))\n",
    "columns = int(input(\"Please enter the number of desired rows\"))\n",
    "\n",
    "grid(rows,columns)"
   ]
  },
  {
   "cell_type": "code",
   "execution_count": null,
   "metadata": {},
   "outputs": [],
   "source": [
    "%%markdown\n",
    "33. Construct a table showing the sample space of\n",
    "outcomes and sums.\n",
    "+-----+-----+-----+-----+-----+-----+\n",
    "/(1,1)/(1,2)/(1,3)/(1,4)/(1,5)/(1,6)/\n",
    "/  2  /  3  /  4  /  5  /  6  /  7  /\n",
    "+-----+-----+-----+-----+-----+-----+\n",
    "/(2,1)/(2,2)/(2,3)/(2,4)/(2,5)/(2,6)/\n",
    "/  3  /  4  /  5  /  6  /  7  /  8  /\n",
    "+-----+-----+-----+-----+-----+-----+\n",
    "/(3,1)/(3,2)/(3,3)/(3,4)/(3,5)/(3,6)/\n",
    "/  4  /  5  /  6  /  7  /  8  /  9  /\n",
    "+-----+-----+-----+-----+-----+-----+\n",
    "/(4,1)/(4,2)/(4,3)/(4,4)/(4,5)/(4,6)/\n",
    "/  5  /  6  /  7  /  8  /  9  /  10 /\n",
    "+-----+-----+-----+-----+-----+-----+\n",
    "/(5,1)/(5,2)/(5,3)/(5,4)/(5,5)/(5,6)/\n",
    "/  6  /  7  /  8  /  9  /  10 /  11 /\n",
    "+-----+-----+-----+-----+-----+-----+\n",
    "/(6,1)/(6,2)/(6,3)/(6,4)/(6,5)/(6,6)/\n",
    "/  7  /  8  /  9  /  10 /  11 /  12 /\n",
    "+-----+-----+-----+-----+-----+-----+"
   ]
  },
  {
   "cell_type": "code",
   "execution_count": null,
   "metadata": {},
   "outputs": [],
   "source": [
    "%%markdown\n",
    "35. Find the probability of rolling at least one four or a sum of 8\n",
    "### $_n(S) = 36$ ; $_n(4) = 11$ ; $_n(\\sum8) = 5$ $_n(\\sum8 \\cap 4, 4) = 1$\n",
    "### $P(4 \\cup \\sum8) = P(4) +P(\\sum8) -P(4\\cap\\sum8)  = 0.4167$"
   ]
  },
  {
   "cell_type": "code",
   "execution_count": 54,
   "metadata": {},
   "outputs": [
    {
     "output_type": "display_data",
     "data": {
      "text/plain": "<IPython.core.display.Markdown object>",
      "text/markdown": "37. Find the probability of rolling a sum greater than or equal to 15\n### $P(\\sum15)  = 0$\n"
     },
     "metadata": {}
    }
   ],
   "source": [
    "%%markdown\n",
    "37. Find the probability of rolling a sum greater than or equal to 15\n",
    "### $P(\\sum15)  = 0$"
   ]
  },
  {
   "cell_type": "code",
   "execution_count": null,
   "metadata": {},
   "outputs": [],
   "source": [
    "%%markdown\n",
    "39. Find the probability of rolling a sum less than 6 or grearter than  9.\n",
    "### $_n(S) = 36$ ; $_n(<6) = 10$ ; $_n(>9) = 6$\n",
    "### $P(<6 \\cup >9) = {0.4444}$ "
   ]
  },
  {
   "cell_type": "code",
   "execution_count": 57,
   "metadata": {},
   "outputs": [
    {
     "output_type": "display_data",
     "data": {
      "text/plain": "<IPython.core.display.Markdown object>",
      "text/markdown": "41. Find the probability of rolling a sum of 5 or 6.`\n### $_n(S) = 36$ ; $_n(\\sum5) = 4$ ; $_n(\\sum6) = 5$\n### $P(\\sum5\\cup\\sum6) = {0.25}$ \n"
     },
     "metadata": {}
    }
   ],
   "source": [
    "%%markdown\n",
    "41. Find the probability of rolling a sum of 5 or 6.`\n",
    "### $_n(S) = 36$ ; $_n(\\sum=5) = 4$ ; $_n(\\sum=6) = 5$\n",
    "### $P(\\sum=5\\cup\\sum=6) = {0.25}$ "
   ]
  },
  {
   "cell_type": "code",
   "execution_count": null,
   "metadata": {},
   "outputs": [],
   "source": [
    "%%markdown\n",
    "For the following exercises, a coin is tossed, and a card is pulled from a standard deck. Find the probability of the\n",
    "following:\n"
   ]
  },
  {
   "cell_type": "code",
   "execution_count": null,
   "metadata": {},
   "outputs": [],
   "source": [
    "%%markdown\n",
    "43. A head on the coin or a club\n",
    "### $P(head \\cup club) = {0.5741}$ "
   ]
  },
  {
   "cell_type": "code",
   "execution_count": null,
   "metadata": {},
   "outputs": [],
   "source": [
    "%%markdown\n",
    "45. A head on the coin or a face card\n",
    "### $P(head \\cup face) = {0.7222}$ "
   ]
  },
  {
   "cell_type": "code",
   "execution_count": null,
   "metadata": {},
   "outputs": [],
   "source": [
    "%%markdown\n",
    "For the following exercises, use this scenario: a bag of M&Ms contains 12 blue, 6 brown, 10 orange, 8 yellow, 8 red,\n",
    "and 4 green M&Ms. Reaching into the bag, a person grabs 5 M&Ms. (total 48)\n"
   ]
  },
  {
   "cell_type": "code",
   "execution_count": 68,
   "metadata": {},
   "outputs": [
    {
     "output_type": "display_data",
     "data": {
      "text/plain": "<IPython.core.display.Markdown object>",
      "text/markdown": "47. What is the probability of getting all blue M&Ms?\n### $_n(First) = 48$ ; $_n(Blue) = 12$ ; $P(1stBlue) = {\\frac{12}{48}}$ \n### $_n(Second) = 47$ ; $_n(Blue) = 11$ ; $P(Second-Blue) = {\\frac{11}{47}}$ \n### $_n(Third) = 46$ ; $_n(Blue) = 10$ ; $P(Third-Blue) = {\\frac{10}{46}}$ \n### $_n(4th) = 45$ ; $_n(Blue) = 9$ ; $P(4th-Blue) = {\\frac{9}{45}}$ \n### $_n(5th) = 44$ ; $_n(Blue) = 8$ ; $P(5th-Blue) = {\\frac{8}{44}}$ \n"
     },
     "metadata": {}
    }
   ],
   "source": [
    "%%markdown\n",
    "47. What is the probability of getting all blue M&Ms?\n",
    "### $_n(First) = 48$ ; $_n(Blue) = 12$\n",
    "### $P(5Blue) = {\\frac{_{12}C_5}{_{48}C_5}} = 0.00046$ \n"
   ]
  },
  {
   "cell_type": "code",
   "execution_count": 80,
   "metadata": {},
   "outputs": [
    {
     "output_type": "display_data",
     "data": {
      "text/plain": "<IPython.core.display.Markdown object>",
      "text/markdown": "49. What is the probability of getting 3 blue M&Ms?\n### $_n(S) = 48$ ; $_n(Blue) = 12$\n### $P(2Blue) = {0.081}$ \n"
     },
     "metadata": {}
    }
   ],
   "source": [
    "%%markdown\n",
    "49. What is the probability of getting 3 blue M&Ms?\n",
    "### $_n(S) = 48$ ; $_n(Blue) = 12$\n",
    "### $P(2Blue) = {0.081}$ "
   ]
  },
  {
   "cell_type": "code",
   "execution_count": null,
   "metadata": {},
   "outputs": [],
   "source": [
    "%%markdown\n",
    "50. What is the probability of getting no brown M&Ms?\n",
    "### $_n(S) = 48$ ; $_n(Brown)' = 42 $\n",
    "### $P'(Brown) = {0.496}$ \n"
   ]
  },
  {
   "cell_type": "code",
   "execution_count": null,
   "metadata": {},
   "outputs": [],
   "source": [
    "%%markdown\n",
    "Use the following scenario for the exercises that follow: In the game of Keno, a player starts by selecting 20 numbers\n",
    "from the numbers 1 to 80. After the player makes his selections, 20 winning numbers are randomly selected from\n",
    "numbers 1 to 80. A win occurs if the player has correctly selected 3, 4, or 5 of the 20 winning numbers. (Round all\n",
    "answers to the nearest hundredth of a percent.)\n"
   ]
  },
  {
   "cell_type": "code",
   "execution_count": null,
   "metadata": {},
   "outputs": [],
   "source": [
    "%%markdown\n",
    "51. What is the percent chance that a player selects exactly 3 winning numbers?\n",
    "### $_n(S) = 80$ ; $_n(winning(3))' = 3 $\n",
    "### $P(winning(3)) = {0.1248}$ "
   ]
  },
  {
   "cell_type": "code",
   "execution_count": null,
   "metadata": {},
   "outputs": [],
   "source": [
    "%%markdown\n",
    "53. What is the percent chance that a player selects all 5 winning numbers\n",
    "### $_n(S) = 80$ ; $_n(winning(5))' = _{20}C_5 $\n",
    "### $P(winning(5)) = {0.2332}$ "
   ]
  },
  {
   "cell_type": "code",
   "execution_count": null,
   "metadata": {},
   "outputs": [],
   "source": [
    "%%markdown\n",
    "55. How much less is a player’s chance of selecting\n",
    "3 winning numbers than the chance of selecting\n",
    "either 4 or 5 winning numbers?\n",
    "### $_n(S) = 80$ ; $_n(winning(4))' = _{20}C_4 $\n",
    "### $P(winning(4)) = {0.205}$ \n",
    "### $P(winning(4)\\cup winning(5) = {0.2332+0.205} - 0.1248 \\Rightarrow 0.3134$\n"
   ]
  },
  {
   "cell_type": "code",
   "execution_count": null,
   "metadata": {},
   "outputs": [],
   "source": [
    "%%markdown\n",
    "Use this data for the exercises that follow: In 2013, there were roughly 317 million citizens in the United States, and\n",
    "about 40 million were elderly (aged 65 and over).\n"
   ]
  },
  {
   "cell_type": "code",
   "execution_count": null,
   "metadata": {},
   "outputs": [],
   "source": [
    "%%markdown\n",
    "56. If you meet a U.S. citizen, what is the percent chance\n",
    "that the person is elderly? (Round to the nearest tenth\n",
    "of a percent.)\n",
    "### $_n(S) = 317$ ; $_n(elderly)' =40 $\n",
    "### $P(elderly) = {%12.62}$ "
   ]
  },
  {
   "cell_type": "code",
   "execution_count": null,
   "metadata": {},
   "outputs": [],
   "source": [
    "%%markdown\n",
    "58. If you meet five U.S. citizens, what is the percent\n",
    "chance that three are elderly? (Round to the nearest\n",
    "tenth of a percent.)\n"
   ]
  },
  {
   "cell_type": "code",
   "execution_count": 95,
   "metadata": {},
   "outputs": [
    {
     "output_type": "display_data",
     "data": {
      "text/plain": "<IPython.core.display.Markdown object>",
      "text/markdown": "60. It is predicted that by 2030, one in five U.S. citizens\nwill be elderly. How much greater will the chances\nof meeting an elderly person be at that time? What\npolicy changes do you foresee if these statistics hold\ntrue?\n### $\\%20 - \\%12.62 \\Rightarrow \\%7.38$\n"
     },
     "metadata": {}
    }
   ],
   "source": [
    "%%markdown\n",
    "60. It is predicted that by 2030, one in five U.S. citizens\n",
    "will be elderly. How much greater will the chances\n",
    "of meeting an elderly person be at that time? What\n",
    "policy changes do you foresee if these statistics hold\n",
    "true?\n",
    "### $\\%20 - \\%12.62 \\Rightarrow \\%7.38$"
   ]
  },
  {
   "cell_type": "code",
   "execution_count": 90,
   "metadata": {},
   "outputs": [
    {
     "output_type": "execute_result",
     "data": {
      "text/plain": [
       "0.015"
      ]
     },
     "metadata": {},
     "execution_count": 90
    }
   ],
   "source": [
    "### $_n(S) = 317$ ; $_n(3elderly)' =_{40}C_3 $\n",
    "### $P(3elderly) = {%1.5}$ \n",
    "# combine()\n",
    "# ordered()\n",
    "# non_distinct()\n",
    "# combine(48, 12)\n",
    "# prob_event(40, 317)\n",
    "round(combine(40,3)*combine(317-40, 2)/combine(317,5), 3)\n",
    "# 12+6+10+8+8+4\n",
    "# prob_event(11, 36)+prob_event(5, 36)-prob_event(1, 36)\n",
    "# round(prob_event(1, 12) + prob_event(4, 12), 4)"
   ]
  }
 ]
}