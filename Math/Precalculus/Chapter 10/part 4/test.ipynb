{
 "metadata": {
  "language_info": {
   "codemirror_mode": {
    "name": "ipython",
    "version": 3
   },
   "file_extension": ".py",
   "mimetype": "text/x-python",
   "name": "python",
   "nbconvert_exporter": "python",
   "pygments_lexer": "ipython3",
   "version": "3.8.6-final"
  },
  "orig_nbformat": 2,
  "kernelspec": {
   "name": "python3",
   "display_name": "Python 3"
  }
 },
 "nbformat": 4,
 "nbformat_minor": 2,
 "cells": [
  {
   "cell_type": "code",
   "execution_count": 4,
   "metadata": {},
   "outputs": [
    {
     "output_type": "display_data",
     "data": {
      "text/plain": "<IPython.core.display.Markdown object>",
      "text/markdown": "$Example 3$\n===============\n$8x^2 − 12xy + 17y^2 = 20$\n<br>$Rewrite$ $in$ $x',y'$ $without$ $x'*y'$\n<br>1) $cot(2\\theta) = \\frac{a-c}{b}$\n<br>2) $cot(2\\theta) = \\frac{8-17}{-12}$\n<br>3) $cot(2\\theta) = \\frac{-9}{-12}$\n<br>4) $\\boxed{cot(2\\theta) = \\frac{3}{4} \\Leftarrow}$\n<br>5) $h^2 = adjacent^2+opposite^2$\n<br>6) $h^2 = 3^2+4^2$\n<br>7) $h^2 = 9+16$\n<br>8) $\\boxed{h = 5 \\Leftarrow}$\n<br>9) $\\boxed{h = 5 \\Leftarrow}$\n<br>10) $sin\\theta = \\sqrt{\\frac{1-cos(2\\theta)}{2}}$\n<br>11) $sin\\theta = \\sqrt{\\frac{1-\\frac{3}{5}}{2}}$\n<br>12) $sin\\theta = \\sqrt{\\frac{2}{5*2}}$\n<br>13) $\\boxed{sin\\theta = \\frac{1}{\\sqrt{5}} \\Leftarrow}$\n<br>14) $cos\\theta = \\sqrt{\\frac{1+cos(2\\theta)}{2}}$\n<br>15) $cos\\theta = \\sqrt{\\frac{1+\\frac{3}{5}}{2}}$\n<br>16) $cos\\theta = \\sqrt{\\frac{8}{5*2}}$\n<br>17) $\\boxed{cos\\theta = \\frac{2}{\\sqrt{5}} \\Leftarrow}$\n<br>18) $ x = x'cos\\theta - y'sin\\theta$\n<br>19) $ x = x'\\frac{2}{\\sqrt{5}} - y'\\frac{1}{\\sqrt{5}}$\n<br>20) $ \\boxed{x = \\frac{2x'-y'}{\\sqrt{5}} \\Leftarrow}$\n<br>21) $ y =x'sin\\theta+ y'cos\\theta$\n<br>22) $ y = x'\\frac{1}{\\sqrt{5}} + y'\\frac{2}{\\sqrt{5}}$\n<br>23) $\\boxed{y = \\frac{x´+2'y}{\\sqrt5} \\Leftarrow}$\n"
     },
     "metadata": {}
    }
   ],
   "source": [
    "%%markdown\n",
    "$Example 3$\n",
    "===============\n",
    "$8x^2 − 12xy + 17y^2 = 20$\n",
    "<br>$Rewrite$ $in$ $x',y'$ $without$ $x'*y'$\n",
    "<br>1) $cot(2\\theta) = \\frac{a-c}{b}$\n",
    "<br>2) $cot(2\\theta) = \\frac{8-17}{-12}$\n",
    "<br>3) $cot(2\\theta) = \\frac{-9}{-12}$\n",
    "<br>4) $\\boxed{cot(2\\theta) = \\frac{3}{4} \\Leftarrow}$\n",
    "<br>5) $h^2 = adjacent^2+opposite^2$\n",
    "<br>6) $h^2 = 3^2+4^2$\n",
    "<br>7) $h^2 = 9+16$\n",
    "<br>8) $\\boxed{h = 5 \\Leftarrow}$\n",
    "<br>9) $\\boxed{h = 5 \\Leftarrow}$\n",
    "<br>10) $sin\\theta = \\sqrt{\\frac{1-cos(2\\theta)}{2}}$\n",
    "<br>11) $sin\\theta = \\sqrt{\\frac{1-\\frac{3}{5}}{2}}$\n",
    "<br>12) $sin\\theta = \\sqrt{\\frac{2}{5*2}}$\n",
    "<br>13) $\\boxed{sin\\theta = \\frac{1}{\\sqrt{5}} \\Leftarrow}$\n",
    "<br>14) $cos\\theta = \\sqrt{\\frac{1+cos(2\\theta)}{2}}$\n",
    "<br>15) $cos\\theta = \\sqrt{\\frac{1+\\frac{3}{5}}{2}}$\n",
    "<br>16) $cos\\theta = \\sqrt{\\frac{8}{5*2}}$\n",
    "<br>17) $\\boxed{cos\\theta = \\frac{2}{\\sqrt{5}} \\Leftarrow}$\n",
    "<br>18) $ x = x'cos\\theta - y'sin\\theta$\n",
    "<br>19) $ x = x'\\frac{2}{\\sqrt{5}} - y'\\frac{1}{\\sqrt{5}}$\n",
    "<br>20) $ \\boxed{x = \\frac{2x'-y'}{\\sqrt{5}} \\Leftarrow}$\n",
    "<br>21) $ y =x'sin\\theta+ y'cos\\theta$\n",
    "<br>22) $ y = x'\\frac{1}{\\sqrt{5}} + y'\\frac{2}{\\sqrt{5}}$\n",
    "<br>23) $\\boxed{y = \\frac{x´+2'y}{\\sqrt5} \\Leftarrow}$"
   ]
  },
  {
   "cell_type": "code",
   "execution_count": null,
   "metadata": {},
   "outputs": [],
   "source": []
  }
 ]
}