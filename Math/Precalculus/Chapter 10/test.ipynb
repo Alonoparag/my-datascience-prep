{
 "metadata": {
  "language_info": {
   "codemirror_mode": {
    "name": "ipython",
    "version": 3
   },
   "file_extension": ".py",
   "mimetype": "text/x-python",
   "name": "python",
   "nbconvert_exporter": "python",
   "pygments_lexer": "ipython3",
   "version": "3.8.6-final"
  },
  "orig_nbformat": 2,
  "kernelspec": {
   "name": "python3",
   "display_name": "Python 3"
  }
 },
 "nbformat": 4,
 "nbformat_minor": 2,
 "cells": [
  {
   "cell_type": "code",
   "execution_count": null,
   "metadata": {},
   "outputs": [],
   "source": [
    "%%markdown\n",
    "For the following exercises, write the equation in standard form and state the center, vertices, and foci."
   ]
  },
  {
   "cell_type": "code",
   "execution_count": 14,
   "metadata": {},
   "outputs": [
    {
     "output_type": "display_data",
     "data": {
      "text/plain": "<IPython.core.display.Markdown object>",
      "text/markdown": "1) $\\frac{x^2}{9}+\\frac{y^2}{4} = 1$\n<br>2) $4x^2 + 9y^2 - 36 = 0$\n<br>3) C:$(a-c)+(a-(-c)) = \\sqrt{b^2+c^2}+\\sqrt{b^2+(-c)^2}$\n<br> Major vertices: ($\\pm9, 0$), Minor Vertices:($0, \\pm4$)\n<br>4) $(9-c)+(9-(-c)) = 2\\sqrt{4^2+c^2}$\n<br>5) $9 = \\sqrt{16+c^2}$\n<br>6) $81= (16+c^2)$\n<br>7) $65 = c^2$\n<br>8) $c = \\pm\\sqrt{65}$\n<br>9) Foci:$ (\\pm8.06, 0)$\n"
     },
     "metadata": {}
    }
   ],
   "source": [
    "%%markdown\n",
    "1) $\\frac{x^2}{9}+\\frac{y^2}{4} = 1$\n",
    "<br>2) $4x^2 + 9y^2 - 36 = 0$\n",
    "<br>3) C:$(a-c)+(a-(-c)) = \\sqrt{b^2+c^2}+\\sqrt{b^2+(-c)^2}$\n",
    "<br> Major vertices: ($\\pm3, 0$), Minor Vertices:($0, \\pm2$)\n",
    "<br>4) $(3-c)+(3-(-c)) = 2\\sqrt{2^2+c^2}$\n",
    "<br>5) $3 = \\sqrt{4+c^2}$\n",
    "<br>6) $9= (4+c^2)$\n",
    "<br>7) $5 = c^2$\n",
    "<br>8) $c = \\pm\\sqrt{5}$\n",
    "<br>9) Foci:$ (\\pm2.24, 0)$"
   ]
  },
  {
   "cell_type": "code",
   "execution_count": 21,
   "metadata": {},
   "outputs": [
    {
     "output_type": "display_data",
     "data": {
      "text/plain": "<IPython.core.display.Markdown object>",
      "text/markdown": "2) $9y^2 + 16x^2 − 36y + 32x − 92 = 0$\n<br> transfer to the form of $\\frac{(x-h)^2}{a^2} + \\frac{(y-k)^2}{b^2} = 1$\n<br> 1) $9y^2 + 16x^2 − 36y + 32x − 92 +36+16= 0 +36+16$\n<br> 2) $(4x+4)^2+(3y-6)^2= 144$\n<br> 3) $16(x+1)^2 +9(y-2)^2= 144$\n<br> 4) $(x+1)^2 +(y-2)^2= 1$\n<br> Center and focus: ($-1, 2) Vertices at (0,2), (-1, 3), (-2, 2), (-1, 1) \n"
     },
     "metadata": {}
    }
   ],
   "source": [
    "%%markdown\n",
    "2) $9y^2 + 16x^2 − 36y + 32x − 92 = 0$\n",
    "<br> transfer to the form of $\\frac{(x-h)^2}{a^2} + \\frac{(y-k)^2}{b^2} = 1$\n",
    "<br> 1) $9y^2 + 16x^2 − 36y + 32x − 92 +36+16= 0 +36+16$\n",
    "<br> 2) $(4x+4)^2+(3y-6)^2= 144$\n",
    "<br> 3) $16(x+1)^2 +9(y-2)^2= 144$\n",
    "<br> 4) $(x+1)^2 +(y-2)^2= 1$\n",
    "<br> Center and focus: ($-1, 2) Vertices at (0,2), (-1, 3), (-2, 2), (-1, 1) "
   ]
  },
  {
   "cell_type": "code",
   "execution_count": null,
   "metadata": {},
   "outputs": [],
   "source": [
    "%%markdown\n",
    "For the following exercises, sketch the graph, identifying the center, vertices, and foci."
   ]
  },
  {
   "cell_type": "code",
   "execution_count": null,
   "metadata": {},
   "outputs": [],
   "source": [
    "%%markdown\n",
    "4) $y^2 + 2x^2 − 6y + 8x − 72 = 0$"
   ]
  },
  {
   "cell_type": "code",
   "execution_count": 33,
   "metadata": {},
   "outputs": [
    {
     "output_type": "display_data",
     "data": {
      "text/plain": "<IPython.core.display.Markdown object>",
      "text/markdown": "5. write the standard form equation f an elipse with a\ncenter at (1, 2), vertex at (7, 2), and focus at (4, 2)\n<br> The major axis is perpendicular to the y axis, because the center, a focus and the given vertex all lie on the line y = 2. therefore we can asume that the foci parameter $c$ equals $ 3\\rightarrow(4-1)$, and the given vertex parameter $a$ equals $6 \\rightarrow(7-1)$\n<br>1) $\\frac{(x-1)^2}{36}+\\frac{(y-2)^2}{b^2} = 1$\n<br>2) $a = \\sqrt{(b^2+c^2)}$\n<br>3) $36 = b^2+9$\n<br>4) $b = \\pm5$\n<br>5) $\\frac{(x-1)^2}{36}+\\frac{(y-2)^2}{25} = 1$\n"
     },
     "metadata": {}
    }
   ],
   "source": [
    "%%markdown\n",
    "5. write the standard form equation f an elipse with a\n",
    "center at (1, 2), vertex at (7, 2), and focus at (4, 2)\n",
    "<br> The major axis is perpendicular to the y axis, because the center, a focus and the given vertex all lie on the line y = 2. therefore we can asume that the foci parameter $c$ equals $ 3\\rightarrow(4-1)$, and the given vertex parameter $a$ equals $6 \\rightarrow(7-1)$\n",
    "<br>1) $\\frac{(x-1)^2}{36}+\\frac{(y-2)^2}{b^2} = 1$\n",
    "<br>2) $a = \\sqrt{(b^2+c^2)}$\n",
    "<br>3) $36 = b^2+9$\n",
    "<br>4) $b = \\pm5$\n",
    "<br>5) $\\frac{(x-1)^2}{36}+\\frac{(y-2)^2}{25} = 1$"
   ]
  },
  {
   "cell_type": "code",
   "execution_count": 35,
   "metadata": {},
   "outputs": [
    {
     "output_type": "display_data",
     "data": {
      "text/plain": "<IPython.core.display.Markdown object>",
      "text/markdown": "6. A whispering gallery is to be constructed with a length of 150 feet. If the foci are to be located 20 feet\naway from the wall, how high should the ceiling be?\n<br> assuming that the origin is located on the cetner of the gallery:\n<br> 1) $2a = 150$\n<br> 2) $a = 75$\n<br> 3) $c = 150/2 -20 = 55$\n<br> 4) Find the semi major vertex $b$:\n<br> 5) $a^2 = b^2+c^2$\n<br> 6) $5620 = 3030+b^2$\n<br> 7) $2600 = b^2$\n<br> 8) $b = 50.99$\n<br>  The ceiling should be 50.99ft high at its top.\n"
     },
     "metadata": {}
    }
   ],
   "source": [
    "%%markdown\n",
    "6. A whispering gallery is to be constructed with a length of 150 feet. If the foci are to be located 20 feet\n",
    "away from the wall, how high should the ceiling be?\n",
    "<br> assuming that the origin is located on the cetner of the gallery:\n",
    "<br> 1) $2a = 150$\n",
    "<br> 2) $a = 75$\n",
    "<br> 3) $c = 150/2 -20 = 55$\n",
    "<br> 4) Find the semi major vertex $b$:\n",
    "<br> 5) $a^2 = b^2+c^2$\n",
    "<br> 6) $5620 = 3030+b^2$\n",
    "<br> 7) $2600 = b^2$\n",
    "<br> 8) $b = 50.99$\n",
    "<br>  The ceiling should be 50.99ft high at its top."
   ]
  },
  {
   "cell_type": "code",
   "execution_count": 36,
   "metadata": {},
   "outputs": [
    {
     "output_type": "display_data",
     "data": {
      "text/plain": "<IPython.core.display.Markdown object>",
      "text/markdown": "For the following exercises, write the equation of the hyperbola in standard form, and give the center, vertices, foci,\nand asymptotes.\n"
     },
     "metadata": {}
    }
   ],
   "source": [
    "%%markdown\n",
    "For the following exercises, write the equation of the hyperbola in standard form, and give the center, vertices, foci,\n",
    "and asymptotes."
   ]
  },
  {
   "cell_type": "code",
   "execution_count": 46,
   "metadata": {},
   "outputs": [
    {
     "output_type": "display_data",
     "data": {
      "text/plain": "<IPython.core.display.Markdown object>",
      "text/markdown": "7) $\\frac{x^2}{49}-\\frac{y^2}{81} = 1$\n<br> $a: (7,0); b: (0, 9)$\n<br> 1) $81x^2+49y^2 -3969 = 0$\n<br> 2) $c^2 = a^2 + b^2$\n<br> 3) $c = \\sqrt{130}$, the foci are located at $\\boxed{(\\pm\\sqrt{130}, 0)}$, the center is at the origin, the vertices are $\\boxed{a: (7,0); b: (0, 9)}$, asymptotes $\\boxed{ y= \\pm\\frac{9}{7}*x}$\n"
     },
     "metadata": {}
    }
   ],
   "source": [
    "%%markdown\n",
    "7) $\\frac{x^2}{49}-\\frac{y^2}{81} = 1$\n",
    "<br> $a: (7,0); b: (0, 9)$\n",
    "<br> 1) $81x^2+49y^2 -3969 = 0$\n",
    "<br> 2) $c^2 = a^2 + b^2$\n",
    "<br> 3) $c = \\sqrt{130}$, the foci are located at $\\boxed{(\\pm\\sqrt{130}, 0)}$, the center is at the origin, the vertices are $\\boxed{a: (7,0); b: (0, 9)}$, asymptotes $\\boxed{ y= \\pm\\frac{9}{7}*x}$\n"
   ]
  },
  {
   "cell_type": "code",
   "execution_count": 51,
   "metadata": {},
   "outputs": [
    {
     "output_type": "display_data",
     "data": {
      "text/plain": "<IPython.core.display.Markdown object>",
      "text/markdown": "8) $-9x^2+16y^2+128y+112 = 0$\n<br> 1) $-9x^2+16y^2+128y+112+256 = 0+256$\n<br> 2) $-9x^2+(4y+16)^2-144 = 0 $\n<br> 3) $-9x^2+4(y+4)^2= 144$\n<br> 4) $\\frac{(y+4)^2}{36}-\\frac{x^2}{16}= 1$\n<br> Center is located at $(0, -4)$, The major vertex is $(0, \\pm6)$, the minor vertex is $(\\pm4, -4)$\n<br> 5) $c^2 = a^2 + b^2$\n<br> 6) $c = 2\\sqrt{13}$\n<br> Foci are $(0, \\pm2\\sqrt{13})$. The asymptotes are $ y = \\pm\\frac{a}{b}x$\n"
     },
     "metadata": {}
    }
   ],
   "source": [
    "%%markdown\n",
    "8) $-9x^2+16y^2+128y+112 = 0$\n",
    "<br> 1) $-9x^2+16y^2+128y+112+256 = 0+256$\n",
    "<br> 2) $-9x^2+(4y+16)^2-144 = 0 $\n",
    "<br> 3) $-9x^2+4(y+4)^2= 144$\n",
    "<br> 4) $\\frac{(y+4)^2}{36}-\\frac{x^2}{16}= 1$\n",
    "<br> Center is located at $(0, -4)$, The major vertex is $(0, \\pm6)$, the minor vertex is $(\\pm4, -4)$\n",
    "<br> 5) $c^2 = a^2 + b^2$\n",
    "<br> 6) $c = 2\\sqrt{13}$\n",
    "<br> Foci are $(0, \\pm2\\sqrt{13})$. The asymptotes are $ y = \\pm\\frac{a}{b}x$"
   ]
  },
  {
   "cell_type": "code",
   "execution_count": null,
   "metadata": {},
   "outputs": [],
   "source": [
    "%%markdown\n",
    "For the following exercises, graph the hyperbola, noting its center, vertices, and foci. State the equations of the\n",
    "asymptotes."
   ]
  },
  {
   "cell_type": "code",
   "execution_count": null,
   "metadata": {},
   "outputs": [],
   "source": [
    "%%markdown\n",
    "9) $\\frac{(x-3)^2}{25}+\\frac{(y+3)^2}{1} = 1$"
   ]
  },
  {
   "cell_type": "code",
   "execution_count": null,
   "metadata": {},
   "outputs": [],
   "source": [
    "%%markdown\n",
    "10) $y^2-x^y2+4y-4x-18 = 0$"
   ]
  },
  {
   "cell_type": "code",
   "execution_count": 58,
   "metadata": {},
   "outputs": [
    {
     "output_type": "display_data",
     "data": {
      "text/plain": "<IPython.core.display.Markdown object>",
      "text/markdown": "11) Write the standard form equation of a hyperbola with foci at (1, 0) and (1, 6) and a vertex at (1, 2)\n<br> since the difference between the foci occurs on the $y$ axis, The hyperbola is of the form $\\frac{y^2}{a^2} - \\frac{x^2}{b^2} = 1$. The center is at $O: (1,\\frac{6-0}{2})\\Rightarrow \\boxed{(1, 3)}$\n<br> Because the $Y$ value of the vertex is lesser than the $Y$ value of the center of the hyperbola, the value of $a$ is $-a = -Y(o) + Y(vertex) \\Rightarrow \\boxed{a = 1}$\n<br> filing in its $\\frac{(y-3)^2} - \\frac{(x-1)^2}{b^2} = 1$\n<br> 1) $c^2 = a^2 + b^2$\n<br> 2) $b^2 = 9-1$\n<br> 3) $b^2 = 4\\sqrt{2}$\n<br> 4) $\\frac{(y-3)^2}{1} - \\frac{(x-1)^2}{8} = 1$\n"
     },
     "metadata": {}
    }
   ],
   "source": [
    "%%markdown\n",
    "11) Write the standard form equation of a hyperbola with foci at (1, 0) and (1, 6) and a vertex at (1, 2)\n",
    "<br> since the difference between the foci occurs on the $y$ axis, The hyperbola is of the form $\\frac{y^2}{a^2} - \\frac{x^2}{b^2} = 1$. The center is at $O: (1,\\frac{6-0}{2})\\Rightarrow \\boxed{(1, 3)}$\n",
    "<br> Because the $Y$ value of the vertex is lesser than the $Y$ value of the center of the hyperbola, the value of $a$ is $-a = -Y(o) + Y(vertex) \\Rightarrow \\boxed{a = 1}$\n",
    "<br> filing in its $\\frac{(y-3)^2} - \\frac{(x-1)^2}{b^2} = 1$\n",
    "<br> 1) $c^2 = a^2 + b^2$\n",
    "<br> 2) $b^2 = 9-1$\n",
    "<br> 3) $b^2 = 4\\sqrt{2}$\n",
    "<br> 4) $\\frac{(y-3)^2}{1} - \\frac{(x-1)^2}{8} = 1$"
   ]
  },
  {
   "cell_type": "code",
   "execution_count": null,
   "metadata": {},
   "outputs": [],
   "source": [
    "%%markdown\n",
    "For the following exercises, write the equation of the parabola in standard form, and give the vertex, focus, and\n",
    "equation of the directrix."
   ]
  },
  {
   "cell_type": "code",
   "execution_count": 66,
   "metadata": {},
   "outputs": [
    {
     "output_type": "display_data",
     "data": {
      "text/plain": "<IPython.core.display.Markdown object>",
      "text/markdown": "12) $y^2 + 10x = 0$\n<br> 1) $y^2 = -10x$\n<br> Vertex at the origin,\n<br> 2) $4p = -10$\n<br> 3) $p = -\\frac{5}{2}$\n\n<br> 4) directix: $x = -p \\Rightarrow \\boxed{x=\\frac{5}{2}}$\n<br> the distance between the vertex and the directix equals the distance between the directix and focus\n<br> 5) Focus is $(-\\frac{5}{2}, 0)$\n"
     },
     "metadata": {}
    }
   ],
   "source": [
    "%%markdown\n",
    "12) $y^2 + 10x = 0$\n",
    "<br> 1) $y^2 = -10x$\n",
    "<br> Vertex at the origin,\n",
    "<br> 2) $4p = -10$\n",
    "<br> 3) $p = -\\frac{5}{2}$\n",
    "\n",
    "<br> 4) directix: $x = -p \\Rightarrow \\boxed{x=\\frac{5}{2}}$\n",
    "<br> the distance between the vertex and the directix equals the distance between the directix and focus\n",
    "<br> 5) Focus is $(-\\frac{5}{2}, 0)$\n"
   ]
  },
  {
   "cell_type": "code",
   "execution_count": 77,
   "metadata": {},
   "outputs": [
    {
     "output_type": "display_data",
     "data": {
      "text/plain": "<IPython.core.display.Markdown object>",
      "text/markdown": "13) $3x^2 − 12x − y + 11 = 0$\n<br> 1) $3x^2 − 12x = y-11 $\n<br> 2) $x^2 − 4x +4= y/3-11/3 +4$\n<br> 3) $(x-2)^2= y/3-11/3 +4*3/3$\n<br> 4) $(x-2)^2= \\frac{y+1}{3}$ , Vertex: $(2, -1)$\n<br> 5) $4p = *\\frac{1}{3}$\n<br> 6) $p = *\\frac{1}{12}$ Directix: $y = -\\frac{1}{12}$\n<br> the distance between the vertex and the directix equals the distance between the directix and focus\n<br> 7) $-1-(-\\frac{1}{12}) = f - (-1)$\n<br> 8) $f = -1\\frac{11}{12}$ Cetner is at$(2, -1\\frac{11}{12})$\n\n"
     },
     "metadata": {}
    }
   ],
   "source": [
    "%%markdown\n",
    "13) $3x^2 − 12x − y + 11 = 0$\n",
    "<br> 1) $3x^2 − 12x = y-11 $\n",
    "<br> 2) $x^2 − 4x +4= y/3-11/3 +4$\n",
    "<br> 3) $(x-2)^2= y/3-11/3 +4*3/3$\n",
    "<br> 4) $(x-2)^2= \\frac{y+1}{3}$ , Vertex: $(2, -1)$\n",
    "<br> 5) $4p = *\\frac{1}{3}$\n",
    "<br> 6) $p = *\\frac{1}{12}$ Directix: $y = -\\frac{1}{12}$\n",
    "<br> the distance between the vertex and the directix equals the distance between the directix and focus\n",
    "<br> 7) $-1-(-\\frac{1}{12}) = f - (-1)$\n",
    "<br> 8) $f = -1\\frac{11}{12}$ Cetner is at$(2, -1\\frac{11}{12})$\n",
    "\n"
   ]
  },
  {
   "cell_type": "code",
   "execution_count": 78,
   "metadata": {},
   "outputs": [
    {
     "output_type": "display_data",
     "data": {
      "text/plain": "<IPython.core.display.Markdown object>",
      "text/markdown": "For the following exercises, graph the parabola, labeling the vertex, focus, and directrix.\n"
     },
     "metadata": {}
    }
   ],
   "source": [
    "%%markdown\n",
    "For the following exercises, graph the parabola, labeling the vertex, focus, and directrix.\n"
   ]
  },
  {
   "source": [
    "%%markdown\n",
    "14. $(x − 1)^2 = −4(y + 3)$"
   ],
   "cell_type": "code",
   "metadata": {},
   "execution_count": null,
   "outputs": []
  },
  {
   "cell_type": "code",
   "execution_count": null,
   "metadata": {},
   "outputs": [],
   "source": [
    "%%markdown\n",
    "15. $y^2 + 8x − 8y + 40 = 0$"
   ]
  },
  {
   "cell_type": "code",
   "execution_count": 79,
   "metadata": {},
   "outputs": [
    {
     "output_type": "display_data",
     "data": {
      "text/plain": "<IPython.core.display.Markdown object>",
      "text/markdown": "16. Write the equation of a parabola with a focus at\n(2, 3) and directrix y = −1.\n<br> 1) Vertix(2, 2)\n<br> 2) $(x-2)^2 = 4(y-2)$\n"
     },
     "metadata": {}
    }
   ],
   "source": [
    "%%markdown\n",
    "16. Write the equation of a parabola with a focus at\n",
    "(2, 3) and directrix y = −1.\n",
    "<br> 1) Vertix(2, 2)\n",
    "<br> 2) $(x-2)^2 = 4(y-2)$"
   ]
  },
  {
   "cell_type": "code",
   "execution_count": null,
   "metadata": {},
   "outputs": [],
   "source": [
    "%%markdown\n",
    "17. A searchlight is shaped like a paraboloid of\n",
    "revolution. If the light source is located 1.5 feet from\n",
    "the base along the axis of symmetry, and the depth\n",
    "of the searchlight is 3 feet, what should the width of\n",
    "the opening be?"
   ]
  },
  {
   "cell_type": "code",
   "execution_count": 14,
   "metadata": {},
   "outputs": [
    {
     "output_type": "display_data",
     "data": {
      "text/plain": "<IPython.core.display.Markdown object>",
      "text/markdown": "<br> $x² = 4py$ ; $ y = -p$ ; F: $(0, \\frac{3}{2})$, $A_{depth}:(\\frac{w}{2}, 3)$\n<br> 1) $\\Delta d_{origin \\rightarrow directix} =  \\Delta d_{origin \\rightarrow focus}$ ; $\\Delta d_{origin \\rightarrow directix} = |-p|$ ; $\\Delta d_{origin \\rightarrow focus }= p = \\frac{3}{2}$\n<br> 2) $x_a^2 = 6y_a$\n<br> 3) $x_a^2 = 18$\n<br> 4) $x_a = 3\\sqrt2 = \\frac{w}{2}$\n<br> 5) $w \\approx 8.48$\n"
     },
     "metadata": {}
    }
   ],
   "source": [
    " %%markdown\n",
    " <br> $x² = 4py$ ; $ y = -p$ ; F: $(0, \\frac{3}{2})$, $A_{depth}:(\\frac{w}{2}, 3)$\n",
    " <br> 1) $\\Delta d_{origin \\rightarrow directix} =  \\Delta d_{origin \\rightarrow focus}$ ; $\\Delta d_{origin \\rightarrow directix} = |-p|$ ; $\\Delta d_{origin \\rightarrow focus }= p = \\frac{3}{2}$\n",
    " <br> 2) $x_a^2 = 6y_a$\n",
    " <br> 3) $x_a^2 = 18$\n",
    " <br> 4) $x_a = 3\\sqrt2 = \\frac{w}{2}$\n",
    " <br> 5) $w \\approx 8.48$"
   ]
  },
  {
   "cell_type": "code",
   "execution_count": null,
   "metadata": {},
   "outputs": [],
   "source": [
    "%%markdown\n",
    "For the following exercises, determine which conic section is represented by the given equation, and then determine\n",
    "the angle θ that will eliminate the xy term."
   ]
  },
  {
   "cell_type": "code",
   "execution_count": 16,
   "metadata": {},
   "outputs": [
    {
     "output_type": "display_data",
     "data": {
      "text/plain": "<IPython.core.display.Markdown object>",
      "text/markdown": "18. $3x^2 − 2xy + 3y^2 = 4$\n<br>=====<br>\n<br> 1) find the value of the discriminant $b^2 - 4ac$\n<br> 2)$ (-2)^2 - 4*3*3 = -32 < 0$ The equation represents an elipse because the value of the discriminant is lesser than 0.\n<br> 3) $cot2\\theta = \\frac{a-c}{b}$\n<br> 4) $cot2\\theta = \\frac{3-3}{-2} = 0$\n<br> 5) $cot2\\theta = \\frac{1}{tan2\\theta}$\n<br> 6) $tan2\\theta = \\frac{1}{0} \\rightarrow undefined$\n<br> 7) $2\\theta = 90^\\circ$\n<br> 8) $\\theta = 45^\\circ$\n"
     },
     "metadata": {}
    }
   ],
   "source": [
    "%%markdown \n",
    "18. $3x^2 − 2xy + 3y^2 = 4$\n",
    "<br>=====<br>\n",
    "<br> 1) find the value of the discriminant $b^2 - 4ac$\n",
    "<br> 2)$ (-2)^2 - 4*3*3 = -32 < 0$ The equation represents an elipse because the value of the discriminant is lesser than 0.\n",
    "<br> 3) $cot2\\theta = \\frac{a-c}{b}$\n",
    "<br> 4) $cot2\\theta = \\frac{3-3}{-2} = 0$\n",
    "<br> 5) $cot2\\theta = \\frac{1}{tan2\\theta}$\n",
    "<br> 6) $tan2\\theta = \\frac{1}{0} \\rightarrow undefined$\n",
    "<br> 7) $2\\theta = 90^\\circ$\n",
    "<br> 8) $\\theta = 45^\\circ$"
   ]
  },
  {
   "cell_type": "code",
   "execution_count": 30,
   "metadata": {},
   "outputs": [
    {
     "output_type": "display_data",
     "data": {
      "text/plain": "<IPython.core.display.Markdown object>",
      "text/markdown": "19. $x^2 + 4xy + 4y^2 + 6x − 8y = 0$\n<br>=====<br>\n<br> 1) find the value of the discriminant $b^2 - 4ac$\n<br> 2) $ (4)^2 - 4*1*4 = 0 $ The equation represents a parabola\n<br> 3) $ cot2\\theta = \\frac{1-4}{4} = \\frac{-3}{4}$\n<br> 4) $h^2 = (-3)^2 + 4^2$\n<br> 5) $h = 5$\n<br> 6) $cos\\theta = \\frac{4}{5}$\n<br> 7) $\\theta \\approx 36.87^\\circ$\n"
     },
     "metadata": {}
    }
   ],
   "source": [
    "%%markdown\n",
    "19. $x^2 + 4xy + 4y^2 + 6x − 8y = 0$\n",
    "<br>=====<br>\n",
    "<br> 1) find the value of the discriminant $b^2 - 4ac$\n",
    "<br> 2) $ (4)^2 - 4*1*4 = 0 $ The equation represents a parabola\n",
    "<br> 3) $ cot2\\theta = \\frac{1-4}{4} = \\frac{-3}{4}$\n",
    "<br> 4) $h^2 = (-3)^2 + 4^2$\n",
    "<br> 5) $h = 5$\n",
    "<br> 6) $cos\\theta = \\frac{4}{5}$\n",
    "<br> 7) $\\theta \\approx 36.87^\\circ$"
   ]
  },
  {
   "cell_type": "code",
   "execution_count": null,
   "metadata": {},
   "outputs": [],
   "source": [
    "%%markdown\n",
    "For the following exercises, rewrite in the x'y' system without the x'y' term, and graph the rotated graph."
   ]
  },
  {
   "cell_type": "code",
   "execution_count": 43,
   "metadata": {},
   "outputs": [
    {
     "output_type": "display_data",
     "data": {
      "text/plain": "<IPython.core.display.Markdown object>",
      "text/markdown": "20. $11x^2 + 10\\sqrt{3}xy + y^2 = 4$\n<br>=====<br>\n<br> 1) $cot2\\theta = \\frac{11-1}{10\\sqrt{3}}$\n<br> 2) $cot2\\theta = \\frac{1}{\\sqrt3}$\n<br> 3) $h^2 = 1^2 + \\sqrt{3}^2$\n<br> 4) $h = 2$\n<br> 5) $cos\\theta = \\frac{\\sqrt{3}}{2}$ ; $sin\\theta = \\frac{1}{2}$\n<br> 6) $x = \\frac{\\sqrt{3}x'-y'}{2}$ ; $y = \\frac{x'+\\sqrt{3}y'}{2}$\n<br> 7) $11(\\frac{\\sqrt{3}x'-y'}{2})^2 + 10\\sqrt{3}(\\frac{\\sqrt{3}x'-y'}{2})(\\frac{x'+\\sqrt{3}y'}{2}) + (\\frac{x'+\\sqrt{3}y'}{2})^2 = 4$\n<br> 8) $11(\\frac{3x'^2-2\\sqrt{3}x'y'+y'^2}{4}) + 10\\sqrt{3}(\\frac{\\sqrt{3}x'^2+3x'y'-x'y'-\\sqrt{3}y'^2}{4}) + (\\frac{x'^2+2\\sqrt{3}x'y'+3y'^2}{4}) = 4$\n<br> 9) $\\frac{33x'^2-22\\sqrt{3}x'y'+11y'^2+30x'^2+20\\sqrt{3}x'y'-30y'^2+x'^2+2\\sqrt{3}x'y'+3y'^2}{4}= 4$\n<br> 10) $64x'^2-17y'^2= 16$\n"
     },
     "metadata": {}
    }
   ],
   "source": [
    "%%markdown\n",
    "20. $11x^2 + 10\\sqrt{3}xy + y^2 = 4$\n",
    "<br>=====<br>\n",
    "<br> 1) $cot2\\theta = \\frac{11-1}{10\\sqrt{3}}$\n",
    "<br> 2) $cot2\\theta = \\frac{1}{\\sqrt3}$\n",
    "<br> 3) $h^2 = 1^2 + \\sqrt{3}^2$\n",
    "<br> 4) $h = 2$\n",
    "<br> 5) $cos\\theta = \\frac{\\sqrt{3}}{2}$ ; $sin\\theta = \\frac{1}{2}$\n",
    "<br> 6) $x = \\frac{\\sqrt{3}x'-y'}{2}$ ; $y = \\frac{x'+\\sqrt{3}y'}{2}$\n",
    "<br> 7) $11(\\frac{\\sqrt{3}x'-y'}{2})^2 + 10\\sqrt{3}(\\frac{\\sqrt{3}x'-y'}{2})(\\frac{x'+\\sqrt{3}y'}{2}) + (\\frac{x'+\\sqrt{3}y'}{2})^2 = 4$\n",
    "<br> 8) $11(\\frac{3x'^2-2\\sqrt{3}x'y'+y'^2}{4}) + 10\\sqrt{3}(\\frac{\\sqrt{3}x'^2+3x'y'-x'y'-\\sqrt{3}y'^2}{4}) + (\\frac{x'^2+2\\sqrt{3}x'y'+3y'^2}{4}) = 4$\n",
    "<br> 9) $\\frac{33x'^2-22\\sqrt{3}x'y'+11y'^2+30x'^2+20\\sqrt{3}x'y'-30y'^2+x'^2+2\\sqrt{3}x'y'+3y'^2}{4}= 4$\n",
    "<br> 10) $64x'^2-17y'^2= 16$"
   ]
  },
  {
   "cell_type": "code",
   "execution_count": 53,
   "metadata": {},
   "outputs": [
    {
     "output_type": "stream",
     "name": "stdout",
     "text": [
      "576\n336\n168\n625\n"
     ]
    }
   ],
   "source": [
    "import numpy as np\n",
    "print(24**2)\n",
    "print(24*7*2)\n",
    "print(24*7)\n",
    "print(25**2)"
   ]
  },
  {
   "cell_type": "code",
   "execution_count": 52,
   "metadata": {},
   "outputs": [
    {
     "output_type": "display_data",
     "data": {
      "text/plain": "<IPython.core.display.Markdown object>",
      "text/markdown": "21. $16x^2 + 24xy + 9y^2 − 125x = 0$\n<br>=====<br>\n<br> 1) $cot2\\theta = \\frac{16-9}{24}$\n<br> 2) $cot2\\theta = \\frac{7}{24}$\n<br> 3) $h^2 = 24^2+7^2$\n<br> 4) $h = 25$\n<br> 5) $cos\\theta = \\sqrt{\\frac{1+cos2\\theta}{2}}$ ; $sin\\theta = \\sqrt{\\frac{1-cos2\\theta}{2}}$\n<br> 6) $cos\\theta = \\sqrt{\\frac{1+\\frac{7}{25}}{2}}$ ; $sin\\theta = \\sqrt{\\frac{1-\\frac{7}{25}}{2}}$\n<br> 7) $cos\\theta = \\sqrt{\\frac{32}{50}}$ ; $sin\\theta = \\sqrt{\\frac{18}{50}}$\n<br> 8) $cos\\theta = \\frac{4}{5}$ ; $sin\\theta = \\frac{3}{5}$\n<br> 9) $x = \\frac{4x'-3y'}{5}$ ; $y= \\frac{3x'+4y'}{5}$\n<br> 10) $16(\\frac{4x'-3y'}{5})^2 + 24(\\frac{4x'-3y'}{5})(\\frac{3x'+4y'}{5}) + 9(\\frac{3x'+4y'}{5})^2 − 125(\\frac{4x'-3y'}{5}) = 0$\n<br> 11) $16(16x'^2-24x'y'+9y'^2) + 24(12x'^2+7x'y'-12y'^2) + 9(9x'^2+24x'y'+16y'^2) − 625(4x'-3y') = 0$\n<br> 12) $256x'^2-384x'y'+144y'^2 + 288x'^2+168x'y'-288y'^2 + 81x'^2+216x'y'+144y'^2 -2500x'-1875y' = 0$\n<br> 13) $760x'^2-2500x'-1875y' = 0$\n<br> 14) $152x'^2-500x'-375y' = 0$\n"
     },
     "metadata": {}
    }
   ],
   "source": [
    "%%markdown\n",
    "21. $16x^2 + 24xy + 9y^2 − 125x = 0$\n",
    "<br>=====<br>\n",
    "<br> 1) $cot2\\theta = \\frac{16-9}{24}$\n",
    "<br> 2) $cot2\\theta = \\frac{7}{24}$\n",
    "<br> 3) $h^2 = 24^2+7^2$\n",
    "<br> 4) $h = 25$\n",
    "<br> 5) $cos\\theta = \\sqrt{\\frac{1+cos2\\theta}{2}}$ ; $sin\\theta = \\sqrt{\\frac{1-cos2\\theta}{2}}$\n",
    "<br> 6) $cos\\theta = \\sqrt{\\frac{1+\\frac{7}{25}}{2}}$ ; $sin\\theta = \\sqrt{\\frac{1-\\frac{7}{25}}{2}}$\n",
    "<br> 7) $cos\\theta = \\sqrt{\\frac{32}{50}}$ ; $sin\\theta = \\sqrt{\\frac{18}{50}}$\n",
    "<br> 8) $cos\\theta = \\frac{4}{5}$ ; $sin\\theta = \\frac{3}{5}$\n",
    "<br> 9) $x = \\frac{4x'-3y'}{5}$ ; $y= \\frac{3x'+4y'}{5}$\n",
    "<br> 10) $16(\\frac{4x'-3y'}{5})^2 + 24(\\frac{4x'-3y'}{5})(\\frac{3x'+4y'}{5}) + 9(\\frac{3x'+4y'}{5})^2 − 125(\\frac{4x'-3y'}{5}) = 0$\n",
    "<br> 11) $16(16x'^2-24x'y'+9y'^2) + 24(12x'^2+7x'y'-12y'^2) + 9(9x'^2+24x'y'+16y'^2) − 625(4x'-3y') = 0$\n",
    "<br> 12) $256x'^2-384x'y'+144y'^2 + 288x'^2+168x'y'-288y'^2 + 81x'^2+216x'y'+144y'^2 -2500x'-1875y' = 0$\n",
    "<br> 13) $760x'^2-2500x'-1875y' = 0$\n",
    "<br> 14) $152x'^2-500x'-375y' = 0$"
   ]
  },
  {
   "cell_type": "code",
   "execution_count": null,
   "metadata": {},
   "outputs": [],
   "source": [
    "%%markdown\n",
    "For the following exercises, identify the conic with focus at the origin, and then give the directrix and eccentricity."
   ]
  },
  {
   "cell_type": "code",
   "execution_count": 58,
   "metadata": {},
   "outputs": [
    {
     "output_type": "display_data",
     "data": {
      "text/plain": "<IPython.core.display.Markdown object>",
      "text/markdown": "22) $r = \\frac{3}{2-sin\\theta}$\n<br> ===== <br>\n<br> 1) $e = \\pm\\frac{1}{2}$ ; since eccentricity $0<e<1$ the conic section is en elipse\n<br> 2) $ep = 3$\n<br> 3) $p\\cdot\\frac{1}{2} = 3$\n<br> 4) $p = 6$ The directix is $p=\\pm6$\n"
     },
     "metadata": {}
    }
   ],
   "source": [
    "%%markdown\n",
    "22) $r = \\frac{3}{2-sin\\theta}$\n",
    "<br> ===== <br>\n",
    "<br> 1) $e = \\pm\\frac{1}{2}$ ; since eccentricity $0<e<1$ the conic section is en elipse\n",
    "<br> 2) $ep = 3$\n",
    "<br> 3) $p\\cdot\\frac{1}{2} = \\frac{3}{2}$\n",
    "<br> 4) $p = 6$ The directix is $p=\\pm3$\n"
   ]
  },
  {
   "cell_type": "code",
   "execution_count": 60,
   "metadata": {},
   "outputs": [
    {
     "output_type": "display_data",
     "data": {
      "text/plain": "<IPython.core.display.Markdown object>",
      "text/markdown": "23) $r = \\frac{5}{4+6cos\\theta}$\n<br> $r = \\frac{\\frac{5}{4}}{1+\\frac{6}{4}cos\\theta}$\n<br> ===== <br>\n<br> 1) $e = \\pm\\frac{3}{2}$ ; since eccentricity $e>1$ the conic section is a hyperbola\n<br> 2) $e\\cdot p = \\frac{5}{4}$\n<br> 3) $p\\cdot\\frac{3}{2} = \\frac{5}{4}$\n<br> 4) $p = \\frac{5}{6}$\n"
     },
     "metadata": {}
    }
   ],
   "source": [
    "%%markdown\n",
    "23) $r = \\frac{5}{4+6cos\\theta}$\n",
    "<br> $r = \\frac{\\frac{5}{4}}{1+\\frac{6}{4}cos\\theta}$\n",
    "<br> ===== <br>\n",
    "<br> 1) $e = \\pm\\frac{3}{2}$ ; since eccentricity $e>1$ the conic section is a hyperbola\n",
    "<br> 2) $e\\cdot p = \\frac{5}{4}$\n",
    "<br> 3) $p\\cdot\\frac{3}{2} = \\frac{5}{4}$\n",
    "<br> 4) $p = \\frac{5}{6}$"
   ]
  },
  {
   "cell_type": "code",
   "execution_count": null,
   "metadata": {},
   "outputs": [],
   "source": [
    "%%markdown\n",
    "For the following exercises, graph the given conic section. If it is a parabola, label vertex, focus, and directrix. If it is\n",
    "an ellipse or a hyperbola, label vertices and foci."
   ]
  },
  {
   "cell_type": "code",
   "execution_count": null,
   "metadata": {},
   "outputs": [],
   "source": [
    "%%markdown\n",
    "24) $r = \\frac{12}{4-8sin\\theta}$"
   ]
  },
  {
   "cell_type": "code",
   "execution_count": null,
   "metadata": {},
   "outputs": [],
   "source": [
    "%%markdown\n",
    "25) $r = \\frac{2}{4+4sin\\theta}$"
   ]
  },
  {
   "cell_type": "code",
   "execution_count": 67,
   "metadata": {},
   "outputs": [
    {
     "output_type": "display_data",
     "data": {
      "text/plain": "<IPython.core.display.Markdown object>",
      "text/markdown": "26. Find a polar equation of the conic with focus at the\norigin, eccentricity of e = 2, and directrix: x = 3.\n<br>=====<br>\n<br> 1) $f: (0, 0)) \\text{  ; } e= \\pm2 \\text{  ; directix: }x=3$\n<br> 2) $r=\\frac{p\\cdot e}{1-e\\cdot sin\\theta}$\n<br> 3) $r=\\frac{6}{1-2sin\\theta}$\n"
     },
     "metadata": {}
    }
   ],
   "source": [
    "%%markdown\n",
    "26. Find a polar equation of the conic with focus at the\n",
    "origin, eccentricity of e = 2, and directrix: x = 3.\n",
    "<br>=====<br>\n",
    "<br> 1) $f: (0, 0)) \\text{  ; } e= \\pm2 \\text{  ; directix: }x=3$\n",
    "<br> 2) $r=\\frac{p\\cdot e}{1-e\\cdot sin\\theta}$\n",
    "<br> 3) $r=\\frac{6}{1-2sin\\theta}$"
   ]
  }
 ]
}