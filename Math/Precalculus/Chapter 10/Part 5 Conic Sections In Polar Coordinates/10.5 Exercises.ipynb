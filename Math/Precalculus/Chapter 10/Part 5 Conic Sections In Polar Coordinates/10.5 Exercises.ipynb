{
 "cells": [
  {
   "cell_type": "code",
   "execution_count": 8,
   "metadata": {},
   "outputs": [
    {
     "data": {
      "text/markdown": [
       "Verbal\n",
       "<br>1. Explain how eccentricity determines which conic\n",
       "section is given.\n",
       "<br> If $0\\le e < 1$ then the conic section is an elipse\n",
       "<br> If $e = 1$ then the conic section a a parabola\n",
       "<br> if $e > 1$ then the conic section is a hyperbola\n",
       "<br>===\n",
       "<br>2. If a conic section is written as a polar equation, what\n",
       "must be true of the denominator?\n",
       "<br>If the conic section is written as a polar equation, the denominator must hold either a $sin\\theta$ or a $cos\\theta$\n",
       "<br>===\n",
       "<br>3. If a conic section is written as a polar equation, and\n",
       "the denominator involves sin θ, what conclusion can\n",
       "be drawn about the directrix?\n",
       "<br> We can assume that the directix is of the form $y=\\pm p$\n",
       "<br>===\n",
       "<br>4. If the directrix of a conic section is perpendicular to\n",
       "the polar axis, what do we know about the equation\n",
       "of the graph?\n",
       "<br>The equation inclum\n",
       "<br>===\n",
       "<br>5. What do we know about the focus/foci of a conic\n",
       "section if it is written as a polar equation?\n",
       "<br> The focus/foci of a conic section written as a polar equation is at the origin.\n"
      ],
      "text/plain": [
       "<IPython.core.display.Markdown object>"
      ]
     },
     "metadata": {},
     "output_type": "display_data"
    }
   ],
   "source": [
    "%%markdown\n",
    "Verbal\n",
    "<br>1. Explain how eccentricity determines which conic\n",
    "section is given.\n",
    "<br> If $0\\le e < 1$ then the conic section is an elipse\n",
    "<br> If $e = 1$ then the conic section a a parabola\n",
    "<br> if $e > 1$ then the conic section is a hyperbola\n",
    "<br>===\n",
    "<br>2. If a conic section is written as a polar equation, what\n",
    "must be true of the denominator?\n",
    "<br>If the conic section is written as a polar equation, the denominator must hold either a $sin\\theta$ or a $cos\\theta$\n",
    "<br>===\n",
    "<br>3. If a conic section is written as a polar equation, and\n",
    "the denominator involves sin θ, what conclusion can\n",
    "be drawn about the directrix?\n",
    "<br> We can assume that the directix is of the form $y=\\pm p$\n",
    "<br>===\n",
    "<br>4. If the directrix of a conic section is perpendicular to\n",
    "the polar axis, what do we know about the equation\n",
    "of the graph?\n",
    "<br>The equation inclum\n",
    "<br>===\n",
    "<br>5. What do we know about the focus/foci of a conic\n",
    "section if it is written as a polar equation?\n",
    "<br> The focus/foci of a conic section written as a polar equation is at the origin."
   ]
  },
  {
   "cell_type": "code",
   "execution_count": null,
   "metadata": {},
   "outputs": [],
   "source": [
    "%%markdown\n",
    "For the following exercises, identify the conic with a focus at the origin, and then give the directrix and eccentricity."
   ]
  },
  {
   "cell_type": "code",
   "execution_count": 15,
   "metadata": {},
   "outputs": [
    {
     "data": {
      "text/markdown": [
       "7) $r = \\frac{3}{4-4sin\\theta}$\n",
       "<br>===============<br>\n",
       "<br> 1) $r = \\frac{3*\\frac{1}{4}}{4*\\frac{1}{4}-4sin\\theta*\\frac{1}{4}}$\n",
       "<br> 2) $r = \\frac{\\frac{3}{4}}{1-1sin\\theta}$\n",
       "<br> 3) $ e = 1$\n",
       "<br> The conic is a parabola because $e = 1$\n",
       "<br> 4) $ep = \\frac{3}{4}$\n",
       "<br> 5) $p = \\frac{3}{4}$\n"
      ],
      "text/plain": [
       "<IPython.core.display.Markdown object>"
      ]
     },
     "metadata": {},
     "output_type": "display_data"
    }
   ],
   "source": [
    "%%markdown\n",
    "7) $r = \\frac{3}{4-4sin\\theta}$\n",
    "<br>===============<br>\n",
    "<br> 1) $r = \\frac{3*\\frac{1}{4}}{4*\\frac{1}{4}-4sin\\theta*\\frac{1}{4}}$\n",
    "<br> 2) $r = \\frac{\\frac{3}{4}}{1-1sin\\theta}$\n",
    "<br> 3) $ e = 1$\n",
    "<br> The conic is a parabola because $e = 1$\n",
    "<br> 4) $ep = \\frac{3}{4}$\n",
    "<br> 5) $p = \\frac{3}{4}$"
   ]
  },
  {
   "cell_type": "code",
   "execution_count": 21,
   "metadata": {},
   "outputs": [
    {
     "data": {
      "text/markdown": [
       "11) $r = \\frac{3}{10+10cos\\theta}$\n",
       "<br>===============<br>\n",
       "<br> 1) $r = \\frac{3*\\frac{1}{10}}{10*\\frac{1}{10}+10cos\\theta*\\frac{1}{10}}$ \n",
       "<br> 2) $r  = \\frac{\\frac{3}{10}}{1+cos\\theta}$\n",
       "<br> 3) $e = 1$, the conic section is a parabola\n",
       "<br> 4) $ep = \\frac{3}{10}$\n",
       "<br> 5) $p = \\frac{3}{10}$\n"
      ],
      "text/plain": [
       "<IPython.core.display.Markdown object>"
      ]
     },
     "metadata": {},
     "output_type": "display_data"
    }
   ],
   "source": [
    "%%markdown\n",
    "11) $r = \\frac{3}{10+10cos\\theta}$\n",
    "<br>===============<br>\n",
    "<br> 1) $r = \\frac{3*\\frac{1}{10}}{10*\\frac{1}{10}+10cos\\theta*\\frac{1}{10}}$ \n",
    "<br> 2) $r  = \\frac{\\frac{3}{10}}{1+cos\\theta}$\n",
    "<br> 3) $e = 1$, the conic section is a parabola\n",
    "<br> 4) $ep = \\frac{3}{10}$\n",
    "<br> 5) $p = \\frac{3}{10}$\n"
   ]
  },
  {
   "cell_type": "code",
   "execution_count": 24,
   "metadata": {},
   "outputs": [
    {
     "data": {
      "text/markdown": [
       "15) $r(3+5sin\\theta) = 11$\n",
       "<br>===============<br>\n",
       "<br> 1) $r = \\frac{11}{3+5sin\\theta}$\n",
       "<br> 2) $r = \\frac{11*\\frac{1}{3}}{3*\\frac{1}{3}+5sin\\theta*\\frac{1}{3}}$\n",
       "<br> 3) $r = \\frac{\\frac{11}{3}}{1+\\frac{5}{3}sint\\theta}$\n",
       "<br> 4) $e = \\frac{5}{3}$ The conic section is a hyperbola\n",
       "<br> 5) $ep = \\frac{11}{3}$\n",
       "<br> 6) $p = \\frac{11}{3} /\\frac{5}{3}$\n",
       "<br> 7) $p = \\frac{11}{5}$\n"
      ],
      "text/plain": [
       "<IPython.core.display.Markdown object>"
      ]
     },
     "metadata": {},
     "output_type": "display_data"
    }
   ],
   "source": [
    "%%markdown\n",
    "15) $r(3+5sin\\theta) = 11$\n",
    "<br>===============<br>\n",
    "<br> 1) $r = \\frac{11}{3+5sin\\theta}$\n",
    "<br> 2) $r = \\frac{11*\\frac{1}{3}}{3*\\frac{1}{3}+5sin\\theta*\\frac{1}{3}}$\n",
    "<br> 3) $r = \\frac{\\frac{11}{3}}{1+\\frac{5}{3}sint\\theta}$\n",
    "<br> 4) $e = \\frac{5}{3}$ The conic section is a hyperbola\n",
    "<br> 5) $ep = \\frac{11}{3}$\n",
    "<br> 6) $p = \\frac{11}{3} /\\frac{5}{3}$\n",
    "<br> 7) $p = \\frac{11}{5}$"
   ]
  },
  {
   "cell_type": "code",
   "execution_count": null,
   "metadata": {},
   "outputs": [],
   "source": [
    "%%markdown\n",
    "For the following exercises, convert the polar equation of a conic section to a rectangular equation."
   ]
  },
  {
   "cell_type": "code",
   "execution_count": 31,
   "metadata": {},
   "outputs": [
    {
     "data": {
      "text/markdown": [
       "19) $r = \\frac{2}{5-3sin\\theta}$\n",
       "<br>===============<br>\n",
       "<br> 1)$x = rcos\\theta$; $y = rsin\\theta$; $r^2 = x^2 + y^2$\n",
       "<br> 2) $5r -3rsin\\theta = 2$\n",
       "<br> 3) $25r^2 = (2 + 3rsin\\theta)^2$\n",
       "<br> 4) $25(x^2+y^2) = (2 + 3y)^2$\n",
       "<br> 5) $25x^2+25y^2 = 9y^2+12y+4$\n",
       "<br> 6) $25x^2+16y^2-12y+4 = 0$\n",
       "\n"
      ],
      "text/plain": [
       "<IPython.core.display.Markdown object>"
      ]
     },
     "metadata": {},
     "output_type": "display_data"
    }
   ],
   "source": [
    "%%markdown\n",
    "19) $r = \\frac{2}{5-3sin\\theta}$\n",
    "<br>===============<br>\n",
    "<br> 1)$x = rcos\\theta$; $y = rsin\\theta$; $r^2 = x^2 + y^2$\n",
    "<br> 2) $5r -3rsin\\theta = 2$\n",
    "<br> 3) $25r^2 = (2 + 3rsin\\theta)^2$\n",
    "<br> 4) $25(x^2+y^2) = (2 + 3y)^2$\n",
    "<br> 5) $25x^2+25y^2 = 9y^2+12y+4$\n",
    "<br> 6) $25x^2+16y^2-12y+4 = 0$\n",
    "\n"
   ]
  },
  {
   "cell_type": "code",
   "execution_count": 32,
   "metadata": {},
   "outputs": [
    {
     "data": {
      "text/markdown": [
       "23) $r = \\frac{3}{8-8cos\\theta}$\n",
       "<br>===============<br>\n",
       "<br> 1) $x = rcos\\theta$; $y = rsin\\theta$; $r^2 = x^2 + y^2$\n",
       "<br> 2) $8r -8rcos\\theta = 3$\n",
       "<br> 3) $64r^2 = (8rcos\\theta + 3)^2$\n",
       "<br> 4) $64x^2 + 64y^2 = 64x^2+48x+9$\n",
       "<br> 5) $64y^2 - 48x+9 = 0$ \n"
      ],
      "text/plain": [
       "<IPython.core.display.Markdown object>"
      ]
     },
     "metadata": {},
     "output_type": "display_data"
    }
   ],
   "source": [
    "%%markdown\n",
    "23) $r = \\frac{3}{8-8cos\\theta}$\n",
    "<br>===============<br>\n",
    "<br> 1) $x = rcos\\theta$; $y = rsin\\theta$; $r^2 = x^2 + y^2$\n",
    "<br> 2) $8r -8rcos\\theta = 3$\n",
    "<br> 3) $64r^2 = (8rcos\\theta + 3)^2$\n",
    "<br> 4) $64x^2 + 64y^2 = 64x^2+48x+9$\n",
    "<br> 5) $64y^2 - 48x+9 = 0$ "
   ]
  },
  {
   "cell_type": "code",
   "execution_count": 37,
   "metadata": {},
   "outputs": [
    {
     "data": {
      "text/markdown": [
       "15) $r(2-cos\\theta) = 1$\n",
       "<br>===============<br>\n",
       "<br> 1) $x = rcos\\theta$; $y = rsin\\theta$; $r^2 = x^2 + y^2$\n",
       "<br> 2) $2r - rcos\\theta = 1$\n",
       "<br> 3) $4r^2 = (rcos\\theta+1)^2$\n",
       "<br> 4) $4x^2 + 4y^2 = x^2+2x+1$\n",
       "<br> 5) $3x^2+4y^2-2x-1 = 0$\n"
      ],
      "text/plain": [
       "<IPython.core.display.Markdown object>"
      ]
     },
     "metadata": {},
     "output_type": "display_data"
    }
   ],
   "source": [
    "%%markdown\n",
    "15) $r(2-cos\\theta) = 1$\n",
    "<br>===============<br>\n",
    "<br> 1) $x = rcos\\theta$; $y = rsin\\theta$; $r^2 = x^2 + y^2$\n",
    "<br> 2) $2r - rcos\\theta = 1$\n",
    "<br> 3) $4r^2 = (rcos\\theta+1)^2$\n",
    "<br> 4) $4x^2 + 4y^2 = x^2+2x+1$\n",
    "<br> 5) $3x^2+4y^2-2x-1 = 0$"
   ]
  },
  {
   "cell_type": "code",
   "execution_count": 38,
   "metadata": {},
   "outputs": [
    {
     "data": {
      "text/markdown": [
       "For the following exercises, graph the given conic section. If it is a parabola, label the vertex, focus, and directrix. If it\n",
       "is an ellipse, label the vertices and foci. If it is a hyperbola, label the vertices and foci\n"
      ],
      "text/plain": [
       "<IPython.core.display.Markdown object>"
      ]
     },
     "metadata": {},
     "output_type": "display_data"
    }
   ],
   "source": [
    "%%markdown\n",
    "For the following exercises, graph the given conic section. If it is a parabola, label the vertex, focus, and directrix. If it\n",
    "is an ellipse, label the vertices and foci. If it is a hyperbola, label the vertices and foci"
   ]
  },
  {
   "cell_type": "code",
   "execution_count": null,
   "metadata": {},
   "outputs": [],
   "source": [
    "%%markdown\n",
    "33) $r = \\frac{10}{5-4sin\\theta}$\n",
    "<br>===============<br>\n",
    "<br> "
   ]
  },
  {
   "cell_type": "code",
   "execution_count": null,
   "metadata": {},
   "outputs": [],
   "source": [
    "%%markdown\n",
    "37) $r = \\frac{2}{1-sin\\theta}$\n",
    "<br>===============<br>"
   ]
  },
  {
   "cell_type": "code",
   "execution_count": null,
   "metadata": {},
   "outputs": [],
   "source": [
    "%%markdown\n",
    "41) $r = r(3-2sin\\theta)=6$\n",
    "<br>===============<br>"
   ]
  },
  {
   "cell_type": "code",
   "execution_count": null,
   "metadata": {},
   "outputs": [],
   "source": [
    "%%markdown\n",
    "For the following exercises, find the polar equation of the conic with focus at the origin and the given eccentricity\n",
    "and directrix."
   ]
  },
  {
   "cell_type": "code",
   "execution_count": 6,
   "metadata": {},
   "outputs": [
    {
     "data": {
      "text/markdown": [
       "44) Directrix: x = − 4; e = 5\n",
       "<br>===============<br>\n",
       "<br> 1) $ r = \\frac{20}{1-5cos\\theta}$\n"
      ],
      "text/plain": [
       "<IPython.core.display.Markdown object>"
      ]
     },
     "metadata": {},
     "output_type": "display_data"
    }
   ],
   "source": [
    "%%markdown\n",
    "44) Directrix: x = − 4; e = 5\n",
    "<br>===============<br>\n",
    "<br> 1) $ r = \\frac{20}{1-5cos\\theta}$"
   ]
  },
  {
   "cell_type": "code",
   "execution_count": 7,
   "metadata": {},
   "outputs": [
    {
     "data": {
      "text/markdown": [
       "46) Directrix: x = − 2; e =0.5\n",
       "<br>===============<br>\n",
       "<br> 1) $ r = \\frac{1}{1-\\frac{1}{2}cos\\theta}$\n"
      ],
      "text/plain": [
       "<IPython.core.display.Markdown object>"
      ]
     },
     "metadata": {},
     "output_type": "display_data"
    }
   ],
   "source": [
    "%%markdown\n",
    "46) Directrix: x = − 2; e =0.5\n",
    "<br>===============<br>\n",
    "<br> 1) $ r = \\frac{1}{1-\\frac{1}{2}cos\\theta}$"
   ]
  },
  {
   "cell_type": "code",
   "execution_count": null,
   "metadata": {},
   "outputs": [],
   "source": [
    "%%markdown\n",
    "49) Directrix: x = −0.25; e =3.5\n",
    "<br>===============<br>\n",
    "<br> 1) $ r = \\frac{7}{8-28cos\\theta}$"
   ]
  },
  {
   "cell_type": "code",
   "execution_count": null,
   "metadata": {},
   "outputs": [],
   "source": [
    "%%markdown\n",
    "53) Directrix: x = −5; e =0.75\n",
    "<br>===============<br>\n",
    "<br> 1) $ r = \\frac{15}{4-3cos\\theta}$"
   ]
  },
  {
   "cell_type": "code",
   "execution_count": null,
   "metadata": {},
   "outputs": [],
   "source": [
    "%%markdown\n",
    "Recall from Rotation of Axes that equations of conics with an xy term have rotated graphs. For the following exercises,\n",
    "express each equation in polar form with r as a function of θ."
   ]
  },
  {
   "cell_type": "code",
   "execution_count": 20,
   "metadata": {},
   "outputs": [
    {
     "data": {
      "text/markdown": [
       "57) x^2 + xy + y^2 = 4\n",
       "<br>===============<br>\n",
       "<br> $x = rcos\\theta$; $y = rsin\\theta$; $r^2 = x^2 + y^2$\n",
       "<br> 1) $(rcos\\theta)^2 +(rcos\\theta)(rsin\\theta)+(rsin\\theta)^2 = 4 $\n",
       "<br> 2) $r^2cos(\\theta)^2 +r^2(cos\\theta)(sin\\theta)+r^2sin(\\theta)^2 = 4 $\n",
       "<br> 3) $r^2(\\frac{cos2\\theta+sin2\\theta-cos(2\\theta)+2}{2}) = 4$\n",
       "<br> 4) $r^2(\\frac{sin2\\theta)+2}{2}) = 4$\n",
       "<br> 5) r^2 = \\frac{8}{2-sin2\\theta}\n",
       "\n",
       "<br> 1) $r^2 + r^2cos\\theta sin\\theta = 4$\n",
       "<br> 2) $r^2(1+sin2\\theta) = 4$\n",
       "<br> 3) $ r = \\pm \\frac{2}{\\sqrt{1+cos\\theta sin\\theta}}$\n"
      ],
      "text/plain": [
       "<IPython.core.display.Markdown object>"
      ]
     },
     "metadata": {},
     "output_type": "display_data"
    }
   ],
   "source": [
    "%%markdown\n",
    "57) x^2 + xy + y^2 = 4\n",
    "<br>===============<br>\n",
    "<br> $x = rcos\\theta$; $y = rsin\\theta$; $r^2 = x^2 + y^2$\n",
    "<br> 1) $(rcos\\theta)^2 +(rcos\\theta)(rsin\\theta)+(rsin\\theta)^2 = 4 $\n",
    "<br> 2) $r^2cos(\\theta)^2 +r^2(cos\\theta)(sin\\theta)+r^2sin(\\theta)^2 = 4 $\n",
    "<br> 3) $r^2(\\frac{cos2\\theta+sin2\\theta-cos(2\\theta)+2}{2}) = 4$\n",
    "<br> 4) $r^2(\\frac{sin2\\theta)+2}{2}) = 4$\n",
    "<br> 5) r^2 = \\frac{8}{2-sin2\\theta}\n",
    "\n",
    "<br> 1) $r^2 + r^2cos\\theta sin\\theta = 4$\n",
    "<br> 2) $r^2(1+sin2\\theta) = 4$\n",
    "<br> 3) $ r = \\pm \\frac{2}{\\sqrt{1+cos\\theta sin\\theta}}$"
   ]
  },
  {
   "cell_type": "code",
   "execution_count": 22,
   "metadata": {},
   "outputs": [
    {
     "data": {
      "text/markdown": [
       "59. 16x^2 + 24xy + 9y^2 = 4\n",
       "<br>===============<br>\n",
       "<br> 1) $(4x+3y)^2 = 4$\n",
       "<br> 2) $4x+3y = 2$\n",
       "<br> 3) $4rcos\\theta+3r\\sin\\theta = 2$\n",
       "<br> 4) $r = \\frac{2}{4cos\\theta+3sin\\theta}$\n"
      ],
      "text/plain": [
       "<IPython.core.display.Markdown object>"
      ]
     },
     "metadata": {},
     "output_type": "display_data"
    }
   ],
   "source": [
    "%%markdown\n",
    "59. 16x^2 + 24xy + 9y^2 = 4\n",
    "<br>===============<br>\n",
    "<br> 1) $(4x+3y)^2 = 4$\n",
    "<br> 2) $4x+3y = 2$\n",
    "<br> 3) $4rcos\\theta+3r\\sin\\theta = 2$\n",
    "<br> 4) $r = \\frac{2}{4cos\\theta+3sin\\theta}$"
   ]
  },
  {
   "cell_type": "code",
   "execution_count": 23,
   "metadata": {},
   "outputs": [
    {
     "data": {
      "text/markdown": [
       "60. 2xy + y = 1\n",
       "<br>===============<br>\n",
       "<br> 1) $y(2x+1) = 1$\n",
       "<br> 2) $rsin\\theta(2rcos\\theta+1) = 1$\n"
      ],
      "text/plain": [
       "<IPython.core.display.Markdown object>"
      ]
     },
     "metadata": {},
     "output_type": "display_data"
    }
   ],
   "source": [
    "%%markdown\n",
    "60. 2xy + y = 1\n",
    "<br>===============<br>\n",
    "<br> 1) $y(2x+1) = 1$\n",
    "<br> 2) $rsin\\theta(2rcos\\theta+1) = 1$"
   ]
  }
 ],
 "metadata": {
  "kernelspec": {
   "display_name": "Python 3",
   "language": "python",
   "name": "python3"
  },
  "language_info": {
   "codemirror_mode": {
    "name": "ipython",
    "version": 3
   },
   "file_extension": ".py",
   "mimetype": "text/x-python",
   "name": "python",
   "nbconvert_exporter": "python",
   "pygments_lexer": "ipython3",
   "version": "3.8.6"
  }
 },
 "nbformat": 4,
 "nbformat_minor": 2
}
