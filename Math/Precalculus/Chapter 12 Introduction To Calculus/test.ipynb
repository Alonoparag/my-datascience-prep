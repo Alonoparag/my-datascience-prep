{
 "metadata": {
  "language_info": {
   "codemirror_mode": {
    "name": "ipython",
    "version": 3
   },
   "file_extension": ".py",
   "mimetype": "text/x-python",
   "name": "python",
   "nbconvert_exporter": "python",
   "pygments_lexer": "ipython3",
   "version": "3.8.6-final"
  },
  "orig_nbformat": 2,
  "kernelspec": {
   "name": "python3",
   "display_name": "Python 3"
  }
 },
 "nbformat": 4,
 "nbformat_minor": 2,
 "cells": [
  {
   "cell_type": "code",
   "execution_count": 17,
   "metadata": {},
   "outputs": [],
   "source": [
    "import numpy as np\n",
    "import math"
   ]
  },
  {
   "source": [
    "1) $f (1) $\n",
    "## undefeined"
   ],
   "cell_type": "markdown",
   "metadata": {}
  },
  {
   "source": [
    "\n",
    "2) $\\lim\\limits_{x \\to -1^+}f(x)$\n",
    "3"
   ],
   "cell_type": "markdown",
   "metadata": {}
  },
  {
   "source": [
    "\n",
    "3) $\\lim\\limits_{x \\to -1^-}f(x) = 1$\n",
    "\n",
    "4) $\\lim\\limits_{x \\to -1}f(x)$ undefined because the two sides of the limits shown in the figure 1 are not equal\n",
    "\n",
    "5) $\\lim\\limits_{x \\to -2}f(x) = \\ \\infty$\n",
    "\n",
    "6) At what values of x is f discontinuous? What property of continuity is violated?\n",
    "For the following exercises, with the use of a graphing utility, use numerical or graphical evidence \\to determine the\n",
    "left- and right-hand limits of the function given as x approaches a. If the function has a limit as x approaches a, state it. If not, discuss why there is no limit.\n",
    "## answer:$f$ is discontinous at x = -1, and all of the conditions for the function to be continous are violated: there is no y coordinate at x = -1 (first condition), the limits of either side of a = 1 are not equal (second condition) and as there is no coordinate of y at x = -1 it cannot fit into $f$ (third condition)\n"
   ],
   "cell_type": "markdown",
   "metadata": {}
  },
  {
   "source": [
    "%%markdown\n",
    "For the following exercises, with the use of a graphing utility, use numerical or graphical evidence \\to determine the\n",
    "left- and right-hand limits of the function given as x approaches a. If the function has a limit as x approaches a, state it. If not, discuss why there is no limit.\n",
    "\n"
   ],
   "cell_type": "markdown",
   "metadata": {}
  },
  {
   "source": [
    "%%markdown\n",
    "7) $f(x) =\\begin{cases}\\frac{1}{x}-3 ,\\ if x\\le2\\\\x^3 + 1 ,\\ if x > 2 \\end{cases} a=2 $\n",
    "\n"
   ],
   "cell_type": "markdown",
   "metadata": {}
  },
  {
   "source": [
    "\n",
    "8) $f(x) =\\begin{cases}x^3+1 ,\\ if x < 1\\\\ 3x^2-1 ,\\ if x = 1\\\\ -\\sqrt{x+3+4} ,\\ if x>1 \\end{cases}  a=$\n",
    "\n"
   ],
   "cell_type": "markdown",
   "metadata": {}
  },
  {
   "source": [
    "For the following exercises, evaluate each limit using algebraic techniques.\n",
    "\n"
   ],
   "cell_type": "markdown",
   "metadata": {}
  },
  {
   "source": [
    "9) $\\lim_\\limits{x \\to -5}(\\frac{\\frac{1}{5}+\\frac{1}{x}}{10+2x})$\n"
   ],
   "cell_type": "markdown",
   "metadata": {}
  },
  {
   "source": [
    "## $\\lim_\\limits{x \\to -5}(\\frac{x+5}{5x*2(5+x)})$\n",
    "## $\\lim_\\limits{x \\to -5}(\\frac{1}{10x})$\n",
    "## $\\lim_\\limits{x \\to -5}(\\frac{1}{10lim(x)})$\n",
    "## $\\lim_\\limits{x \\to -5}(\\frac{1}{10(-5)}) = \\rightarrow \\frac{1}{-50} $\n"
   ],
   "cell_type": "markdown",
   "metadata": {}
  },
  {
   "source": [
    "10) $\\lim_\\limits{h \\to 0}(\\frac{\\sqrt{h^2+25}-5}{h^2}) $"
   ],
   "cell_type": "markdown",
   "metadata": {}
  },
  {
   "source": [
    "## $\\lim_\\limits{h \\to 0}(\\frac{\\sqrt{h^2+25}-5}{h^2}\\cdot\\frac{\\sqrt{h^2+25}+5}{\\sqrt{h^2+25}+5})$\n",
    "## $\\lim_\\limits{h \\to 0}(\\frac{h^2+25-25}{h^2(\\sqrt{h^2+25})})$\n",
    "## $\\lim_\\limits{h \\to 0}(\\frac{1}{(\\sqrt{h^2+25}+5})$\n",
    "## $\\lim_\\limits{h \\to 0}(\\frac{1}{(\\sqrt{lim(h^2)+25}+5})$\n",
    "## $\\lim_\\limits{h \\to 0}(\\frac{1}{\\sqrt{(0)+25}+5}) = \\frac{1}{10} $"
   ],
   "cell_type": "markdown",
   "metadata": {}
  },
  {
   "source": [
    "## 11) $\\lim_\\limits{h \\to 0}(\\frac{1}{h}-\\frac{1}{h^2+h}) $\n",
    "## $\\lim_\\limits{h \\to 0}(\\frac{(h^2+h)}{h}-\\frac{h}{h(h^2+h)}) $\n",
    "## $\\lim_\\limits{h \\to 0}(\\frac{h^2}{h(h^2+h)})$\n",
    "## $\\lim_\\limits{h \\to 0}(\\frac{1}{h+1})$\n",
    "## $\\lim_\\limits{h \\to 0}(\\frac{1}{lim(h)+1})$\n",
    "## $\\lim_\\limits{h \\to 0}(\\frac{1}{0+1}) = 1$"
   ],
   "cell_type": "markdown",
   "metadata": {}
  },
  {
   "source": [
    "For the following exercises, determine whether or not the given function f is continuous. If it is continuous, show why.\n",
    "If it is not continuous, state which conditions fail.\n",
    "\n"
   ],
   "cell_type": "markdown",
   "metadata": {}
  },
  {
   "source": [
    "## 12) $f(x) =\\sqrt{x^2-4} $\n",
    "## 1st condition: fails because the function is undefined for $-2 < x < 2$\n",
    "## 2nd condition: fails because there is no right hand limit for a = -2 and there is no left hand limit for a = 2\n",
    "## third condition: fails as there are no y values that could be on the graph of f(x) in the range of $-2 < x < 2$"
   ],
   "cell_type": "markdown",
   "metadata": {}
  },
  {
   "source": [
    "## 13) $f(x) = \\frac{x^3-4x^2-9x+36}{x^3-3x^2+2x-6} $\n"
   ],
   "cell_type": "code",
   "metadata": {},
   "execution_count": null,
   "outputs": []
  },
  {
   "cell_type": "code",
   "execution_count": 29,
   "metadata": {},
   "outputs": [
    {
     "output_type": "execute_result",
     "data": {
      "text/plain": [
       "2.8284271247461907"
      ]
     },
     "metadata": {},
     "execution_count": 29
    }
   ],
   "source": [
    "np.sqrt(2)**3"
   ]
  },
  {
   "source": [
    "## 1st condition: checking if there is an x value for which the denominator equals 0\n",
    "##  $x^3-3x^2+2x -6 = 0$\n",
    "##  $x^2(x-3)+2(x-3)= 0$\n",
    "##  $(x^2+2)(x-3)= 0 \\rightarrow x = 3$\n",
    "## 1st condition fails at x = 3\n",
    "## 2nd condition: checking the limit at x = 3\n",
    "### ======\n",
    "### Left Hand\n",
    "### ======\n",
    "### 1) input: 2.9\n",
    "### \t output: -0.62344\n",
    "### xxxxxxxxx\n",
    "### 2) input: 2.99\n",
    "### \t output: -0.553\n",
    "### xxxxxxxxx\n",
    "### 3) input: 2.999\n",
    "### \t output: -0.54621\n",
    "### xxxxxxxxx\n",
    "### 4) input: 2.9999\n",
    "### \t output: -0.54553\n",
    "### xxxxxxxxx\n",
    "### 5) input: 2.99999\n",
    "### \t output: -0.54546\n",
    "### xxxxxxxxx\n",
    "### 6) input: 2.999999\n",
    "### \t output: -0.54546\n",
    "### xxxxxxxxx\n",
    "### 7) input: 2.9999999\n",
    "### \t output: -0.54545\n",
    "### xxxxxxxxx\n",
    "### 8) input: 2.99999999\n",
    "### \t output: -0.54545\n",
    "### xxxxxxxxx\n",
    "### 9) input: 2.999999999\n",
    "### \t output: -0.54545\n",
    "### xxxxxxxxx\n",
    "### 10) input: 2.9999999999\n",
    "### \t output: -0.54545\n",
    "### xxxxxxxxx\n",
    "### ======\n",
    "### Right Hand\n",
    "### ======\n",
    "### 1) input: 3.1\n",
    "### \t output: -0.47287\n",
    "### xxxxxxxxx\n",
    "### 2) input: 3.01\n",
    "### \t output: -0.53796\n",
    "### xxxxxxxxx\n",
    "### 3) input: 3.001\n",
    "### \t output: -0.5447\n",
    "### xxxxxxxxx\n",
    "### 4) input: 3.0001\n",
    "### \t output: -0.54538\n",
    "### xxxxxxxxx\n",
    "### 5) input: 3.00001\n",
    "### \t output: -0.54545\n",
    "### xxxxxxxxx\n",
    "### 6) input: 3.000001\n",
    "### \t output: -0.54545\n",
    "### xxxxxxxxx\n",
    "### 7) input: 3.0000001\n",
    "### \t output: -0.54545\n",
    "### xxxxxxxxx\n",
    "### 8) input: 3.00000001\n",
    "### \t output: -0.54545\n",
    "### xxxxxxxxx\n",
    "### 9) input: 3.000000001\n",
    "### \t output: -0.54545\n",
    "### xxxxxxxxx\n",
    "### 10) input: 3.0000000001\n",
    "### \t output: -0.54545\n",
    "### xxxxxxxxx\n",
    "##  2nd condition passes as there is a defined limtit at x = -3.\n",
    "##  3rd condition fails, $\\lim_\\limits{x \\to -3} \\ne undefined$"
   ],
   "cell_type": "markdown",
   "metadata": {}
  },
  {
   "source": [
    "For the following exercises, use the definition of a derivative \\to find the derivative of the given function at x = a.\n",
    "\n"
   ],
   "cell_type": "markdown",
   "metadata": {}
  },
  {
   "cell_type": "code",
   "execution_count": null,
   "metadata": {},
   "outputs": [],
   "source": [
    "25+20x+4x^2\n",
    "(2x+5)"
   ]
  },
  {
   "source": [
    "%%markdown\n",
    "## 14) $f(x) = \\frac{3}{5+2x} $\n",
    "## $f'(x) = \\frac{f(x+h)-f(x)}{h}$\n",
    "## $f'(x) = \\frac{\\frac{3}{5+2(x+h)}-\\frac{3}{5+2x}}{h}$\n",
    "## $f'(x) = \\frac{\\frac{3(5+2x)}{(5+2x)[5+2(x+h)]}-\\frac{3[5+2(x+h)]}{(5+2x)[5+2(x+h)]}}{h}$\n",
    "## $f'(x) = \\frac{-6h}{h(25+10x+10h+10x+4x^2+4hx)}$\n",
    "## $\\lim_\\limits{{h}\\to {0}}(f'(x)) = \\frac{-6}{(25+10x+10\\lim(h)+10x+4x^2+4\\lim(h)x)}$\n",
    "## $f'(x) = \\frac{-6}{(25+10x+10(0)+10x+4x^2+4(0)x)}$\n",
    "## $f'(x) = \\frac{-6}{(2x+5)^2}$\n"
   ],
   "cell_type": "markdown",
   "metadata": {}
  },
  {
   "cell_type": "code",
   "execution_count": 51,
   "metadata": {},
   "outputs": [
    {
     "output_type": "display_data",
     "data": {
      "text/plain": "<IPython.core.display.Markdown object>",
      "text/markdown": "## 15) $f(x) = \\frac{3}{\\sqrt{x}} $\n## $f'(x) = \\frac{f(x+h)-f(x)}{h}$\n## $f'(x) = \\frac{\\frac{3}{\\sqrt{x+h}}-\\frac{3}{\\sqrt{x}}}{h}$\n## $f'(x) = \\frac{\\frac{3\\sqrt{x}}{\\sqrt{x+h}\\sqrt{x}}-\\frac{3\\sqrt{x+h}}{\\sqrt{x}\\sqrt{x+h}}}{h}$\n## $f'(x) = \\frac{3(\\sqrt{x}-\\sqrt{x+h})}{h\\sqrt{x}\\sqrt{x+h}}\\cdot\\frac{\\sqrt{x}+\\sqrt{x+h}}{\\sqrt{x}+\\sqrt{x+h}}$\n## $f'(x) = \\frac{3(x-(x+h))}{h\\sqrt{x}\\sqrt{x+h}\\sqrt{x}+\\sqrt{x+h}}$\n## $f'(x) = \\frac{-3h}{h\\sqrt{x}\\sqrt{x+h}(\\sqrt{x}+\\sqrt{x+h})}$\n## $f'(x) = \\frac{-3}{x\\cdot\\sqrt{x+h}+(h+x)\\cdot\\sqrt{x}}$\n## $\\lim_\\limits{{h}\\to {0}}(f'(x))= \\frac{-3}{x\\cdot\\sqrt{x+\\lim(h)}+(\\lim(h)+x)\\cdot\\sqrt{x}}$\n## $f'(x) = \\frac{-3}{x\\cdot\\sqrt{x+(0)}+((0)+x)\\cdot\\sqrt{x}}$\n## $f'(x) = \\frac{-3}{2x\\cdot\\sqrt{x}}$\n"
     },
     "metadata": {}
    }
   ],
   "source": [
    "%%markdown\n",
    "## 15) $f(x) = \\frac{3}{\\sqrt{x}} $\n",
    "## $f'(x) = \\frac{f(x+h)-f(x)}{h}$\n",
    "## $f'(x) = \\frac{\\frac{3}{\\sqrt{x+h}}-\\frac{3}{\\sqrt{x}}}{h}$\n",
    "## $f'(x) = \\frac{\\frac{3\\sqrt{x}}{\\sqrt{x+h}\\sqrt{x}}-\\frac{3\\sqrt{x+h}}{\\sqrt{x}\\sqrt{x+h}}}{h}$\n",
    "## $f'(x) = \\frac{3(\\sqrt{x}-\\sqrt{x+h})}{h\\sqrt{x}\\sqrt{x+h}}\\cdot\\frac{\\sqrt{x}+\\sqrt{x+h}}{\\sqrt{x}+\\sqrt{x+h}}$\n",
    "## $f'(x) = \\frac{3(x-(x+h))}{h\\sqrt{x}\\sqrt{x+h}\\sqrt{x}+\\sqrt{x+h}}$\n",
    "## $f'(x) = \\frac{-3h}{h\\sqrt{x}\\sqrt{x+h}(\\sqrt{x}+\\sqrt{x+h})}$\n",
    "## $f'(x) = \\frac{-3}{x\\cdot\\sqrt{x+h}+(h+x)\\cdot\\sqrt{x}}$\n",
    "## $\\lim_\\limits{{h}\\to {0}}(f'(x))= \\frac{-3}{x\\cdot\\sqrt{x+\\lim(h)}+(\\lim(h)+x)\\cdot\\sqrt{x}}$\n",
    "## $f'(x) = \\frac{-3}{x\\cdot\\sqrt{x+(0)}+((0)+x)\\cdot\\sqrt{x}}$\n",
    "## $f'(x) = \\frac{-3}{2x\\cdot\\sqrt{x}}$\n"
   ]
  },
  {
   "cell_type": "code",
   "execution_count": null,
   "metadata": {},
   "outputs": [],
   "source": [
    "2(x+h)^2 +9(x+h)-(2x^2 +9x)\n",
    "2x^2+4hx+2h^2+9x+9h-2x^2-9x\n",
    "2h^2+4hx+9h"
   ]
  },
  {
   "cell_type": "code",
   "execution_count": 53,
   "metadata": {},
   "outputs": [
    {
     "output_type": "display_data",
     "data": {
      "text/plain": "<IPython.core.display.Markdown object>",
      "text/markdown": "## 16) $f(x) = 2x^2 +9x$\n## $f'(x) = \\frac{f(x+h)-f(x)}{h}$\n## $f'(x) = \\frac{2(x+h)^2 +9(x+h)-(2x^2 +9x)}{h}$\n## $f'(x) = \\frac{2h^2+4hx+9h}{h}$\n## $f'(x) = 2h+4x+9$\n## $\\lim_\\limits{{h}\\to {0}}(f'(x)) = 2\\lim(h)+4x+9$\n## $f'(x) = 4x+9$\n"
     },
     "metadata": {}
    }
   ],
   "source": [
    "%%markdown\n",
    "## 16) $f(x) = 2x^2 +9x$\n",
    "## $f'(x) = \\frac{f(x+h)-f(x)}{h}$\n",
    "## $f'(x) = \\frac{2(x+h)^2 +9(x+h)-(2x^2 +9x)}{h}$\n",
    "## $f'(x) = \\frac{2h^2+4hx+9h}{h}$\n",
    "## $f'(x) = 2h+4x+9$\n",
    "## $\\lim_\\limits{{h}\\to {0}}(f'(x)) = 2\\lim(h)+4x+9$\n",
    "## $f'(x) = 4x+9$"
   ]
  },
  {
   "source": [
    "%%markdown\n",
    "17) For the graph in Figure 2, determine where\n",
    "the function is continuous/discontinuous and\n",
    "differentiable/not differentiable.\n",
    "the function is continous in the following ranges:\n",
    " $ x \\ne -2;\\ x\\ne 0$\n",
    " the function is differentiable except in x = -2\n"
   ],
   "cell_type": "markdown",
   "metadata": {}
  },
  {
   "source": [
    "%%markdown\n",
    "For the following exercises, with the aid of a graphing utility, explain why the function is not differentiable\n",
    "everywhere on its domain. Specify the points where the function is not differentiable.\n",
    "\n"
   ],
   "cell_type": "markdown",
   "metadata": {}
  },
  {
   "source": [
    "%%markdown\n",
    "18) $f(x) = |x − 2| − |x + 2| $\n",
    "\n"
   ],
   "cell_type": "markdown",
   "metadata": {}
  },
  {
   "source": [
    "%%markdown\n",
    "19) $f(x) = \\frac{2}{1+e^{\\frac{2}{x}}} $\n"
   ],
   "cell_type": "markdown",
   "metadata": {}
  },
  {
   "source": [
    "%%markdown\n",
    "For the following exercises, explain the notation in words when the height of a projectile in feet, s, is a function of time\n",
    "$t$ in seconds after launch and is given by the function s(t).\n",
    "\n"
   ],
   "cell_type": "markdown",
   "metadata": {}
  },
  {
   "source": [
    "%%markdown\n",
    "20) $s(0)$ the height of the projectile in the moment of launch\n",
    "\n"
   ],
   "cell_type": "markdown",
   "metadata": {}
  },
  {
   "source": [
    "%%markdown\n",
    "21) $s(2) $ the height of the projectile 2 seconds after launch\n",
    "\n"
   ],
   "cell_type": "markdown",
   "metadata": {}
  },
  {
   "source": [
    "%%markdown\n",
    "22) $s′(2)$ the velocity of the projectile 2 seconds after launch\n",
    "\n"
   ],
   "cell_type": "markdown",
   "metadata": {}
  },
  {
   "source": [
    "%%markdown\n",
    "23) $\\frac{s(2)-s(1)}{2-1} $ the average velocity 2 between the first second and the 2 second after launch\n",
    "\n",
    "\n"
   ],
   "cell_type": "markdown",
   "metadata": {}
  },
  {
   "source": [
    "%%markdown\n",
    "24) $s(t)=0 $ the time in seconds when the height of the projectile equals to the height of the measuring horizon\n",
    "\n"
   ],
   "cell_type": "markdown",
   "metadata": {}
  },
  {
   "source": [
    "%%markdown\n",
    "For the following exercises, use technology to evaluate the limit.\n",
    "\n"
   ],
   "cell_type": "markdown",
   "metadata": {}
  },
  {
   "cell_type": "code",
   "execution_count": 56,
   "metadata": {},
   "outputs": [
    {
     "output_type": "display_data",
     "data": {
      "text/plain": "<IPython.core.display.Markdown object>",
      "text/markdown": "25) $\\lim\\limits_{x \\to 0}\\frac{sin(x)}{3x}  = 0$\n\n"
     },
     "metadata": {}
    }
   ],
   "source": [
    "%%markdown\n",
    "25) $\\lim\\limits_{x \\to 0}\\frac{sin(x)}{3x}  = 1$\n",
    "### ======\n",
    "### Left Hand\n",
    "### ======\n",
    "### x 1) input: -0.1\n",
    "### xxxx output: 0.33278\n",
    "### xxxxxxxxxx\n",
    "### x 2) input: -0.01\n",
    "### xxxx output: 0.33333\n",
    "### xxxxxxxxxx\n",
    "### x 3) input: -0.001\n",
    "### xxxx output: 0.33333\n",
    "### xxxxxxxxxx\n",
    "### x 4) input: -0.0001\n",
    "### xxxx output: 0.33333\n",
    "### xxxxxxxxxx\n",
    "### x 5) input: -1e-05\n",
    "### xxxx output: 0.33333\n",
    "### xxxxxxxxxx\n",
    "### x 6) input: -1e-06\n",
    "### xxxx output: 0.33333\n",
    "### xxxxxxxxxx\n",
    "### x 7) input: -1e-07\n",
    "### xxxx output: 0.33333\n",
    "### xxxxxxxxxx\n",
    "### x 8) input: -1e-08\n",
    "### xxxx output: 0.33333\n",
    "### xxxxxxxxxx\n",
    "### x 9) input: -1e-09\n",
    "### xxxx output: 0.33333\n",
    "### xxxxxxxxxx\n",
    "### x 10) input: -1e-10\n",
    "### xxxx output: 0.33333\n",
    "### xxxxxxxxxx\n",
    "### ======\n",
    "### Right Hand\n",
    "### ======\n",
    "### x 1) input: 0.1\n",
    "### xxxx output: 0.33278\n",
    "### xxxxxxxxxx\n",
    "### x 2) input: 0.01\n",
    "### xxxx output: 0.33333\n",
    "### xxxxxxxxxx\n",
    "### x 3) input: 0.001\n",
    "### xxxx output: 0.33333\n",
    "### xxxxxxxxxx\n",
    "### x 4) input: 0.0001\n",
    "### xxxx output: 0.33333\n",
    "### xxxxxxxxxx\n",
    "### x 5) input: 1e-05\n",
    "### xxxx output: 0.33333\n",
    "### xxxxxxxxxx\n",
    "### x 6) input: 1e-06\n",
    "### xxxx output: 0.33333\n",
    "### xxxxxxxxxx\n",
    "### x 7) input: 1e-07\n",
    "### xxxx output: 0.33333\n",
    "### xxxxxxxxxx\n",
    "### x 8) input: 1e-08\n",
    "### xxxx output: 0.33333\n",
    "### xxxxxxxxxx\n",
    "### x 9) input: 1e-09\n",
    "### xxxx output: 0.33333\n",
    "### xxxxxxxxxx\n",
    "### x 10) input: 1e-10\n",
    "### xxxx output: 0.33333\n",
    "### xxxxxxxxxx\n"
   ]
  },
  {
   "cell_type": "code",
   "execution_count": 59,
   "metadata": {},
   "outputs": [
    {
     "output_type": "display_data",
     "data": {
      "text/plain": "<IPython.core.display.Markdown object>",
      "text/markdown": "26) $\\lim\\limits_{x \\to 0}\\frac{tan^2(x)}{2x} $\n\n"
     },
     "metadata": {}
    }
   ],
   "source": [
    "%%markdown\n",
    "26) $\\lim\\limits_{x \\to 0}\\frac{tan^2(x)}{2x} = 0 $\n",
    "### ======\n",
    "### Left Hand\n",
    "### ======\n",
    "### x 1) input: -0.1\n",
    "### x\toutput: -0.05034\n",
    "### xxxxxxxxxx\n",
    "### x 2) input: -0.01\n",
    "### x\toutput: -0.005\n",
    "### xxxxxxxxxx\n",
    "### x 3) input: -0.001\n",
    "### x\toutput: -0.0005\n",
    "### xxxxxxxxxx\n",
    "### x 4) input: -0.0001\n",
    "### x\toutput: -5e-05\n",
    "### xxxxxxxxxx\n",
    "### x 5) input: -1e-05\n",
    "### x\toutput: -1e-05\n",
    "### xxxxxxxxxx\n",
    "### x 6) input: -1e-06\n",
    "### x\toutput: -0.0\n",
    "### xxxxxxxxxx\n",
    "### x 7) input: -1e-07\n",
    "### x\toutput: -0.0\n",
    "### xxxxxxxxxx\n",
    "### x 8) input: -1e-08\n",
    "### x\toutput: -0.0\n",
    "### xxxxxxxxxx\n",
    "### x 9) input: -1e-09\n",
    "### x\toutput: -0.0\n",
    "### xxxxxxxxxx\n",
    "### x 10) input: -1e-10\n",
    "### x\toutput: -0.0\n",
    "### xxxxxxxxxx\n",
    "### ======\n",
    "### Right Hand\n",
    "### ======\n",
    "### x 1) input: 0.1\n",
    "### x\toutput: 0.05034\n",
    "### xxxxxxxxxx\n",
    "### x 2) input: 0.01\n",
    "### x\toutput: 0.005\n",
    "### xxxxxxxxxx\n",
    "### x 3) input: 0.001\n",
    "### x\toutput: 0.0005\n",
    "### xxxxxxxxxx\n",
    "### x 4) input: 0.0001\n",
    "### x\toutput: 5e-05\n",
    "### xxxxxxxxxx\n",
    "### x 5) input: 1e-05\n",
    "### x\toutput: 1e-05\n",
    "### xxxxxxxxxx\n",
    "### x 6) input: 1e-06\n",
    "### x\toutput: 0.0\n",
    "### xxxxxxxxxx\n",
    "### x 7) input: 1e-07\n",
    "### x\toutput: 0.0\n",
    "### xxxxxxxxxx\n",
    "### x 8) input: 1e-08\n",
    "### x\toutput: 0.0\n",
    "### xxxxxxxxxx\n",
    "### x 9) input: 1e-09\n",
    "### x\toutput: 0.0\n",
    "### xxxxxxxxxx\n",
    "### x 10) input: 1e-10\n",
    "### x\toutput: 0.0\n",
    "### xxxxxxxxxx"
   ]
  },
  {
   "cell_type": "code",
   "execution_count": 61,
   "metadata": {},
   "outputs": [
    {
     "output_type": "display_data",
     "data": {
      "text/plain": "<IPython.core.display.Markdown object>",
      "text/markdown": "27) $\\lim\\limits_{x \\to 0}\\frac{sin(x)(1-cos(x))}{2x^2} $\n\n"
     },
     "metadata": {}
    }
   ],
   "source": [
    "%%markdown\n",
    "27) $\\lim\\limits_{x \\to 0}\\frac{sin(x)(1-cos(x))}{2x^2} = 0$\n",
    "\n",
    "### ======\n",
    "### Left Hand\n",
    "### ======\n",
    "### x 1) input: -0.1\n",
    "### x\toutput: -0.02494\n",
    "### xxxxxxxxxx\n",
    "### x 2) input: -0.01\n",
    "### x\toutput: -0.0025\n",
    "### xxxxxxxxxx\n",
    "### x 3) input: -0.001\n",
    "### x\toutput: -0.00025\n",
    "### xxxxxxxxxx\n",
    "### x 4) input: -0.0001\n",
    "### x\toutput: -2e-05\n",
    "### xxxxxxxxxx\n",
    "### x 5) input: -1e-05\n",
    "### x\toutput: -0.0\n",
    "### xxxxxxxxxx\n",
    "### x 6) input: -1e-06\n",
    "### x\toutput: -0.0\n",
    "### xxxxxxxxxx\n",
    "### x 7) input: -1e-07\n",
    "### x\toutput: -0.0\n",
    "### xxxxxxxxxx\n",
    "### x 8) input: -1e-08\n",
    "### x\toutput: -0.0\n",
    "### xxxxxxxxxx\n",
    "### x 9) input: -1e-09\n",
    "### x\toutput: -0.0\n",
    "### xxxxxxxxxx\n",
    "### x 10) input: -1e-10\n",
    "### x\toutput: -0.0\n",
    "### xxxxxxxxxx\n",
    "### ======\n",
    "### Right Hand\n",
    "### ======\n",
    "### x 1) input: 0.1\n",
    "### x\toutput: 0.02494\n",
    "### xxxxxxxxxx\n",
    "### x 2) input: 0.01\n",
    "### x\toutput: 0.0025\n",
    "### xxxxxxxxxx\n",
    "### x 3) input: 0.001\n",
    "### x\toutput: 0.00025\n",
    "### xxxxxxxxxx\n",
    "### x 4) input: 0.0001\n",
    "### x\toutput: 2e-05\n",
    "### xxxxxxxxxx\n",
    "### x 5) input: 1e-05\n",
    "### x\toutput: 0.0\n",
    "### xxxxxxxxxx\n",
    "### x 6) input: 1e-06\n",
    "### x\toutput: 0.0\n",
    "### xxxxxxxxxx\n",
    "### x 7) input: 1e-07\n",
    "### x\toutput: 0.0\n",
    "### xxxxxxxxxx\n",
    "### x 8) input: 1e-08\n",
    "### x\toutput: 0.0\n",
    "### xxxxxxxxxx\n",
    "### x 9) input: 1e-09\n",
    "### x\toutput: 0.0\n",
    "### xxxxxxxxxx\n",
    "### x 10) input: 1e-10\n",
    "### x\toutput: 0.0\n",
    "### xxxxxxxxxx"
   ]
  },
  {
   "cell_type": "code",
   "execution_count": 72,
   "metadata": {},
   "outputs": [
    {
     "output_type": "display_data",
     "data": {
      "text/plain": "<IPython.core.display.Markdown object>",
      "text/markdown": "##28) $\\lim_\\limits{x \\to 1}f(x)$\n## $\\ where\\ f(x) = \\begin{cases}4x-7,\\ x \\ne 1 \\\\ x^2-4,\\ x=1 \\end{cases} $\n## at what value(s) of x is the function discontinuous?\n# $\\lim_\\limits{{x}\\to {1}}(4x-7) = -3$\n# $\\lim_\\limits{{x}\\to {1}}(x^2-4) = -3$\n\n"
     },
     "metadata": {}
    }
   ],
   "source": [
    "%%markdown\n",
    "##28) $\\lim_\\limits{x \\to 1}f(x)$\n",
    "## $\\ where\\ f(x) = \\begin{cases}4x-7,\\ x \\ne 1 \\\\ x^2-4,\\ x=1 \\end{cases} $\n",
    "## at what value(s) of x is the function discontinuous?\n",
    "# $\\lim_\\limits{{x}\\to {1}}(4x-7) = -3$\n",
    "# $\\lim_\\limits{{x}\\to {1}}(x^2-4) = -3$\n",
    "## the function is continous for every x\n"
   ]
  },
  {
   "cell_type": "code",
   "execution_count": null,
   "metadata": {},
   "outputs": [],
   "source": [
    "%%markdown\n",
    "For the following exercises, consider the function whose graph appears in Figure 3.\n",
    "\n"
   ]
  },
  {
   "cell_type": "code",
   "execution_count": 74,
   "metadata": {},
   "outputs": [
    {
     "output_type": "display_data",
     "data": {
      "text/plain": "<IPython.core.display.Markdown object>",
      "text/markdown": "29) Find the average rate of change of the function from\nx = 1 to x = 3.\n$a:(1, -1),\\ b:(3,3)$\n$m = \\frac{y_b-y_a}{x_b-x_a}$\n"
     },
     "metadata": {}
    }
   ],
   "source": [
    "%%markdown\n",
    "## 29) Find the average rate of change of the function from\n",
    "## x = 1 to x = 3.\n",
    "## $a:(1, -1),\\ b:(3,3)$\n",
    "## $m = \\frac{y_b-y_a}{x_b-x_a} = 2$\n"
   ]
  },
  {
   "cell_type": "code",
   "execution_count": null,
   "metadata": {},
   "outputs": [],
   "source": [
    "\n",
    "%%markdown\n",
    "30) Find all values of x at which f ′(x) = 0.\n",
    "x = 1\n",
    "\n"
   ]
  },
  {
   "cell_type": "code",
   "execution_count": null,
   "metadata": {},
   "outputs": [],
   "source": [
    "%%markdown\n",
    "31) Find all values of x at which f ′(x) does not exist.\n",
    "empty range, f'(x) exists for every x\n"
   ]
  },
  {
   "cell_type": "code",
   "execution_count": 75,
   "metadata": {},
   "outputs": [
    {
     "output_type": "display_data",
     "data": {
      "text/plain": "<IPython.core.display.Markdown object>",
      "text/markdown": "## 32) Find an equation of the tangent line to the graph of f\n## the indicated point: $f (x) = 3x^2 − 2x − 6,\\ x = − 2$\n## $f (x) = 3x^2 − 2x − 6$\n## $f'(x) = 6x-2$\n## $f'(-2) = -14$\n## $f (-2) = 3(-2)^2 − 2(-2) − 6 \\rightarrow 10$\n## $y = mx+n$\n## $10 = -14*(-2)+n$\n## $n = -18$\n## $y = -14x-18$\n\n"
     },
     "metadata": {}
    }
   ],
   "source": [
    "%%markdown\n",
    "## 32) Find an equation of the tangent line to the graph of f\n",
    "## the indicated point: $f (x) = 3x^2 − 2x − 6,\\ x = − 2$\n",
    "## $f (x) = 3x^2 − 2x − 6$\n",
    "## $f'(x) = 6x-2$\n",
    "## $f'(-2) = -14$\n",
    "## $f (-2) = 3(-2)^2 − 2(-2) − 6 \\rightarrow 10$\n",
    "## $y = mx+n$\n",
    "## $10 = -14*(-2)+n$\n",
    "## $n = -18$\n",
    "## $y = -14x-18$\n",
    "\n"
   ]
  },
  {
   "cell_type": "code",
   "execution_count": null,
   "metadata": {},
   "outputs": [],
   "source": [
    "%%markdown\n",
    "For the following exercises, find the derivative of each of the functions using the definition $\\lim\\limits_{h \\to 0}\\frac{f(x+h)-f(x)}{h} $\n",
    "\n"
   ]
  },
  {
   "cell_type": "code",
   "execution_count": null,
   "metadata": {},
   "outputs": [],
   "source": [
    "%%markdown\n",
    "## 35) $f(x) = 2x − 8$\n",
    "## $f'(x) = 2$\n"
   ]
  },
  {
   "cell_type": "code",
   "execution_count": null,
   "metadata": {},
   "outputs": [],
   "source": [
    "%%markdown\n",
    "36) $f(x) =4x^2 − 7$\n",
    "## $f'(x) = 8x$"
   ]
  },
  {
   "cell_type": "code",
   "execution_count": null,
   "metadata": {},
   "outputs": [],
   "source": [
    "%%markdown\n",
    "37) $f(x) =x-0.5x^2 $\n",
    "## $f'(x) = 1-x$"
   ]
  },
  {
   "cell_type": "code",
   "execution_count": null,
   "metadata": {},
   "outputs": [],
   "source": [
    "%%markdown\n",
    "38) $f(x) = \\frac{1}{x+2} $\n",
    "## $f(x) = (x+2)^{-1} $\n",
    "## $f'(x) = -(x+2)^{-2} \\rightarrow -\\frac{1}{(x+2)^2} $\n"
   ]
  },
  {
   "cell_type": "code",
   "execution_count": null,
   "metadata": {},
   "outputs": [],
   "source": [
    "%%markdown\n",
    "## 39) $f(x) = \\frac{3}{x-1} $\n",
    "## 39) $f(x) = 3*(x-1)^{-1} $\n",
    "## 39) $f'(x) = -3*(x-1)^{-2}$\n",
    "\n"
   ]
  },
  {
   "source": [
    "40) $ f (x) = −x^3 + 1$\n",
    "## $f'(x) = -3x^2$"
   ],
   "cell_type": "markdown",
   "metadata": {}
  },
  {
   "source": [
    "41) $ f (x) = x^2 + x^3$\n",
    "## $f'(x) = 2x+3x^2$"
   ],
   "cell_type": "markdown",
   "metadata": {}
  },
  {
   "source": [
    "42) $f(x) = \\sqrt{x-1} $\n",
    "## $f(x) = (x-1)^{0.5}$\n",
    "## $f'(x) = 0.5(x-1)^{-0.5} \\rightarrow \\frac{1}{2\\sqrt{x-1}}$"
   ],
   "cell_type": "markdown",
   "metadata": {}
  },
  {
   "source": [
    "## $f'(x) = \\frac{f(x+h)-f(x)}{h}$\n",
    "# \\frac{}{}\n",
    "# $\\lim_\\limits{{}\\to {}}$\n",
    "def func(x):\n",
    "    return (44*x-7)/(1)\n",
    "\n",
    "def limit(a, dec):\n",
    "    left = 0\n",
    "    right = 0\n",
    "    #Left hand\n",
    "    print(\"### ======\\n### Left Hand\\n### ======\")\n",
    "    for i in range (1, dec+1):\n",
    "        print(\"### x \"+str(i)+\") input: \"+str(a-10**(-i)))\n",
    "        print(\"### x\\toutput: \"+str(round(func(a-10**(-i)), 5)))\n",
    "        print(\"### x\" +\"x\"*9)\n",
    "        if i == dec:\n",
    "            left = round(func(a-10**(-i)), 5)\n",
    "    #Right hand\n",
    "    print(\"### ======\\n### Right Hand\\n### ======\")\n",
    "    for i in range (1, dec+1):\n",
    "        print(\"### x \"+str(i)+\") input: \"+str(a+10**(-i)))\n",
    "        print(\"### x\\toutput: \"+str(round(func(a+10**(-i)), 5)))\n",
    "        print(\"### x\"+\"x\"*9)\n",
    "        if i == dec:\n",
    "            right = round(func(a+10**(-i)), 5)\n",
    "    # print(left-right)\n",
    "\n",
    "limit(1, 10)"
   ],
   "cell_type": "code",
   "metadata": {},
   "execution_count": 73,
   "outputs": [
    {
     "output_type": "stream",
     "name": "stdout",
     "text": [
      "### ======\n### Left Hand\n### ======\n### x 1) input: 0.9\n### x\toutput: 32.6\n### xxxxxxxxxx\n### x 2) input: 0.99\n### x\toutput: 36.56\n### xxxxxxxxxx\n### x 3) input: 0.999\n### x\toutput: 36.956\n### xxxxxxxxxx\n### x 4) input: 0.9999\n### x\toutput: 36.9956\n### xxxxxxxxxx\n### x 5) input: 0.99999\n### x\toutput: 36.99956\n### xxxxxxxxxx\n### x 6) input: 0.999999\n### x\toutput: 36.99996\n### xxxxxxxxxx\n### x 7) input: 0.9999999\n### x\toutput: 37.0\n### xxxxxxxxxx\n### x 8) input: 0.99999999\n### x\toutput: 37.0\n### xxxxxxxxxx\n### x 9) input: 0.999999999\n### x\toutput: 37.0\n### xxxxxxxxxx\n### x 10) input: 0.9999999999\n### x\toutput: 37.0\n### xxxxxxxxxx\n### ======\n### Right Hand\n### ======\n### x 1) input: 1.1\n### x\toutput: 41.4\n### xxxxxxxxxx\n### x 2) input: 1.01\n### x\toutput: 37.44\n### xxxxxxxxxx\n### x 3) input: 1.001\n### x\toutput: 37.044\n### xxxxxxxxxx\n### x 4) input: 1.0001\n### x\toutput: 37.0044\n### xxxxxxxxxx\n### x 5) input: 1.00001\n### x\toutput: 37.00044\n### xxxxxxxxxx\n### x 6) input: 1.000001\n### x\toutput: 37.00004\n### xxxxxxxxxx\n### x 7) input: 1.0000001\n### x\toutput: 37.0\n### xxxxxxxxxx\n### x 8) input: 1.00000001\n### x\toutput: 37.0\n### xxxxxxxxxx\n### x 9) input: 1.000000001\n### x\toutput: 37.0\n### xxxxxxxxxx\n### x 10) input: 1.0000000001\n### x\toutput: 37.0\n### xxxxxxxxxx\n"
     ]
    }
   ]
  }
 ]
}