{
 "metadata": {
  "language_info": {
   "codemirror_mode": {
    "name": "ipython",
    "version": 3
   },
   "file_extension": ".py",
   "mimetype": "text/x-python",
   "name": "python",
   "nbconvert_exporter": "python",
   "pygments_lexer": "ipython3",
   "version": "3.8.6-final"
  },
  "orig_nbformat": 2,
  "kernelspec": {
   "name": "python3",
   "display_name": "Python 3"
  }
 },
 "nbformat": 4,
 "nbformat_minor": 2,
 "cells": [
  {
   "cell_type": "code",
   "execution_count": 1,
   "metadata": {},
   "outputs": [],
   "source": [
    "import numpy as np\n",
    "import math"
   ]
  },
  {
   "cell_type": "code",
   "execution_count": 2,
   "metadata": {},
   "outputs": [
    {
     "output_type": "display_data",
     "data": {
      "text/plain": "<IPython.core.display.Markdown object>",
      "text/markdown": "1. How is the slope of a linear function similar to the \nderivative?\n# answer: The slope of a linear function resembles the derivative as they both desacribe the rate of change of a function\n2. What is the difference between the average rate of\nchange of a function on the interval [x, x + h] and\nthe derivative of the function at x?\n# answer: the derivative of the function could be described as a rate of change when $\\lim_\\limits{h \\to 0}$, therefore, as an instanteneous rate of change, while an average rate of change h is given real values\n3. A car traveled 110 miles during the time period from \n2:00 P.M. to 4:00 P.M. What was the car's average\nvelocity?\n<br> 55mph<br>\nAt exactly 2:30 P.M., the speed of the car\nregistered exactly 62 miles per hour. What is another\nname for the speed of the car at 2:30 P.M.?\n<br>instantenous rate of change<br>\nWhy\ndoes this speed differ from the average velocity?\n# answer: because the average velocity is given between the interval (02:00, 04:00) and the speed recorded at 2:30 was instanteneous\n4. Explain the concept of the slope of a curve at point x.\n# answer:the slope of a curve at point x describes how x would change in the smallest interval\n5. Suppose water is flowing into a tank at an average\nrate of 45 gallons per minute. Translate this\nstatement into the language of mathematics.\n# answer: $V(t_{minutes}) = v_0 + 45t_{minutes}$\n\n\n"
     },
     "metadata": {}
    }
   ],
   "source": [
    "%%markdown\n",
    "1. How is the slope of a linear function similar to the \n",
    "derivative?\n",
    "# answer: The slope of a linear function resembles the derivative as they both desacribe the rate of change of a function\n",
    "2. What is the difference between the average rate of\n",
    "change of a function on the interval [x, x + h] and\n",
    "the derivative of the function at x?\n",
    "# answer: the derivative of the function could be described as a rate of change when $\\lim_\\limits{h \\to 0}$, therefore, as an instanteneous rate of change, while an average rate of change h is given real values\n",
    "3. A car traveled 110 miles during the time period from \n",
    "2:00 P.M. to 4:00 P.M. What was the car's average\n",
    "velocity?\n",
    "<br> 55mph<br>\n",
    "At exactly 2:30 P.M., the speed of the car\n",
    "registered exactly 62 miles per hour. What is another\n",
    "name for the speed of the car at 2:30 P.M.?\n",
    "<br>instantenous rate of change<br>\n",
    "Why\n",
    "does this speed differ from the average velocity?\n",
    "# answer: because the average velocity is given between the interval (02:00, 04:00) and the speed recorded at 2:30 was instanteneous\n",
    "4. Explain the concept of the slope of a curve at point x.\n",
    "# answer:the slope of a curve at point x describes how x would change in the smallest interval\n",
    "5. Suppose water is flowing into a tank at an average\n",
    "rate of 45 gallons per minute. Translate this\n",
    "statement into the language of mathematics.\n",
    "# answer: $V(t_{minutes}) = v_0 + 45t_{minutes}$\n",
    "\n",
    "\n"
   ]
  },
  {
   "cell_type": "code",
   "execution_count": null,
   "metadata": {},
   "outputs": [],
   "source": [
    "# \\frac{}{}\n",
    "# $\\lim\\limits_{{}\\to {}}$\n",
    "def func(x):\n",
    "    return (np.absolute(x-4))/(4-x)\n",
    "\n",
    "def limit(a, dec):\n",
    "    left = 0\n",
    "    right = 0\n",
    "    #Left hand\n",
    "    print(\"### ======\\n### Left Hand\\n### ======\")\n",
    "    for i in range (1, dec+1):\n",
    "        print(\"### \"+str(i)+\") input: \"+str(a-10**(-i)))\n",
    "        print(\"### \\t output: \"+str(round(func(a-10**(-i)), 5)))\n",
    "        print(\"### \" +\"x\"*9)\n",
    "        if i == dec:\n",
    "            left = round(func(a-10**(-i)), 5)\n",
    "    #Right hand\n",
    "    print(\"### ======\\n### Right Hand\\n### ======\")\n",
    "    for i in range (1, dec+1):\n",
    "        print(\"### \"+str(i)+\") input: \"+str(a-10**(-i)))\n",
    "        print(\"### \\t output: \"+str(round(func(a+10**(-i)), 5)))\n",
    "        print(\"### \"+\"x\"*9)\n",
    "        if i == dec:\n",
    "            right = round(func(a+10**(-i)), 5)\n",
    "    # print(left-right)\n",
    "\n",
    "limit(4, 5)"
   ]
  },
  {
   "cell_type": "code",
   "execution_count": 3,
   "metadata": {},
   "outputs": [
    {
     "output_type": "display_data",
     "data": {
      "text/plain": "<IPython.core.display.Markdown object>",
      "text/markdown": "For the following exercises, use the definition of derivative $\\lim\\limits_{h \\to 0} \\frac{f(x+h)-f(x)}{h}$ to calculate the derivative of each function\n\n"
     },
     "metadata": {}
    }
   ],
   "source": [
    "%%markdown\n",
    "For the following exercises, use the definition of derivative $\\lim\\limits_{h \\to 0} \\frac{f(x+h)-f(x)}{h}$ to calculate the derivative of each function\n",
    "\n"
   ]
  },
  {
   "cell_type": "code",
   "execution_count": 6,
   "metadata": {},
   "outputs": [
    {
     "output_type": "display_data",
     "data": {
      "text/plain": "<IPython.core.display.Markdown object>",
      "text/markdown": "7) $f(x) = -2x+1$\n## $\\lim\\limits_{h \\to 0} \\frac{f(x+h)-f(x)}{h}$\n## $\\lim\\limits_{h \\to 0} \\frac{-2(x+h)+1-(-2x+1)}{h}$\n## $\\lim\\limits_{h \\to 0} \\frac{-2x-2h+1+2x-1}{h}$\n## $\\lim\\limits_{h \\to 0} = -2$\n"
     },
     "metadata": {}
    }
   ],
   "source": [
    "%%markdown\n",
    "7) $f(x) = -2x+1$\n",
    "## $\\lim\\limits_{h \\to 0} \\frac{f(x+h)-f(x)}{h}$\n",
    "## $\\lim\\limits_{h \\to 0} \\frac{-2(x+h)+1-(-2x+1)}{h}$\n",
    "## $\\lim\\limits_{h \\to 0} \\frac{-2x-2h+1+2x-1}{h}$\n",
    "## $\\lim\\limits_{h \\to 0} = -2$\n"
   ]
  },
  {
   "cell_type": "code",
   "execution_count": 10,
   "metadata": {},
   "outputs": [
    {
     "output_type": "display_data",
     "data": {
      "text/plain": "<IPython.core.display.Markdown object>",
      "text/markdown": "9) $f(x) = 2x^2+x-3$\n## $\\lim\\limits_{h \\to 0} = \\frac{f(x+h)-f(x)}{h}$\n## $\\lim\\limits_{h \\to 0} = \\frac{(2(x+h)^2+(x+h)-3)-(2x^2+x-3)}{h}$\n## $\\lim\\limits_{h \\to 0} = \\frac{2x^2+4hx+2h^2+x+h-3-2x^2+-x+3}{h}$\n## $\\lim\\limits_{h \\to 0} = \\frac{4hx+2h^2+h}{h}$\n## $\\lim\\limits_{h \\to 0} = \\frac{h(4x+2h+1)}{h}$\n## $\\lim\\limits_{h \\to 0} = 4x+2\\lim(h)+1$\n"
     },
     "metadata": {}
    }
   ],
   "source": [
    "\n",
    "%%markdown\n",
    "9) $f(x) = 2x^2+x-3$\n",
    "## $\\lim\\limits_{h \\to 0} = \\frac{f(x+h)-f(x)}{h}$\n",
    "## $\\lim\\limits_{h \\to 0} = \\frac{(2(x+h)^2+(x+h)-3)-(2x^2+x-3)}{h}$\n",
    "## $\\lim\\limits_{h \\to 0} = \\frac{2x^2+4hx+2h^2+x+h-3-2x^2+-x+3}{h}$\n",
    "## $\\lim\\limits_{h \\to 0} = \\frac{4hx+2h^2+h}{h}$\n",
    "## $\\lim\\limits_{h \\to 0} = \\frac{h(4x+2h+1)}{h}$\n",
    "## $\\lim\\limits_{h \\to 0} = 4x+2\\lim(h)+1$\n",
    "## $\\lim\\limits_{h \\to 0} = 4x+2*0+1 \\rightarrow 4x+1$"
   ]
  },
  {
   "cell_type": "code",
   "execution_count": 16,
   "metadata": {},
   "outputs": [
    {
     "output_type": "display_data",
     "data": {
      "text/plain": "<IPython.core.display.Markdown object>",
      "text/markdown": "11) $f(x) =\\frac{-1}{x-2} $\n## $\\lim\\limits_{h \\to 0} = \\frac{f(x+h)-f(x)}{h}$\n## $\\lim\\limits_{h \\to 0} = \\frac{\\frac{-1}{(x+h)-2}-(\\frac{-1}{x-2})}{h}$\n## $\\lim\\limits_{h \\to 0} = \\frac{\\frac{2-x}{(x+h-2)(x-2)}+(\\frac{x+h-2}{(x-2)(x+h-2)})}{h}$\n## $\\lim\\limits_{h \\to 0} = \\frac{(2-x)+(x+h-2)}{h(x+h-2)(x-2)}$\n## $\\lim\\limits_{h \\to 0} = \\frac{h)}{h(x+h-2)(x-2)}$\n## $\\lim\\limits_{h \\to 0} = \\frac{1)}{(x+lim(h)-2)(x-2)}$\n## $\\lim\\limits_{h \\to 0} = \\frac{1}{(x+0-2)(x-2)} \\rightarrow \\frac{1}{(x-2)^2}$\n"
     },
     "metadata": {}
    }
   ],
   "source": [
    "\n",
    "%%markdown\n",
    "11) $f(x) =\\frac{-1}{x-2} $\n",
    "## $\\lim\\limits_{h \\to 0} = \\frac{f(x+h)-f(x)}{h}$\n",
    "## $\\lim\\limits_{h \\to 0} = \\frac{\\frac{-1}{(x+h)-2}-(\\frac{-1}{x-2})}{h}$\n",
    "## $\\lim\\limits_{h \\to 0} = \\frac{\\frac{2-x}{(x+h-2)(x-2)}+(\\frac{x+h-2}{(x-2)(x+h-2)})}{h}$\n",
    "## $\\lim\\limits_{h \\to 0} = \\frac{(2-x)+(x+h-2)}{h(x+h-2)(x-2)}$\n",
    "## $\\lim\\limits_{h \\to 0} = \\frac{h)}{h(x+h-2)(x-2)}$\n",
    "## $\\lim\\limits_{h \\to 0} = \\frac{1)}{(x+lim(h)-2)(x-2)}$\n",
    "## $\\lim\\limits_{h \\to 0} = \\frac{1}{(x+0-2)(x-2)} \\rightarrow \\frac{1}{(x-2)^2}$"
   ]
  },
  {
   "cell_type": "code",
   "execution_count": 21,
   "metadata": {},
   "outputs": [
    {
     "output_type": "error",
     "ename": "SyntaxError",
     "evalue": "invalid syntax (<ipython-input-21-59dd75609cd2>, line 1)",
     "traceback": [
      "\u001b[0;36m  File \u001b[0;32m\"<ipython-input-21-59dd75609cd2>\"\u001b[0;36m, line \u001b[0;32m1\u001b[0m\n\u001b[0;31m    [5-2(x+h)](3+2x)-[(3+2(x+h)](5-2x)\u001b[0m\n\u001b[0m                  ^\u001b[0m\n\u001b[0;31mSyntaxError\u001b[0m\u001b[0;31m:\u001b[0m invalid syntax\n"
     ]
    }
   ],
   "source": [
    "(3+2x)[5-2(x+h)]-(5-2x)[(3+2(x+h)]\n",
    "(3+2x)(5-2x-2h)+(2x-5)(3+2x+2h)\n",
    "!15-!6x-6h+!10x-!4x^2-!4hx+!6x+!4x^2+!4hx-!15-!10x-10h\n",
    "-16h"
   ]
  },
  {
   "cell_type": "code",
   "execution_count": 27,
   "metadata": {},
   "outputs": [
    {
     "output_type": "display_data",
     "data": {
      "text/plain": "<IPython.core.display.Markdown object>",
      "text/markdown": "##13) $f(x) = \\frac{5-2x}{3+2x} $\n## $\\lim\\limits_{h \\to 0} = \\frac{f(x+h)-f(x)}{h}$\n## $\\lim\\limits_{h \\to 0} = \\frac{\\frac{5-2(x+h)}{3+2(x+h)}-(\\frac{5-2x}{3+2x})}{h}$\n## $\\lim\\limits_{h \\to 0} = \\frac{\\frac{[5-2(x+h)](3+2x)}{[3+2(x+h)](3+2x)}-(\\frac{[(3+2(x+h)](5-2x)}{[3+2(x+h)](3+2x)})}{h}$\n## $\\lim\\limits_{h \\to 0} = \\frac{[5-2(x+h)](3+2x)-[(3+2(x+h)](5-2x)}{h[3+2(x+h)](3+2x)}$\n## $\\lim\\limits_{h \\to 0} = \\frac{15-6x-6h+10x-4x^2-4hx+6x+4x^2+4hx-15-10x-10h}{h(3+2(x+h))(3+2x)}$\n## $\\lim\\limits_{h \\to 0} = \\frac{-16h}{h(3+2(x+h))(3+2x)}$\n## $\\lim\\limits_{h \\to 0} = \\frac{-16}{(3+2(x+lim(h)))(3+2x)}$\n## $\\lim\\limits_{h \\to 0} = \\frac{-16}{(3+2(x+0))(3+2x)} \\rightarrow \\frac{-16}{(3+2x)^2} $\n"
     },
     "metadata": {}
    }
   ],
   "source": [
    "%%markdown\n",
    "##13) $f(x) = \\frac{5-2x}{3+2x} $\n",
    "## $\\lim\\limits_{h \\to 0} = \\frac{f(x+h)-f(x)}{h}$\n",
    "## $\\lim\\limits_{h \\to 0} = \\frac{\\frac{5-2(x+h)}{3+2(x+h)}-(\\frac{5-2x}{3+2x})}{h}$\n",
    "## $\\lim\\limits_{h \\to 0} = \\frac{\\frac{[5-2(x+h)](3+2x)}{[3+2(x+h)](3+2x)}-(\\frac{[(3+2(x+h)](5-2x)}{[3+2(x+h)](3+2x)})}{h}$\n",
    "## $\\lim\\limits_{h \\to 0} = \\frac{[5-2(x+h)](3+2x)-[(3+2(x+h)](5-2x)}{h[3+2(x+h)](3+2x)}$\n",
    "## $\\lim\\limits_{h \\to 0} = \\frac{15-6x-6h+10x-4x^2-4hx+6x+4x^2+4hx-15-10x-10h}{h(3+2(x+h))(3+2x)}$\n",
    "## $\\lim\\limits_{h \\to 0} = \\frac{-16h}{h(3+2(x+h))(3+2x)}$\n",
    "## $\\lim\\limits_{h \\to 0} = \\frac{-16}{(3+2(x+lim(h)))(3+2x)}$\n",
    "## $\\lim\\limits_{h \\to 0} = \\frac{-16}{(3+2(x+0))(3+2x)} \\rightarrow \\frac{-16}{(3+2x)^2} $"
   ]
  },
  {
   "cell_type": "code",
   "execution_count": null,
   "metadata": {},
   "outputs": [],
   "source": [
    "%%markdown\n",
    "!3x^3 + 9x^2h+9xh^2+3h^3-!x^2-2hx-h^2+!2x+2h+!5-!3x^3+!x^2-!2x-!5\n",
    "9x^2h+9xh^2+3h^3-2hx-h^2+2h"
   ]
  },
  {
   "cell_type": "code",
   "execution_count": 45,
   "metadata": {},
   "outputs": [
    {
     "output_type": "display_data",
     "data": {
      "text/plain": "<IPython.core.display.Markdown object>",
      "text/markdown": "\n## 15) $f(x) = 3x^3-x^2+2x+5 $\n## $\\lim\\limits_{h \\to 0} = \\frac{f(x+h)-f(x)}{h}$\n## $\\lim\\limits_{h \\to 0} = \\frac{[3(x+h)^3-(x+h)^2+2(x+h)+5]-(3x^3-x^2+2x+5)}{h}$\n## $\\lim\\limits_{h \\to 0} = \\frac{3x^3 + 9x^2h+9xh^2+3h^3-x^2-2hx-h^2+2x+2h+5-3x^3+x^2-2x-5}{h}$\n## $\\lim\\limits_{h \\to 0} = \\frac{3x^3 + 9x^2h+9xh^2+3h^3-x^2-2hx-h^2+2x+2h+5-3x^3+x^2-2x-5}{h}$\n## $\\lim\\limits_{h \\to 0} = \\frac{9x^2h+9xh^2+3h^3-2hx-h^2+2h+x^2}{h}$\n## $\\lim\\limits_{h \\to 0} = 9x^2+9xh+3h^2-2x-h+2$\n## $\\lim\\limits_{h \\to 0} = 9x^2+9xlim(h)+3lim(h)^2-2x-lim(h)+2$\n## $\\lim\\limits_{h \\to 0} = 9x^2+9x(0)+3(0)^2-2x-(0)+2 \\rightarrow 9x^2-2x+2$\n"
     },
     "metadata": {}
    }
   ],
   "source": [
    "%%markdown\n",
    "\n",
    "## 15) $f(x) = 3x^3-x^2+2x+5 $\n",
    "## $\\lim\\limits_{h \\to 0} = \\frac{f(x+h)-f(x)}{h}$\n",
    "## $\\lim\\limits_{h \\to 0} = \\frac{[3(x+h)^3-(x+h)^2+2(x+h)+5]-(3x^3-x^2+2x+5)}{h}$\n",
    "## $\\lim\\limits_{h \\to 0} = \\frac{3x^3 + 9x^2h+9xh^2+3h^3-x^2-2hx-h^2+2x+2h+5-3x^3+x^2-2x-5}{h}$\n",
    "## $\\lim\\limits_{h \\to 0} = \\frac{3x^3 + 9x^2h+9xh^2+3h^3-x^2-2hx-h^2+2x+2h+5-3x^3+x^2-2x-5}{h}$\n",
    "## $\\lim\\limits_{h \\to 0} = \\frac{9x^2h+9xh^2+3h^3-2hx-h^2+2h+x^2}{h}$\n",
    "## $\\lim\\limits_{h \\to 0} = 9x^2+9xh+3h^2-2x-h+2$\n",
    "## $\\lim\\limits_{h \\to 0} = 9x^2+9xlim(h)+3lim(h)^2-2x-lim(h)+2$\n",
    "## $\\lim\\limits_{h \\to 0} = 9x^2+9x(0)+3(0)^2-2x-(0)+2 \\rightarrow 9x^2-2x+2$\n"
   ]
  },
  {
   "cell_type": "code",
   "execution_count": 39,
   "metadata": {},
   "outputs": [
    {
     "output_type": "execute_result",
     "data": {
      "text/plain": [
       "3.0"
      ]
     },
     "metadata": {},
     "execution_count": 39
    }
   ],
   "source": [
    "a = 3\n",
    "b = 2\n",
    "(math.factorial(a))/((math.factorial(b))*(math.factorial(a-b)))"
   ]
  },
  {
   "cell_type": "code",
   "execution_count": null,
   "metadata": {},
   "outputs": [],
   "source": [
    "%%markdown\n",
    "## 17) $f(x) = 5\\pi $\n",
    "## $\\lim\\limits_{h \\to 0} \\frac{f(x+h)-f(x)}{h}$\n",
    "## $\\lim\\limits_{h \\to 0} \\frac{5\\pi-5\\pi}{h}$\n",
    "## $\\lim\\limits_{h \\to 0} \\frac{0}{h} \\rightarrow 0$\n"
   ]
  },
  {
   "cell_type": "code",
   "execution_count": null,
   "metadata": {},
   "outputs": [],
   "source": [
    "%%markdown\n",
    "For the following exercises, find the average rate of change between the two points.\n",
    "\n"
   ]
  },
  {
   "cell_type": "code",
   "execution_count": 46,
   "metadata": {},
   "outputs": [
    {
     "output_type": "display_data",
     "data": {
      "text/plain": "<IPython.core.display.Markdown object>",
      "text/markdown": "## 19) a(4, -3) and b(-2, -1)\n## $m = \\frac{y_b-y_a}{x_b-x_a}$\n## $m = \\frac{-1-(-3)}{-2-(4)}$\n\n"
     },
     "metadata": {}
    }
   ],
   "source": [
    "%%markdown\n",
    "## 19) a(4, -3) and b(-2, -1)\n",
    "## $m = \\frac{y_b-y_a}{x_b-x_a}$\n",
    "## $m = \\frac{-1-(-3)}{-2-(4)} \\rightarrow -\\frac{1}{3} $\n",
    "\n"
   ]
  },
  {
   "cell_type": "code",
   "execution_count": null,
   "metadata": {},
   "outputs": [],
   "source": [
    "%%markdown\n",
    "## 21) (7,-2 )and (7, 10)\n",
    "## $m = \\frac{y_b-y_a}{x_b-x_a}$\n",
    "## $m = \\frac{(10)-(-2)}{(7)-(-7)} \\rightarrow undefined$\n"
   ]
  },
  {
   "cell_type": "code",
   "execution_count": null,
   "metadata": {},
   "outputs": [],
   "source": [
    "\n",
    "%%markdown\n",
    "For the following polynomial functions, find the derivatives.\n",
    "\n"
   ]
  },
  {
   "cell_type": "code",
   "execution_count": 47,
   "metadata": {},
   "outputs": [
    {
     "output_type": "display_data",
     "data": {
      "text/plain": "<IPython.core.display.Markdown object>",
      "text/markdown": "## 23) $f(x) = -3x^2-7x+6 $\n## $\\lim\\limits_{h \\to 0} \\frac{f(x+h)-f(x)}{h}$\n## 24) $f'(x) = -6x-7$\n"
     },
     "metadata": {}
    }
   ],
   "source": [
    "%%markdown\n",
    "## 23) $f(x) = -3x^2-7x+6 $\n",
    "## $\\lim\\limits_{h \\to 0} \\frac{f(x+h)-f(x)}{h}$\n",
    "## 24) $f'(x) = -6x-7$\n"
   ]
  },
  {
   "cell_type": "code",
   "execution_count": 48,
   "metadata": {},
   "outputs": [
    {
     "output_type": "display_data",
     "data": {
      "text/plain": "<IPython.core.display.Markdown object>",
      "text/markdown": "## 25) $f(x) = 3x^3+2x^2+x-26$\n## $f'(x) = 9x^2+4x+1$\n\n"
     },
     "metadata": {}
    }
   ],
   "source": [
    "%%markdown\n",
    "## 25) $f(x) = 3x^3+2x^2+x-26$\n",
    "## $f'(x) = 9x^2+4x+1$\n",
    "\n"
   ]
  },
  {
   "cell_type": "code",
   "execution_count": null,
   "metadata": {},
   "outputs": [],
   "source": [
    "%%markdown\n",
    "For the following functions, find the equation of the tangent line to the curve at the given point x on the curve.\n",
    "\n"
   ]
  },
  {
   "cell_type": "code",
   "execution_count": 54,
   "metadata": {},
   "outputs": [
    {
     "output_type": "display_data",
     "data": {
      "text/plain": "<IPython.core.display.Markdown object>",
      "text/markdown": "## 27) $f(x)=x^3+1 x=2 $\n## $\\lim\\limits_{h \\to 0} \\frac{f(x+h)-f(x)}{h}$\n## $f'(x) = 3x^2$\n## $f'(2) = 12$\n## $f(2) = 2^3+1 \\rightarrow 9$\n## $y = mx+n$\n## $ 9 = 12*2+n \\rightarrow n = -3$\n## $y_{(tangent)} = 12x-3$\n"
     },
     "metadata": {}
    }
   ],
   "source": [
    "%%markdown\n",
    "## 27) $f(x)=x^3+1 x=2 $\n",
    "## $\\lim\\limits_{h \\to 0} \\frac{f(x+h)-f(x)}{h}$\n",
    "## $f'(x) = 3x^2$\n",
    "## $f'(2) = 12$\n",
    "## $f(2) = 2^3+1 \\rightarrow 9$\n",
    "## $y = mx+n$\n",
    "## $ 9 = 12*2+n \\rightarrow n = -3$\n",
    "## $y_{(tangent)} = 12x-3$\n"
   ]
  },
  {
   "cell_type": "code",
   "execution_count": 58,
   "metadata": {},
   "outputs": [
    {
     "output_type": "display_data",
     "data": {
      "text/plain": "<IPython.core.display.Markdown object>",
      "text/markdown": "For the following exercise, find k such that the given line is tangent to the graph of the function.\n## 29. $f (x) = x^2 − kx,\\ y = 4x − 9$\n## $\\lim\\limits_{h \\to 0} \\frac{f(x+h)-f(x)}{h}$\n## $f'(x) = 2x-k = 4$ ; $4x-9 = x^2-kx$\n## $f'(x) = 2x-4 = k$ ; $x^2-kx-4x+9 =0$\n## $x^2-x(2x-4)-4x+9 = 0$\n## $x^2-2x^2+4x-4x+9 = 0$\n## $x^2 = 9 \\rightarrow x = \\pm 3$\n## $x = 3:\\  2*3-4 = k $ ; $x = -3:\\ 2*(-3)-4 = k $\n## $k = 2$ ; $k = -10$\n## $f(3) = 3^2-2*(3) ; $f(-3) = (-3)^2 - (-10)*(-3)$\n## $f(3) = 3 ; $f(-3) = -21$\n## $3 = 4*3-9 $ ; $ -21 = 4*(-3) - 9$\n"
     },
     "metadata": {}
    }
   ],
   "source": [
    "%%markdown\n",
    "For the following exercise, find k such that the given line is tangent to the graph of the function.\n",
    "## 29. $f (x) = x^2 − kx,\\ y = 4x − 9$\n",
    "## $\\lim\\limits_{h \\to 0} \\frac{f(x+h)-f(x)}{h}$\n",
    "## $f'(x) = 2x-k = 4$ ; $4x-9 = x^2-kx$\n",
    "## $f'(x) = 2x-4 = k$ ; $x^2-kx-4x+9 =0$\n",
    "## $x^2-x(2x-4)-4x+9 = 0$\n",
    "## $x^2-2x^2+4x-4x+9 = 0$\n",
    "## $x^2 = 9 \\rightarrow x = \\pm 3$\n",
    "## $x = 3:\\  2*3-4 = k $ ; $x = -3:\\ 2*(-3)-4 = k $\n",
    "## $k = 2$ ; $k = -10$\n",
    "## $f(3) = 3^2-2*(3) ; $f(-3) = (-3)^2 - (-10)*(-3)$\n",
    "## $f(3) = 3 ; $f(-3) = -21$\n",
    "## $3 = 4*3-9 $ ; $ -21 = 4*(-3) - 9$\n"
   ]
  },
  {
   "cell_type": "code",
   "execution_count": null,
   "metadata": {},
   "outputs": [],
   "source": [
    "%%markdown\n",
    "31\n",
    "33\n",
    "35\n",
    "37\n",
    "39\n",
    "41\n",
    "43\n",
    "\n"
   ]
  },
  {
   "cell_type": "code",
   "execution_count": null,
   "metadata": {},
   "outputs": [],
   "source": [
    "%%markdown\n",
    "45) Numerically evaluate the derivative. Explore the behavior of the graph of f (x) = x 2 around x = 1 by graphing\n",
    "the function on the following domains: [0.9, 1.1] , [0.99, 1.01] , [0.999, 1.001], and [0.9999, 1.0001] . We can\n",
    "use the feature on our calculator that automatically sets Ymin and Ymax to the Xmin and Xmax values we\n",
    "preset. (On some of the commonly used graphing calculators, this feature may be called ZOOM FIT or ZOOM\n",
    "AUTO). By examining the corresponding range values for this viewing window, approximate how the curve\n",
    "changes at x = 1, that is, approximate the derivative at x = 1.\n",
    "\n"
   ]
  },
  {
   "cell_type": "code",
   "execution_count": null,
   "metadata": {},
   "outputs": [],
   "source": [
    "%%markdown\n",
    "For the following exercises, explain the notation in words. The volume f (t) of a tank of gasoline, in gallons, t minutes\n",
    "after noon.\n",
    "\n"
   ]
  },
  {
   "cell_type": "code",
   "execution_count": null,
   "metadata": {},
   "outputs": [],
   "source": [
    "%%markdown\n",
    "## 47) $f'(30) = -20 $\n",
    "## $\\lim\\limits_{h \\to 0} \\frac{f(x+h)-f(x)}{h}$\n",
    "\n"
   ]
  },
  {
   "cell_type": "code",
   "execution_count": null,
   "metadata": {},
   "outputs": [],
   "source": [
    "%%markdown\n",
    "## 48) $f(30) = 0 $\n",
    "## $\\lim\\limits_{h \\to 0} \\frac{f(x+h)-f(x)}{h}$\n",
    "\n",
    "\n"
   ]
  },
  {
   "cell_type": "code",
   "execution_count": null,
   "metadata": {},
   "outputs": [],
   "source": [
    "%%markdown\n",
    "49) $f'(200) = 30 $\n"
   ]
  },
  {
   "cell_type": "code",
   "execution_count": null,
   "metadata": {},
   "outputs": [],
   "source": [
    "%%markdown\n",
    "For the following exercises, explain the functions in words. The height, s, of a projectile after t seconds is given by\n",
    "$s(t) = −16t^2 + 80t$.\n",
    "\n"
   ]
  },
  {
   "cell_type": "code",
   "execution_count": null,
   "metadata": {},
   "outputs": [],
   "source": [
    "%%markdown\n",
    "## 51. s(2) = 96\n",
    "## $\\lim\\limits_{h \\to 0} \\frac{f(x+h)-f(x)}{h}$\n"
   ]
  },
  {
   "cell_type": "code",
   "execution_count": null,
   "metadata": {},
   "outputs": [],
   "source": [
    "%%markdown\n",
    "## 52. s′(2) = 16\n",
    "## $\\lim\\limits_{h \\to 0} \\frac{f(x+h)-f(x)}{h}$\n"
   ]
  },
  {
   "cell_type": "code",
   "execution_count": null,
   "metadata": {},
   "outputs": [],
   "source": [
    "%%markdown\n",
    "## 53. s(3) = 96\n",
    "## $\\lim\\limits_{h \\to 0} \\frac{f(x+h)-f(x)}{h}$\n"
   ]
  },
  {
   "cell_type": "code",
   "execution_count": null,
   "metadata": {},
   "outputs": [],
   "source": [
    "%%markdown\n",
    "## 54. s′(3) = −16\n",
    "## $\\lim\\limits_{h \\to 0} \\frac{f(x+h)-f(x)}{h}$\n"
   ]
  },
  {
   "cell_type": "code",
   "execution_count": null,
   "metadata": {},
   "outputs": [],
   "source": [
    "%%markdown\n",
    "## 55. s(0) = 0, s(5) = 0.\n",
    "## $\\lim\\limits_{h \\to 0} \\frac{f(x+h)-f(x)}{h}$\n",
    "\n"
   ]
  },
  {
   "cell_type": "code",
   "execution_count": null,
   "metadata": {},
   "outputs": [],
   "source": [
    "%%markdown\n",
    "For the following exercises, the volume V of a sphere with respect to its radius r is given by\n",
    "\n"
   ]
  },
  {
   "cell_type": "code",
   "execution_count": null,
   "metadata": {},
   "outputs": [],
   "source": [
    "%%markdown\n",
    "## 56. Find the average rate of change of V as r changes from 1 cm to 2 cm\n",
    "## $\\lim\\limits_{h \\to 0} \\frac{f(x+h)-f(x)}{h}$\n",
    "\n"
   ]
  },
  {
   "cell_type": "code",
   "execution_count": null,
   "metadata": {},
   "outputs": [],
   "source": [
    "%%markdown\n",
    "## 57) Find the instantaneous rate of change of V when r = 3cm\n",
    "## $\\lim\\limits_{h \\to 0} \\frac{f(x+h)-f(x)}{h}$\n"
   ]
  },
  {
   "cell_type": "code",
   "execution_count": null,
   "metadata": {},
   "outputs": [],
   "source": [
    "%%markdown\n",
    "For the following exercises, the revenue generated by selling x items is given by $R(x) = 2x^2 + 10x$.\n",
    "\n"
   ]
  },
  {
   "cell_type": "code",
   "execution_count": null,
   "metadata": {},
   "outputs": [],
   "source": [
    "%%markdown\n",
    "## 58) Find the average change of the revenue function as\n",
    "x changes from x = 10 to x = 20.\n",
    "## $\\lim\\limits_{h \\to 0} \\frac{f(x+h)-f(x)}{h}$\n",
    "\n"
   ]
  },
  {
   "cell_type": "code",
   "execution_count": null,
   "metadata": {},
   "outputs": [],
   "source": [
    "%%markdown\n",
    "## 59) Find R′(10) and interpret.\n",
    "## $\\lim\\limits_{h \\to 0} \\frac{f(x+h)-f(x)}{h}$\n",
    "\n"
   ]
  },
  {
   "cell_type": "code",
   "execution_count": null,
   "metadata": {},
   "outputs": [],
   "source": [
    "%%markdown\n",
    "## 60) Find R′(15) and interpret. Compare R′(15) to\n",
    "## R′(10), and explain the difference.\n",
    "## $\\lim\\limits_{h \\to 0} \\frac{f(x+h)-f(x)}{h}$\n",
    "\n"
   ]
  },
  {
   "cell_type": "code",
   "execution_count": null,
   "metadata": {},
   "outputs": [],
   "source": [
    "%%markdown\n",
    "For the following exercises, the cost of producing x cellphones is described by the function $C(x) = x^2 − 4x + 1000$.\n",
    "\n"
   ]
  },
  {
   "cell_type": "code",
   "execution_count": null,
   "metadata": {},
   "outputs": [],
   "source": [
    "%%markdown\n",
    "## 61) 61. Find the average rate of change in the total cost as\n",
    "## x changes from x = 10 to x = 15.\n",
    "## $\\lim\\limits_{h \\to 0} \\frac{f(x+h)-f(x)}{h}$\n",
    "\n"
   ]
  },
  {
   "cell_type": "code",
   "execution_count": 65,
   "metadata": {},
   "outputs": [
    {
     "output_type": "execute_result",
     "data": {
      "text/plain": [
       "27"
      ]
     },
     "metadata": {},
     "execution_count": 65
    }
   ],
   "source": [
    "# (16)**2-4*(16)+1000-((15)**2−4*(15)+1000)\n",
    "16**2-4*16+1000-(15**2-4*15+1000)"
   ]
  },
  {
   "cell_type": "code",
   "execution_count": 60,
   "metadata": {},
   "outputs": [
    {
     "output_type": "display_data",
     "data": {
      "text/plain": "<IPython.core.display.Markdown object>",
      "text/markdown": "## 62) 62. Find the approximate marginal cost, when\n## 15 cellphones have been produced, of producing the\n## 16th cellphone.\n##  $C(x) = x^2 − 4x + 1000$\n## $\\lim\\limits_{h \\to 0} \\frac{f(x+h)-f(x)}{h}$\n\n"
     },
     "metadata": {}
    }
   ],
   "source": [
    "%%markdown\n",
    "## 62) 62. Find the approximate marginal cost, when\n",
    "## 15 cellphones have been produced, of producing the\n",
    "## 16th cellphone.\n",
    "##  $C(x) = x^2 − 4x + 1000$\n",
    "## $\\lim\\limits_{h \\to 0} \\frac{f(x+h)-f(x)}{h}$\n",
    "## $ average = \\frac{(16)^2 − 4(16) + 1000 - ((15)^2 − 4(15) + 1000)}{16-15} \\rightarrow$\n",
    "\n"
   ]
  },
  {
   "cell_type": "code",
   "execution_count": 67,
   "metadata": {},
   "outputs": [
    {
     "output_type": "execute_result",
     "data": {
      "text/plain": [
       "37"
      ]
     },
     "metadata": {},
     "execution_count": 67
    }
   ],
   "source": [
    "21**2−4*21+1000-(20**2−4*20+1000)\n",
    "21**2-4*21+1000-(20**2-4*20+1000)"
   ]
  },
  {
   "cell_type": "code",
   "execution_count": 66,
   "metadata": {},
   "outputs": [
    {
     "output_type": "display_data",
     "data": {
      "text/plain": "<IPython.core.display.Markdown object>",
      "text/markdown": "## 63) 63. Find the approximate marginal cost, when\n## 20 cellphones have been produced, of producing\nthe 21st cellphone.\n## $average = \\frac{(21)^2 − 4(21) + 1000-((20)^2 − 4(20) + 1000)}{21-20}$\n\n"
     },
     "metadata": {}
    }
   ],
   "source": [
    "%%markdown\n",
    "## 63) 63. Find the approximate marginal cost, when\n",
    "## 20 cellphones have been produced, of producing\n",
    "the 21st cellphone.\n",
    "## $average = \\frac{(21)^2 − 4(21) + 1000-((20)^2 − 4(20) + 1000)}{21-20} \\rightarrow 37$ \n",
    "\n"
   ]
  },
  {
   "cell_type": "code",
   "execution_count": null,
   "metadata": {},
   "outputs": [],
   "source": [
    "%%markdown\n",
    "For the following exercises, use the definition for the derivative at a point $x=a,\\ \\lim\\limits_{x \\to a}\\frac{f(x)-f(a)}{x-a} $\n",
    "\n"
   ]
  },
  {
   "cell_type": "code",
   "execution_count": null,
   "metadata": {},
   "outputs": [],
   "source": [
    "%%markdown\n",
    "## 64) $f(x) =\\frac{1}{x^2} $\n",
    "## $\\lim\\limits_{h \\to 0} \\frac{f(x+h)-f(x)}{h}$\n",
    "\n"
   ]
  },
  {
   "cell_type": "code",
   "execution_count": null,
   "metadata": {},
   "outputs": [],
   "source": [
    "%%markdown\n",
    "## 65) $f(x) =5x^2-x+4 $\n",
    "## $\\lim\\limits_{h \\to 0} \\frac{f(x+h)-f(x)}{h}$\n",
    "\n"
   ]
  },
  {
   "cell_type": "code",
   "execution_count": null,
   "metadata": {},
   "outputs": [],
   "source": [
    "%%markdown\n",
    "## 66) $f(x) =-x^2+4x+7 $\n",
    "## $\\lim\\limits_{h \\to 0} \\frac{f(x+h)-f(x)}{h}$\n",
    "\n"
   ]
  },
  {
   "cell_type": "code",
   "execution_count": null,
   "metadata": {},
   "outputs": [],
   "source": [
    "%%markdown\n",
    "## 67) $f(x) =\\frac{-4}{3-x^2} $\n",
    "## $\\lim\\limits_{h \\to 0} \\frac{f(x+h)-f(x)}{h}$\n"
   ]
  }
 ]
}