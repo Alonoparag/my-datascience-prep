{
 "metadata": {
  "language_info": {
   "codemirror_mode": {
    "name": "ipython",
    "version": 3
   },
   "file_extension": ".py",
   "mimetype": "text/x-python",
   "name": "python",
   "nbconvert_exporter": "python",
   "pygments_lexer": "ipython3",
   "version": "3.8.6-final"
  },
  "orig_nbformat": 2,
  "kernelspec": {
   "name": "python3",
   "display_name": "Python 3"
  }
 },
 "nbformat": 4,
 "nbformat_minor": 2,
 "cells": [
  {
   "cell_type": "code",
   "execution_count": 11,
   "metadata": {},
   "outputs": [],
   "source": [
    "import numpy as np\n",
    "import math"
   ]
  },
  {
   "cell_type": "code",
   "execution_count": 5,
   "metadata": {},
   "outputs": [
    {
     "output_type": "display_data",
     "data": {
      "text/plain": "<IPython.core.display.Markdown object>",
      "text/markdown": "1. State in your own words what it means for a\nfunction f to be continuous at x = c.\n# answer: There is a y coordinate for x = c, The right hand and left hand side of the limit are equal $\\lim_\\limits{x \\to c^-} = \\lim_\\limits{x \\to c^+}$ and the limit at x = c completes the function f(x) $\\lim_\\limits{x \\to c^-}f(x) = f(x)$\n2. State in your own words what it means for a\nfunction to be continuous on the interval (a, b).\n# answer: between $a$ and $b$ a function f(x), $a\\le x \\le b$ has a domain that for every $c$: $a\\le c \\le b$ $\\lim_\\limits{x \\to c^-} = \\lim_\\limits{x \\to c^+}$\n"
     },
     "metadata": {}
    }
   ],
   "source": [
    "%%markdown\n",
    "1. State in your own words what it means for a\n",
    "function f to be continuous at x = c.\n",
    "# answer: There is a y coordinate for x = c, The right hand and left hand side of the limit are equal $\\lim_\\limits{x \\to c^-} = \\lim_\\limits{x \\to c^+}$ and the limit at x = c completes the function f(x) $\\lim_\\limits{x \\to c^-}f(x) = f(x)$\n",
    "2. State in your own words what it means for a\n",
    "function to be continuous on the interval (a, b).\n",
    "# answer: between $a$ and $b$ a function f(x), $a\\le x \\le b$ has a domain that for every $c$: $a\\le c \\le b$ $\\lim_\\limits{x \\to c^-} = \\lim_\\limits{x \\to c^+}$\n"
   ]
  },
  {
   "cell_type": "code",
   "execution_count": null,
   "metadata": {},
   "outputs": [],
   "source": [
    "%%markdown\n",
    "For the following exercises, determine why the function f is discontinuous at a given point a on the graph. State which\n",
    "condition fails.\n"
   ]
  },
  {
   "cell_type": "code",
   "execution_count": 29,
   "metadata": {},
   "outputs": [
    {
     "output_type": "display_data",
     "data": {
      "text/plain": "<IPython.core.display.Markdown object>",
      "text/markdown": "3. f (x) = ln (| ​ x + 3 |) , ​ a = − 3\n### 1) the expression $|-3+3|\\ge 0 $, fails at the first condition as there is no natural logarithm of 0\n### ======\n### Left Hand\n### ======\n### 1) input: -3.1\n### \t output: 0.1\n### xxxxxxxxx\n### 2) input: -3.01\n### \t output: 0.01\n### xxxxxxxxx\n### 3) input: -3.001\n### \t output: 0.001\n### xxxxxxxxx\n### 4) input: -3.0001\n### \t output: 0.0001\n### xxxxxxxxx\n### 5) input: -3.00001\n### \t output: 1e-05\n### xxxxxxxxx\n### ======\n### Right Hand\n### ======\n### 1) input: -3.1\n### \t output: 0.1\n### xxxxxxxxx\n### 2) input: -3.01\n### \t output: 0.01\n### xxxxxxxxx\n### 3) input: -3.001\n### \t output: 0.001\n### xxxxxxxxx\n### 4) input: -3.0001\n### \t output: 0.0001\n### xxxxxxxxx\n### 5) input: -3.00001\n### \t output: 1e-05\n### xxxxxxxxx\n### for the given numbers, $\\lim_\\limits{x \\to -3^-} = \\lim_\\limits{x \\to -3^+}$\nbecause ln|-3+3| is undefined, lim(-3) can't be equal to f(-3) and thus it fails the 3rd rule\n"
     },
     "metadata": {}
    }
   ],
   "source": [
    "%%markdown\n",
    "3. f (x) = ln (| ​ x + 3 |) , ​ a = − 3\n",
    "### 1) the expression $|-3+3|\\ge 0 $, fails at the first condition as there is no natural logarithm of 0\n",
    "### ======\n",
    "### Left Hand\n",
    "### ======\n",
    "### 1) input: -3.1\n",
    "### \t output: 0.1\n",
    "### xxxxxxxxx\n",
    "### 2) input: -3.01\n",
    "### \t output: 0.01\n",
    "### xxxxxxxxx\n",
    "### 3) input: -3.001\n",
    "### \t output: 0.001\n",
    "### xxxxxxxxx\n",
    "### 4) input: -3.0001\n",
    "### \t output: 0.0001\n",
    "### xxxxxxxxx\n",
    "### 5) input: -3.00001\n",
    "### \t output: 1e-05\n",
    "### xxxxxxxxx\n",
    "### ======\n",
    "### Right Hand\n",
    "### ======\n",
    "### 1) input: -3.1\n",
    "### \t output: 0.1\n",
    "### xxxxxxxxx\n",
    "### 2) input: -3.01\n",
    "### \t output: 0.01\n",
    "### xxxxxxxxx\n",
    "### 3) input: -3.001\n",
    "### \t output: 0.001\n",
    "### xxxxxxxxx\n",
    "### 4) input: -3.0001\n",
    "### \t output: 0.0001\n",
    "### xxxxxxxxx\n",
    "### 5) input: -3.00001\n",
    "### \t output: 1e-05\n",
    "### xxxxxxxxx\n",
    "### for the given numbers, $\\lim_\\limits{x \\to -3^-} = \\lim_\\limits{x \\to -3^+}$\n",
    "because ln|-3+3| is undefined, lim(-3) can't be equal to f(-3) and thus it fails the 3rd rule"
   ]
  },
  {
   "cell_type": "code",
   "execution_count": 30,
   "metadata": {},
   "outputs": [
    {
     "output_type": "display_data",
     "data": {
      "text/plain": "<IPython.core.display.Markdown object>",
      "text/markdown": "5) $f(x) = \\frac{x^2-16}{x+4}, a=4$\n"
     },
     "metadata": {}
    }
   ],
   "source": [
    "%%markdown\n",
    "5) $f(x) = \\frac{x^2-16}{x+4}, a=4$\n",
    "## 1st condition: at x = 4 the function is defined as f(o) = 0;\n",
    "## 3rd condition: $\\lim_\\limits{x \\to 4} = \\frac{lim(x)^2 - 16}{lim(x) + 4}$\n",
    "## 3rd condition: $\\lim_\\limits{x \\to 4} = \\frac{(4+4)(4-4)}{4 + 4} \\ rightarrow 0$\n",
    "## 3rd condition: $f(x) = \\frac{(4+4)(4-4)}{4+4} \\rightarrow 0$\n",
    "# 3rd condition is sattisfied as $\\lim_\\limits{x \\to 4} = f(4)$\n",
    "# 2nd condition:\n",
    "### ======\n",
    "### Left Hand\n",
    "### ======\n",
    "### 3) input: 3.999\n",
    "### \t output: -0.001\n",
    "### xxxxxxxxx\n",
    "### 4) input: 3.9999\n",
    "### \t output: -0.0001\n",
    "### xxxxxxxxx\n",
    "### 5) input: 3.99999\n",
    "### \t output: -1e-05\n",
    "### xxxxxxxxx\n",
    "### 6) input: 3.999999\n",
    "### \t output: -0.0\n",
    "### xxxxxxxxx\n",
    "### 7) input: 3.9999999\n",
    "### \t output: -0.0\n",
    "### xxxxxxxxx\n",
    "### 8) input: 3.99999999\n",
    "### \t output: -0.0\n",
    "### xxxxxxxxx\n",
    "### ======\n",
    "### Right Hand\n",
    "### ======\n",
    "### 3) input: 3.999\n",
    "### \t output: 0.001\n",
    "### xxxxxxxxx\n",
    "### 4) input: 3.9999\n",
    "### \t output: 0.0001\n",
    "### xxxxxxxxx\n",
    "### 5) input: 3.99999\n",
    "### \t output: 1e-05\n",
    "### xxxxxxxxx\n",
    "### 6) input: 3.999999\n",
    "### \t output: 0.0\n",
    "### xxxxxxxxx\n",
    "### 7) input: 3.9999999\n",
    "### \t output: 0.0\n",
    "### xxxxxxxxx\n",
    "### 8) input: 3.99999999\n",
    "### \t output: 0.0\n",
    "### xxxxxxxxx\n",
    "# 2nd condition is sattisfied/\n"
   ]
  },
  {
   "cell_type": "code",
   "execution_count": 52,
   "metadata": {},
   "outputs": [
    {
     "output_type": "display_data",
     "data": {
      "text/plain": "<IPython.core.display.Markdown object>",
      "text/markdown": "7) $f(x) =\\begin{cases}x ,\\ x \\ne 3 \\\\ 2x, x = 3\\end{cases} a=3$\n# 1st condition sattisfied as there is a y cordinate at x = 3\n## 2nd condition:\n### ======\n### Left Hand\n### ======\n### 1) input: 2.9\n### \t output: 2.9\n### xxxxxxxxx\n### 2) input: 2.99\n### \t output: 2.99\n### xxxxxxxxx\n### 3) input: 2.999\n### \t output: 2.999\n### xxxxxxxxx\n### 4) input: 2.9999\n### \t output: 2.9999\n### xxxxxxxxx\n### 5) input: 2.99999\n### \t output: 2.99999\n### xxxxxxxxx\n### 6) input: 2.999999\n### \t output: 3.0\n### xxxxxxxxx\n### 7) input: 2.9999999\n### \t output: 3.0\n### xxxxxxxxx\n### 8) input: 2.99999999\n### \t output: 3.0\n### xxxxxxxxx\n### ======\n### Right Hand\n### ======\n### 1) input: 2.9\n### \t output: 3.1\n### xxxxxxxxx\n### 2) input: 2.99\n### \t output: 3.01\n### xxxxxxxxx\n### 3) input: 2.999\n### \t output: 3.001\n### xxxxxxxxx\n### 4) input: 2.9999\n### \t output: 3.0001\n### xxxxxxxxx\n### 5) input: 2.99999\n### \t output: 3.00001\n### xxxxxxxxx\n### 6) input: 2.999999\n### \t output: 3.0\n### xxxxxxxxx\n### 7) input: 2.9999999\n### \t output: 3.0\n### xxxxxxxxx\n### 8) input: 2.99999999\n### \t output: 3.0\n### xxxxxxxxx\n# 2nd condition is sattisfied because at both sides of the limit the function approaches 3\n## 3rd condition fails because $\\lim_\\limits{x \\to 3}(x) \\ne  \\lim_\\limits{x \\to 3}(2x)$\n"
     },
     "metadata": {}
    }
   ],
   "source": [
    "%%markdown\n",
    "7) $f(x) =\\begin{cases}x ,\\ x \\ne 3 \\\\ 2x, x = 3\\end{cases} a=3$\n",
    "# 1st condition sattisfied as there is a y cordinate at x = 3\n",
    "## 2nd condition:\n",
    "### ======\n",
    "### Left Hand\n",
    "### ======\n",
    "### 1) input: 2.9\n",
    "### \t output: 2.9\n",
    "### xxxxxxxxx\n",
    "### 2) input: 2.99\n",
    "### \t output: 2.99\n",
    "### xxxxxxxxx\n",
    "### 3) input: 2.999\n",
    "### \t output: 2.999\n",
    "### xxxxxxxxx\n",
    "### 4) input: 2.9999\n",
    "### \t output: 2.9999\n",
    "### xxxxxxxxx\n",
    "### 5) input: 2.99999\n",
    "### \t output: 2.99999\n",
    "### xxxxxxxxx\n",
    "### 6) input: 2.999999\n",
    "### \t output: 3.0\n",
    "### xxxxxxxxx\n",
    "### 7) input: 2.9999999\n",
    "### \t output: 3.0\n",
    "### xxxxxxxxx\n",
    "### 8) input: 2.99999999\n",
    "### \t output: 3.0\n",
    "### xxxxxxxxx\n",
    "### ======\n",
    "### Right Hand\n",
    "### ======\n",
    "### 1) input: 2.9\n",
    "### \t output: 3.1\n",
    "### xxxxxxxxx\n",
    "### 2) input: 2.99\n",
    "### \t output: 3.01\n",
    "### xxxxxxxxx\n",
    "### 3) input: 2.999\n",
    "### \t output: 3.001\n",
    "### xxxxxxxxx\n",
    "### 4) input: 2.9999\n",
    "### \t output: 3.0001\n",
    "### xxxxxxxxx\n",
    "### 5) input: 2.99999\n",
    "### \t output: 3.00001\n",
    "### xxxxxxxxx\n",
    "### 6) input: 2.999999\n",
    "### \t output: 3.0\n",
    "### xxxxxxxxx\n",
    "### 7) input: 2.9999999\n",
    "### \t output: 3.0\n",
    "### xxxxxxxxx\n",
    "### 8) input: 2.99999999\n",
    "### \t output: 3.0\n",
    "### xxxxxxxxx\n",
    "# 2nd condition is sattisfied because at both sides of the limit the function approaches 3\n",
    "## 3rd condition fails because $\\lim_\\limits{x \\to 3}(x) \\ne  \\lim_\\limits{x \\to 3}(2x)$"
   ]
  },
  {
   "cell_type": "code",
   "execution_count": 58,
   "metadata": {},
   "outputs": [
    {
     "output_type": "display_data",
     "data": {
      "text/plain": "<IPython.core.display.Markdown object>",
      "text/markdown": "9) $f(x) =\\begin{cases}\\frac{1}{2-x} ,\\ x\\ne 2 \\\\3 , x=2 \\end{cases} a=2$\n## 1st condition passes as there is a y coordinate when x = 2.\n## 2nd condition: the function fails as $\\lim_\\limits{x \\to 2^-} \\ne \\lim_\\limits{x \\to 2^+}$ per statistical examination\n### ======\n### Left Hand\n### ======\n### 1) input: 1.9\n### \t output: -10.0\n### xxxxxxxxx\n### 2) input: 1.99\n### \t output: -100.0\n### xxxxxxxxx\n### 3) input: 1.999\n### \t output: -1000.0\n### xxxxxxxxx\n### 4) input: 1.9999\n### \t output: -10000.0\n### xxxxxxxxx\n### 5) input: 1.99999\n### \t output: -100000.0\n### xxxxxxxxx\n### 6) input: 1.999999\n### \t output: -1000000.00008\n### xxxxxxxxx\n### 7) input: 1.9999999\n### \t output: -9999999.99416\n### xxxxxxxxx\n### 8) input: 1.99999999\n### \t output: -100000000.60775\n### xxxxxxxxx\n### ======\n### Right Hand\n### ======\n### 1) input: 1.9\n### \t output: 10.0\n### xxxxxxxxx\n### 2) input: 1.99\n### \t output: 100.0\n### xxxxxxxxx\n### 3) input: 1.999\n### \t output: 1000.0\n### xxxxxxxxx\n### 4) input: 1.9999\n### \t output: 10000.0\n### xxxxxxxxx\n### 5) input: 1.99999\n### \t output: 100000.0\n### xxxxxxxxx\n### 6) input: 1.999999\n### \t output: 999999.99986\n### xxxxxxxxx\n### 7) input: 1.9999999\n### \t output: 10000000.01637\n### xxxxxxxxx\n### 8) input: 1.99999999\n### \t output: 100000000.60775\n### xxxxxxxxx\n# the function \n"
     },
     "metadata": {}
    }
   ],
   "source": [
    "%%markdown\n",
    "9) $f(x) =\\begin{cases}\\frac{1}{2-x} ,\\ x\\ne 2 \\\\3 , x=2 \\end{cases} a=2$\n",
    "## 1st condition passes as there is a y coordinate when x = 2.\n",
    "## 2nd condition: the function fails as $\\lim_\\limits{x \\to 2^-} \\ne \\lim_\\limits{x \\to 2^+}$ per statistical examination\n",
    "### ======\n",
    "### Left Hand\n",
    "### ======\n",
    "### 1) input: 1.9\n",
    "### \t output: -10.0\n",
    "### xxxxxxxxx\n",
    "### 2) input: 1.99\n",
    "### \t output: -100.0\n",
    "### xxxxxxxxx\n",
    "### 3) input: 1.999\n",
    "### \t output: -1000.0\n",
    "### xxxxxxxxx\n",
    "### 4) input: 1.9999\n",
    "### \t output: -10000.0\n",
    "### xxxxxxxxx\n",
    "### 5) input: 1.99999\n",
    "### \t output: -100000.0\n",
    "### xxxxxxxxx\n",
    "### 6) input: 1.999999\n",
    "### \t output: -1000000.00008\n",
    "### xxxxxxxxx\n",
    "### 7) input: 1.9999999\n",
    "### \t output: -9999999.99416\n",
    "### xxxxxxxxx\n",
    "### 8) input: 1.99999999\n",
    "### \t output: -100000000.60775\n",
    "### xxxxxxxxx\n",
    "### ======\n",
    "### Right Hand\n",
    "### ======\n",
    "### 1) input: 1.9\n",
    "### \t output: 10.0\n",
    "### xxxxxxxxx\n",
    "### 2) input: 1.99\n",
    "### \t output: 100.0\n",
    "### xxxxxxxxx\n",
    "### 3) input: 1.999\n",
    "### \t output: 1000.0\n",
    "### xxxxxxxxx\n",
    "### 4) input: 1.9999\n",
    "### \t output: 10000.0\n",
    "### xxxxxxxxx\n",
    "### 5) input: 1.99999\n",
    "### \t output: 100000.0\n",
    "### xxxxxxxxx\n",
    "### 6) input: 1.999999\n",
    "### \t output: 999999.99986\n",
    "### xxxxxxxxx\n",
    "### 7) input: 1.9999999\n",
    "### \t output: 10000000.01637\n",
    "### xxxxxxxxx\n",
    "### 8) input: 1.99999999\n",
    "### \t output: 100000000.60775\n",
    "### xxxxxxxxx\n",
    "# the function \n"
   ]
  },
  {
   "cell_type": "code",
   "execution_count": 59,
   "metadata": {},
   "outputs": [
    {
     "output_type": "display_data",
     "data": {
      "text/plain": "<IPython.core.display.Markdown object>",
      "text/markdown": "11) $f(x) =\\begin{cases}3+x ,\\ x<1 \\\\x,\\ x=1 \\\\x^2 , x>1 \\end{cases} a=1$\n"
     },
     "metadata": {}
    }
   ],
   "source": [
    "%%markdown\n",
    "11) $f(x) =\\begin{cases}3+x ,\\ x<1 \\\\x,\\ x=1 \\\\x^2 , x>1 \\end{cases} a=1$\n",
    "## 1st condition passes because theres a y coordinate at x = 1, f(1) = 1\n",
    "## 2nd condition: the function fails the condition: $\\lim_\\limits{x \\to 1^-} \\ne \\lim_\\limits{x \\to 1^+}$\n",
    "## 3rd condition: at 1st piece x+3, a = 1 lim(f(x) = 4. at the 2nd condition lim(f(x)) = 1, there's a change of value at the limits, therefore the condition fails\n",
    "### ======\n",
    "### Left Hand\n",
    "### ======\n",
    "### 1) input: 0.9\n",
    "### \t output: 3.9\n",
    "### xxxxxxxxx\n",
    "### 2) input: 0.99\n",
    "### \t output: 3.99\n",
    "### xxxxxxxxx\n",
    "### 3) input: 0.999\n",
    "### \t output: 3.999\n",
    "### xxxxxxxxx\n",
    "### 4) input: 0.9999\n",
    "### \t output: 3.9999\n",
    "### xxxxxxxxx\n",
    "### 5) input: 0.99999\n",
    "### \t output: 3.99999\n",
    "### xxxxxxxxx\n",
    "### 6) input: 0.999999\n",
    "### \t output: 4.0\n",
    "### xxxxxxxxx\n",
    "### 7) input: 0.9999999\n",
    "### \t output: 4.0\n",
    "### xxxxxxxxx\n",
    "### 8) input: 0.99999999\n",
    "### \t output: 4.0\n",
    "### xxxxxxxxx\n",
    "### ======\n",
    "### Right Hand\n",
    "### ======\n",
    "### 1) input: 1.1\n",
    "### \t output: 1.21\n",
    "### xxxxxxxxx\n",
    "### 2) input: 1.01\n",
    "### \t output: 1.0201\n",
    "### xxxxxxxxx\n",
    "### 3) input: 1.001\n",
    "### \t output: 1.002\n",
    "### xxxxxxxxx\n",
    "### 4) input: 1.0001\n",
    "### \t output: 1.0002\n",
    "### xxxxxxxxx\n",
    "### 5) input: 1.00001\n",
    "### \t output: 1.00002\n",
    "### xxxxxxxxx\n",
    "### 6) input: 1.000001\n",
    "### \t output: 1.0\n",
    "### xxxxxxxxx\n",
    "### 7) input: 1.0000001\n",
    "### \t output: 1.0\n",
    "### xxxxxxxxx\n",
    "### 8) input: 1.00000001\n",
    "### \t output: 1.0\n",
    "### xxxxxxxxx\n"
   ]
  },
  {
   "cell_type": "code",
   "execution_count": 68,
   "metadata": {},
   "outputs": [
    {
     "output_type": "display_data",
     "data": {
      "text/plain": "<IPython.core.display.Markdown object>",
      "text/markdown": "13) $f(x) =\\begin{cases}3+2x ,\\ x<1 \\\\x ,\\ x=1 \\\\-x^2 , x>1 \\end{cases} a=1$ $\\lim_\\limits{x \\to}$\n# first condition passes as there's a y coordinate for x = 1 when a = 1.\n## 2nd condition: failed as $\\lim_\\limits{x \\to 1^-} \\ne \\lim_\\limits{x \\to 1^+}$\n## 3rd condition fails as $\\lim_\\limits{x \\to 1^-} \\ne f(1)$\n### ======\n### Left Hand $\\lim_\\limits{x \\to 1^-}$\n### ======\n### 1) input: 0.9\n### \t output: 4.8\n### xxxxxxxxx\n### 2) input: 0.99\n### \t output: 4.98\n### xxxxxxxxx\n### 3) input: 0.999\n### \t output: 4.998\n### xxxxxxxxx\n### 4) input: 0.9999\n### \t output: 4.9998\n### xxxxxxxxx\n### 5) input: 0.99999\n### \t output: 4.99998\n### xxxxxxxxx\n### 6) input: 0.999999\n### \t output: 5.0\n### xxxxxxxxx\n### 7) input: 0.9999999\n### \t output: 5.0\n### xxxxxxxxx\n### 8) input: 0.99999999\n### \t output: 5.0\n### xxxxxxxxx\n### Right Hand $\\lim_\\limits{x \\to 1^+}$\n### ======\n### 1) input: 1.1\n### \t output: -1.21\n### xxxxxxxxx\n### 2) input: 1.01\n### \t output: -1.0201\n### xxxxxxxxx\n### 3) input: 1.001\n### \t output: -1.002\n### xxxxxxxxx\n### 4) input: 1.0001\n### \t output: -1.0002\n### xxxxxxxxx\n### 5) input: 1.00001\n### \t output: -1.00002\n### xxxxxxxxx\n### 6) input: 1.000001\n### \t output: -1.0\n### xxxxxxxxx\n### 7) input: 1.0000001\n### \t output: -1.0\n### xxxxxxxxx\n### 8) input: 1.00000001\n### \t output: -1.0\n### xxxxxxxxx\n"
     },
     "metadata": {}
    }
   ],
   "source": [
    "%%markdown\n",
    "13) $f(x) =\\begin{cases}3+2x ,\\ x<1 \\\\x ,\\ x=1 \\\\-x^2 , x>1 \\end{cases} a=1$ $\\lim_\\limits{x \\to}$\n",
    "# first condition passes as there's a y coordinate for x = 1 when a = 1.\n",
    "## 2nd condition: failed as $\\lim_\\limits{x \\to 1^-} \\ne \\lim_\\limits{x \\to 1^+}$\n",
    "## 3rd condition fails as $\\lim_\\limits{x \\to 1^-} \\ne f(1)$\n",
    "### ======\n",
    "### Left Hand $\\lim_\\limits{x \\to 1^-}$\n",
    "### ======\n",
    "### 1) input: 0.9\n",
    "### \t output: 4.8\n",
    "### xxxxxxxxx\n",
    "### 2) input: 0.99\n",
    "### \t output: 4.98\n",
    "### xxxxxxxxx\n",
    "### 3) input: 0.999\n",
    "### \t output: 4.998\n",
    "### xxxxxxxxx\n",
    "### 4) input: 0.9999\n",
    "### \t output: 4.9998\n",
    "### xxxxxxxxx\n",
    "### 5) input: 0.99999\n",
    "### \t output: 4.99998\n",
    "### xxxxxxxxx\n",
    "### 6) input: 0.999999\n",
    "### \t output: 5.0\n",
    "### xxxxxxxxx\n",
    "### 7) input: 0.9999999\n",
    "### \t output: 5.0\n",
    "### xxxxxxxxx\n",
    "### 8) input: 0.99999999\n",
    "### \t output: 5.0\n",
    "### xxxxxxxxx\n",
    "### Right Hand $\\lim_\\limits{x \\to 1^+}$\n",
    "### ======\n",
    "### 1) input: 1.1\n",
    "### \t output: -1.21\n",
    "### xxxxxxxxx\n",
    "### 2) input: 1.01\n",
    "### \t output: -1.0201\n",
    "### xxxxxxxxx\n",
    "### 3) input: 1.001\n",
    "### \t output: -1.002\n",
    "### xxxxxxxxx\n",
    "### 4) input: 1.0001\n",
    "### \t output: -1.0002\n",
    "### xxxxxxxxx\n",
    "### 5) input: 1.00001\n",
    "### \t output: -1.00002\n",
    "### xxxxxxxxx\n",
    "### 6) input: 1.000001\n",
    "### \t output: -1.0\n",
    "### xxxxxxxxx\n",
    "### 7) input: 1.0000001\n",
    "### \t output: -1.0\n",
    "### xxxxxxxxx\n",
    "### 8) input: 1.00000001\n",
    "### \t output: -1.0\n",
    "### xxxxxxxxx"
   ]
  },
  {
   "cell_type": "code",
   "execution_count": 75,
   "metadata": {},
   "outputs": [
    {
     "output_type": "display_data",
     "data": {
      "text/plain": "<IPython.core.display.Markdown object>",
      "text/markdown": "15) $f(x) =\\begin{cases}\\frac{x^2-9}{x+3} ,\\ x<-3 \\\\x-9 ,\\ x=-3 \\\\\\frac{1}{x} , x>-3 \\end{cases} a=-3$ $\\lim_\\limits{x \\to -3}$\n## 1st condition: passes as there's a y coordinate at x = -3\n##2nd condition: fails as $\\lim_\\limits{x \\to -3} \\ne \\lim_\\limits{x \\to -3}$\n##3rd condition: fails as $\\lim_\\limits{x \\to -3^-}(\\frac{(x+3)(x-3)}{x+3} = -3$ \\ne f(-3) = -12\n### ======\n### Left Hand $\\lim_\\limits{x \\to -3^-}(\\frac{x^2-9}{x+3}) $\n### ======\n### 1) input: -3.1\n### \t output: -6.1\n### xxxxxxxxx\n### 2) input: -3.01\n### \t output: -6.01\n### xxxxxxxxx\n### 3) input: -3.001\n### \t output: -6.001\n### xxxxxxxxx\n### 4) input: -3.0001\n### \t output: -6.0001\n### xxxxxxxxx\n### 5) input: -3.00001\n### \t output: -6.00001\n### xxxxxxxxx\n### 6) input: -3.000001\n### \t output: -6.0\n### xxxxxxxxx\n### 7) input: -3.0000001\n### \t output: -6.0\n### xxxxxxxxx\n### 8) input: -3.00000001\n### \t output: -6.0\n### xxxxxxxxx\n### ======\n### Right Hand $\\lim_\\limits{x \\to -3^+}(\\frac{1}{x}) $\n### ======\n### 1) input: -2.9\n### \t output: -0.34483\n### xxxxxxxxx\n### 2) input: -2.99\n### \t output: -0.33445\n### xxxxxxxxx\n### 3) input: -2.999\n### \t output: -0.33344\n### xxxxxxxxx\n### 4) input: -2.9999\n### \t output: -0.33334\n### xxxxxxxxx\n### 5) input: -2.99999\n### \t output: -0.33333\n### xxxxxxxxx\n### 6) input: -2.999999\n### \t output: -0.33333\n### xxxxxxxxx\n### 7) input: -2.9999999\n### \t output: -0.33333\n### xxxxxxxxx\n### 8) input: -2.99999999\n### \t output: -0.33333\n### xxxxxxxxx\n"
     },
     "metadata": {}
    }
   ],
   "source": [
    "%%markdown\n",
    "15) $f(x) =\\begin{cases}\\frac{x^2-9}{x+3} ,\\ x<-3 \\\\x-9 ,\\ x=-3 \\\\\\frac{1}{x} , x>-3 \\end{cases} a=-3$ $\\lim_\\limits{x \\to -3}$\n",
    "## 1st condition: passes as there's a y coordinate at x = -3\n",
    "##2nd condition: fails as $\\lim_\\limits{x \\to -3} \\ne \\lim_\\limits{x \\to -3}$\n",
    "##3rd condition: fails as $\\lim_\\limits{x \\to -3^-}(\\frac{(x+3)(x-3)}{x+3} = -3$ \\ne f(-3) = -12\n",
    "### ======\n",
    "### Left Hand $\\lim_\\limits{x \\to -3^-}(\\frac{x^2-9}{x+3}) $\n",
    "### ======\n",
    "### 1) input: -3.1\n",
    "### \t output: -6.1\n",
    "### xxxxxxxxx\n",
    "### 2) input: -3.01\n",
    "### \t output: -6.01\n",
    "### xxxxxxxxx\n",
    "### 3) input: -3.001\n",
    "### \t output: -6.001\n",
    "### xxxxxxxxx\n",
    "### 4) input: -3.0001\n",
    "### \t output: -6.0001\n",
    "### xxxxxxxxx\n",
    "### 5) input: -3.00001\n",
    "### \t output: -6.00001\n",
    "### xxxxxxxxx\n",
    "### 6) input: -3.000001\n",
    "### \t output: -6.0\n",
    "### xxxxxxxxx\n",
    "### 7) input: -3.0000001\n",
    "### \t output: -6.0\n",
    "### xxxxxxxxx\n",
    "### 8) input: -3.00000001\n",
    "### \t output: -6.0\n",
    "### xxxxxxxxx\n",
    "### ======\n",
    "### Right Hand $\\lim_\\limits{x \\to -3^+}(\\frac{1}{x}) $\n",
    "### ======\n",
    "### 1) input: -2.9\n",
    "### \t output: -0.34483\n",
    "### xxxxxxxxx\n",
    "### 2) input: -2.99\n",
    "### \t output: -0.33445\n",
    "### xxxxxxxxx\n",
    "### 3) input: -2.999\n",
    "### \t output: -0.33344\n",
    "### xxxxxxxxx\n",
    "### 4) input: -2.9999\n",
    "### \t output: -0.33334\n",
    "### xxxxxxxxx\n",
    "### 5) input: -2.99999\n",
    "### \t output: -0.33333\n",
    "### xxxxxxxxx\n",
    "### 6) input: -2.999999\n",
    "### \t output: -0.33333\n",
    "### xxxxxxxxx\n",
    "### 7) input: -2.9999999\n",
    "### \t output: -0.33333\n",
    "### xxxxxxxxx\n",
    "### 8) input: -2.99999999\n",
    "### \t output: -0.33333\n",
    "### xxxxxxxxx\n"
   ]
  },
  {
   "cell_type": "code",
   "execution_count": 83,
   "metadata": {},
   "outputs": [
    {
     "output_type": "display_data",
     "data": {
      "text/plain": "<IPython.core.display.Markdown object>",
      "text/markdown": "17) $f(x) = \\frac{x^2-4}{x-2}, a=2$ $\\lim_\\limits{x \\to 2}$\n# first condition fails as there's no output for y at x = 2\n## 2nrd condition: passes as $\\lim_\\limits{x \\to 2^-} \\ne \\lim_\\limits{x \\to 2^+}$\n### ======\n### Left Hand\n### ======\n### 1) input: 1.9\n### \t output: 3.9\n### xxxxxxxxx\n### 2) input: 1.99\n### \t output: 3.99\n### xxxxxxxxx\n### 3) input: 1.999\n### \t output: 3.999\n### xxxxxxxxx\n### 4) input: 1.9999\n### \t output: 3.9999\n### xxxxxxxxx\n### 5) input: 1.99999\n### \t output: 3.99999\n### xxxxxxxxx\n### 6) input: 1.999999\n### \t output: 4.0\n### xxxxxxxxx\n### 7) input: 1.9999999\n### \t output: 4.0\n### xxxxxxxxx\n### 8) input: 1.99999999\n### \t output: 4.0\n### xxxxxxxxx\n### ======\n### Right Hand\n### ======\n### 1) input: 2.1\n### \t output: 4.1\n### xxxxxxxxx\n### 2) input: 2.01\n### \t output: 4.01\n### xxxxxxxxx\n### 3) input: 2.001\n### \t output: 4.001\n### xxxxxxxxx\n### 4) input: 2.0001\n### \t output: 4.0001\n### xxxxxxxxx\n### 5) input: 2.00001\n### \t output: 4.00001\n### xxxxxxxxx\n### 6) input: 2.000001\n### \t output: 4.0\n### xxxxxxxxx\n### 7) input: 2.0000001\n### \t output: 4.0\n### xxxxxxxxx\n### 8) input: 2.00000001\n### \t output: 4.0\n### xxxxxxxxx\n# 3rd condition: fails because the function is not defined for f(2) therefore theres $\\lim_\\limits{x \\to 2}(f(x)) \\ne f(x) $\n### $\\lim_\\limits{x \\to 2}(\\frac{x^2-4}{x-2}) $\n### $\\lim_\\limits{x \\to 2}(\\frac{(x-2)(x+2)}{x-2}) $\n### $\\lim_\\limits{x \\to 2}(x+2) $\n### $\\lim_\\limits{x \\to 2}(lim(x)+lim(2)) \\rightarrow 4$\n"
     },
     "metadata": {}
    }
   ],
   "source": [
    "%%markdown\n",
    "17) $f(x) = \\frac{x^2-4}{x-2}, a=2$ $\\lim_\\limits{x \\to 2}$\n",
    "# first condition fails as there's no output for y at x = 2\n",
    "## 2nrd condition: passes as $\\lim_\\limits{x \\to 2^-} \\ne \\lim_\\limits{x \\to 2^+}$\n",
    "### ======\n",
    "### Left Hand\n",
    "### ======\n",
    "### 1) input: 1.9\n",
    "### \t output: 3.9\n",
    "### xxxxxxxxx\n",
    "### 2) input: 1.99\n",
    "### \t output: 3.99\n",
    "### xxxxxxxxx\n",
    "### 3) input: 1.999\n",
    "### \t output: 3.999\n",
    "### xxxxxxxxx\n",
    "### 4) input: 1.9999\n",
    "### \t output: 3.9999\n",
    "### xxxxxxxxx\n",
    "### 5) input: 1.99999\n",
    "### \t output: 3.99999\n",
    "### xxxxxxxxx\n",
    "### 6) input: 1.999999\n",
    "### \t output: 4.0\n",
    "### xxxxxxxxx\n",
    "### 7) input: 1.9999999\n",
    "### \t output: 4.0\n",
    "### xxxxxxxxx\n",
    "### 8) input: 1.99999999\n",
    "### \t output: 4.0\n",
    "### xxxxxxxxx\n",
    "### ======\n",
    "### Right Hand\n",
    "### ======\n",
    "### 1) input: 2.1\n",
    "### \t output: 4.1\n",
    "### xxxxxxxxx\n",
    "### 2) input: 2.01\n",
    "### \t output: 4.01\n",
    "### xxxxxxxxx\n",
    "### 3) input: 2.001\n",
    "### \t output: 4.001\n",
    "### xxxxxxxxx\n",
    "### 4) input: 2.0001\n",
    "### \t output: 4.0001\n",
    "### xxxxxxxxx\n",
    "### 5) input: 2.00001\n",
    "### \t output: 4.00001\n",
    "### xxxxxxxxx\n",
    "### 6) input: 2.000001\n",
    "### \t output: 4.0\n",
    "### xxxxxxxxx\n",
    "### 7) input: 2.0000001\n",
    "### \t output: 4.0\n",
    "### xxxxxxxxx\n",
    "### 8) input: 2.00000001\n",
    "### \t output: 4.0\n",
    "### xxxxxxxxx\n",
    "# 3rd condition: fails because the function is not defined for f(2) therefore theres $\\lim_\\limits{x \\to 2}(f(x)) \\ne f(x) $\n",
    "### $\\lim_\\limits{x \\to 2}(\\frac{x^2-4}{x-2}) $\n",
    "### $\\lim_\\limits{x \\to 2}(\\frac{(x-2)(x+2)}{x-2}) $\n",
    "### $\\lim_\\limits{x \\to 2}(x+2) $\n",
    "### $\\lim_\\limits{x \\to 2}(lim(x)+lim(2)) \\rightarrow 4$\n"
   ]
  },
  {
   "cell_type": "code",
   "execution_count": 89,
   "metadata": {},
   "outputs": [
    {
     "output_type": "display_data",
     "data": {
      "text/plain": "<IPython.core.display.Markdown object>",
      "text/markdown": "(x+3)(x+8)\n19) $f(x) = \\frac{x^3-9x}{x^2+11x+24}, a=-3$ $\\lim_\\limits{x \\to -3}$\n### $f(x) = \\frac{(x+3)(x-3)}{(x+3)(x+8)}, a=-3$ $\\lim_\\limits{x \\to -3}$\n## 1st condition fails because there's no y output at x = -3\n## 3rd condition: $\\lim_\\limits{x \\to -3}(\\frac{(x+3)(x-3)}{(x+3)(x+8)})$\n## 3rd condition: $\\lim_\\limits{x \\to -3}(\\frac{(x-3)}{(x+8)})$\n## 3rd condition: $\\lim_\\limits{x \\to -3}(\\frac{(\\lim(x)-\\lim(3))}{(\\lim(x)+\\lim(8))})$\n## 3rd condition: $\\lim_\\limits{x \\to -3}(\\frac{(-3-3)}{(-3+8)}) \\rightarrow \\frac{-6}{5} $\n# 3rd condition fails because $\\lim_\\limits{x \\to -3} \\ne\\ undefined$\n## 2nd condition: passes as $\\lim_\\limits{x \\to -3} = \\lim_\\limits{x \\to -3}$\n### ======\n### Left Hand $\\lim_\\limits{x \\to -3^-}$\n### ======\n### 1) input: -3.1\n### \t output: -1.2449\n### xxxxxxxxx\n### 2) input: -3.01\n### \t output: -1.20441\n### xxxxxxxxx\n### 3) input: -3.001\n### \t output: -1.20044\n### xxxxxxxxx\n### 4) input: -3.0001\n### \t output: -1.20004\n### xxxxxxxxx\n### 5) input: -3.00001\n### \t output: -1.2\n### xxxxxxxxx\n### 6) input: -3.000001\n### \t output: -1.2\n### xxxxxxxxx\n### 7) input: -3.0000001\n### \t output: -1.2\n### xxxxxxxxx\n### 8) input: -3.00000001\n### \t output: -1.2\n### xxxxxxxxx\n### ======\n### Right Hand $\\lim_\\limits{x \\to -3^+}$\n### ======\n### 1) input: -2.9\n### \t output: -1.15686\n### xxxxxxxxx\n### 2) input: -2.99\n### \t output: -1.19561\n### xxxxxxxxx\n### 3) input: -2.999\n### \t output: -1.19956\n### xxxxxxxxx\n### 4) input: -2.9999\n### \t output: -1.19996\n### xxxxxxxxx\n### 5) input: -2.99999\n### \t output: -1.2\n### xxxxxxxxx\n### 6) input: -2.999999\n### \t output: -1.2\n### xxxxxxxxx\n### 7) input: -2.9999999\n### \t output: -1.2\n### xxxxxxxxx\n### 8) input: -2.99999999\n### \t output: -1.2\n### xxxxxxxxx\n"
     },
     "metadata": {}
    }
   ],
   "source": [
    "%%markdown\n",
    "(x+3)(x+8)\n",
    "19) $f(x) = \\frac{x^3-9x}{x^2+11x+24}, a=-3$ $\\lim_\\limits{x \\to -3}$\n",
    "### $f(x) = \\frac{(x+3)(x-3)}{(x+3)(x+8)}, a=-3$ $\\lim_\\limits{x \\to -3}$\n",
    "## 1st condition fails because there's no y output at x = -3\n",
    "## 3rd condition: $\\lim_\\limits{x \\to -3}(\\frac{(x+3)(x-3)}{(x+3)(x+8)})$\n",
    "## 3rd condition: $\\lim_\\limits{x \\to -3}(\\frac{(x-3)}{(x+8)})$\n",
    "## 3rd condition: $\\lim_\\limits{x \\to -3}(\\frac{(\\lim(x)-\\lim(3))}{(\\lim(x)+\\lim(8))})$\n",
    "## 3rd condition: $\\lim_\\limits{x \\to -3}(\\frac{(-3-3)}{(-3+8)}) \\rightarrow \\frac{-6}{5} $\n",
    "# 3rd condition fails because $\\lim_\\limits{x \\to -3} \\ne\\ undefined$\n",
    "## 2nd condition: passes as $\\lim_\\limits{x \\to -3} = \\lim_\\limits{x \\to -3}$\n",
    "### ======\n",
    "### Left Hand $\\lim_\\limits{x \\to -3^-}$\n",
    "### ======\n",
    "### 1) input: -3.1\n",
    "### \t output: -1.2449\n",
    "### xxxxxxxxx\n",
    "### 2) input: -3.01\n",
    "### \t output: -1.20441\n",
    "### xxxxxxxxx\n",
    "### 3) input: -3.001\n",
    "### \t output: -1.20044\n",
    "### xxxxxxxxx\n",
    "### 4) input: -3.0001\n",
    "### \t output: -1.20004\n",
    "### xxxxxxxxx\n",
    "### 5) input: -3.00001\n",
    "### \t output: -1.2\n",
    "### xxxxxxxxx\n",
    "### 6) input: -3.000001\n",
    "### \t output: -1.2\n",
    "### xxxxxxxxx\n",
    "### 7) input: -3.0000001\n",
    "### \t output: -1.2\n",
    "### xxxxxxxxx\n",
    "### 8) input: -3.00000001\n",
    "### \t output: -1.2\n",
    "### xxxxxxxxx\n",
    "### ======\n",
    "### Right Hand $\\lim_\\limits{x \\to -3^+}$\n",
    "### ======\n",
    "### 1) input: -2.9\n",
    "### \t output: -1.15686\n",
    "### xxxxxxxxx\n",
    "### 2) input: -2.99\n",
    "### \t output: -1.19561\n",
    "### xxxxxxxxx\n",
    "### 3) input: -2.999\n",
    "### \t output: -1.19956\n",
    "### xxxxxxxxx\n",
    "### 4) input: -2.9999\n",
    "### \t output: -1.19996\n",
    "### xxxxxxxxx\n",
    "### 5) input: -2.99999\n",
    "### \t output: -1.2\n",
    "### xxxxxxxxx\n",
    "### 6) input: -2.999999\n",
    "### \t output: -1.2\n",
    "### xxxxxxxxx\n",
    "### 7) input: -2.9999999\n",
    "### \t output: -1.2\n",
    "### xxxxxxxxx\n",
    "### 8) input: -2.99999999\n",
    "### \t output: -1.2\n",
    "### xxxxxxxxx"
   ]
  },
  {
   "cell_type": "code",
   "execution_count": 94,
   "metadata": {},
   "outputs": [
    {
     "output_type": "display_data",
     "data": {
      "text/plain": "<IPython.core.display.Markdown object>",
      "text/markdown": "21) $f(x) = \\frac{x}{|x|}, a=0$ $\\lim_\\limits{x \\to 0}$\n## 1st condition fails as f(0) is undefined.\n## the function explored stasitically:\n### ======\n### Left Hand $\\lim_\\limits{x \\to 0^-}$\n### ======\n### 1) input: -0.1\n### \t output: -1.0\n### xxxxxxxxx\n### 2) input: -0.01\n### \t output: -1.0\n### xxxxxxxxx\n### 3) input: -0.001\n### \t output: -1.0\n### xxxxxxxxx\n### 4) input: -0.0001\n### \t output: -1.0\n### xxxxxxxxx\n### 5) input: -1e-05\n### \t output: -1.0\n### xxxxxxxxx\n### 6) input: -1e-06\n### \t output: -1.0\n### xxxxxxxxx\n### 7) input: -1e-07\n### \t output: -1.0\n### xxxxxxxxx\n### 8) input: -1e-08\n### \t output: -1.0\n### xxxxxxxxx\n### ======\n### Right Hand $\\lim_\\limits{x \\to 0^+}$\n### ======\n### 1) input: 0.1\n### \t output: 1.0\n### xxxxxxxxx\n### 2) input: 0.01\n### \t output: 1.0\n### xxxxxxxxx\n### 3) input: 0.001\n### \t output: 1.0\n### xxxxxxxxx\n### 4) input: 0.0001\n### \t output: 1.0\n### xxxxxxxxx\n### 5) input: 1e-05\n### \t output: 1.0\n### xxxxxxxxx\n### 6) input: 1e-06\n### \t output: 1.0\n### xxxxxxxxx\n### 7) input: 1e-07\n### \t output: 1.0\n### xxxxxxxxx\n### 8) input: 1e-08\n### \t output: 1.0\n### xxxxxxxxx\n## 2nd condition fails as $\\lim_\\limits{x \\to 0^-} \\ne \\lim_\\limits{x \\to 0^+}$\n## 3rd condition fails as $\\lim_\\limits{x \\to 0}$ is undefined\n"
     },
     "metadata": {}
    }
   ],
   "source": [
    "%%markdown\n",
    "21) $f(x) = \\frac{x}{|x|}, a=0$ $\\lim_\\limits{x \\to 0}$\n",
    "## 1st condition fails as f(0) is undefined.\n",
    "## the function explored stasitically:\n",
    "### ======\n",
    "### Left Hand $\\lim_\\limits{x \\to 0^-}$\n",
    "### ======\n",
    "### 1) input: -0.1\n",
    "### \t output: -1.0\n",
    "### xxxxxxxxx\n",
    "### 2) input: -0.01\n",
    "### \t output: -1.0\n",
    "### xxxxxxxxx\n",
    "### 3) input: -0.001\n",
    "### \t output: -1.0\n",
    "### xxxxxxxxx\n",
    "### 4) input: -0.0001\n",
    "### \t output: -1.0\n",
    "### xxxxxxxxx\n",
    "### 5) input: -1e-05\n",
    "### \t output: -1.0\n",
    "### xxxxxxxxx\n",
    "### 6) input: -1e-06\n",
    "### \t output: -1.0\n",
    "### xxxxxxxxx\n",
    "### 7) input: -1e-07\n",
    "### \t output: -1.0\n",
    "### xxxxxxxxx\n",
    "### 8) input: -1e-08\n",
    "### \t output: -1.0\n",
    "### xxxxxxxxx\n",
    "### ======\n",
    "### Right Hand $\\lim_\\limits{x \\to 0^+}$\n",
    "### ======\n",
    "### 1) input: 0.1\n",
    "### \t output: 1.0\n",
    "### xxxxxxxxx\n",
    "### 2) input: 0.01\n",
    "### \t output: 1.0\n",
    "### xxxxxxxxx\n",
    "### 3) input: 0.001\n",
    "### \t output: 1.0\n",
    "### xxxxxxxxx\n",
    "### 4) input: 0.0001\n",
    "### \t output: 1.0\n",
    "### xxxxxxxxx\n",
    "### 5) input: 1e-05\n",
    "### \t output: 1.0\n",
    "### xxxxxxxxx\n",
    "### 6) input: 1e-06\n",
    "### \t output: 1.0\n",
    "### xxxxxxxxx\n",
    "### 7) input: 1e-07\n",
    "### \t output: 1.0\n",
    "### xxxxxxxxx\n",
    "### 8) input: 1e-08\n",
    "### \t output: 1.0\n",
    "### xxxxxxxxx\n",
    "## 2nd condition fails as $\\lim_\\limits{x \\to 0^-} \\ne \\lim_\\limits{x \\to 0^+}$\n",
    "## 3rd condition fails as $\\lim_\\limits{x \\to 0}$ is undefined"
   ]
  },
  {
   "cell_type": "code",
   "execution_count": null,
   "metadata": {},
   "outputs": [],
   "source": [
    "%%markdown\n",
    "For the following exercises, determine whether or not the given function f is continuous everywhere. If it is\n",
    "continuous everywhere it is defined, state for what range it is continuous. If it is discontinuous, state where it is\n",
    "discontinuous.\n",
    "\n"
   ]
  },
  {
   "cell_type": "code",
   "execution_count": 95,
   "metadata": {},
   "outputs": [
    {
     "output_type": "display_data",
     "data": {
      "text/plain": "<IPython.core.display.Markdown object>",
      "text/markdown": "23) $f(x) = x^2-2x-15$\n"
     },
     "metadata": {}
    }
   ],
   "source": [
    "%%markdown\n",
    "23) $f(x) = x^2-2x-15$\n",
    "## f(x) is continous for every x\n"
   ]
  },
  {
   "cell_type": "code",
   "execution_count": 96,
   "metadata": {},
   "outputs": [
    {
     "output_type": "display_data",
     "data": {
      "text/plain": "<IPython.core.display.Markdown object>",
      "text/markdown": "25) $f(x) = 2\\cdot3^{x+4}$\n"
     },
     "metadata": {}
    }
   ],
   "source": [
    "%%markdown\n",
    "25) $f(x) = 2\\cdot3^{x+4}$\n",
    "## f(x) is continout for every x\n"
   ]
  },
  {
   "cell_type": "code",
   "execution_count": 100,
   "metadata": {},
   "outputs": [
    {
     "output_type": "display_data",
     "data": {
      "text/plain": "<IPython.core.display.Markdown object>",
      "text/markdown": "27) $f(x) =\\frac{|x-2|}{x^2-2x} $\n### $f(x) =\\frac{|x-2|}{x(x-2)} $ ; $\\lim_\\limits{x \\to 0}$ ; $\\lim_\\limits{x \\to 2}$\n"
     },
     "metadata": {}
    }
   ],
   "source": [
    "%%markdown\n",
    "27) $f(x) =\\frac{|x-2|}{x^2-2x} $\n",
    "### $f(x) =\\frac{|x-2|}{x(x-2)} $ ; $\\lim_\\limits{x \\to 0}$ ; $\\lim_\\limits{x \\to 2}$\n",
    "## f(x) is discontinous at x = 0 and x = 2\n"
   ]
  },
  {
   "cell_type": "code",
   "execution_count": 101,
   "metadata": {},
   "outputs": [
    {
     "output_type": "display_data",
     "data": {
      "text/plain": "<IPython.core.display.Markdown object>",
      "text/markdown": "29) $f(x) = 2x+\\frac{5}{x}$\n"
     },
     "metadata": {}
    }
   ],
   "source": [
    "%%markdown\n",
    "29) $f(x) = 2x+\\frac{5}{x}$\n",
    "## The function is discontinous at x = 0\n"
   ]
  },
  {
   "cell_type": "code",
   "execution_count": 102,
   "metadata": {},
   "outputs": [
    {
     "output_type": "display_data",
     "data": {
      "text/plain": "<IPython.core.display.Markdown object>",
      "text/markdown": "31) $f(x) =lnx^2 $ continues $(0, \\infty) $\n"
     },
     "metadata": {}
    }
   ],
   "source": [
    "%%markdown\n",
    "31) $f(x) =lnx^2 $ continues $(0, \\infty) $\n"
   ]
  },
  {
   "cell_type": "code",
   "execution_count": 104,
   "metadata": {},
   "outputs": [
    {
     "output_type": "display_data",
     "data": {
      "text/plain": "<IPython.core.display.Markdown object>",
      "text/markdown": "33) $f(x) = \\sqrt{x-4}$\n## continues $(4, \\infty) $\n"
     },
     "metadata": {}
    }
   ],
   "source": [
    "%%markdown\n",
    "33) $f(x) = \\sqrt{x-4}$\n",
    "## continues $(4, \\infty) $\n"
   ]
  },
  {
   "cell_type": "code",
   "execution_count": 106,
   "metadata": {},
   "outputs": [
    {
     "output_type": "display_data",
     "data": {
      "text/plain": "<IPython.core.display.Markdown object>",
      "text/markdown": "35) $f(x) = x^2+sin(x)$\n## continues $(-\\infty, \\infty)$\n\n"
     },
     "metadata": {}
    }
   ],
   "source": [
    "%%markdown\n",
    "35) $f(x) = x^2+sin(x)$\n",
    "## continues $(-\\infty, \\infty)$\n",
    "\n"
   ]
  },
  {
   "cell_type": "code",
   "execution_count": null,
   "metadata": {},
   "outputs": [],
   "source": [
    "%%markdown\n",
    "39-50"
   ]
  },
  {
   "cell_type": "code",
   "execution_count": 93,
   "metadata": {},
   "outputs": [
    {
     "output_type": "stream",
     "name": "stdout",
     "text": [
      "### ======\n### Left Hand\n### ======\n### 1) input: -0.1\n### \t output: -1.0\n### xxxxxxxxx\n### 2) input: -0.01\n### \t output: -1.0\n### xxxxxxxxx\n### 3) input: -0.001\n### \t output: -1.0\n### xxxxxxxxx\n### 4) input: -0.0001\n### \t output: -1.0\n### xxxxxxxxx\n### 5) input: -1e-05\n### \t output: -1.0\n### xxxxxxxxx\n### 6) input: -1e-06\n### \t output: -1.0\n### xxxxxxxxx\n### 7) input: -1e-07\n### \t output: -1.0\n### xxxxxxxxx\n### 8) input: -1e-08\n### \t output: -1.0\n### xxxxxxxxx\n### ======\n### Right Hand\n### ======\n### 1) input: 0.1\n### \t output: 1.0\n### xxxxxxxxx\n### 2) input: 0.01\n### \t output: 1.0\n### xxxxxxxxx\n### 3) input: 0.001\n### \t output: 1.0\n### xxxxxxxxx\n### 4) input: 0.0001\n### \t output: 1.0\n### xxxxxxxxx\n### 5) input: 1e-05\n### \t output: 1.0\n### xxxxxxxxx\n### 6) input: 1e-06\n### \t output: 1.0\n### xxxxxxxxx\n### 7) input: 1e-07\n### \t output: 1.0\n### xxxxxxxxx\n### 8) input: 1e-08\n### \t output: 1.0\n### xxxxxxxxx\n"
     ]
    }
   ],
   "source": [
    "# \\frac{}{}\n",
    "# $\\lim\\limits_{{}\\to {}}$\n",
    "def func(x):\n",
    "    return (x)/((np.absolute(x)))\n",
    "\n",
    "def limit(a, dec):\n",
    "    left = 0\n",
    "    right = 0\n",
    "    #Left hand\n",
    "    print(\"### ======\\n### Left Hand\\n### ======\")\n",
    "    for i in range (1, dec+1):\n",
    "        print(\"### \"+str(i)+\") input: \"+str(a-10**(-i)))\n",
    "        print(\"### \\t output: \"+str(round(func(a-10**(-i)), 5)))\n",
    "        print(\"### \" +\"x\"*9)\n",
    "        if i == dec:\n",
    "            left = round(func(a-10**(-i)), 5)\n",
    "    #Right hand\n",
    "    print(\"### ======\\n### Right Hand\\n### ======\")\n",
    "    for i in range (1, dec+1):\n",
    "        print(\"### \"+str(i)+\") input: \"+str(a+10**(-i)))\n",
    "        print(\"### \\t output: \"+str(round(func(a+10**(-i)), 5)))\n",
    "        print(\"### \"+\"x\"*9)\n",
    "        if i == dec:\n",
    "            right = round(func(a+10**(-i)), 5)\n",
    "    # print(left-right)\n",
    "\n",
    "limit(0,8)"
   ]
  },
  {
   "cell_type": "code",
   "execution_count": null,
   "metadata": {},
   "outputs": [],
   "source": [
    "%%markdown"
   ]
  }
 ]
}