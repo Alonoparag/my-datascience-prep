{
 "metadata": {
  "language_info": {
   "codemirror_mode": {
    "name": "ipython",
    "version": 3
   },
   "file_extension": ".py",
   "mimetype": "text/x-python",
   "name": "python",
   "nbconvert_exporter": "python",
   "pygments_lexer": "ipython3",
   "version": "3.8.6-final"
  },
  "orig_nbformat": 2,
  "kernelspec": {
   "name": "python3",
   "display_name": "Python 3"
  }
 },
 "nbformat": 4,
 "nbformat_minor": 2,
 "cells": [
  {
   "cell_type": "code",
   "execution_count": 94,
   "metadata": {},
   "outputs": [],
   "source": [
    "import numpy as np\n",
    "import math"
   ]
  },
  {
   "cell_type": "code",
   "execution_count": 2,
   "metadata": {},
   "outputs": [
    {
     "output_type": "display_data",
     "data": {
      "text/plain": "<IPython.core.display.Markdown object>",
      "text/markdown": "1. Explain the difference between a value at x = a and\nthe limit as x approaches a.\n# answer: A limit describes the function behavior as x approaches to a, and is usually set when a functions behavior or values changes radically when x is given the value a, or when the value a is  not in that function domain\n2. Explain why we say a function does not have a limit\nas x approaches a if, as x approaches a, the left-hand\nlimit is not equal to the right-hand limit.\n# answer: A function that does not has a limit when $x \\to a$ means that either the output of the function from the left side is nonequal to output of the function from the right side, or that the function is not defined in one of the sides\n"
     },
     "metadata": {}
    }
   ],
   "source": [
    "%%markdown\n",
    "1. Explain the difference between a value at x = a and\n",
    "the limit as x approaches a.\n",
    "# answer: A limit describes the function behavior as x approaches to a, and is usually set when a functions behavior or values changes radically when x is given the value a, or when the value a is  not in that function domain\n",
    "2. Explain why we say a function does not have a limit\n",
    "as x approaches a if, as x approaches a, the left-hand\n",
    "limit is not equal to the right-hand limit.\n",
    "# answer: A function that does not has a limit when $x \\to a$ means that either the output of the function from the left side is nonequal to output of the function from the right side, or that the function is not defined in one of the sides\n"
   ]
  },
  {
   "cell_type": "code",
   "execution_count": 3,
   "metadata": {},
   "outputs": [
    {
     "output_type": "display_data",
     "data": {
      "text/plain": "<IPython.core.display.Markdown object>",
      "text/markdown": "For the following exercises, estimate the functional values and the limits from the graph of the function f provided\nin Figure 14.\n"
     },
     "metadata": {}
    }
   ],
   "source": [
    "%%markdown\n",
    "For the following exercises, estimate the functional values and the limits from the graph of the function f provided\n",
    "in Figure 14."
   ]
  },
  {
   "cell_type": "code",
   "execution_count": 4,
   "metadata": {},
   "outputs": [
    {
     "output_type": "display_data",
     "data": {
      "text/plain": "<IPython.core.display.Markdown object>",
      "text/markdown": "3) $\\lim\\limits_{{x}\\to {-2}}f(x) = -4$ \n"
     },
     "metadata": {}
    }
   ],
   "source": [
    "%%markdown\n",
    "3) $\\lim\\limits_{{x}\\to {-2}}f(x) = -4$ \n"
   ]
  },
  {
   "cell_type": "code",
   "execution_count": 6,
   "metadata": {},
   "outputs": [
    {
     "output_type": "display_data",
     "data": {
      "text/plain": "<IPython.core.display.Markdown object>",
      "text/markdown": "5) $\\lim\\limits_{{x}\\to {1}}f(x)$ \n%%markdown\n"
     },
     "metadata": {}
    }
   ],
   "source": [
    "%%markdown\n",
    "5) $\\lim\\limits_{{x}\\to {1}}f(x)$ There is no defined limit when a = 1 \n"
   ]
  },
  {
   "cell_type": "code",
   "execution_count": 26,
   "metadata": {},
   "outputs": [
    {
     "output_type": "display_data",
     "data": {
      "text/plain": "<IPython.core.display.Markdown object>",
      "text/markdown": "7) $\\lim\\limits_{{x}\\to {-2}^{-}}f(x)$ \n"
     },
     "metadata": {}
    }
   ],
   "source": [
    "%%markdown\n",
    "7) $\\lim\\limits_{{x}\\to {-2}^{-}}f(x)\\ x=-4$\n"
   ]
  },
  {
   "cell_type": "code",
   "execution_count": 29,
   "metadata": {},
   "outputs": [
    {
     "output_type": "display_data",
     "data": {
      "text/plain": "<IPython.core.display.Markdown object>",
      "text/markdown": "9) $\\lim\\limits_{{x}\\to {1}^-}f(x)\\ x=2$ \n"
     },
     "metadata": {}
    }
   ],
   "source": [
    "%%markdown\n",
    "9) $\\lim\\limits_{{x}\\to {1}^-}f(x)\\ x=2$ \n"
   ]
  },
  {
   "cell_type": "code",
   "execution_count": 32,
   "metadata": {},
   "outputs": [
    {
     "output_type": "display_data",
     "data": {
      "text/plain": "<IPython.core.display.Markdown object>",
      "text/markdown": "11) $\\lim\\limits_{{x}\\to {4}^-}f(x)\\ x=4$ \n"
     },
     "metadata": {}
    }
   ],
   "source": [
    "%%markdown\n",
    "11) $\\lim\\limits_{{x}\\to {4}^-}f(x)\\ x=4$ \n"
   ]
  },
  {
   "cell_type": "code",
   "execution_count": 10,
   "metadata": {},
   "outputs": [
    {
     "output_type": "display_data",
     "data": {
      "text/plain": "<IPython.core.display.Markdown object>",
      "text/markdown": "13) $\\lim\\limits_{{x}\\to {4}}f(x)$ \n\n"
     },
     "metadata": {}
    }
   ],
   "source": [
    "%%markdown\n",
    "13) $\\lim\\limits_{{x}\\to {4}}f(x)$ The limit is not defined for x=4. The functions output is 4 \n",
    "\n"
   ]
  },
  {
   "cell_type": "code",
   "execution_count": null,
   "metadata": {},
   "outputs": [],
   "source": [
    "For the following exercises, use a graphing calculator to determine the limit to 5 decimal places as x approaches 0."
   ]
  },
  {
   "cell_type": "code",
   "execution_count": 58,
   "metadata": {},
   "outputs": [
    {
     "output_type": "display_data",
     "data": {
      "text/plain": "<IPython.core.display.Markdown object>",
      "text/markdown": "23) $g(x) = (1+x)^{\\frac{2}{x}}$: $\\lim\\limits_{{x}\\to {0}} x = 7.39$\n"
     },
     "metadata": {}
    }
   ],
   "source": [
    "%%markdown\n",
    "23) $g(x) = (1+x)^{\\frac{2}{x}}$: $\\lim\\limits_{{x}\\to {0}} x = 7.39$\n"
   ]
  },
  {
   "cell_type": "code",
   "execution_count": 56,
   "metadata": {},
   "outputs": [
    {
     "output_type": "display_data",
     "data": {
      "text/plain": "<IPython.core.display.Markdown object>",
      "text/markdown": "25) $i(x) = (1+x)^{\\frac{4}{x}}$\n"
     },
     "metadata": {}
    }
   ],
   "source": [
    "%%markdown\n",
    "25) $i(x) = (1+x)^{\\frac{4}{x}}$\n"
   ]
  },
  {
   "cell_type": "code",
   "execution_count": 65,
   "metadata": {},
   "outputs": [
    {
     "output_type": "display_data",
     "data": {
      "text/plain": "<IPython.core.display.Markdown object>",
      "text/markdown": "27) 27. Based on the pattern you observed in the exercises above, make a conjecture as to the limit of $f(x) = (1+x)^{\\frac{6}{x}},\\ g(x)=(1+x)^{\\frac{7}{x}},\\ and\\ h(x)=(1+x)^{\\frac{n}{x}}$\n#answer: The above mentioned functions have a common two sided limit which is $\\lim\\limits_{{x}\\to {0}}\\ x=1$\n"
     },
     "metadata": {}
    }
   ],
   "source": [
    "%%markdown\n",
    "27) 27. Based on the pattern you observed in the exercises above, make a conjecture as to the limit of $f(x) = (1+x)^{\\frac{6}{x}},\\ g(x)=(1+x)^{\\frac{7}{x}},\\ and\\ h(x)=(1+x)^{\\frac{n}{x}}$\n",
    "#answer: The above mentioned functions have a common two sided limit which is $\\lim\\limits_{{x}\\to {0}}\\ f(x), g(x) and h(x) = 1$\n"
   ]
  },
  {
   "cell_type": "code",
   "execution_count": 14,
   "metadata": {},
   "outputs": [
    {
     "output_type": "display_data",
     "data": {
      "text/plain": "<IPython.core.display.Markdown object>",
      "text/markdown": "For the following exercises, use numerical evidence to determine whether the limit exists at x = a. If not, describe the\nbehavior of the graph of the function near x = a. Round answers to two decimal places.\n\n"
     },
     "metadata": {}
    }
   ],
   "source": [
    "%%markdown\n",
    "For the following exercises, use numerical evidence to determine whether the limit exists at x = a. If not, describe the\n",
    "behavior of the graph of the function near x = a. Round answers to two decimal places.\n",
    "\n"
   ]
  },
  {
   "cell_type": "code",
   "execution_count": 68,
   "metadata": {},
   "outputs": [
    {
     "output_type": "display_data",
     "data": {
      "text/plain": "<IPython.core.display.Markdown object>",
      "text/markdown": "31) $f(x) = \\frac{x^2-x-6}{x^2-9};\\ a=3$\n### ======\n### Left Hand\n### ======\n### input: 2.9\n### \t output: 0.29\n### *********\n### input: 2.99\n### \t output: 0.0\n### *********\n### ======\n### Right Hand\n### ======\n### input: 2.9\n### \t output: 0.31\n### *********\n### input: 2.99\n### \t output: 0.0\n### *********\n# answer: a limit exists at a = 3\n"
     },
     "metadata": {}
    }
   ],
   "source": [
    "%%markdown\n",
    "31) $f(x) = \\frac{x^2-x-6}{x^2-9};\\ a=3$\n",
    "#======\n",
    "#Left Hand\n",
    "#======\n",
    "#input: 2.9\n",
    "#\t output: 0.83\n",
    "#*********\n",
    "#input: 2.99\n",
    "#\t output: 0.83\n",
    "#*********\n",
    "#======\n",
    "#Right Hand\n",
    "#======\n",
    "#input: 2.9\n",
    "#\t output: 0.84\n",
    "#*********\n",
    "#input: 2.99\n",
    "#\t output: 0.83\n",
    "#*********\n",
    "# answer: a limit exists at a = 3"
   ]
  },
  {
   "cell_type": "code",
   "execution_count": 16,
   "metadata": {},
   "outputs": [
    {
     "output_type": "display_data",
     "data": {
      "text/plain": "<IPython.core.display.Markdown object>",
      "text/markdown": "33) $f(x) = \\frac{x^21}{x^2-3x+2};\\ a=1$\n"
     },
     "metadata": {}
    }
   ],
   "source": [
    "%%markdown\n",
    "33) $f(x) = \\frac{x^{21}}{x^2-3x+2};\\ a=1$\n",
    "# answer: the function has no defined limit, behavior is described as followed\n",
    "### ======\n",
    "### Left Hand\n",
    "### ======\n",
    "### input: 0.9\n",
    "### \t output: 0.99\n",
    "### xxxxxxxxx\n",
    "### input: 0.99\n",
    "### \t output: 80.17\n",
    "### xxxxxxxxx\n",
    "### ======\n",
    "### Right Hand\n",
    "### ======\n",
    "### input: 0.9\n",
    "### \t output: -82.22\n",
    "### xxxxxxxxx\n",
    "### input: 0.99\n",
    "### \t output: -124.48\n",
    "### xxxxxxxxx\n",
    "\n"
   ]
  },
  {
   "cell_type": "code",
   "execution_count": 17,
   "metadata": {},
   "outputs": [
    {
     "output_type": "display_data",
     "data": {
      "text/plain": "<IPython.core.display.Markdown object>",
      "text/markdown": "35) $f(x) = \\frac{10-10x^2}{x^2-3x+2};\\ a=1$\n"
     },
     "metadata": {}
    }
   ],
   "source": [
    "%%markdown\n",
    "35) $f(x) = \\frac{10-10x^2}{x^2-3x+2};\\ a=1$\n",
    "#answer: the function has no defined limit\n",
    "### ======\n",
    "### Left Hand\n",
    "### ======\n",
    "### 1) input: 0.9\n",
    "### \t output: 17.27\n",
    "### xxxxxxxxx\n",
    "### 2) input: 0.99\n",
    "### \t output: 19.7\n",
    "### xxxxxxxxx\n",
    "### ======\n",
    "### Right Hand\n",
    "### ======\n",
    "### 1) input: 0.9\n",
    "### \t output: 23.33\n",
    "### xxxxxxxxx\n",
    "### 2) input: 0.99\n",
    "### \t output: 20.3\n",
    "### xxxxxxxxx\n"
   ]
  },
  {
   "cell_type": "code",
   "execution_count": 18,
   "metadata": {},
   "outputs": [
    {
     "output_type": "display_data",
     "data": {
      "text/plain": "<IPython.core.display.Markdown object>",
      "text/markdown": "37) $f(x) = \\frac{x}{4x^2+4x+1};\\ a=-\\frac{1}{2}$\n\n"
     },
     "metadata": {}
    }
   ],
   "source": [
    "%%markdown\n",
    "37) $f(x) = \\frac{x}{4x^2+4x+1};\\ a=-\\frac{1}{2}$\n",
    "#the function has no defined limit\n",
    "### ======\n",
    "### Left Hand\n",
    "### ======\n",
    "### 1) input: -0.6\n",
    "### \t output: -15.0\n",
    "### xxxxxxxxx\n",
    "### 2) input: -0.51\n",
    "### \t output: -1275.0\n",
    "### xxxxxxxxx\n",
    "### ======\n",
    "### Right Hand\n",
    "### ======\n",
    "### 1) input: -0.6\n",
    "### \t output: -10.0\n",
    "### xxxxxxxxx\n",
    "### 2) input: -0.51\n",
    "### \t output: -1225.0\n",
    "### xxxxxxxxx\n",
    "-50.0\n"
   ]
  },
  {
   "cell_type": "code",
   "execution_count": 19,
   "metadata": {},
   "outputs": [
    {
     "output_type": "display_data",
     "data": {
      "text/plain": "<IPython.core.display.Markdown object>",
      "text/markdown": "\nFor the following exercises, use a calculator to estimate the limit by preparing a table of values. If there is no limit,\ndescribe the behavior of the function as x approaches the given value.\n\n"
     },
     "metadata": {}
    }
   ],
   "source": [
    "%%markdown\n",
    "\n",
    "For the following exercises, use a calculator to estimate the limit by preparing a table of values. If there is no limit,\n",
    "describe the behavior of the function as x approaches the given value.\n",
    "\n"
   ]
  },
  {
   "cell_type": "code",
   "execution_count": 92,
   "metadata": {},
   "outputs": [
    {
     "output_type": "display_data",
     "data": {
      "text/plain": "<IPython.core.display.Markdown object>",
      "text/markdown": "40) $\\lim\\limits_{{x}\\to {0}} \\frac{7\\tan (x)}{3*x}$\n"
     },
     "metadata": {}
    }
   ],
   "source": [
    "%%markdown\n",
    "40) $\\lim\\limits_{{x}\\to {0}} \\frac{7\\tan (x)}{3*x}$ \n",
    "# answer: the function has defined limit at a = 0 f(a) = 2.33\n"
   ]
  },
  {
   "cell_type": "code",
   "execution_count": 21,
   "metadata": {},
   "outputs": [
    {
     "output_type": "display_data",
     "data": {
      "text/plain": "<IPython.core.display.Markdown object>",
      "text/markdown": "41) $\\lim\\limits_{{x}\\to {0}} \\frac{2 \\sin  (x)}{4\\tan (x)}$\n\n"
     },
     "metadata": {}
    }
   ],
   "source": [
    "%%markdown\n",
    "41) $\\lim\\limits_{{x}\\to {0}} \\frac{2 \\sin  (x)}{4\\tan (x)}$\n",
    "# answer: the function has a defined limit at  a = 0 which is f(x) = 0.5\n",
    "\n"
   ]
  },
  {
   "cell_type": "code",
   "execution_count": 105,
   "metadata": {},
   "outputs": [
    {
     "output_type": "display_data",
     "data": {
      "text/plain": "<IPython.core.display.Markdown object>",
      "text/markdown": "\n51. According to the Theory of Relativity, the mass $m$ of a particle depends on its velocity $v$.\n<br> That is where $m_0$ is the mass when the particle is at rest and $c$ is the speed of light.\n<br> Find the limit of the mass, $m$, as $v$ approaches $c^−$ .\n## $m = \\frac{m_0}{\\sqrt{1-\\frac{v^2}{c^2}}}$\n# answer: as $v$ approaches $c^-$ the expression in the root is approaching 0, which produces a denominator which is approaching to 0. when $m_0$ is divided by that expression m is approaching a positive infinity\n"
     },
     "metadata": {}
    }
   ],
   "source": [
    "%%markdown\n",
    "\n",
    "51. According to the Theory of Relativity, the mass $m$ of a particle depends on its velocity $v$.\n",
    "<br> That is where $m_0$ is the mass when the particle is at rest and $c$ is the speed of light.\n",
    "<br> Find the limit of the mass, $m$, as $v$ approaches $c^−$ .\n",
    "## $m = \\frac{m_0}{\\sqrt{1-\\frac{v^2}{c^2}}}$\n",
    "# answer: as $v$ approaches $c^-$ the expression in the root is approaching 0, which produces a denominator which is approaching to 0. when $m_0$ is divided by that expression m is approaching a positive infinity\n"
   ]
  },
  {
   "cell_type": "code",
   "execution_count": 106,
   "metadata": {},
   "outputs": [
    {
     "output_type": "display_data",
     "data": {
      "text/plain": "<IPython.core.display.Markdown object>",
      "text/markdown": "52) Allow the speed of light, $c$, to be equal to 1.0.\n<br> If the mass, m, is 1, what occurs to $m$ as $v → c$? Using the\n<br> values listed in Table 1, make a conjecture as to what\n<br> the mass is as $v$ approaches 1.00.\n# answer: The mass will increase and approach infinity\n"
     },
     "metadata": {}
    }
   ],
   "source": [
    "%%markdown\n",
    "52) Allow the speed of light, $c$, to be equal to 1.0.\n",
    "<br> If the mass, m, is 1, what occurs to $m$ as $v → c$? Using the\n",
    "<br> values listed in Table 1, make a conjecture as to what\n",
    "<br> the mass is as $v$ approaches 1.00.\n",
    "# answer: The mass will increase and approach infinity"
   ]
  },
  {
   "cell_type": "code",
   "execution_count": 97,
   "metadata": {},
   "outputs": [
    {
     "output_type": "stream",
     "name": "stdout",
     "text": [
      "### ======\n### Left Hand\n### ======\n### 1) input: -0.1\n### \t output: 0.5\n### xxxxxxxxx\n### 2) input: -0.01\n### \t output: 0.5\n### xxxxxxxxx\n### 3) input: -0.001\n### \t output: 0.5\n### xxxxxxxxx\n### 4) input: -0.0001\n### \t output: 0.5\n### xxxxxxxxx\n### 5) input: -1e-05\n### \t output: 0.5\n### xxxxxxxxx\n### ======\n### Right Hand\n### ======\n### 1) input: -0.1\n### \t output: 0.5\n### xxxxxxxxx\n### 2) input: -0.01\n### \t output: 0.5\n### xxxxxxxxx\n### 3) input: -0.001\n### \t output: 0.5\n### xxxxxxxxx\n### 4) input: -0.0001\n### \t output: 0.5\n### xxxxxxxxx\n### 5) input: -1e-05\n### \t output: 0.5\n### xxxxxxxxx\n"
     ]
    }
   ],
   "source": [
    "# \\frac{}{}\n",
    "# $\\lim\\limits_{{}\\to {}}$\n",
    "def func(x):\n",
    "    return (x))/(np.sqrt(1-()/))\n",
    "\n",
    "def limit(a, dec):\n",
    "    left = 0\n",
    "    right = 0\n",
    "    #Left hand\n",
    "    print(\"### ======\\n### Left Hand\\n### ======\")\n",
    "    for i in range (1, dec+1):\n",
    "        print(\"### \"+str(i)+\") input: \"+str(a-10**(-i)))\n",
    "        print(\"### \\t output: \"+str(round(func(a-10**(-i)), 2)))\n",
    "        print(\"### \" +\"x\"*9)\n",
    "        if i == dec:\n",
    "            left = round(func(a-10**(-i)), 2)\n",
    "    #Right hand\n",
    "    print(\"### ======\\n### Right Hand\\n### ======\")\n",
    "    for i in range (1, dec+1):\n",
    "        print(\"### \"+str(i)+\") input: \"+str(a-10**(-i)))\n",
    "        print(\"### \\t output: \"+str(round(func(a+10**(-i)), 2)))\n",
    "        print(\"### \"+\"x\"*9)\n",
    "        if i == dec:\n",
    "            right = round(func(a+10**(-i)), 2)\n",
    "    # print(left-right)\n",
    "\n",
    "limit(0, 5)"
   ]
  }
 ]
}