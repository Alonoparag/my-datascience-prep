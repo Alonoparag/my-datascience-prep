{
 "metadata": {
  "language_info": {
   "codemirror_mode": {
    "name": "ipython",
    "version": 3
   },
   "file_extension": ".py",
   "mimetype": "text/x-python",
   "name": "python",
   "nbconvert_exporter": "python",
   "pygments_lexer": "ipython3",
   "version": "3.8.6-final"
  },
  "orig_nbformat": 2,
  "kernelspec": {
   "name": "python3",
   "display_name": "Python 3"
  }
 },
 "nbformat": 4,
 "nbformat_minor": 2,
 "cells": [
  {
   "cell_type": "code",
   "execution_count": 90,
   "metadata": {},
   "outputs": [],
   "source": [
    "import numpy as np\n",
    "import math"
   ]
  },
  {
   "cell_type": "code",
   "execution_count": 16,
   "metadata": {},
   "outputs": [
    {
     "output_type": "display_data",
     "data": {
      "text/plain": "<IPython.core.display.Markdown object>",
      "text/markdown": "1. Give an example of a type of function f whose limit,\nas x approaches a, is f (a).\n# answer: $f(x) =\\frac{1}{x} $\n2. When direct substitution is used to evaluate the limit\nof a rational function as x approaches a and the\nresult is $f(a) =\\frac{0}{0}$​, does this mean that the limit of f does not exist?\n# answer: \n3. What does it mean to say the limit of f (x), as x\napproaches c, is undefined?\n# answer: \n\n\n\n"
     },
     "metadata": {}
    }
   ],
   "source": [
    "%%markdown\n",
    "1. Give an example of a type of function f whose limit,\n",
    "as x approaches a, is f (a).\n",
    "# answer: $f(x) =\\frac{1}{x} $\n",
    "2. When direct substitution is used to evaluate the limit\n",
    "of a rational function as x approaches a and the\n",
    "result is $f(a) =\\frac{0}{0}$​, does this mean that the limit of f does not exist?\n",
    "# answer: no, because limit is defined when the right hand limit and left hand limits are equal\n",
    "3. What does it mean to say the limit of f (x), as x\n",
    "approaches c, is undefined?\n",
    "# answer: it either means that the value of either side increase without bound, or that the limits of either side are not equal\n",
    "\n",
    "\n"
   ]
  },
  {
   "cell_type": "code",
   "execution_count": 9,
   "metadata": {},
   "outputs": [
    {
     "output_type": "display_data",
     "data": {
      "text/plain": "<IPython.core.display.Markdown object>",
      "text/markdown": "For the following exercises, evaluate the limits algebraically.\n\n"
     },
     "metadata": {}
    }
   ],
   "source": [
    "%%markdown\n",
    "For the following exercises, evaluate the limits algebraically.\n",
    "\n"
   ]
  },
  {
   "cell_type": "code",
   "execution_count": 23,
   "metadata": {},
   "outputs": [
    {
     "output_type": "display_data",
     "data": {
      "text/plain": "<IPython.core.display.Markdown object>",
      "text/markdown": "5) $\\lim\\limits_{{ x}\\to{2}} (\\frac{-5x}{x^2-1})$\n#### $\\lim\\limits_{{ x}\\to{2}} (\\frac{(lim(-5)*lim(x)}{((lim(x))^2-lim1)})$\n#### $\\lim\\limits_{{ x}\\to{2}} (\\frac{-5*2}{4-1}) \\rightarrow -\\frac{10}{3}$\n"
     },
     "metadata": {}
    }
   ],
   "source": [
    "%%markdown\n",
    "5) $\\lim\\limits_{{ x}\\to{2}} (\\frac{-5x}{x^2-1})$\n",
    "#### $\\lim\\limits_{{ x}\\to{2}} (\\frac{(lim(-5)*lim(x)}{((lim(x))^2-lim1)})$\n",
    "#### $\\lim\\limits_{{ x}\\to{2}} (\\frac{-5*2}{4-1}) \\rightarrow -\\frac{10}{3}$"
   ]
  },
  {
   "cell_type": "code",
   "execution_count": 6,
   "metadata": {},
   "outputs": [
    {
     "output_type": "display_data",
     "data": {
      "text/plain": "<IPython.core.display.Markdown object>",
      "text/markdown": "7) $\\lim\\limits_{{ x}\\to{3}} (\\frac{x^2-9}{x-3})$\n### $\\lim\\limits_{{ x}\\to{3}} (\\frac{lim(x)^2-lim(9)}{lim(x)-lim(3)})$\n### $\\lim\\limits_{{ x}\\to{3}} (\\frac{lim(x)^2-lim(9)}{lim(x)-lim(3)})$\n### $\\lim\\limits_{{ x}\\to{3}} (\\frac{(\\lim(x) + \\lim(3))(\\lim(x)-lim(3))}{lim(x)-lim(3)})$\n### $\\lim\\limits_{{ x}\\to{3}} (\\frac{(3+3)(3-3))}{(3-3)}) \\Rightarrow = 6$\n"
     },
     "metadata": {}
    }
   ],
   "source": [
    "%%markdown\n",
    "7) $\\lim\\limits_{{ x}\\to{3}} (\\frac{x^2-9}{x-3})$\n",
    "### $\\lim\\limits_{{ x}\\to{3}} (\\frac{lim(x)^2-lim(9)}{lim(x)-lim(3)})$\n",
    "### $\\lim\\limits_{{ x}\\to{3}} (\\frac{lim(x)^2-lim(9)}{lim(x)-lim(3)})$\n",
    "### $\\lim\\limits_{{ x}\\to{3}} (\\frac{(\\lim(x) + \\lim(3))(\\lim(x)-lim(3))}{lim(x)-lim(3)})$\n",
    "### $\\lim\\limits_{{ x}\\to{3}} (\\frac{(3+3)(3-3))}{(3-3)}) \\Rightarrow = 6$"
   ]
  },
  {
   "cell_type": "code",
   "execution_count": 19,
   "metadata": {},
   "outputs": [
    {
     "output_type": "display_data",
     "data": {
      "text/plain": "<IPython.core.display.Markdown object>",
      "text/markdown": "9) $\\lim\\limits_{{ x}\\to{\\frac{3}{2}}} (\\frac{6x^2-17x+12}{2x-3})$\n## $\\lim\\limits_{{ x}\\to{\\frac{2}{3}}} (\\frac{(\\lim(3)\\lim(x)-\\lim(4))(\\lim(2)\\lim(x)-\\lim(3))}{lim(2)*lim(x)-lim(3)})$\n## $\\lim\\limits_{{ x}\\to{\\frac{3}{2}}} (3\\cdot\\frac{3}{2}-4)$\n## $\\lim\\limits_{{ x}\\to{\\frac{3}{2}}} (\\frac{9-8}{2}-4) \\rightarrow \\frac{1}{2}$\n"
     },
     "metadata": {}
    }
   ],
   "source": [
    "%%markdown\n",
    "9) $\\lim\\limits_{{ x}\\to{\\frac{3}{2}}} (\\frac{6x^2-17x+12}{2x-3})$\n",
    "## $\\lim\\limits_{{ x}\\to{\\frac{2}{3}}} (\\frac{(\\lim(3)\\lim(x)-\\lim(4))(\\lim(2)\\lim(x)-\\lim(3))}{lim(2)*lim(x)-lim(3)})$\n",
    "## $\\lim\\limits_{{ x}\\to{\\frac{3}{2}}} (3\\cdot\\frac{3}{2}-4)$\n",
    "## $\\lim\\limits_{{ x}\\to{\\frac{3}{2}}} (\\frac{9-8}{2}-4) \\rightarrow \\frac{1}{2}$\n"
   ]
  },
  {
   "cell_type": "code",
   "execution_count": 21,
   "metadata": {},
   "outputs": [
    {
     "output_type": "display_data",
     "data": {
      "text/plain": "<IPython.core.display.Markdown object>",
      "text/markdown": "11) $\\lim\\limits_{{x }\\to{3}} (\\frac{x^2-9}{x^2-5x+6})$\n\n### $\\lim\\limits_{{x }\\to{3}} (\\frac{x^2-9}{x^2+x-6x+6})$\n### $\\lim\\limits_{{x }\\to{3}} (\\frac{(x+3)(x-3)}{(x-2)(x-3)})$\n### $\\lim\\limits_{{x }\\to{3}} (\\frac{(x+3)}{(x-2)})$\n"
     },
     "metadata": {}
    }
   ],
   "source": [
    "%%markdown\n",
    "11) $\\lim\\limits_{{x }\\to{3}} (\\frac{x^2-9}{x^2-5x+6})$\n",
    "\n",
    "### $\\lim\\limits_{{x }\\to{3}} (\\frac{x^2-9}{x^2+x-6x+6})$\n",
    "### $\\lim\\limits_{{x }\\to{3}} (\\frac{(x+3)(x-3)}{(x-2)(x-3)})$\n",
    "### $\\lim\\limits_{{x }\\to{3}} (\\frac{(\\lim(x)+\\lim(3))}{(\\lim(x)-\\lim(2))})$\n",
    "### $\\lim\\limits_{{x }\\to{3}} (\\frac{(3+3)}{(3-2)}) \\rightarrow 67$\n",
    "\n"
   ]
  },
  {
   "cell_type": "code",
   "execution_count": 70,
   "metadata": {},
   "outputs": [
    {
     "output_type": "display_data",
     "data": {
      "text/plain": "<IPython.core.display.Markdown object>",
      "text/markdown": "13) $\\lim\\limits_{{x }\\to{3}} (\\frac{x^2+2x-3}{x-3})$\n\n### $\\lim\\limits_{{x }\\to{3}} (\\frac{x^2+2x-3}{x-3})$\n### $\\lim\\limits_{{x }\\to{3}} (\\frac{(x+3)(x-1)}{x-3})$\n"
     },
     "metadata": {}
    }
   ],
   "source": [
    "%%markdown\n",
    "13) $\\lim\\limits_{{x }\\to{3}} (\\frac{x^2+2x-3}{x-3})$\n",
    "\n",
    "### $\\lim\\limits_{{x }\\to{3}} (\\frac{x^2+2x-3}{x-3})$\n",
    "### $\\lim\\limits_{{x }\\to{3}} (\\frac{(x+3)(x-1)}{x-3})$ undefined"
   ]
  },
  {
   "cell_type": "code",
   "execution_count": 37,
   "metadata": {},
   "outputs": [
    {
     "output_type": "display_data",
     "data": {
      "text/plain": "<IPython.core.display.Markdown object>",
      "text/markdown": "15) $\\lim\\limits_{{h }\\to{0}} (\\frac{(2-h)^3-8}{h})$\n######  1, 3, 3, 1\n######  1*2^3+3*2^2*(-h)+3*2*(-h)^2+1*(-h)^3\n## $\\lim\\limits_{{h }\\to{0}} (\\frac{1*2^3+3*2^2*(-h)+3*2*(-h)^2+1*(-h)^3-8}{h})$\n## $\\lim\\limits_{{h }\\to{0}} (\\frac{8-12h+6h^2-h^3-8}{h})$\n## $\\lim\\limits_{{h }\\to{0}} (\\frac{-12h+6h^2-h^3}{h})$\n## $ -12+6h-h^2$\n## $ -12+6\\cdot0-0^2 \\rightarrow -12$\n"
     },
     "metadata": {}
    }
   ],
   "source": [
    "%%markdown\n",
    "15) $\\lim\\limits_{{h }\\to{0}} (\\frac{(2-h)^3-8}{h})$\n",
    "######  1, 3, 3, 1\n",
    "######  1*2^3+3*2^2*(-h)+3*2*(-h)^2+1*(-h)^3\n",
    "## $\\lim\\limits_{{h }\\to{0}} (\\frac{1*2^3+3*2^2*(-h)+3*2*(-h)^2+1*(-h)^3-8}{h})$\n",
    "## $\\lim\\limits_{{h }\\to{0}} (\\frac{8-12h+6h^2-h^3-8}{h})$\n",
    "## $\\lim\\limits_{{h }\\to{0}} (\\frac{-12h+6h^2-h^3}{h})$\n",
    "## $ -12+6h-h^2$\n",
    "## $ -12+6\\cdot0-0^2 \\rightarrow -12$\n"
   ]
  },
  {
   "cell_type": "code",
   "execution_count": 59,
   "metadata": {},
   "outputs": [
    {
     "output_type": "display_data",
     "data": {
      "text/plain": "<IPython.core.display.Markdown object>",
      "text/markdown": "17) $\\lim\\limits_{{h }\\to{0}} (\\frac{\\sqrt{5-h}-\\sqrt{5}}{h})$\n## $(\\frac{\\sqrt{5-h}-\\sqrt{5}}{h}\\cdot\\frac{\\sqrt{5-h}+\\sqrt{5}}{\\sqrt{5-h}+\\sqrt{5}})$\n## $\\frac{5-h-5}{h(\\sqrt{5-h}+\\sqrt{5})}$\n## $\\frac{-h}{h(\\sqrt{5-h}+\\sqrt{5})}$\n## $\\frac{-1}{(\\sqrt{5-h}+\\sqrt{5})}$\n## $\\frac{-1}{\\sqrt{5-0}+\\sqrt{5}}$\n## $\\frac{-1}{2\\cdot\\sqrt{5}}$\n## $\\frac{-\\sqrt{5}}{10}$\n\n"
     },
     "metadata": {}
    }
   ],
   "source": [
    "%%markdown\n",
    "17) $\\lim\\limits_{{h }\\to{0}} (\\frac{\\sqrt{5-h}-\\sqrt{5}}{h})$\n",
    "## $(\\frac{\\sqrt{5-h}-\\sqrt{5}}{h}\\cdot\\frac{\\sqrt{5-h}+\\sqrt{5}}{\\sqrt{5-h}+\\sqrt{5}})$\n",
    "## $\\frac{5-h-5}{h(\\sqrt{5-h}+\\sqrt{5})}$\n",
    "## $\\frac{-h}{h(\\sqrt{5-h}+\\sqrt{5})}$\n",
    "## $\\frac{-1}{(\\sqrt{5-h}+\\sqrt{5})}$\n",
    "## $\\frac{-1}{\\sqrt{5-0}+\\sqrt{5}}$\n",
    "## $\\frac{-1}{2\\cdot\\sqrt{5}}$\n",
    "## $\\frac{-\\sqrt{5}}{10}$\n",
    "\n"
   ]
  },
  {
   "cell_type": "code",
   "execution_count": 76,
   "metadata": {},
   "outputs": [
    {
     "output_type": "display_data",
     "data": {
      "text/plain": "<IPython.core.display.Markdown object>",
      "text/markdown": "19) $\\lim\\limits_{{x }\\to{9}} (\\frac{x^2-81}{3-\\sqrt{x}})$\n## $\\lim\\limits_{{x }\\to{9}} (\\frac{(x-9)(x+9)}{3-\\sqrt{x}}\\cdot\\frac{3+\\sqrt{x}}{3+\\sqrt{x}})$\n## $\\lim\\limits_{{x }\\to{9}} (\\frac{(x-9)(x+9)(3+\\sqrt{x})}{9-x})$\n## $\\lim\\limits_{{x }\\to{9}} (\\frac{-(9-x)(x+9)(3+\\sqrt{x})}{9-x})$\n## $-(x+9)(3+\\sqrt{x})$\n## $-(9+9)(3+\\sqrt{9}) \\rightarrow -108$\n\n"
     },
     "metadata": {}
    }
   ],
   "source": [
    "%%markdown\n",
    "19) $\\lim\\limits_{{x }\\to{9}} (\\frac{x^2-81}{3-\\sqrt{x}})$\n",
    "## $\\lim\\limits_{{x }\\to{9}} (\\frac{(x-9)(x+9)}{3-\\sqrt{x}}\\cdot\\frac{3+\\sqrt{x}}{3+\\sqrt{x}})$\n",
    "## $\\lim\\limits_{{x }\\to{9}} (\\frac{(x-9)(x+9)(3+\\sqrt{x})}{9-x})$\n",
    "## $\\lim\\limits_{{x }\\to{9}} (\\frac{-(9-x)(x+9)(3+\\sqrt{x})}{9-x})$\n",
    "## $-(x+9)(3+\\sqrt{x})$\n",
    "## $-(9+9)(3+\\sqrt{9}) \\rightarrow -108$\n",
    "\n"
   ]
  },
  {
   "cell_type": "code",
   "execution_count": 86,
   "metadata": {},
   "outputs": [
    {
     "output_type": "display_data",
     "data": {
      "text/plain": "<IPython.core.display.Markdown object>",
      "text/markdown": "21) $\\lim\\limits_{{x }\\to{0}} (\\frac{x}{\\sqrt{1+2x}-1})$ \n## $\\frac{x}{\\sqrt{1+2x}-1}\\cdot\\frac{\\sqrt{1+2x}+1}{\\sqrt{1+2x}+1}$\n## $\\frac{x{\\sqrt{1+2x}+1}}{1+2x-1}$\n## $\\frac{x{\\sqrt{1+2x}+1}}{2x}$\n## $\\frac{{\\sqrt{1+2x}+1}}{2}$\n## $\\frac{{\\sqrt{1+2(0)}+1}}{2}$\n"
     },
     "metadata": {}
    }
   ],
   "source": [
    "%%markdown\n",
    "21) $\\lim\\limits_{{x }\\to{0}} (\\frac{x}{\\sqrt{1+2x}-1})$ \n",
    "## $\\frac{x}{\\sqrt{1+2x}-1}\\cdot\\frac{\\sqrt{1+2x}+1}{\\sqrt{1+2x}+1}$\n",
    "## $\\frac{x{\\sqrt{1+2x}+1}}{1+2x-1}$\n",
    "## $\\frac{x{\\sqrt{1+2x}+1}}{2x}$\n",
    "## $\\frac{{\\sqrt{1+2x}+1}}{2}$\n",
    "## $\\frac{{\\sqrt{1+2(0)}+1}}{2} \\rightarrow 1$\n"
   ]
  },
  {
   "cell_type": "code",
   "execution_count": 101,
   "metadata": {},
   "outputs": [
    {
     "output_type": "display_data",
     "data": {
      "text/plain": "<IPython.core.display.Markdown object>",
      "text/markdown": "23) $\\lim\\limits_{{x }\\to{4}} (\\frac{x^3-64}{x^2-16})$\n## $\\frac{x^3-64}{x^2-16}$\n## $\\frac{(x-4)(x^2+4x+16)}{(x+4)(x-4)}$\n## $\\frac{(x^2+4x+16)}{(x+4)}$\n## $\\frac{((4)^2+4(4)+16)}{((4)+4)}$\n## $\\frac{(16+16+16}{((4)+8)}$\n## $\\frac{48}{8} \\rightarrow 6$ \n\n\n"
     },
     "metadata": {}
    }
   ],
   "source": [
    "%%markdown\n",
    "23) $\\lim\\limits_{{x }\\to{4}} (\\frac{x^3-64}{x^2-16})$\n",
    "## $\\frac{x^3-64}{x^2-16}$\n",
    "## $\\frac{(x-4)(x^2+4x+16)}{(x+4)(x-4)}$\n",
    "## $\\frac{(x^2+4x+16)}{(x+4)}$\n",
    "## $\\frac{((4)^2+4(4)+16)}{((4)+4)}$\n",
    "## $\\frac{(16+16+16}{((4)+8)}$\n",
    "## $\\frac{48}{8} \\rightarrow 6$ \n",
    "\n",
    "\n"
   ]
  },
  {
   "cell_type": "code",
   "execution_count": 106,
   "metadata": {},
   "outputs": [
    {
     "output_type": "display_data",
     "data": {
      "text/plain": "<IPython.core.display.Markdown object>",
      "text/markdown": "25) $\\lim\\limits_{{x }\\to{2^+}} (\\frac{|x-2|}{x-2})$\n### Right Hand\n### ======\n### 1) input: 1.9\n### \t output: 1.0\n### xxxxxxxxx\n### 2) input: 1.99\n### \t output: 1.0\n### xxxxxxxxx\n### 3) input: 1.999\n### \t output: 1.0\n### xxxxxxxxx\n### 4) input: 1.9999\n### \t output: 1.0\n### xxxxxxxxx\n### 5) input: 1.99999\n### \t output: 1.0\n### xxxxxxxxx\n#: answer $\\lim\\limits_{{x }\\to{2^+}} =1$\n"
     },
     "metadata": {}
    }
   ],
   "source": [
    "%%markdown\n",
    "25) $\\lim\\limits_{{x }\\to{2^+}} (\\frac{|x-2|}{x-2})$\n",
    "### Right Hand\n",
    "### ======\n",
    "### 1) input: 1.9\n",
    "### \t output: 1.0\n",
    "### xxxxxxxxx\n",
    "### 2) input: 1.99\n",
    "### \t output: 1.0\n",
    "### xxxxxxxxx\n",
    "### 3) input: 1.999\n",
    "### \t output: 1.0\n",
    "### xxxxxxxxx\n",
    "### 4) input: 1.9999\n",
    "### \t output: 1.0\n",
    "### xxxxxxxxx\n",
    "### 5) input: 1.99999\n",
    "### \t output: 1.0\n",
    "### xxxxxxxxx\n",
    "#: answer $\\lim\\limits_{{x }\\to{2^+}} =1$"
   ]
  },
  {
   "cell_type": "code",
   "execution_count": 110,
   "metadata": {},
   "outputs": [
    {
     "output_type": "display_data",
     "data": {
      "text/plain": "<IPython.core.display.Markdown object>",
      "text/markdown": "27) $\\lim\\limits_{{x }\\to{4^-}} (\\frac{|x-4|}{4-x})$\n### ======\n### Left Hand\n### ======\n### 1) input: 1.9\n### \t output: 1.0\n### xxxxxxxxx\n### 2) input: 1.99\n### \t output: 1.0\n### xxxxxxxxx\n### 3) input: 1.999\n### \t output: 1.0\n### xxxxxxxxx\n### 4) input: 1.9999\n### \t output: 1.0\n### xxxxxxxxx\n### 5) input: 1.99999\n### \t output: 1.0\n### xxxxxxxxx\n### ======\n# answer: $\\lim\\limits_{{x }\\to{4^-}}=1$\n"
     },
     "metadata": {}
    }
   ],
   "source": [
    "%%markdown\n",
    "27) $\\lim\\limits_{{x }\\to{4^-}} (\\frac{|x-4|}{4-x})$\n",
    "### ======\n",
    "### Left Hand\n",
    "### ======\n",
    "### 1) input: 1.9\n",
    "### \t output: 1.0\n",
    "### xxxxxxxxx\n",
    "### 2) input: 1.99\n",
    "### \t output: 1.0\n",
    "### xxxxxxxxx\n",
    "### 3) input: 1.999\n",
    "### \t output: 1.0\n",
    "### xxxxxxxxx\n",
    "### 4) input: 1.9999\n",
    "### \t output: 1.0\n",
    "### xxxxxxxxx\n",
    "### 5) input: 1.99999\n",
    "### \t output: 1.0\n",
    "### xxxxxxxxx\n",
    "### ======\n",
    "# answer: $\\lim\\limits_{{x }\\to{4^-}}=1$\n"
   ]
  },
  {
   "cell_type": "code",
   "execution_count": 113,
   "metadata": {},
   "outputs": [
    {
     "output_type": "display_data",
     "data": {
      "text/plain": "<IPython.core.display.Markdown object>",
      "text/markdown": "29) $\\lim\\limits_{{x }\\to{4}} (\\frac{|x-4|}{4-x})$\n### ======\n### Left Hand\n### ======\n### 1) input: 3.9\n### \t output: 1.0\n### xxxxxxxxx\n### 2) input: 3.99\n### \t output: 1.0\n### xxxxxxxxx\n### 3) input: 3.999\n### \t output: 1.0\n### xxxxxxxxx\n### 4) input: 3.9999\n### \t output: 1.0\n### xxxxxxxxx\n### 5) input: 3.99999\n### \t output: 1.0\n### xxxxxxxxx\n### ======\n### Right Hand\n### ======\n### 1) input: 3.9\n### \t output: -1.0\n### xxxxxxxxx\n### 2) input: 3.99\n### \t output: -1.0\n### xxxxxxxxx\n### 3) input: 3.999\n### \t output: -1.0\n### xxxxxxxxx\n### 4) input: 3.9999\n### \t output: -1.0\n### xxxxxxxxx\n### 5) input: 3.99999\n### \t output: -1.0\n### xxxxxxxxx\n# answer:  no defined limit for a = 4\n"
     },
     "metadata": {}
    }
   ],
   "source": [
    "%%markdown\n",
    "29) $\\lim\\limits_{{x }\\to{4}} (\\frac{|x-4|}{4-x})$\n",
    "### ======\n",
    "### Left Hand\n",
    "### ======\n",
    "### 1) input: 3.9\n",
    "### \t output: 1.0\n",
    "### xxxxxxxxx\n",
    "### 2) input: 3.99\n",
    "### \t output: 1.0\n",
    "### xxxxxxxxx\n",
    "### 3) input: 3.999\n",
    "### \t output: 1.0\n",
    "### xxxxxxxxx\n",
    "### 4) input: 3.9999\n",
    "### \t output: 1.0\n",
    "### xxxxxxxxx\n",
    "### 5) input: 3.99999\n",
    "### \t output: 1.0\n",
    "### xxxxxxxxx\n",
    "### ======\n",
    "### Right Hand\n",
    "### ======\n",
    "### 1) input: 3.9\n",
    "### \t output: -1.0\n",
    "### xxxxxxxxx\n",
    "### 2) input: 3.99\n",
    "### \t output: -1.0\n",
    "### xxxxxxxxx\n",
    "### 3) input: 3.999\n",
    "### \t output: -1.0\n",
    "### xxxxxxxxx\n",
    "### 4) input: 3.9999\n",
    "### \t output: -1.0\n",
    "### xxxxxxxxx\n",
    "### 5) input: 3.99999\n",
    "### \t output: -1.0\n",
    "### xxxxxxxxx\n",
    "# answer:  no defined limit for a = 4\n"
   ]
  },
  {
   "cell_type": "code",
   "execution_count": 115,
   "metadata": {},
   "outputs": [
    {
     "output_type": "display_data",
     "data": {
      "text/plain": "<IPython.core.display.Markdown object>",
      "text/markdown": "For the following exercise, use the given information to evaluate the limits: $\\lim\\limits_{{x }\\to{c}}f(x) = 3 $ ; $\\lim\\limits_{{x }\\to{c}}g(x) = 5 $\n\n"
     },
     "metadata": {}
    }
   ],
   "source": [
    "%%markdown\n",
    "For the following exercise, use the given information to evaluate the limits: $\\lim\\limits_{{x }\\to{c}}f(x) = 3 $ ; $\\lim\\limits_{{x }\\to{c}}g(x) = 5 $\n",
    "\n"
   ]
  },
  {
   "cell_type": "code",
   "execution_count": 121,
   "metadata": {},
   "outputs": [
    {
     "output_type": "display_data",
     "data": {
      "text/plain": "<IPython.core.display.Markdown object>",
      "text/markdown": "31)$\\lim\\limits_{{x }\\to{c}}[2(fx) + \\sqrt{g(x)]} $\n## $2*3 + \\sqrt{5} $\n## $6 + \\sqrt{5} $\n"
     },
     "metadata": {}
    }
   ],
   "source": [
    "%%markdown\n",
    "31)$\\lim\\limits_{{x }\\to{c}}[2(fx) + \\sqrt{g(x)]} $\n",
    "## $2*3 + \\sqrt{5} $\n",
    "## $6 + \\sqrt{5} $\n"
   ]
  },
  {
   "cell_type": "code",
   "execution_count": 124,
   "metadata": {},
   "outputs": [
    {
     "output_type": "display_data",
     "data": {
      "text/plain": "<IPython.core.display.Markdown object>",
      "text/markdown": "33)$\\lim\\limits_{{x}\\to{c}}\\frac{f(x)}{g(x)} $\n## $ \\frac{f(x)}{g(x)}$\n## $ \\frac{3}{5}$\n"
     },
     "metadata": {}
    }
   ],
   "source": [
    "%%markdown\n",
    "33)$\\lim\\limits_{{x}\\to{c}}\\frac{f(x)}{g(x)} $\n",
    "## $ \\frac{f(x)}{g(x)}$\n",
    "## $ \\frac{3}{5}$"
   ]
  },
  {
   "cell_type": "code",
   "execution_count": null,
   "metadata": {},
   "outputs": [],
   "source": [
    "\n",
    "%%markdown\n",
    "For the following exercises, evaluate the following limits.\n"
   ]
  },
  {
   "cell_type": "code",
   "execution_count": 129,
   "metadata": {},
   "outputs": [
    {
     "output_type": "execute_result",
     "data": {
      "text/plain": [
       "-2.4492935982947064e-16"
      ]
     },
     "metadata": {},
     "execution_count": 129
    }
   ],
   "source": [
    "np.sin(2*np.pi) "
   ]
  },
  {
   "cell_type": "code",
   "execution_count": 131,
   "metadata": {},
   "outputs": [
    {
     "output_type": "display_data",
     "data": {
      "text/plain": "<IPython.core.display.Markdown object>",
      "text/markdown": "35) $\\lim\\limits_{{ x}\\to{2}} sin(\\pi x)$\n## $  sin(\\pi \\cdot2) \\rightarrow 0$\n"
     },
     "metadata": {}
    }
   ],
   "source": [
    "%%markdown\n",
    "35) $\\lim\\limits_{{ x}\\to{2}} sin(\\pi x)$\n",
    "## $  sin(\\pi \\cdot2) \\rightarrow 0$\n"
   ]
  },
  {
   "cell_type": "code",
   "execution_count": 134,
   "metadata": {},
   "outputs": [
    {
     "output_type": "display_data",
     "data": {
      "text/plain": "<IPython.core.display.Markdown object>",
      "text/markdown": "37) $f(x) = \\begin{cases}2x^2+2x+1,\\ x\\le0\\\\ x-3,\\ x>0\\end{cases}\\lim\\limits_{{x }\\to{0^+}}f(x) $\n## $ x-3 \\rightarrow -3$\n\n"
     },
     "metadata": {}
    }
   ],
   "source": [
    "%%markdown\n",
    "37) $f(x) = \\begin{cases}2x^2+2x+1,\\ x\\le0\\\\ x-3,\\ x>0\\end{cases}\\lim\\limits_{{x }\\to{0^+}}f(x) $\n",
    "## $ x-3 \\rightarrow -3$\n",
    "\n"
   ]
  },
  {
   "cell_type": "code",
   "execution_count": 136,
   "metadata": {},
   "outputs": [
    {
     "output_type": "display_data",
     "data": {
      "text/plain": "<IPython.core.display.Markdown object>",
      "text/markdown": "39) $f(x) = \\begin{cases}2x^2+2x+1,\\ x\\le0\\\\ x-3,\\ x>0\\end{cases}\\lim\\limits_{{x }\\to{0}}f(x) $\n## $ \\begin{cases}2x^2+2x+1,\\ x\\le0\\\\ x-3,\\ x>0\\end{cases}$\n"
     },
     "metadata": {}
    }
   ],
   "source": [
    "%%markdown\n",
    "39) $f(x) = \\begin{cases}2x^2+2x+1,\\ x\\le0\\\\ x-3,\\ x>0\\end{cases}\\lim\\limits_{{x }\\to{0}}f(x) $\n",
    "## $ \\begin{cases}2x^2+2x+1,\\ x\\le0\\\\ x-3,\\ x>0\\end{cases}$ undefinedj\n"
   ]
  },
  {
   "cell_type": "code",
   "execution_count": 140,
   "metadata": {},
   "outputs": [
    {
     "output_type": "display_data",
     "data": {
      "text/plain": "<IPython.core.display.Markdown object>",
      "text/markdown": "41) $\\lim\\limits_{{ x}\\to{2^+}} (2x-[\\![x]\\!])$\n## $(2x-[\\![x]\\!])$\n## $(2\\cdot2-[\\![2]\\!]) \\rightarrow 2$\n"
     },
     "metadata": {}
    }
   ],
   "source": [
    "%%markdown\n",
    "41) $\\lim\\limits_{{ x}\\to{2^+}} (2x-[\\![x]\\!])$\n",
    "## $(2x-[\\![x]\\!])$\n",
    "## $(2\\cdot2-[\\![2]\\!]) \\rightarrow 2$\n"
   ]
  },
  {
   "cell_type": "code",
   "execution_count": 141,
   "metadata": {},
   "outputs": [
    {
     "output_type": "display_data",
     "data": {
      "text/plain": "<IPython.core.display.Markdown object>",
      "text/markdown": "For the following exercises, find the average rate of change $\\frac{f(x+h)-f(x)}{h}$\n\n"
     },
     "metadata": {}
    }
   ],
   "source": [
    "%%markdown\n",
    "For the following exercises, find the average rate of change $\\frac{f(x+h)-f(x)}{h}$\n",
    "\n"
   ]
  },
  {
   "cell_type": "code",
   "execution_count": 149,
   "metadata": {},
   "outputs": [
    {
     "output_type": "display_data",
     "data": {
      "text/plain": "<IPython.core.display.Markdown object>",
      "text/markdown": "45) $f(x) = 2x^2-1$\n## $\\frac{2(x+h)^2-1-2x^2-1}{h}$\n## $\\frac{2(x^2+2hx+h^2)-1-(2x^2-1)}{h}$\n## $\\frac{2x^2+4hx+2h^2-1-2x^2+1}{h}$\n## $\\frac{4hx+2h^2}{h}$\n## $4x+2h$\n"
     },
     "metadata": {}
    }
   ],
   "source": [
    "%%markdown\n",
    "45) $f(x) = 2x^2-1$\n",
    "## $\\frac{2(x+h)^2-1-2x^2-1}{h}$\n",
    "## $\\frac{2(x^2+2hx+h^2)-1-(2x^2-1)}{h}$\n",
    "## $\\frac{2x^2+4hx+2h^2-1-2x^2+1}{h}$\n",
    "## $\\frac{4hx+2h^2}{h}$\n",
    "## $4x+2h$\n"
   ]
  },
  {
   "cell_type": "code",
   "execution_count": 157,
   "metadata": {},
   "outputs": [
    {
     "output_type": "display_data",
     "data": {
      "text/plain": "<IPython.core.display.Markdown object>",
      "text/markdown": "47) $f(x) =x^2+4x-100$\n## $\\frac{f(x+h)-f(x)}{h}$\n## $\\frac{((x+h)^2+4(x+h)-100)-(x^2+4x-100)}{h}$\n## $\\frac{x^2+2hx+h^2+4x+4h-100-x^2-4x+100}{h}$\n## $\\frac{+2hx+h^2+4h}{h}$\n## $2x+h+4$\n"
     },
     "metadata": {}
    }
   ],
   "source": [
    "%%markdown\n",
    "47) $f(x) =x^2+4x-100$\n",
    "## $\\frac{f(x+h)-f(x)}{h}$\n",
    "## $\\frac{((x+h)^2+4(x+h)-100)-(x^2+4x-100)}{h}$\n",
    "## $\\frac{x^2+2hx+h^2+4x+4h-100-x^2-4x+100}{h}$\n",
    "## $\\frac{+2hx+h^2+4h}{h}$\n",
    "## $2x+h+4$\n"
   ]
  },
  {
   "cell_type": "code",
   "execution_count": 163,
   "metadata": {},
   "outputs": [
    {
     "output_type": "display_data",
     "data": {
      "text/plain": "<IPython.core.display.Markdown object>",
      "text/markdown": "49) $f(x) =cos(x)$\n## $\\frac{f(x+h)-f(x)}{h}$\n## $\\frac{cos(x+h)-cos(x)}{h}$\n## $-2\\cdot\\sin(\\frac{x+h+h}{2})\\sin(\\frac{x+h-h}{2})/h$\n## $-2\\cdot\\sin(\\frac{2x+h}{2})\\sin(\\frac{h}{2})/h$\n\n"
     },
     "metadata": {}
    }
   ],
   "source": [
    "%%markdown\n",
    "49) $f(x) =cos(x)$\n",
    "## $\\frac{f(x+h)-f(x)}{h}$\n",
    "## $\\frac{cos(x+h)-cos(x)}{h}$\n",
    "## $-2\\cdot\\sin(\\frac{x+h+h}{2})\\sin(\\frac{x+h-h}{2})/h$\n",
    "## $-2\\cdot\\sin(\\frac{2x+h}{2})\\sin(\\frac{h}{2})/h$\n",
    "\n"
   ]
  },
  {
   "cell_type": "code",
   "execution_count": 169,
   "metadata": {},
   "outputs": [
    {
     "output_type": "display_data",
     "data": {
      "text/plain": "<IPython.core.display.Markdown object>",
      "text/markdown": "51) $f(x) =\\frac{1}{x}$\n## $\\frac{f(x+h)-f(x)}{h}$\n## $\\frac{\\frac{1}{x+h}-\\frac{1}{x}}{h}$\n## $\\frac{\\frac{x-x-h}{x(x+h)}}{h}$\n## $\\frac{-h}{hx(x+h)}$\n## $\\frac{-1}{x(x+h)}$\n\n"
     },
     "metadata": {}
    }
   ],
   "source": [
    "%%markdown\n",
    "51) $f(x) =\\frac{1}{x}$\n",
    "## $\\frac{f(x+h)-f(x)}{h}$\n",
    "## $\\frac{\\frac{1}{x+h}-\\frac{1}{x}}{h}$\n",
    "## $\\frac{\\frac{x-x-h}{x(x+h)}}{h}$\n",
    "## $\\frac{-h}{hx(x+h)}$\n",
    "## $\\frac{-1}{x(x+h)}$\n",
    "\n"
   ]
  },
  {
   "cell_type": "code",
   "execution_count": 176,
   "metadata": {},
   "outputs": [
    {
     "output_type": "display_data",
     "data": {
      "text/plain": "<IPython.core.display.Markdown object>",
      "text/markdown": "53) $f(x) =\\sqrt{x}$\n## $\\frac{f(x+h)-f(x)}{h}$\n\n## $\\frac{\\sqrt{x+h}-\\sqrt{x}}{h}\\cdot\\frac{\\sqrt{x+h}+\\sqrt{x}}{\\sqrt{x+h}+\\sqrt{x}}$\n## $\\frac{x+h-x}{h(\\sqrt{x+h}+\\sqrt{x})}$\n## $\\frac{h}{h(\\sqrt{x+h}+\\sqrt{x})}$\n## $\\frac{1}{(\\sqrt{x+h}+\\sqrt{x})}$\n"
     },
     "metadata": {}
    }
   ],
   "source": [
    "%%markdown\n",
    "53) $f(x) =\\sqrt{x}$\n",
    "## $\\frac{f(x+h)-f(x)}{h}$\n",
    "\n",
    "## $\\frac{\\sqrt{x+h}-\\sqrt{x}}{h}\\cdot\\frac{\\sqrt{x+h}+\\sqrt{x}}{\\sqrt{x+h}+\\sqrt{x}}$\n",
    "## $\\frac{x+h-x}{h(\\sqrt{x+h}+\\sqrt{x})}$\n",
    "## $\\frac{h}{h(\\sqrt{x+h}+\\sqrt{x})}$\n",
    "## $\\frac{1}{(\\sqrt{x+h}+\\sqrt{x})}$"
   ]
  },
  {
   "cell_type": "code",
   "execution_count": null,
   "metadata": {},
   "outputs": [],
   "source": [
    "%%markdown\n",
    "54-57\n",
    "\n"
   ]
  },
  {
   "cell_type": "code",
   "execution_count": 188,
   "metadata": {},
   "outputs": [
    {
     "output_type": "display_data",
     "data": {
      "text/plain": "<IPython.core.display.Markdown object>",
      "text/markdown": "54) $\\lim_\\limits{x \\to 2 } = 3$\n### a(0, -1) ; b(1, 1)\n### $m = \\frac{y_b-y_a}{x_b-x_a} $\n### $ n = -1$\n### $f(x) = \\frac{3}{2}\\cdot x -1$\n### $f(x) = \\frac{(\\frac{3}{2}\\cdot x -3)(\\frac{3}{2}\\cdot x +3)}{\\frac{3}{2}\\cdot x -3}$\n"
     },
     "metadata": {}
    }
   ],
   "source": [
    "%%markdown\n",
    "54) $\\lim_\\limits{x \\to 2 } = 3$\n",
    "### a(0, -1) ; b(1, 1)\n",
    "### $m = \\frac{y_b-y_a}{x_b-x_a} $\n",
    "### $ n = -1$\n",
    "### $f(x) = \\frac{3}{2}\\cdot x -1$\n",
    "### $f(x) = \\frac{(\\frac{3}{2}\\cdot x -3)(\\frac{3}{2}\\cdot x +3)}{\\frac{3}{2}\\cdot x -3}$"
   ]
  },
  {
   "cell_type": "code",
   "execution_count": 207,
   "metadata": {},
   "outputs": [
    {
     "output_type": "execute_result",
     "data": {
      "text/plain": [
       "128"
      ]
     },
     "metadata": {},
     "execution_count": 207
    }
   ],
   "source": [
    "x=1\n",
    "-64*x**2+192*x"
   ]
  },
  {
   "cell_type": "code",
   "execution_count": 208,
   "metadata": {},
   "outputs": [
    {
     "output_type": "display_data",
     "data": {
      "text/plain": "<IPython.core.display.Markdown object>",
      "text/markdown": "\n59) The height of a projectile is given by\n<br>$s(t) = −64t 2 + 192t$ Find the average rate of change\n<br>of the height from t = 1 second to t = 1.5 seconds.\n## $\\frac{f(x+h)-f(x)}{h}$\n## $\\frac{f(1.5)-f(1)}{0.5}$\n\n\n## $\\frac{−64(t_2)^2 + 192t_2 -( −64(t_1)^2 + 192t_1)}{t_2-t_1}$\n## $\\frac{−64(\\frac{3}{2})^2 + 192\\frac{3}{2} -( −64(t_1)^2 + 192(1))}{\\frac{3}{2}-(1)}$\n## $\\frac{−64(\\frac{9}{4}) + 192\\frac{3}{2} -( −64(1)^2 + 192(1))}{\\frac{3}{2}-(1)}$\n## $\\frac{-16*9 + 96*3 -( −64 + 192)}{\\frac{1}{2}}$\n## $\\frac{144 -(128)}{\\frac{1}{2}} \\rightarrow 32$\n"
     },
     "metadata": {}
    }
   ],
   "source": [
    "%%markdown\n",
    "\n",
    "59) The height of a projectile is given by\n",
    "<br>$s(t) = −64t 2 + 192t$ Find the average rate of change\n",
    "<br>of the height from t = 1 second to t = 1.5 seconds.\n",
    "## $\\frac{f(x+h)-f(x)}{h}$\n",
    "## $\\frac{f(1.5)-f(1)}{0.5}$\n",
    "\n",
    "\n",
    "## $\\frac{−64(t_2)^2 + 192t_2 -( −64(t_1)^2 + 192t_1)}{t_2-t_1}$\n",
    "## $\\frac{−64(\\frac{3}{2})^2 + 192\\frac{3}{2} -( −64(t_1)^2 + 192(1))}{\\frac{3}{2}-(1)}$\n",
    "## $\\frac{−64(\\frac{9}{4}) + 192\\frac{3}{2} -( −64(1)^2 + 192(1))}{\\frac{3}{2}-(1)}$\n",
    "## $\\frac{-16*9 + 96*3 -( −64 + 192)}{\\frac{1}{2}}$\n",
    "## $\\frac{144 -(128)}{\\frac{1}{2}} \\rightarrow 32$\n"
   ]
  },
  {
   "cell_type": "code",
   "execution_count": 112,
   "metadata": {},
   "outputs": [
    {
     "output_type": "stream",
     "name": "stdout",
     "text": [
      "### ======\n### Left Hand\n### ======\n### 1) input: 3.9\n### \t output: 1.0\n### xxxxxxxxx\n### 2) input: 3.99\n### \t output: 1.0\n### xxxxxxxxx\n### 3) input: 3.999\n### \t output: 1.0\n### xxxxxxxxx\n### 4) input: 3.9999\n### \t output: 1.0\n### xxxxxxxxx\n### 5) input: 3.99999\n### \t output: 1.0\n### xxxxxxxxx\n### ======\n### Right Hand\n### ======\n### 1) input: 3.9\n### \t output: -1.0\n### xxxxxxxxx\n### 2) input: 3.99\n### \t output: -1.0\n### xxxxxxxxx\n### 3) input: 3.999\n### \t output: -1.0\n### xxxxxxxxx\n### 4) input: 3.9999\n### \t output: -1.0\n### xxxxxxxxx\n### 5) input: 3.99999\n### \t output: -1.0\n### xxxxxxxxx\n"
     ]
    }
   ],
   "source": [
    "# \\frac{}{}\n",
    "# $\\lim\\limits_{{}\\to {}}$\n",
    "def func(x):\n",
    "    return (np.absolute(x-4))/(4-x)\n",
    "\n",
    "def limit(a, dec):\n",
    "    left = 0\n",
    "    right = 0\n",
    "    #Left hand\n",
    "    print(\"### ======\\n### Left Hand\\n### ======\")\n",
    "    for i in range (1, dec+1):\n",
    "        print(\"### \"+str(i)+\") input: \"+str(a-10**(-i)))\n",
    "        print(\"### \\t output: \"+str(round(func(a-10**(-i)), 5)))\n",
    "        print(\"### \" +\"x\"*9)\n",
    "        if i == dec:\n",
    "            left = round(func(a-10**(-i)), 5)\n",
    "    #Right hand\n",
    "    print(\"### ======\\n### Right Hand\\n### ======\")\n",
    "    for i in range (1, dec+1):\n",
    "        print(\"### \"+str(i)+\") input: \"+str(a-10**(-i)))\n",
    "        print(\"### \\t output: \"+str(round(func(a+10**(-i)), 5)))\n",
    "        print(\"### \"+\"x\"*9)\n",
    "        if i == dec:\n",
    "            right = round(func(a+10**(-i)), 5)\n",
    "    # print(left-right)\n",
    "\n",
    "limit(4, 5)"
   ]
  }
 ]
}