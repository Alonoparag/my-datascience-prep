{
 "metadata": {
  "language_info": {
   "codemirror_mode": {
    "name": "ipython",
    "version": 3
   },
   "file_extension": ".py",
   "mimetype": "text/x-python",
   "name": "python",
   "nbconvert_exporter": "python",
   "pygments_lexer": "ipython3",
   "version": "3.9.1-final"
  },
  "orig_nbformat": 2,
  "kernelspec": {
   "name": "python3",
   "display_name": "Python 3",
   "language": "python"
  }
 },
 "nbformat": 4,
 "nbformat_minor": 2,
 "cells": [
  {
   "cell_type": "code",
   "execution_count": 3,
   "metadata": {},
   "outputs": [],
   "source": [
    "def uses_all(word, required):\n",
    "    for letter in required: \n",
    "        if letter not in word:\n",
    "            return False\n",
    "    return True\n",
    "\n",
    "def use_alla(word, required):\n",
    "    return True if all(l in word for l in required) else False"
   ]
  },
  {
   "cell_type": "code",
   "execution_count": 4,
   "metadata": {},
   "outputs": [
    {
     "output_type": "stream",
     "name": "stdout",
     "text": [
      "True\nFalse\nTrue\nFalse\n"
     ]
    }
   ],
   "source": [
    "word1 = 'banana'\n",
    "required1 = ['b','a','n']\n",
    "word2 = 'apple'\n",
    "required2 = ['a','p','q']\n",
    "\n",
    "print(use_all(word1,required1))\n",
    "print(use_all(word2,required2))\n",
    "print(use_alla(word1,required1))\n",
    "print(use_alla(word2,required2))"
   ]
  },
  {
   "cell_type": "code",
   "execution_count": null,
   "metadata": {},
   "outputs": [],
   "source": [
    "Write a function named avoids that takes a word and a string of forbidden letters, and that returns True if the word doesn’t use any of the forbidden letters.\n",
    "def avoids (word, letters):\n",
    "    for l in letters:\n",
    "        if l in word: False\n",
    "    True\n",
    "    if \n",
    "    return False if any(l in letters for l in word) else True\n"
   ]
  }
 ]
}