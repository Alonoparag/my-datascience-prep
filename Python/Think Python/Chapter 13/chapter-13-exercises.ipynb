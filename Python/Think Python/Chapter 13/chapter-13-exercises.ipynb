{
 "metadata": {
  "language_info": {
   "codemirror_mode": {
    "name": "ipython",
    "version": 3
   },
   "file_extension": ".py",
   "mimetype": "text/x-python",
   "name": "python",
   "nbconvert_exporter": "python",
   "pygments_lexer": "ipython3",
   "version": "3.9.1-final"
  },
  "orig_nbformat": 2,
  "kernelspec": {
   "name": "python3",
   "display_name": "Python 3",
   "language": "python"
  }
 },
 "nbformat": 4,
 "nbformat_minor": 2,
 "cells": [
  {
   "source": [
    "Exercise 1"
   ],
   "cell_type": "markdown",
   "metadata": {}
  },
  {
   "cell_type": "code",
   "execution_count": null,
   "metadata": {},
   "outputs": [],
   "source": [
    "import re\n",
    "import string\n",
    "\n",
    "def is_header_reached(line):\n",
    "    if re.sub(u\"\\u200B\" + u'\\u200C' + u'\\uFEFF' + u'\\u2060' + u'\\u200D', '', line.strip()) == 'Translated by William Whiston':\n",
    "        return True\n",
    "\n",
    "def is_foot_reached(line):\n",
    "    if re.sub(u\"\\u200B\" + u'\\u200C' + u'\\uFEFF' + u'\\u2060' + u'\\u200D', '', line.strip()) == 'Footnotes':\n",
    "        return True\n",
    "\n",
    "def generate_words(filename, is_word_list = False):\n",
    "    pattern = re.compile('[^a-zA-Z]')\n",
    "    \n",
    "    inFile = open(filename, 'r')\n",
    "    wordlist = []\n",
    "    past_header = False\n",
    "    before_foot = False\n",
    "    if is_word_list:\n",
    "        past_header = True\n",
    "    for line in inFile:\n",
    "        if is_header_reached(line): past_header = True\n",
    "        if is_foot_reached(line): before_foot = True\n",
    "        if past_header and not before_foot:\n",
    "            for word in line.split(' '):\n",
    "                word = re.sub(pattern, '', word.lower())\n",
    "                if len(word) > 0:\n",
    "                    wordlist.append(word)\n",
    "    print(\"  \", len(wordlist), \"words loaded.\")\n",
    "    return wordlist\n",
    "word_list = generate_words(\"on-josephus.txt\")\n",
    "sorted_words = sorted(word_list)\n"
   ]
  },
  {
   "cell_type": "code",
   "execution_count": null,
   "metadata": {
    "tags": []
   },
   "outputs": [],
   "source": [
    "def word_counter(word_list):\n",
    "    counted_words = []\n",
    "    word_counter = 1\n",
    "    current_word = ''\n",
    "    for word in word_list:\n",
    "        if word != current_word:\n",
    "            if len(current_word)>0:counted_words.append((word_counter, current_word))\n",
    "            current_word = word\n",
    "            word_counter = 1\n",
    "        else:\n",
    "            word_counter += 1\n",
    "    return counted_words\n",
    "\n",
    "# def word_counter(word_list, counted_words=[]):\n",
    "# # Take a sorted list of words\n",
    "#     if len(word_list) == 0:\n",
    "#         return counted_words\n",
    "# # iterate through the list counting the index\n",
    "#     for i in range(len(word_list)):\n",
    "# # when the iterated word is different from the first word or when index = len - 1\n",
    "#         if i == len(word_list) - 1 or word_list[i] != word_list[0]:\n",
    "# # count the section of the list until the current index and add it to a list of words as tuple(count, word)\n",
    "#             if word_list[i] != word_list[0]:\n",
    "#                 counted_words.append((len(word_list[:i]), word_list[0]))\n",
    "#                 return word_counter(word_list[i:], counted_words)\n",
    "#             elif i == len(word_list) - 1:\n",
    "#                 counted_words.append((len(word_list), word_list[0]))\n",
    "#                 return counted_words\n",
    "# # recall the function with the section of the list not iterated through yet\n",
    "counted_words = sorted(word_counter(sorted_words), reverse = True)"
   ]
  },
  {
   "cell_type": "code",
   "execution_count": null,
   "metadata": {
    "tags": []
   },
   "outputs": [],
   "source": [
    "print(sorted(word_counter(sorted_words), reverse = True)[:20])"
   ]
  },
  {
   "cell_type": "code",
   "execution_count": null,
   "metadata": {},
   "outputs": [],
   "source": [
    "def not_in_word_list(book_words_counted, word_list):\n",
    "    missing_words = []\n",
    "    for number, word in book_words_counted:\n",
    "        if word not in word_list:\n",
    "            missing_words.append(word)\n",
    "    return missing_words\n",
    "\n",
    "word_list_check = generate_words('words.txt',is_word_list = True)\n",
    "\n",
    "print(not_in_word_list(counted_words, word_list_check))"
   ]
  },
  {
   "cell_type": "code",
   "execution_count": 53,
   "metadata": {},
   "outputs": [
    {
     "output_type": "stream",
     "name": "stdout",
     "text": [
      "dict {'r': 3, 'a': 1, 'b': 1, 'c': 1}\nset ['r', 'r', 'r', 'a', 'b', 'c']\nb\n"
     ]
    }
   ],
   "source": [
    "import random\n",
    "def histogram(s):\n",
    "    d = dict()\n",
    "    for c in s:\n",
    "        if c not in d:\n",
    "            d[c] = 1\n",
    "        else:\n",
    "            d[c] += 1\n",
    "    print('dict',d)\n",
    "    return d\n",
    "\n",
    "def choose_rand(d):\n",
    "    choice_set = []\n",
    "    for k in d.keys():\n",
    "         for i in range(d[k]):choice_set.append(k)\n",
    "    print('set',choice_set)\n",
    "    return random.choice(choice_set)\n",
    "\n",
    "print(choose_rand(histogram('rrrabc')))"
   ]
  },
  {
   "cell_type": "code",
   "execution_count": 58,
   "metadata": {},
   "outputs": [],
   "source": [
    "def process_file(filename):\n",
    "    hist = dict()\n",
    "    fp = open(filename)\n",
    "    for line in fp:\n",
    "        process_line(line, hist)\n",
    "    return hist\n",
    "\n",
    "def process_line(line, hist):\n",
    "    line = line.replace('-', ' ')\n",
    "    \n",
    "    for word in line.split():\n",
    "        word = word.strip(string.punctuation + string.whitespace)\n",
    "        word = word.lower()\n",
    "        hist[word] = hist.get(word, 0) + 1\n",
    "\n",
    "hist = process_file('emma.txt')\n",
    "\n",
    "def total_words(hist):\n",
    "    return sum(hist.values())\n",
    "    \n",
    "def different_words(hist):\n",
    "    return len(hist)\n",
    "def most_common(hist):\n",
    "    t = []\n",
    "    for key, value in hist.items():\n",
    "        t.append((value, key))\n",
    "\n",
    "    t.sort(reverse=True)\n",
    "    return t"
   ]
  },
  {
   "cell_type": "code",
   "execution_count": 59,
   "metadata": {},
   "outputs": [
    {
     "output_type": "stream",
     "name": "stdout",
     "text": [
      "Total number of words: 164120\nNumber of different words: 8904\nThe most common words are:\nthe\t5357\nto\t5303\nand\t4890\nof\t4396\na\t3170\ni\t2861\nher\t2445\nit\t2410\nwas\t2394\nshe\t2334\n"
     ]
    }
   ],
   "source": [
    "print('Total number of words:', total_words(hist))\n",
    "print('Number of different words:', different_words(hist))\n",
    "t = most_common(hist)\n",
    "print('The most common words are:')\n",
    "for freq, word in t[:10]:\n",
    "    print(word, freq, sep='\\t')"
   ]
  }
 ]
}