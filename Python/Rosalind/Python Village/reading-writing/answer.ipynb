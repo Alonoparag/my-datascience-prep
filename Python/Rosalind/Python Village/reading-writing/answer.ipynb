{
 "metadata": {
  "language_info": {
   "codemirror_mode": {
    "name": "ipython",
    "version": 3
   },
   "file_extension": ".py",
   "mimetype": "text/x-python",
   "name": "python",
   "nbconvert_exporter": "python",
   "pygments_lexer": "ipython3",
   "version": "3.9.1-final"
  },
  "orig_nbformat": 2,
  "kernelspec": {
   "name": "python3",
   "display_name": "Python 3",
   "language": "python"
  }
 },
 "nbformat": 4,
 "nbformat_minor": 2,
 "cells": [
  {
   "source": [
    "Given: A file containing at most 1000 lines.\n",
    "\n",
    "Return: A file containing all the even-numbered lines from the original file. Assume 1-based numbering of lines."
   ],
   "cell_type": "markdown",
   "metadata": {}
  },
  {
   "cell_type": "code",
   "execution_count": 14,
   "metadata": {},
   "outputs": [],
   "source": [
    "def answer(filename,n):\n",
    "    out_file = open('answer_file%d.txt'%n, 'w')\n",
    "    in_file = open(filename, 'r')\n",
    "    lines = []\n",
    "    for line in in_file:\n",
    "        lines.append(line)\n",
    "    for i in range(len(lines)):\n",
    "        if (i + 1) % 2 == 0:\n",
    "            out_file.write(lines[i])\n",
    "    out_file.close()"
   ]
  },
  {
   "cell_type": "code",
   "execution_count": 11,
   "metadata": {},
   "outputs": [],
   "source": [
    "answer('text.txt')"
   ]
  },
  {
   "cell_type": "code",
   "execution_count": 15,
   "metadata": {},
   "outputs": [],
   "source": [
    "answer('rosalind_ini5.txt',2)"
   ]
  }
 ]
}