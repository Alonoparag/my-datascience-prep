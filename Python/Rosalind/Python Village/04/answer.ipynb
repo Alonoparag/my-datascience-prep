{
 "metadata": {
  "language_info": {
   "codemirror_mode": {
    "name": "ipython",
    "version": 3
   },
   "file_extension": ".py",
   "mimetype": "text/x-python",
   "name": "python",
   "nbconvert_exporter": "python",
   "pygments_lexer": "ipython3",
   "version": "3.9.1-final"
  },
  "orig_nbformat": 2,
  "kernelspec": {
   "name": "python3",
   "display_name": "Python 3",
   "language": "python"
  }
 },
 "nbformat": 4,
 "nbformat_minor": 2,
 "cells": [
  {
   "source": [
    "Given: Two positive integers a and b (a<b<10000\n",
    "\n",
    ").\n",
    "\n",
    "Return: The sum of all odd integers from a\n",
    "through b, inclusively."
   ],
   "cell_type": "markdown",
   "metadata": {}
  },
  {
   "cell_type": "code",
   "execution_count": 6,
   "metadata": {},
   "outputs": [],
   "source": [
    "def answer(a, b):\n",
    "    sum = 0\n",
    "    for i in range(a, b+1):\n",
    "        if i%2!=0:\n",
    "            sum+=i\n",
    "    return sum"
   ]
  },
  {
   "cell_type": "code",
   "execution_count": 2,
   "metadata": {},
   "outputs": [
    {
     "output_type": "execute_result",
     "data": {
      "text/plain": [
       "7500"
      ]
     },
     "metadata": {},
     "execution_count": 2
    }
   ],
   "source": [
    "answer(100, 200)"
   ]
  },
  {
   "cell_type": "code",
   "execution_count": 7,
   "metadata": {},
   "outputs": [
    {
     "output_type": "execute_result",
     "data": {
      "text/plain": [
       "13209389"
      ]
     },
     "metadata": {},
     "execution_count": 7
    }
   ],
   "source": [
    "answer(4341, 8465)"
   ]
  }
 ]
}