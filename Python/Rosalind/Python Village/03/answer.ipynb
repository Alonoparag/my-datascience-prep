{
 "metadata": {
  "language_info": {
   "codemirror_mode": {
    "name": "ipython",
    "version": 3
   },
   "file_extension": ".py",
   "mimetype": "text/x-python",
   "name": "python",
   "nbconvert_exporter": "python",
   "pygments_lexer": "ipython3",
   "version": "3.9.1-final"
  },
  "orig_nbformat": 2,
  "kernelspec": {
   "name": "python3",
   "display_name": "Python 3",
   "language": "python"
  }
 },
 "nbformat": 4,
 "nbformat_minor": 2,
 "cells": [
  {
   "source": [
    "Given: A string s of length at most 200 letters and four integers a, b, c and d\n",
    "\n",
    ".\n",
    "\n",
    "Return: The slice of this string from indices a\n",
    "through b and c through d (with space in between), inclusively. In other words, we should include elements s[b] and s[d] in our slice."
   ],
   "cell_type": "markdown",
   "metadata": {}
  },
  {
   "cell_type": "code",
   "execution_count": 1,
   "metadata": {},
   "outputs": [],
   "source": [
    "def solution(s, a, b, c, d):\n",
    "    return s[a:b+1]+' '+s[c:d+1]"
   ]
  },
  {
   "cell_type": "code",
   "execution_count": 3,
   "metadata": {},
   "outputs": [
    {
     "output_type": "execute_result",
     "data": {
      "text/plain": [
       "'Humpty Dumpty'"
      ]
     },
     "metadata": {},
     "execution_count": 3
    }
   ],
   "source": [
    "solution('HumptyDumptysatonawallHumptyDumptyhadagreatfallAlltheKingshorsesandalltheKingsmenCouldntputHumptyDumptyinhisplaceagain.',22, 27, 97, 102)"
   ]
  },
  {
   "cell_type": "code",
   "execution_count": 4,
   "metadata": {},
   "outputs": [
    {
     "output_type": "execute_result",
     "data": {
      "text/plain": [
       "'Salamandra lesueurii'"
      ]
     },
     "metadata": {},
     "execution_count": 4
    }
   ],
   "source": [
    "solution('LMZYGj554NNSAHVWA3LcLZpbADJa6ySalamandraLRKhsLQauGACbg8apECONX8yeDkdRlh5yozteD0iUZxVLMehctzzLH9wddeTsNDx8B1bJEUhCvS1Si289jkuIwAXwVpgLBAGh8WZ1raF5icb1Isc4dJ2Si9Ttz3k20tPzUvXIlesueuriixjT98PEXY9BFq.',30, 39, 173, 181)"
   ]
  }
 ]
}