{
 "metadata": {
  "language_info": {
   "codemirror_mode": {
    "name": "ipython",
    "version": 3
   },
   "file_extension": ".py",
   "mimetype": "text/x-python",
   "name": "python",
   "nbconvert_exporter": "python",
   "pygments_lexer": "ipython3",
   "version": "3.9.1-final"
  },
  "orig_nbformat": 2,
  "kernelspec": {
   "name": "python3",
   "display_name": "Python 3",
   "language": "python"
  }
 },
 "nbformat": 4,
 "nbformat_minor": 2,
 "cells": [
  {
   "source": [
    "Given: A string s\n",
    "\n",
    "of length at most 10000 letters.\n",
    "\n",
    "Return: The number of occurrences of each word in s\n",
    ", where words are separated by spaces. Words are case-sensitive, and the lines in the output can be in any order."
   ],
   "cell_type": "markdown",
   "metadata": {}
  },
  {
   "cell_type": "code",
   "execution_count": 37,
   "metadata": {},
   "outputs": [],
   "source": [
    "from collections import Counter\n",
    "\n",
    "def answer(s):\n",
    "    count = Counter(s.split(' '))\n",
    "    ans = ''\n",
    "    for key in count.keys():\n",
    "        ans+='%s: %d\\\\n'%(key, count[key])\n",
    "    return ans[:-1]"
   ]
  },
  {
   "cell_type": "code",
   "execution_count": 38,
   "metadata": {},
   "outputs": [
    {
     "output_type": "execute_result",
     "data": {
      "text/plain": [
       "'We: 1\\\\ntried: 3\\\\nlist: 1\\\\nand: 1\\\\nwe: 2\\\\ndicts: 1\\\\nalso: 1\\\\nZen: 1\\\\'"
      ]
     },
     "metadata": {},
     "execution_count": 38
    }
   ],
   "source": [
    "answer('We tried list and we tried dicts also we tried Zen')"
   ]
  }
 ]
}