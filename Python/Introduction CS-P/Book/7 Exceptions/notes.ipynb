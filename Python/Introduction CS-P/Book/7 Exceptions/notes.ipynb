{
 "metadata": {
  "language_info": {
   "codemirror_mode": {
    "name": "ipython",
    "version": 3
   },
   "file_extension": ".py",
   "mimetype": "text/x-python",
   "name": "python",
   "nbconvert_exporter": "python",
   "pygments_lexer": "ipython3",
   "version": "3.8.6-final"
  },
  "orig_nbformat": 2,
  "kernelspec": {
   "name": "python3",
   "display_name": "Python 3"
  }
 },
 "nbformat": 4,
 "nbformat_minor": 2,
 "cells": [
  {
   "cell_type": "code",
   "execution_count": null,
   "metadata": {},
   "outputs": [],
   "source": [
    "# 7/1 Handling exeptions\n",
    "* the except keyword could be followed by a tuple of exceptions\n",
    "* the except block should be followed by a code handling the exception"
   ]
  },
  {
   "cell_type": "code",
   "execution_count": 2,
   "metadata": {},
   "outputs": [
    {
     "output_type": "stream",
     "name": "stdout",
     "text": [
      "6\n",
      "10\n",
      "0\n"
     ]
    }
   ],
   "source": [
    "#7.1 exercise:\n",
    "def sumDigits(s):\n",
    "    \"\"\"\n",
    "    Assumes s is a string\n",
    "    Returns the sum of the decimal digits in s\n",
    "        for example, if s is a2b3c it returns 5\n",
    "    \"\"\"\n",
    "    s=list(s)\n",
    "    list_digits = []\n",
    "    for e in s:\n",
    "        try:\n",
    "            list_digits.append(int(e))\n",
    "        except:\n",
    "            continue\n",
    "    sum_digits = 0\n",
    "    for d in list_digits:\n",
    "        sum_digits+= d\n",
    "    return sum_digits\n",
    "while input(\"continue?\\n>>>\") == 'y':\n",
    "    print(sumDigits(input('enter a string with digits\\n>>>')))"
   ]
  },
  {
   "cell_type": "code",
   "execution_count": null,
   "metadata": {},
   "outputs": [],
   "source": [
    "#7/2 Exception as a control flow mechanism\n",
    "* function could raise an exception when it cannot produce a result that is consistent with the function's specification through the raise exceptionName(arguments). Exceptions could be either built-in excpetions or custom made exceptions through the Exception class. the argument is a string that describes the exception"
   ]
  },
  {
   "cell_type": "code",
   "execution_count": null,
   "metadata": {},
   "outputs": [],
   "source": [
    "## finger exercise\n",
    "def findAnEven(L):\n",
    "    \"\"\"\n",
    "    Assumes L is a list of integers\n",
    "        Possible exceptions:\n",
    "            1. L is not a list\n",
    "            2. L is empty\n",
    "            3. the elment e in L is not of the value int\n",
    "    Returns the first even number in L\n",
    "    Raises ValueError if L doesn't contain an even number\n",
    "    \"\"\"\n",
    "    if not isinstance(L, list): raise ValueError(\"Expecting argument of type 'list'\")\n",
    "    if len(L) == 0: raise ValueError(\"argument is empty\"\n",
    "    )\n",
    "    for e in L:\n",
    "        print \n",
    "        if not isinstance(e, int): raise ValueError('argument should contain only values of type int')\n",
    "        if e%2 == 0: return e\n",
    "    raise ValueError('argument doesn\\'t contain an even number')\n",
    "\n",
    "L = []\n",
    "while input(\"continue?\\n>>>\") == 'y':\n",
    "    try:\n",
    "        L.append(int(input('enter an integer\\n>>>')))\n",
    "    except ValueError:\n",
    "        print('Please enter a valid integer')\n",
    "print(findAnEven(L))"
   ]
  },
  {
   "cell_type": "code",
   "execution_count": null,
   "metadata": {},
   "outputs": [],
   "source": [
    "# 7.3 Assertions\n",
    "* assert statemnt is of two forms:\n",
    "    * assert Boolean\n",
    "    * assert Boolean, argument\n",
    "* When encountered:\n",
    "    * if true, proceeds\n",
    "    * if False, raises AssertionError\n",
    "    "
   ]
  }
 ]
}