{
 "metadata": {
  "language_info": {
   "codemirror_mode": {
    "name": "ipython",
    "version": 3
   },
   "file_extension": ".py",
   "mimetype": "text/x-python",
   "name": "python",
   "nbconvert_exporter": "python",
   "pygments_lexer": "ipython3",
   "version": "3.8.6-final"
  },
  "orig_nbformat": 2,
  "kernelspec": {
   "name": "python3",
   "display_name": "Python 3"
  }
 },
 "nbformat": 4,
 "nbformat_minor": 2,
 "cells": [
  {
   "source": [
    "* **Random Access Machine** steps are executed sequentially one at a time. a **step** is an operation that takes a fixed amount of time, such as binding a variable to an object. making a comparison, executing an arithmetic operation, or accessing an object in memory.\n",
    "## cases to consider:\n",
    "* The best-case running time is the running time of the algorithm when the inputs are as favorable as possible. I.e., the **best-case** running time is the minimum running time over all the possible inputs of a given size. For linearSearch, the best-case running time is independent of the size of L.\n",
    "* The **worst-case** running time is the maximum running time over all the possible inputs of a given size.\n",
    "* **average-case** (expected-case) running time is the average running time over all possible inputs of a given size. Alternatively, if one has some *a priori* information about the distribution of input values(e.g., that 90% the time x is in L), one can take that into account.\n",
    "* any algorithm is sufficiently efficient when run on small inputs.\n",
    "* asymptotc notation describes the complexity of an algorithm as the size of its inputs approaches infinity\n",
    "\n",
    "* If the running time is the sum of multiple terms, keep the one with the largest growth rate, and drop the others.\n",
    "* If the remaining term is a product, drop any constants.\n",
    "* asymptotic notation of a function is described as $ f(x)\\in O(x)$. $O(x)$ de3scribes both the upper and **lowe bound** on the asymptotic worst-case running time. This is called a **tight bound**\n",
    "* $O(1)$ denotes constant running time\n",
    "* $O(log n)$ denotes logarithmic running time.\n",
    "* $O(n)$ denotes linear running time\n",
    "* $O(x^k)$ denotes polynomial running time. k is a constant.\n",
    "* $O(O^x)$ denotes exponential running time. Here a constant is being raised to a power based on the size of the input\n"
   ],
   "cell_type": "markdown",
   "metadata": {}
  },
  {
   "source": [
    "## Constant complexity\n",
    "* implies that the number of iterations or recursive calls is independent of the size of the inputs\n",
    "## Logarithmic complexity\n",
    "* Grows as the log of at least one of the inputys\n",
    "* binary search is logarithmic in the length of the list being searched.\n",
    "## linear complexity\n",
    "** algorithm that deals with a length a constant number of times\n",
    "## log-linear complexity\n",
    "* a complex algorithm that involves a logarithmic-complex sub-procedure and a linear-complex sub-procedure, such as merge-sort\n",
    "## polynomial complexity\n",
    "* involves a product of two terms$O(a)\\cdotO(b)$.\n",
    "##exponential complexity\n",
    "* involves a program that runsto the power of *nth* time\n",
    "## "
   ],
   "cell_type": "markdown",
   "metadata": {}
  },
  {
   "cell_type": "code",
   "execution_count": null,
   "metadata": {},
   "outputs": [],
   "source": []
  }
 ]
}