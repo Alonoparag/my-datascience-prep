{
 "metadata": {
  "language_info": {
   "codemirror_mode": {
    "name": "ipython",
    "version": 3
   },
   "file_extension": ".py",
   "mimetype": "text/x-python",
   "name": "python",
   "nbconvert_exporter": "python",
   "pygments_lexer": "ipython3",
   "version": 3
  },
  "orig_nbformat": 2
 },
 "nbformat": 4,
 "nbformat_minor": 2,
 "cells": [
  {
   "cell_type": "code",
   "execution_count": null,
   "metadata": {},
   "outputs": [],
   "source": [
    "# Classes\n",
    "* a class definition creates an object of type type and associates with that class object a set of objects of type instancemethod\n",
    "* class docstring describes the abstractions provided by the class. Comments below might contain information about the implementation.\n",
    "* classes support two kinds of operation:\n",
    "    * Instantiation is used to create instances of the class. Fo example, the statement s = IntSet() creates a new object of type IntSet. This object is called an instance of IntSet.\n",
    "    * Attribute references use do notation to access attributes associated with the class.\n",
    "## * The object associated with the expression preceding the dot is implicitly passed as the first parameter to the method.\n",
    "* Data abstractions achieves representation-independence. Think of the inplementation of an abstract type as having several components:\n",
    "    * Implementations of the methods of the type,\n",
    "    * Data structures taht together encode values of the tpe,\n",
    "    * Conventions about how the inmplementations of the methods are to use the data structures. A key convention is captured by the representation invariant\n",
    "* The representation invariant is the domain of values that satisfies a certain condition. the invariant is established by __init__ method and maintained by other methods.\n",
    "##__str__\n",
    "* returns a str representation of the class\n",
    "* invoked by a print() method or a str() method\n",
    "* if no __str__ method is defined, then a representation of type and memroy location is returned.\n",
    "*all instances of user defined classes are hashable, and therefore can be used as dictionary keys.\n",
    "* if no __hash__ method is provided, the hash value of the object is derived from the function id. if no __eq_ method is provided, all objects are considered unequal (except to themselves). if a user-defined __hash__ is provided, it should ensure that the hash value of an object is constant throughut the lifetime of that object.\n"
   ]
  },
  {
   "cell_type": "code",
   "execution_count": null,
   "metadata": {},
   "outputs": [],
   "source": [
    "# General notes\n",
    "* an abstract data type is a set of objects and the operations on those objects. These are bound together so that one can pass an object from one part of a progam to another, and in doing so provide acecss not only to the data attributes of the obect but also to operations that make it easy to manipulate that data.\n",
    "* The specifications of those operations define an interafce between the abstract data type and the rest of the program. The interface defines the behavior of the operations - what they do, but not how they do it. the interface thus progvides an abstraction barrier that isolates the rest of the program from the data structuers, algorithms, and code involved in providing a realization of the type abstraction.\n",
    "* Programming is about managing comlpexity in a way that facilitates change\n",
    "* Decompositions creates structure in a program\n",
    "* abstraction suppresses detail.\n",
    "* When a code incorporates a formula, make sure:\n",
    "    * To take the formula from a reputable source.\n",
    "    * To understand the meaning of all the variables in the formula\n",
    "    * To **test*** the implementation against examples taken from reputable sources\n"
   ]
  },
  {
   "cell_type": "code",
   "execution_count": null,
   "metadata": {},
   "outputs": [],
   "source": [
    "#Designing programs using abstract data types\n",
    "* Data abstraction encourages program designers to focus on the centrality of data objects rather than functions.\n",
    "* supports the viewpoint of programming as a process of composing abstractions.\n",
    "* when dealing with different data types, look for similarity that could be abstracted"
   ]
  },
  {
   "cell_type": "code",
   "execution_count": null,
   "metadata": {},
   "outputs": [],
   "source": [
    "# __it__ method\n",
    "* Overloads the < operator. \n",
    "* Called whenever the first argument to the < operator is of the type of class with a defined __it__"
   ]
  },
  {
   "cell_type": "code",
   "execution_count": null,
   "metadata": {},
   "outputs": [],
   "source": [
    "# Inheritance\n",
    "* Mechanism for bilding groups of related abstractions.\n",
    "* Inherits all attributes of its superclass\n",
    "* can add new attributes.\n",
    "Overidei.e replace attributes of the superclass\n",
    "* in order to create uniqueness of objects, __init__ could effect a data attribue of the class, e.g. class.id += 1\n",
    "* Subc;ass should extend the behavior of a superclass. this is done by adding new attributes or overriding attributes inherited from a superclass. \n",
    "* When overriding methods from the superclass. one should always test that a instance of the subclass works correctly, as well as an instance of the superclass"
   ]
  },
  {
   "cell_type": "code",
   "execution_count": null,
   "metadata": {},
   "outputs": [],
   "source": [
    "# Encapsulation ad Information Hiding\n",
    "* Encapsulation is the bundling together of data attributes and the methods for operating on them.\n",
    "* Information hiding - When the consumption of a class relies only on the methods supplied by the class and is independent from the implementation of the class, it is said that the information is hidden from the consumer of the class. in python, when a naming attribute starts with a dunder but does not end with a dunder, that attribute is not visible outside the class.\n",
    "* A subclass can't use a hidden attribute of its superclass."
   ]
  },
  {
   "source": [
    "# Generator\n",
    "* a function that contains **yield** statement\n",
    "* used in conjunction with ***for*** statements\n"
   ],
   "cell_type": "markdown",
   "metadata": {}
  },
  {
   "cell_type": "code",
   "execution_count": null,
   "metadata": {},
   "outputs": [],
   "source": []
  }
 ]
}