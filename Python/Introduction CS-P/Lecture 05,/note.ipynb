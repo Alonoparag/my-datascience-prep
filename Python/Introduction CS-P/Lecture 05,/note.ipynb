{
 "metadata": {
  "language_info": {
   "codemirror_mode": {
    "name": "ipython",
    "version": 3
   },
   "file_extension": ".py",
   "mimetype": "text/x-python",
   "name": "python",
   "nbconvert_exporter": "python",
   "pygments_lexer": "ipython3",
   "version": "3.8.6-final"
  },
  "orig_nbformat": 2,
  "kernelspec": {
   "name": "python3",
   "display_name": "Python 3"
  }
 },
 "nbformat": 4,
 "nbformat_minor": 2,
 "cells": [
  {
   "source": [
    "# Tuples\n",
    "* Tuples are sequences of data. the data could be of any type. They are imuttable\n",
    "* we can use indexes to reach elements in a tuple\n",
    "* typle can be concatenated, sliced, have their length evaluated\n",
    "* a print of singelton tuple would be (1,)\n",
    "* t[\\1] = 4 will raise an error\n",
    "* tuples are itterable with for loops. the loop will iterate over the tuple objects, NOT OVER THE INDICES, also could be checked for a presence of an elemnt with in (for)\n",
    "## Use cases\n",
    "* Swaping variable values (x, y) = (y, x)\n",
    "* Returning more than one value from a function $\\to$ return (x, y)"
   ],
   "cell_type": "markdown",
   "metadata": {}
  },
  {
   "source": [
    "#Lists\n",
    "* Mutable\n",
    "* sequence of data, coulbd be of any type.\n",
    "* is iterable - Can index, slice, use for loop. can't index outside of a list. can have expression on index such as  i-1. iteration is over the elements\n",
    "* append adds element to the end of the Lists\n",
    "* the + operator concatenates 2 lists into a new list\n",
    "* list.extend mutates a list by adding another list to teh end of the first list\n",
    "* del(L[i]) deletes an element at i\n",
    "* l.pop() removes the last element and returns it\n",
    "* l.remove(element) the first occurance of a elemnt in the list. if it is not in the list it raises an error\n",
    "* list(string) returns a string with every charachter in string as an element in the returned list\n",
    "* s.split(delimiter) split a string on a character parameterl, splits on space if called without a parameter\n",
    "* ''.join(l) returns a string from a list of charachter elements, can give a charachter in quotes between every element\n",
    "* l.sort() sorts a list, and mutates it, and DOESN NOT RETURNS A LIST\n",
    "* sorted(l) returns a new sorted list"
   ],
   "cell_type": "markdown",
   "metadata": {}
  },
  {
   "cell_type": "code",
   "execution_count": null,
   "metadata": {},
   "outputs": [],
   "source": [
    "# Mutation, Aliasing, Cloning\n",
    "* a variable points to an object in memory . if more than one variable points to an object, and the objet is mutated, all of the variables that point (alias) to the object point to the mutated object\n",
    "* cloning is done by the notation [:], and creates a new iterable object (e.g list)"
   ]
  },
  {
   "cell_type": "code",
   "execution_count": 4,
   "metadata": {},
   "outputs": [
    {
     "output_type": "error",
     "ename": "TypeError",
     "evalue": "unhashable type: 'slice'",
     "traceback": [
      "\u001b[0;31m---------------------------------------------------------------------------\u001b[0m",
      "\u001b[0;31mTypeError\u001b[0m                                 Traceback (most recent call last)",
      "\u001b[0;32m<ipython-input-4-cf0945445cac>\u001b[0m in \u001b[0;36m<module>\u001b[0;34m\u001b[0m\n\u001b[1;32m      1\u001b[0m \u001b[0mstr\u001b[0m \u001b[0;34m=\u001b[0m\u001b[0;34m{\u001b[0m\u001b[0;34m'a'\u001b[0m\u001b[0;34m:\u001b[0m\u001b[0;36m1\u001b[0m\u001b[0;34m,\u001b[0m \u001b[0;34m'b'\u001b[0m\u001b[0;34m:\u001b[0m \u001b[0;36m2\u001b[0m\u001b[0;34m}\u001b[0m\u001b[0;34m\u001b[0m\u001b[0;34m\u001b[0m\u001b[0m\n\u001b[0;32m----> 2\u001b[0;31m \u001b[0mst\u001b[0m \u001b[0;34m=\u001b[0m \u001b[0mstr\u001b[0m\u001b[0;34m[\u001b[0m\u001b[0;34m:\u001b[0m\u001b[0;34m]\u001b[0m\u001b[0;34m\u001b[0m\u001b[0;34m\u001b[0m\u001b[0m\n\u001b[0m\u001b[1;32m      3\u001b[0m \u001b[0mst\u001b[0m\u001b[0;34m\u001b[0m\u001b[0;34m\u001b[0m\u001b[0m\n",
      "\u001b[0;31mTypeError\u001b[0m: unhashable type: 'slice'"
     ]
    }
   ],
   "source": [
    "str ={'a':1, 'b': 2}\n",
    "st = str[:]\n",
    "st"
   ]
  }
 ]
}