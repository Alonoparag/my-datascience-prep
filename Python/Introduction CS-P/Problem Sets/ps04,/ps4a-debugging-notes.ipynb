{
 "cells": [
  {
   "cell_type": "code",
   "execution_count": null,
   "metadata": {},
   "outputs": [],
   "source": [
    "print('hello')"
   ]
  },
  {
   "cell_type": "code",
   "execution_count": 1,
   "metadata": {},
   "outputs": [
    {
     "data": {
      "text/markdown": [
       "## BUG 24.12.2020 09:38\n",
       "## Output\n",
       "abc, cb, , cab, ba, , bca, ac, , \n",
       "## Error\n",
       "While running the permutation function on a 3 charachters long string, the permutation function doesn't conatenate the letter on the first\n",
       "## Hypothesis\n",
       "## Experiment\n",
       "## Result\n"
      ],
      "text/plain": [
       "<IPython.core.display.Markdown object>"
      ]
     },
     "metadata": {},
     "output_type": "display_data"
    }
   ],
   "source": [
    "%%markdown\n",
    "## BUG 24.12.2020 09:38\n",
    "## Output\n",
    "abc, cb, , cab, ba, , bca, ac, , \n",
    "## Error\n",
    "While running the permutation function on a 3 charachters long string,\n",
    "the permutation function doesn't conatenate the letter on the first position with the rest of the string which was ermutated\n",
    "## Hypothesis\n",
    "## Experiment\n",
    "## Result"
   ]
  }
 ],
 "metadata": {
  "kernelspec": {
   "display_name": "Python 3",
   "language": "python",
   "name": "python3"
  },
  "language_info": {
   "codemirror_mode": {
    "name": "ipython",
    "version": 3
   },
   "file_extension": ".py",
   "mimetype": "text/x-python",
   "name": "python",
   "nbconvert_exporter": "python",
   "pygments_lexer": "ipython3",
   "version": "3.8.6"
  }
 },
 "nbformat": 4,
 "nbformat_minor": 4
}
