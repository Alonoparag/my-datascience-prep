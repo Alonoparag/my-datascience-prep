{
 "cells": [
  {
   "cell_type": "code",
   "execution_count": 13,
   "metadata": {},
   "outputs": [
    {
     "name": "stdout",
     "output_type": "stream",
     "text": [
      "appending\n",
      "returning base\n"
     ]
    },
    {
     "data": {
      "text/plain": [
       "['ab']"
      ]
     },
     "execution_count": 13,
     "metadata": {},
     "output_type": "execute_result"
    }
   ],
   "source": [
    ")# function_1 receive argument 'a,'\n",
    "# function_1 concatenates 'a' to return_string\n",
    "# function_1 returns return_string\n",
    "\n",
    "# function_2 receive argument 'ab'\n",
    "# function_2 calls function_1 with argument 'b'\n",
    "#     function_1 receive argument b\n",
    "#     function_1 concatenates b to return_string\n",
    "#     function_1 returns return_string\n",
    "# function_2 concatenates 'a' +'b' as  'ab, ' into return_string\n",
    "# ------------\n",
    "# function_2 checks if 'ba' is in return_string\n",
    "#     if no:\n",
    "#         function_2 switches between index_0 and index_(0+1) and stores as 'ba'\n",
    "#         function_2 calls function_1 with argument 'a'\n",
    "#             function_1 receive argument 'a'\n",
    "#             function_1 appends 'a' to return_string\n",
    "#             function_1 returns return_string\n",
    "# function_2 concatenates 'b'+'a' as 'ba, ' into return string\n",
    "# ------------\n",
    "# function_2 returns return_string 'ab, ba, '\n",
    "\n",
    "\n",
    "\n",
    "# function_3 receive argument 'abc'\n",
    "# function_3 calls function_2 with argument 'bc'\n",
    "#     function_2 receive argument 'bc'\n",
    "#     function_2 calls function_1 with argument 'c'\n",
    "#         function_1 receive argumentc\n",
    "#         function_1 concatenatesc to return_string\n",
    "#         function_1 returns return_string\n",
    "#     function_2 concatenates 'b' +'c' as  'bc, ' into return_string\n",
    "#     ------------\n",
    "#     function_2 checks if 'cb' is in return_string\n",
    "#         if no:\n",
    "#             function_2 switches between index_0 and index_(0+1) and stores as 'cb'\n",
    "#             function_2 calls function_1 with argument 'b'\n",
    "#                 function_1 receive argument 'b'\n",
    "#                 function_1 appends 'b' to return_string\n",
    "#                 function_1 returns return_string\n",
    "#     function_2 concatenates 'c'+'b' as 'ba, ' into return string\n",
    "#     ------------\n",
    "#     function_2 returns return_string 'bc, cb, '\n",
    "# function_3 concatenates 'a'+'bc', 'a'+'cb' into return_string\n",
    "# --------------\n",
    "# function_3 checks if 'bac' is in return_string\n",
    "#     if no:\n",
    "#         function_3 switches between index_0 and index_(0+1) and stores as 'bac'\n",
    "#         function_3 calls function_2 with argument 'ac'\n",
    "#             function_2 receive argument 'ac'\n",
    "#             function_2 calls function_1 with argument 'c'\n",
    "#                 function_1 receive argument 'c'\n",
    "#                 function_1 concatenates 'c' to return_string\n",
    "#                 function_1 returns return_string\n",
    "#             function_2 concatenates 'a' +'c' as  'ac, ' into return_string\n",
    "#             ------------\n",
    "#             function_2 checks if 'ca' is in return_string\n",
    "#                 if no:\n",
    "#                     function_2 switches between index_0 and index_(0+1) and stores as 'ca'\n",
    "#                     function_2 calls function_1 with argument 'a'\n",
    "#                         function_1 receive argument 'a'\n",
    "#                         function_1 appends 'a' to return_string\n",
    "#                         function_1 returns return_string\n",
    "#             function_2 concatenates 'b'+'a' as 'ca, ' into return string\n",
    "#             ------------\n",
    "#             function_2 returns return_string 'ac, ca, '\n",
    "# function_3 concatenates 'b'+'ac', 'b'+'ca' into return_string\n",
    "# --------------\n",
    "# function_3 checks if 'abc' is in return_string\n",
    "#     if yes:\n",
    "#         function_3 switches between index_0 and index_(0+1+1) and stores as 'cab'\n",
    "#         function_3 calls function_2 with argument 'ab'\n",
    "#             function_2 receive argument 'ab'\n",
    "#             function_2 calls function_1 with argument 'b'\n",
    "#                 function_1 receive argument b\n",
    "#                 function_1 concatenates b to return_string\n",
    "#                 function_1 returns return_string\n",
    "#             function_2 concatenates 'a' +'b' as  'ab, ' into return_string\n",
    "#             ------------\n",
    "#             function_2 checks if 'ba' is in return_string\n",
    "#                 if no:\n",
    "#                     function_2 switches between index_0 and index_(0+1) and stores as 'ba'\n",
    "#                     function_2 calls function_1 with argument 'a'\n",
    "#                         function_1 receive argument 'a'\n",
    "#                         function_1 appends 'a' to return_string\n",
    "#                         function_1 returns return_string\n",
    "#             function_2 concatenates 'b'+'a' as 'ba, ' into return string\n",
    "#             ------------\n",
    "#             function_2 returns return_string 'ab, ba, '\n",
    "# function_3 concatenates 'c'+'ab', 'c'+'ba' into return_string\n",
    "# --------------\n",
    "# function_3 returns list joined to a string 'abc acb bac bca cab cba'\n",
    "\n"
   ]
  },
  {
   "cell_type": "code",
   "execution_count": 14,
   "metadata": {},
   "outputs": [
    {
     "name": "stdout",
     "output_type": "stream",
     "text": [
      "abcde\n",
      "['e', 'a', 'bcd']\n",
      "eabcd\n",
      "['d', 'e', 'abc']\n",
      "deabc\n",
      "['c', 'd', 'eab']\n",
      "cdeab\n",
      "['b', 'c', 'dea']\n",
      "bcdea\n"
     ]
    }
   ],
   "source": [
    "c = 'abcde'\n",
    "print(c)\n",
    "x=1\n",
    "for i in range(len(c)-1):\n",
    "    letter_list = []\n",
    "    letter_list.append(c[-1:])\n",
    "    letter_list.append(c[0:1])\n",
    "    letter_list.append(c[1:-1])\n",
    "    print(letter_list)\n",
    "    c = ''.join(letter_list)\n",
    "    print(c)"
   ]
  },
  {
   "cell_type": "code",
   "execution_count": null,
   "metadata": {},
   "outputs": [],
   "source": [
    "# function_base receive argument of length 1\n",
    "# function_base concatenates argument to return_string\n",
    "# function_base returns return_string\n",
    "# +++\n",
    "# function_2 receive argument of length 2\n",
    "# function_2 while 'argument[0:] and argument[0+1:]' is in return_string\n",
    "#     if no:\n",
    "# function_2 concatenates argument[:1] and function_base([argument[1:]])into return string\n",
    "# ---\n",
    "# function_2 while 'argument[0:] and argument[0+1:]' is in return_string\n",
    "#     if no:\n",
    "# function_2 stores 'argument[0:] and argument[0+1:]' in argument\n",
    "# function_2 concatenates argument[:1] and function_base(argument[1:])into return string\n",
    "# ---\n",
    "# function_2 returns return_string\n",
    "# +++\n",
    "# function_3 receives argument of length 3\n",
    "# function_3 concatenates argument[:1] and function_2(argument[1:]) into return string\n",
    "# ---\n",
    "# function_3 while 'argument[1]+argument[0]+argument[2]' is in return string\n",
    "#     if no:\n",
    "# function_3 stores 'argument[1]+argument[0]+argument[2]' in argument\n",
    "# function_3 concatenates argument[:1] and function_2(argument[1:]) into return string\n",
    "# ---\n",
    "# function_3 while 'argument[1]+argument[0]+argument[2] is in return string\n",
    "#     if yes:\n",
    "#     function_3 stores 'argument[1+1]+argument[0]+argument[2-1] in argument\n",
    "# function_3 concatenates argument[:1] and function_2(argument[1:]) into return string\n",
    "# function_3 returns return_string\n"
   ]
  },
  {
   "cell_type": "code",
   "execution_count": null,
   "metadata": {},
   "outputs": [],
   "source": [
    "%%markdown\n",
    "function_base receives a sequence of length 1\n",
    "    function_base returns sequence\n",
    "+++\n",
    "function receives a sequence of length n\n",
    "function assigns '' to return_string\n",
    "function for i in range(len(sequence) - 1)\n",
    "    function checks if sequence in return_string\n",
    "    if yes:\n",
    "        counter is initialized to 1\n",
    "        while sequence in return_string:\n",
    "            \n",
    "            function stores 'sequence[-1] + sequence[0] + sequence[1:-1]' in sequence\n",
    "    function concatenates sequence[:1] and function_base(sequence[1:])into return string\n",
    "function returns return_string\n",
    "+++\n",
    "function receives sequence of length_n"
   ]
  },
  {
   "cell_type": "code",
   "execution_count": 110,
   "metadata": {},
   "outputs": [
    {
     "name": "stdout",
     "output_type": "stream",
     "text": [
      "sequence join c\n",
      "sequence join b\n",
      "sequence join bccb\n",
      "sequence join b\n",
      "sequence join a\n",
      "sequence join abba\n"
     ]
    },
    {
     "ename": "AssertionError",
     "evalue": "Infinite Loop Error",
     "output_type": "error",
     "traceback": [
      "\u001b[0;31m---------------------------------------------------------------------------\u001b[0m",
      "\u001b[0;31mAssertionError\u001b[0m                            Traceback (most recent call last)",
      "\u001b[0;32m<ipython-input-110-ae6a064296f3>\u001b[0m in \u001b[0;36m<module>\u001b[0;34m\u001b[0m\n\u001b[1;32m     30\u001b[0m \u001b[0;31m# +++\u001b[0m\u001b[0;34m\u001b[0m\u001b[0;34m\u001b[0m\u001b[0;34m\u001b[0m\u001b[0m\n\u001b[1;32m     31\u001b[0m \u001b[0;31m# function receives argument of length_n\u001b[0m\u001b[0;34m\u001b[0m\u001b[0;34m\u001b[0m\u001b[0;34m\u001b[0m\u001b[0m\n\u001b[0;32m---> 32\u001b[0;31m \u001b[0mprint\u001b[0m\u001b[0;34m(\u001b[0m\u001b[0mperm\u001b[0m\u001b[0;34m(\u001b[0m\u001b[0;34m'abc'\u001b[0m\u001b[0;34m)\u001b[0m\u001b[0;34m)\u001b[0m\u001b[0;34m\u001b[0m\u001b[0;34m\u001b[0m\u001b[0m\n\u001b[0m",
      "\u001b[0;32m<ipython-input-110-ae6a064296f3>\u001b[0m in \u001b[0;36mperm\u001b[0;34m(sequence)\u001b[0m\n\u001b[1;32m     20\u001b[0m                     \u001b[0msequence\u001b[0m \u001b[0;34m=\u001b[0m \u001b[0msequence\u001b[0m\u001b[0;34m[\u001b[0m\u001b[0;34m-\u001b[0m\u001b[0;36m1\u001b[0m\u001b[0;34m]\u001b[0m \u001b[0;34m+\u001b[0m \u001b[0msequence\u001b[0m\u001b[0;34m[\u001b[0m\u001b[0;36m0\u001b[0m\u001b[0;34m]\u001b[0m \u001b[0;34m+\u001b[0m \u001b[0msequence\u001b[0m\u001b[0;34m[\u001b[0m\u001b[0;36m1\u001b[0m\u001b[0;34m:\u001b[0m\u001b[0;34m-\u001b[0m\u001b[0;36m1\u001b[0m\u001b[0;34m]\u001b[0m\u001b[0;34m\u001b[0m\u001b[0;34m\u001b[0m\u001b[0m\n\u001b[1;32m     21\u001b[0m                     \u001b[0mloop_guard\u001b[0m\u001b[0;34m+=\u001b[0m\u001b[0;36m1\u001b[0m\u001b[0;34m\u001b[0m\u001b[0;34m\u001b[0m\u001b[0m\n\u001b[0;32m---> 22\u001b[0;31m                     \u001b[0;32massert\u001b[0m \u001b[0mloop_guard\u001b[0m \u001b[0;34m<\u001b[0m \u001b[0mlen\u001b[0m\u001b[0;34m(\u001b[0m\u001b[0msequence\u001b[0m\u001b[0;34m)\u001b[0m\u001b[0;34m,\u001b[0m \u001b[0;34m'Infinite Loop Error'\u001b[0m\u001b[0;34m\u001b[0m\u001b[0;34m\u001b[0m\u001b[0m\n\u001b[0m\u001b[1;32m     23\u001b[0m \u001b[0;34m\u001b[0m\u001b[0m\n\u001b[1;32m     24\u001b[0m \u001b[0;31m#     function concatenates argument[:1] and function_base([argument[1:]])into return string\u001b[0m\u001b[0;34m\u001b[0m\u001b[0;34m\u001b[0m\u001b[0;34m\u001b[0m\u001b[0m\n",
      "\u001b[0;31mAssertionError\u001b[0m: Infinite Loop Error"
     ]
    }
   ],
   "source": [
    "def perm(sequence):\n",
    "    # function assigns '' to return_string\n",
    "    return_string = ''\n",
    "    # function_base receives an argument of length 1\n",
    "    if len(sequence) == 1:\n",
    "    #     function_base returns argument\n",
    "        return sequence\n",
    "# +++\n",
    "# function receives argument of length n\n",
    "    else:\n",
    "    # function for i in range(len(argument) - 1)\n",
    "        for i in range(len(sequence)):\n",
    "#     function checks if argument in return_string\n",
    "            if sequence in return_string:\n",
    "#     if yes:\n",
    "#         while argument in return_string:\n",
    "                loop_guard = 0\n",
    "                while sequence in return_string:\n",
    "    #             function stores 'argument[-1] + argument[0] + argument[1:-1]' in argument\n",
    "                    sequence = sequence[-1] + sequence[0] + sequence[1:-1]\n",
    "                    loop_guard+=1\n",
    "                    assert loop_guard < len(sequence), 'Infinite Loop Error'\n",
    "\n",
    "#     function concatenates argument[:1] and function_base([argument[1:]])into return string\n",
    "            list_perm = [perm(sequence[1:])]\n",
    "            print('sequence join',sequence[:1].join(list_perm))\n",
    "            return_string+= sequence[:1] + sequence[:1].join(list_perm)\n",
    "# function returns return_string\n",
    "        return return_string\n",
    "# +++\n",
    "# function receives argument of length_n\n",
    "print(perm('abc'))\n"
   ]
  },
  {
   "cell_type": "code",
   "execution_count": 93,
   "metadata": {},
   "outputs": [
    {
     "name": "stdout",
     "output_type": "stream",
     "text": [
      "aa, ab\n"
     ]
    }
   ],
   "source": [
    "list_a = ['a','b']\n",
    "print('a'+', a'.join(list_a))"
   ]
  }
 ],
 "metadata": {
  "kernelspec": {
   "display_name": "Python 3",
   "language": "python",
   "name": "python3"
  },
  "language_info": {
   "codemirror_mode": {
    "name": "ipython",
    "version": 3
   },
   "file_extension": ".py",
   "mimetype": "text/x-python",
   "name": "python",
   "nbconvert_exporter": "python",
   "pygments_lexer": "ipython3",
   "version": "3.8.6"
  }
 },
 "nbformat": 4,
 "nbformat_minor": 4
}
