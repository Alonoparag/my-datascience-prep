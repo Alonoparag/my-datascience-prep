{
 "metadata": {
  "language_info": {
   "codemirror_mode": {
    "name": "ipython",
    "version": 3
   },
   "file_extension": ".py",
   "mimetype": "text/x-python",
   "name": "python",
   "nbconvert_exporter": "python",
   "pygments_lexer": "ipython3",
   "version": "3.8.6-final"
  },
  "orig_nbformat": 2,
  "kernelspec": {
   "name": "python3",
   "display_name": "Python 3"
  }
 },
 "nbformat": 4,
 "nbformat_minor": 2,
 "cells": [
  {
   "cell_type": "code",
   "execution_count": null,
   "metadata": {},
   "outputs": [],
   "source": [
    "procedure generate(k : integer, A : array of any):\n",
    "    if k = 1 then\n",
    "        output(A)\n",
    "    else\n",
    "        // Generate permutations with kth unaltered\n",
    "        // Initially k == length(A)\n",
    "        generate(k - 1, A)\n",
    "\n",
    "        // Generate permutations for kth swapped with each k-1 initial\n",
    "        for i := 0; i < k-1; i += 1 do\n",
    "            // Swap choice dependent on parity of k (even or odd)\n",
    "            if k is even then\n",
    "                swap(A[i], A[k-1]) // zero-indexed, the kth is at k-1\n",
    "            else\n",
    "                swap(A[0], A[k-1])\n",
    "            end if\n",
    "            generate(k - 1, A)\n",
    "\n",
    "        end for\n",
    "    end if"
   ]
  },
  {
   "cell_type": "code",
   "execution_count": null,
   "metadata": {},
   "outputs": [],
   "source": [
    "# Differences between my imlpementation and the pseudocode\n",
    "### taken from ttps://en.wikipedia.org/wiki/Heap%27s_algorithm at 28.12.2020 16:38\n",
    "\n",
    "1) the pseudocode calls the first recursion before the loop, while my code calls it within the loop\n",
    "2) the range of the loop is smaller by 2 step than the length in the pseudocode, while in my implementaion the range is smaller by 1 step\n",
    "3) pseudocode: the even swap is between position[i] and last position. **my implementation** its between the middle and the last position\n",
    "4) pseudocode: the odd swap is between position[0] and the last position. **my implementation** between position[0] and position[i]\n",
    "\n",
    "## analysis of every change to the pseudo code\n",
    "1) moving the first call outside of the loop decreased the steps in my implementation by 5 steps, while the results with l = 3,4 remained the same.\n",
    "2) **Implementing the swaps** implementing the swaps with and without the other differences, actually caused a bug of returning only 4 permutations in l = 3, but in l = 4 increased the permutations to 16"
   ]
  },
  {
   "cell_type": "code",
   "execution_count": 71,
   "metadata": {},
   "outputs": [
    {
     "output_type": "stream",
     "name": "stdout",
     "text": [
      "['aeiou', 'auioe', 'eaiou', 'euioa', 'iaeou', 'iueoa', 'aeuoi', 'aiuoe', 'eauoi', 'eiuoa', 'uaeoi', 'uieoa', 'oaeiu', 'oueia', 'aoeiu', 'aueio', 'eoaiu', 'euaio', 'oauie', 'oeuia', 'aouie', 'aeuio', 'uoaie', 'ueaio', 'uaeio', 'uoeia', 'uaoie', 'ueoia', 'auoie', 'aeoiu', 'ouaie', 'oeaiu']\n32\n"
     ]
    }
   ],
   "source": [
    "def switch(string,pos1, pos2):\n",
    "    list1 = list(string)\n",
    "    list2 = list(string)\n",
    "    list2[pos1] = list1[pos2]\n",
    "    list2[pos2] = list1[pos1]\n",
    "    return ''.join(list2)\n",
    "\n",
    "def perm(sequence, length, return_string = ''):\n",
    "    if length == 1:\n",
    "        if not sequence in return_string:\n",
    "            return_string += sequence+' '\n",
    "        return return_string\n",
    "    for i in range(length):\n",
    "        if not sequence in return_string:\n",
    "            return_string = perm(sequence, length-1, return_string)\n",
    "        if (length)%2 == 0:\n",
    "            sequence=switch(sequence, length//2,-1)\n",
    "        else:\n",
    "            sequence=switch(sequence, 0, i)\n",
    "        if not sequence in return_string:\n",
    "            return_string = perm(sequence, length-1, return_string)\n",
    "    return return_string\n",
    "\n",
    "seq='aeiou'\n",
    "print(perm(seq,len(seq)).strip().split(\" \"))\n",
    "print(len(perm(seq,len(seq)).strip().split(\" \")))"
   ]
  },
  {
   "cell_type": "code",
   "execution_count": null,
   "metadata": {},
   "outputs": [],
   "source": [
    "def switch(string,pos1, pos2):\n",
    "    list1 = list(string)\n",
    "    list2 = list(string)\n",
    "    list2[pos1] = list1[pos2]\n",
    "    list2[pos2] = list1[pos1]\n",
    "    return ''.join(list2)\n",
    "\n",
    "def perm(sequence, i, length, return_string = ''):\n",
    "    if i == length:\n",
    "        return return_string+sequence + ' '\n",
    "    for j in range(i, length):\n",
    "        sequence = switch(sequence, i, j)\n",
    "        return_string = perm(sequence,i+1, length, return_string)\n",
    "        sequence = switch(sequence, i, j)\n",
    "    return return_string\n",
    "seq = 'abc'\n",
    "print(len(perm(seq,len(seq)).strip().split(\" \")))\n",
    "print(perm(seq,len(seq)).strip().split(\" \"))"
   ]
  },
  {
   "cell_type": "code",
   "execution_count": 25,
   "metadata": {},
   "outputs": [
    {
     "output_type": "stream",
     "name": "stdout",
     "text": [
      "['abcd', 'bacd', 'acbd', 'cabd', 'cbad', 'bcad', 'abdc', 'badc', 'adbc', 'dabc', 'dbac', 'bdac', 'adcb', 'dacb', 'acdb', 'cadb', 'cdab', 'dcab', 'dbca', 'bdca', 'dcba', 'cdba', 'cbda', 'bcda']\n24\n"
     ]
    }
   ],
   "source": [
    "answer=[]\n",
    "def perm(sequence, length,i):\n",
    "    if i == 1:\n",
    "        if not ''.join(sequence) in answer:\n",
    "            answer.append(''.join(sequence))\n",
    "    else:\n",
    "        for j in range(i-1, -1, -1):\n",
    "            sequence[j],sequence[i-1] = sequence[i-1],sequence[j]\n",
    "            perm(sequence,length,i-1)\n",
    "            sequence[j],sequence[i-1] = sequence[i-1],sequence[j]\n",
    "\n",
    "seq = 'abcd'\n",
    "perm(list(seq), len(seq), len(seq))\n",
    "print(answer)\n",
    "print(len(answer))"
   ]
  },
  {
   "cell_type": "code",
   "execution_count": 70,
   "metadata": {},
   "outputs": [
    {
     "output_type": "stream",
     "name": "stdout",
     "text": [
      "['aeiou', 'eaiou', 'ieaou', 'eiaou', 'oeiau', 'eoiau', 'ieoau', 'eioau', 'oaieu', 'aoieu', 'iaoeu', 'aioeu', 'oaeiu', 'aoeiu', 'eaoiu', 'aeoiu', 'ueioa', 'euioa', 'ieuoa', 'eiuoa', 'oeiua', 'eoiua', 'ieoua', 'eioua', 'ouiea', 'uoiea', 'iuoea', 'uioea', 'oueia', 'uoeia', 'euoia', 'ueoia']\n32\n"
     ]
    }
   ],
   "source": [
    "def switch(string,pos1, pos2):\n",
    "    list1 = list(string)\n",
    "    list2 = list(string)\n",
    "    list2[pos1] = list1[pos2]\n",
    "    list2[pos2] = list1[pos1]\n",
    "    return ''.join(list2)\n",
    "\n",
    "def perm(sequence, length, return_string = ''):\n",
    "    if length == 1:\n",
    "        if not sequence in return_string:\n",
    "            return_string += sequence+' '\n",
    "        return return_string\n",
    "    if not sequence in return_string:\n",
    "        return_string = perm(sequence, length-1, return_string)\n",
    "    for i in range(length):\n",
    "        if length%2 == 0:\n",
    "            sequence=switch(sequence, i, length-1)\n",
    "        else:\n",
    "            sequence=switch(sequence, 0,length-1)\n",
    "        if not sequence in return_string:\n",
    "            return_string = perm(sequence, length-1, return_string)\n",
    "    return return_string\n",
    "seq = 'aeiou'\n",
    "print(perm(seq,len(seq)).strip().split(\" \"))\n",
    "print(len(perm(seq,len(seq)).strip().split(\" \")))\n"
   ]
  }
 ]
}