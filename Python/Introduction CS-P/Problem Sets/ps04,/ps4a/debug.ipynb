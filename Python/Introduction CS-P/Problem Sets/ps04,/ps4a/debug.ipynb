{
 "metadata": {
  "language_info": {
   "codemirror_mode": {
    "name": "ipython",
    "version": 3
   },
   "file_extension": ".py",
   "mimetype": "text/x-python",
   "name": "python",
   "nbconvert_exporter": "python",
   "pygments_lexer": "ipython3",
   "version": 3
  },
  "orig_nbformat": 2
 },
 "nbformat": 4,
 "nbformat_minor": 2,
 "cells": [
  {
   "cell_type": "code",
   "execution_count": null,
   "metadata": {},
   "outputs": [],
   "source": [
    "## BUG 28.12.2020 12:29\n",
    "## Output\n",
    "Global frame\n",
    "switch\t\n",
    " \n",
    "perm\t\n",
    " \n",
    "perm\n",
    "sequence\t\"acb\"\n",
    "length\t3\n",
    "return_string\t\"abc acb bca acb abc cba \"\n",
    "i\t1\n",
    "to_add\t\"acb abc cba \"\n",
    "\t\n",
    "Objects\n",
    "\t\n",
    "function\n",
    "switch(string, pos1, pos2)\n",
    "\t\n",
    "function\n",
    "perm(sequence, length)\n",
    "\n",
    "## Error\n",
    "the function returns another set of 3 permutations of the sequence\n",
    "## Hypothesis\n",
    "on each top level iteration, the function returns a string of 3 permutations of the sequence\n",
    "## Experiment\n",
    "Insert return_string as an argument in the function call to check the existence of every new permutation\n",
    "## Result"
   ]
  },
  {
   "cell_type": "code",
   "execution_count": null,
   "metadata": {},
   "outputs": [],
   "source": [
    "## BUG Date Hour\n",
    "## Output\n",
    "## Error\n",
    "## Hypothesis\n",
    "## Experiment\n",
    "## Result"
   ]
  }
 ]
}