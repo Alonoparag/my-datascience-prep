{
 "cells": [
  {
   "cell_type": "markdown",
   "metadata": {},
   "source": [
    "## derived from architecture\n",
    "* check that guessed letters are not in remaining letters\n",
    "* test cases:\n",
    "    * 0 guessed letters\n",
    "    * 1 guessed letters\n",
    "    * 5 guessed letters\n",
    "### exceptions"
   ]
  },
  {
   "cell_type": "markdown",
   "metadata": {},
   "source": [
    "## derived from user-computer interaction\n",
    "### tests\n",
    "* cases:\n",
    "    * input is within the secret word: doesn't reduces a guess and added to the guessed letter\n",
    "    * input is not within the secret word: reduces a guess and added to guessed letters\n",
    "### exceptions\n",
    "* user supplies a non alphabet charachter\n",
    "* user supplies an empty input\n",
    "* user supplies more than one charachter"
   ]
  },
  {
   "cell_type": "code",
   "execution_count": null,
   "metadata": {},
   "outputs": [],
   "source": [
    "## derived from User input requirements\n",
    "### tests cases\n",
    "* user supplies a valid letter after 0 errors\n",
    "* user supplies a valid letter after 1 errors\n",
    "* user supplies a valid letter after 2 errors\n",
    "* invalid input with 0 warnings left reduceses a guess\n",
    "* valid input doesn't reduces a warning\n",
    "* valid input resets the warning count to 3\n",
    "### exceptions\n",
    "* user supplies a letter already guessed"
   ]
  },
  {
   "cell_type": "code",
   "execution_count": null,
   "metadata": {},
   "outputs": [],
   "source": [
    "## derived from game rules\n",
    "### test cases\n",
    "* input is consonant:\n",
    "    * case: consonant is in the word\n",
    "    * case: consonant is not int the word - loses one guess\n",
    "* input is vowel (a,e,i,o,u):\n",
    "    * vowel is in the word\n",
    "    * vowel is not in the word - loses two guesses\n",
    "### exceptions\n",
    "* "
   ]
  },
  {
   "cell_type": "code",
   "execution_count": null,
   "metadata": {},
   "outputs": [],
   "source": [
    "## derived from game termination\n",
    "### test cases\n",
    "* guesses >=1 returns (isGameGoing == True, isGameWon == False) \n",
    "* guesses == 0 returns (isGameGoing == \n",
    "False, isGameWon == False) \n",
    "* is_word_guessed == True returns (isGameGoing == False, isGameWon == True)\n",
    "### exceptions\n",
    "* "
   ]
  },
  {
   "cell_type": "code",
   "execution_count": null,
   "metadata": {},
   "outputs": [],
   "source": [
    "## derived from general hints\n",
    "### test cases\n",
    "* \n",
    "### exceptions\n",
    "* guesses_remaining < 0\n",
    "* warning_remaining < 0"
   ]
  }
 ],
 "metadata": {
  "kernelspec": {
   "display_name": "Python 3 (Spyder)",
   "language": "python3",
   "name": "python3"
  },
  "language_info": {
   "codemirror_mode": {
    "name": "ipython",
    "version": 3
   },
   "file_extension": ".py",
   "mimetype": "text/x-python",
   "name": "python",
   "nbconvert_exporter": "python",
   "pygments_lexer": "ipython3",
   "version": "3.8.6"
  }
 },
 "nbformat": 4,
 "nbformat_minor": 4
}
