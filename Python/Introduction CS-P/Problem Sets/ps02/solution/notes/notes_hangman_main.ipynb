{
 "metadata": {
  "language_info": {
   "codemirror_mode": {
    "name": "ipython",
    "version": 3
   },
   "file_extension": ".py",
   "mimetype": "text/x-python",
   "name": "python",
   "nbconvert_exporter": "python",
   "pygments_lexer": "ipython3",
   "version": "3.8.6-final"
  },
  "orig_nbformat": 2,
  "kernelspec": {
   "name": "python3",
   "display_name": "Python 3"
  }
 },
 "nbformat": 4,
 "nbformat_minor": 2,
 "cells": [
  {
   "source": [
    "## architecture\n",
    "* initial guesses: 6\n",
    "* at the initial round and each round let the user know how many letters the computer's word contains and how many guesses s/he starts with\n",
    "* function keep track of all the letters the user has not guessed so far and before each turn shows the user the \"remaining letters\""
   ],
   "cell_type": "markdown",
   "metadata": {}
  },
  {
   "source": [
    "## user-computer interaction:\n",
    "1. before each guess, the function display to the user:\n",
    "<br><br>    a. how many guesses s/he has left after each guess.\n",
    "<br><br>    b.  all the letters the user has not yet guessed\n",
    "2.  Ask the user to supply one guess at a time.\n",
    "3. Immediately after each guess, the user should be told whether the letter is in the computer's word.\n",
    "4. After each guess, the computer should also display to the user the computer's word, with guessed letters displayed and unguessed letters replaced with an underscore and space('_ ')\n",
    "5. At the end of the guess, print some dashes (-----)  to help seperate individual guesses from each other"
   ],
   "cell_type": "code",
   "metadata": {},
   "execution_count": null,
   "outputs": []
  },
  {
   "source": [
    "## User input requirements:\n",
    "1. Assume that the user will only guess one charachter at a time, but the user can choose any number, symbol or letter. The code should accept capital and lowercase letters as valid guesses.\n",
    "2. If the user inputs anything besides an alphavet (symbols, numbers), tell the user that they can only input an alphabet. Because the user might do this by\n",
    "accident, they should get 3 warnings at the beginning of the game. Each time\n",
    "they enter an invalid input, or a letter they have already guessed, they should\n",
    "lose a warning. If the user has no warnings left and enters an invalid input,\n",
    "they should lose a guess.\n",
    "* Use calls to the ​ input​ function to get the user’s guess.\n",
    "<br><br>    a. Check that the user input is an alphabet\n",
    "<br><br>    b. If the user does not input an uppercase or lowercase alphabet letter,\n",
    "subtract one warning or one guess.\n",
    "* you may find the string functions ​ str.isalpha(‘your string’) ​ and\n",
    "str.lower(‘Your String’) ​ helpful! If you don’t know what these functions are you\n",
    "could try typing help(str.isalpha) or help(str.lower) in your Spyder shell to see the\n",
    "documentation for the functions.\n",
    "* Since the words in words.txt are lowercase, it might be easier to convert the\n",
    "user input to lowercase at all times and have your game only handle lowercase."
   ],
   "cell_type": "markdown",
   "metadata": {}
  },
  {
   "source": [
    "## game rules\n",
    "1. The user starts with 3 warnings.\n",
    "2. If the user inputs anything besides an alphabet (symbols, numbers), tell the\n",
    "user that they can only input an alphabet.\n",
    "<br><br>    a. If the user has one or more warning left, the user should lose one\n",
    "warning. Tell the user the number of remaining warnings.\n",
    "<br><br>    b. If the user has no remaining warnings, they should lose one guess.\n",
    "3. If the user inputs a letter that has already been guessed, print a message\n",
    "telling the user the letter has already been guessed before.\n",
    "<br><br>    a. If the user has one or more warning left, the user should lose one\n",
    "warning. Tell the user the number of remaining warnings.\n",
    "<br><br>    b. If the user has no warnings, they should lose one guess.\n",
    "4. If the user inputs a letter that hasn’t been guessed before and the letter is in\n",
    "the secret word, the user loses ​ no​ guesses.\n",
    "5. Consonants:​ If the user inputs a consonant that hasn’t been guessed and the\n",
    "consonant is not in the secret word, the user loses ​ one​ guess if it’s a\n",
    "consonant.\n",
    "6. Vowels:​ If the vowel hasn’t been guessed and the vowel is not in the secret\n",
    "word, the user loses ​ two​ guesses. Vowels are ​ a , ​ e , i ​ , ​ o , and ​ u . ​ y does not\n",
    "count as a vowel.\n"
   ],
   "cell_type": "markdown",
   "metadata": {}
  },
  {
   "source": [
    "## Game Termination:\n",
    "1. The game should end when the user constructs the full word or runs out of\n",
    "guesses.\n",
    "2. If the player runs out of guesses before completing the word, tell them they\n",
    "lost and reveal the word to the user when the game ends.\n",
    "3. If the user wins, print a congratulatory message and tell the user their score.\n",
    "4. The total score is the number of ​ guesses_remaining ​ once the user has\n",
    "guessed the ​ secret_word​ times the number of unique letters in ​ secret_word​ .\n",
    "## Total score = guesses_remaining* number unique letters in secret_word"
   ],
   "cell_type": "markdown",
   "metadata": {}
  },
  {
   "source": [
    "## General Hints:\n",
    "1. Consider writing additional helper functions if you need them.\n",
    "2. There are four important pieces of information you may wish to store:\n",
    "<br><br>    a. secret_word​ : The word to guess. This is already used as the parameter\n",
    "name for the ​ hangman​ function.\n",
    "<br><br>    b. letters_guessed ​ : The letters that have been guessed so far. If they\n",
    "guess a letter that is already in ​ letters_guessed ​ , you should print a\n",
    "message telling them they've already guessed that but do not penalize\n",
    "them for it.\n",
    "<br><br>    c. guesses_remaining ​ : The number of guesses the user has left. Note that\n",
    "in our example game, the penalty for choosing an incorrect vowel is\n",
    "different than the penalty for choosing an incorrect consonant.\n",
    "<br><br>    d. warnings_remaining ​ : The number of warnings the user has left. Note\n",
    "that a user only loses a warning for inputting either a symbol or a letter\n",
    "that has already been guessed."
   ],
   "cell_type": "markdown",
   "metadata": {}
  }
 ]
}