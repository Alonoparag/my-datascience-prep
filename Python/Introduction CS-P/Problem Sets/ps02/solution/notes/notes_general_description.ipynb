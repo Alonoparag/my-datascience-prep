{
 "metadata": {
  "language_info": {
   "codemirror_mode": {
    "name": "ipython",
    "version": 3
   },
   "file_extension": ".py",
   "mimetype": "text/x-python",
   "name": "python",
   "nbconvert_exporter": "python",
   "pygments_lexer": "ipython3",
   "version": 3
  },
  "orig_nbformat": 2
 },
 "nbformat": 4,
 "nbformat_minor": 2,
 "cells": [
  {
   "cell_type": "code",
   "execution_count": null,
   "metadata": {},
   "outputs": [],
   "source": [
    "# General description\n",
    "1) computer select a word at random from the list of available words provided in words.txt\n",
    "2) The user is given a certain number of guesses at the beginning\n",
    "3) The user inputs their guess and the computer either:\n",
    "    a) reveals the letter if it exists in the secret word\n",
    "    b) penalize the user and updates the number of guesses remaining\n",
    "4) The game ends when either the user guesses the secret word, or the user runs out of guesses"
   ]
  },
  {
   "cell_type": "code",
   "execution_count": null,
   "metadata": {},
   "outputs": [],
   "source": [
    "# Problems to be solved\n",
    "* what files should the program import?\n",
    "* Choosing a word:\n",
    "    * How does the program chooses a word?\n",
    "    * where does it stores it?\n",
    "    * How it displays it?\n",
    "* How and where the program keep tracks of remaining guesses?\n",
    "* How the program checks whether the given input is in the word?\n",
    "    * How it knows which underscore to replace with a letter?\n",
    "    * How it displays another guess to the player?\n",
    "* At which conditions should the game end?"
   ]
  }
 ]
}