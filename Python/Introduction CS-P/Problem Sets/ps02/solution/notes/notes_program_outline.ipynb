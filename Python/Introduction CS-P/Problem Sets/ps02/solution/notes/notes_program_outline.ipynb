{
 "metadata": {
  "language_info": {
   "codemirror_mode": {
    "name": "ipython",
    "version": 3
   },
   "file_extension": ".py",
   "mimetype": "text/x-python",
   "name": "python",
   "nbconvert_exporter": "python",
   "pygments_lexer": "ipython3",
   "version": 3
  },
  "orig_nbformat": 2
 },
 "nbformat": 4,
 "nbformat_minor": 2,
 "cells": [
  {
   "source": [
    "\n",
    "## functions\n",
    "* load_words - returns a list of valid words as strings of lowercase letters.\n",
    "* choose_word - returns a word from wordlist at random\n",
    "* is_word_guessed - checks if the secret word is guessed\n"
   ],
   "cell_type": "markdown",
   "metadata": {}
  },
  {
   "source": [
    "#get_guessed_word \n",
    "## parameters:\n",
    "* secret_word: string\n",
    "* letters_guessed: list\n",
    "## guidelines:\n",
    "* uses underscores  to represent unkown letters (letters which appear in secret_word but not in letters_guessed)\n",
    "## return value\n",
    "* a string comprised of letters, underscores and spaces that represents which letters in secret_word have been guessed"
   ],
   "cell_type": "markdown",
   "metadata": {}
  },
  {
   "source": [
    "# get_available_letters\n",
    "## parameters:\n",
    "*   letters_guessed - list.\n",
    "## assumptions:\n",
    "* all letters in letters_guessed are lowercase\n",
    "## hints:\n",
    "* use string.ascii_lowercase\n",
    "## return value\n",
    "* a string of lowercase english letters that are not in letters_guessed, ordered alphabetically\n"
   ],
   "cell_type": "markdown",
   "metadata": {}
  },
  {
   "source": [
    "# hangman\n",
    "## parameters\n",
    "* secret_word: string, selected by the program, using load_words and choose_word\n",
    "## assumptions\n"
   ],
   "cell_type": "markdown",
   "metadata": {}
  },
  {
   "cell_type": "code",
   "execution_count": null,
   "metadata": {},
   "outputs": [],
   "source": []
  }
 ]
}