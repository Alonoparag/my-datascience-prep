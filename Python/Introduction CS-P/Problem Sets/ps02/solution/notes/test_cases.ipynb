{
 "metadata": {
  "language_info": {
   "codemirror_mode": {
    "name": "ipython",
    "version": 3
   },
   "file_extension": ".py",
   "mimetype": "text/x-python",
   "name": "python",
   "nbconvert_exporter": "python",
   "pygments_lexer": "ipython3",
   "version": 3
  },
  "orig_nbformat": 2
 },
 "nbformat": 4,
 "nbformat_minor": 2,
 "cells": [
  {
   "cell_type": "code",
   "execution_count": null,
   "metadata": {},
   "outputs": [],
   "source": [
    "# Test cases\n",
    "## Glass-box\n",
    "* is words.txt imported\n",
    "### * is_word_guessed:\n",
    "    * \n",
    "## Black-box\n",
    "* Does the game fails after [number] of guesses?\n",
    "* Does the game Wins after the word is guessed?\n",
    "* Does the game display the word replaced with the underscore?\n",
    "* Does the game updates remaining guessesn when the player fails to guess a letter?\n",
    "* Does the game reveals a hidden letter ONLY when that letter is guessed?\n",
    "* Does the game reveals a hidden letter in all occurances when a letter is in a word for more than one time (thought for example)?\n",
    "\n"
   ]
  },
  {
   "source": [
    "### * is_word_guessed:\n",
    "        * assert type(secret_word) == 'string'\n",
    "        * assert length of secret_word > 1\n",
    "        * assert type(letters_guessed) == 'list'\n",
    "        * test cases: \n",
    "            * secret_word has no recurring letters\n",
    "                * case: all letters of secret word are in letters_guessed returns True\n",
    "                * case: not all letters of secret word are in letters_guessed returns False\n",
    "            * secret_word has recurring letters\n",
    "                * case: all letters of secret word are in letters_guessed returns True\n",
    "                * case: not all letters of secret word are in letters_guessed returns False"
   ],
   "cell_type": "markdown",
   "metadata": {}
  },
  {
   "source": [
    "### get_guessed_word\n",
    "    * assert type(secret_word) == 'string'\n",
    "    * assert length of secret_word > 1\n",
    "    * assert type(letters_guessed) == 'list\n",
    "    * assert return type == 'string'\n",
    "    * test cases:\n",
    "        * no letters guessed: returns a string with len(secret_word) underscores(representing the letters) and len(secret_word)-1 spaces between the underscores\n",
    "        * 1 letters guessed:\n",
    "            * no recurring letters: return a string:\n",
    "                * guessed letter is in the same position as in the string\n",
    "                * unguessed letters are represented by the string'_ '(underscore followed by a space)\n",
    "            * recurring letters: \n",
    "                * guessed letter is in the same position as in the string\n",
    "                * unguessed letters are represented by the string'_ '(underscore followed by a space)\n",
    "                * runs a for loop on returned a stripped version of the returned string to check that non hidden letters equal to the same index char in secret_word: return.stripped()[i] = secret_word[i]\n",
    "        * 2 letters guessed:\n",
    "            * no recurring letters:\n",
    "                * guessed letter is in the same position as in the string\n",
    "                * unguessed letters are represented by the string'_ '(underscore followed by a space)\n",
    "                * runs a for loop on returned a stripped version of the returned string to check that non hidden letters equal to the same index char in secret_word: return.stripped()[i] = secret_word[i]\n",
    "            * recurring letters:\n",
    "                * guessed letter is in the same position as in the string\n",
    "                * unguessed letters are represented by the string'_ '(underscore followed by a space)\n",
    "                * runs a for loop on returned a stripped version of the returned string to check that non hidden letters equal to the same index char in secret_word: return.stripped()[i] = secret_word[i]\n",
    "        * n letters guessed:\n",
    "            * no recurring letters:\n",
    "                * guessed letter is in the same position as in the string\n",
    "                * unguessed letters are represented by the string'_ '(underscore followed by a space)\n",
    "                * runs a for loop on returned a stripped version of the returned string to check that non hidden letters equal to the same index char in secret_word: return.stripped()[i] = secret_word[i]\n",
    "            * recurring letters:\n",
    "                * guessed letter is in the same position as in the string\n",
    "                * unguessed letters are represented by the string'_ '(underscore followed by a space)\n",
    "                * runs a for loop on returned a stripped version of the returned string to check that non hidden letters equal to the same index char in secret_word: return.stripped()[i] = secret_word[i]"
   ],
   "cell_type": "markdown",
   "metadata": {}
  },
  {
   "cell_type": "code",
   "execution_count": null,
   "metadata": {},
   "outputs": [],
   "source": [
    "# get_available_letters\n",
    "* assertions:\n",
    "    * letters in letters_guessed are all lowercase\n",
    "* cases:\n",
    "    * letters_guessed is empty:\n",
    "        * returns a string of all lowercase english letters ordered alphabetically\n",
    "    * letters_guessed is not empty\n",
    "        * 1 letter: returns a string of all lowercase english letters except the letter found in letters_guessed ordered alphabetically\n",
    "        * 2 letters: returns a string of all lowercase english letters except the letters found in letters_guessed ordered alphabetically\n",
    "        * n letters: returns a string of all lowercase english letters except the letters found in letters_guessed ordered alphabetically\n"
   ]
  }
 ]
}