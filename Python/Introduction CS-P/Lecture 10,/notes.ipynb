{
 "metadata": {
  "language_info": {
   "codemirror_mode": {
    "name": "ipython",
    "version": 3
   },
   "file_extension": ".py",
   "mimetype": "text/x-python",
   "name": "python",
   "nbconvert_exporter": "python",
   "pygments_lexer": "ipython3",
   "version": 3
  },
  "orig_nbformat": 2
 },
 "nbformat": 4,
 "nbformat_minor": 2,
 "cells": [
  {
   "source": [
    "# Complexity\n",
    "\n",
    "* Timing programs is inconsistent because it varies between implementations, varies between computers, not predictable based on small inputs\n",
    "* define primitive operations that take constant time, and count the number of operations executed as function of size of input. this way time is abstracted to steps.\n",
    "* counting operations is dependent on algorithm, dependent on implementaions, independent of computers, and there is no clear definition of which operations to count. count varies for different inputs and can come up with a relationshiop between inputs and the count\n",
    "*  $\\omicron$\n",
    "\n",
    "## Constant>Logarithmic Linear> LogLinear> Polynomial> Exponential\n",
    "\n"
   ],
   "cell_type": "markdown",
   "metadata": {}
  },
  {
   "source": [
    "$O(L1)*O(L2) = O(L1*L2)$"
   ],
   "cell_type": "markdown",
   "metadata": {}
  },
  {
   "cell_type": "code",
   "execution_count": null,
   "metadata": {},
   "outputs": [],
   "source": [
    "## logarithmic complexity\n",
    "d"
   ]
  },
  {
   "cell_type": "code",
   "execution_count": null,
   "metadata": {},
   "outputs": [],
   "source": [
    "def binarySearch(l, e, mid, min, max):\n",
    "    if e==l[mid]:\n",
    "        return l[mid]\n",
    "    elif e>l[mid]:\n",
    "        binarySearch(l, e,(l[mid]))\n",
    "    elif e l[mid]:\n",
    "        binarySearch(l, e,(l[mid]))"
   ]
  }
 ]
}