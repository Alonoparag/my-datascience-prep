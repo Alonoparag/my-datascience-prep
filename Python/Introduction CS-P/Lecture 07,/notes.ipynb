{
 "cells": [
  {
   "source": [
    "#debugging\n",
    "* Decomposition, abstraction, documentation - defensive programming\n",
    "\n",
    "## Unit test\n",
    "* tests each unit\n",
    "*regression testing - add test for bugs found, catch reintroduced errors that were previously fixed\n",
    "* integration testing - test the program as a whole\n",
    "## Test Approaches\n",
    "* Intuition\n",
    "* Random\n",
    "*Black-box testing: explore paths through specification\n",
    "* glass-box testing: finding test-cases that hit all the paths of the code\n",
    " "
   ],
   "cell_type": "markdown",
   "metadata": {}
  },
  {
   "cell_type": "code",
   "execution_count": null,
   "metadata": {},
   "outputs": [],
   "source": [
    "#Glass box testing\n",
    "* branchse - execise all parts of a conditional\n",
    "* for loops case for loop not entered, body of loop executed exactly once, body of loop executed more than once\n",
    "* while loops: same as for loop, cases that catch all ways to exit loop\n",
    "*hit boundary conditions"
   ]
  },
  {
   "cell_type": "code",
   "execution_count": null,
   "metadata": {},
   "outputs": [],
   "source": [
    "# debugging\n",
    "* use bisection method on the code to find the bug - work in halves\n",
    "* ruberducckie method\n",
    "* document the process in a notebook\n",
    "*when a bug is fixed, branch the document to a new one and continue to debug\n",
    "## debugging process:\n",
    "* study program code\n",
    "    * don't ask what is wrong\n",
    "    ask how did I get the unexpected result*\n",
    "    * is it part of a family?\n",
    "\n",
    "*scientific method:\n",
    "    * study available data\n",
    "    * form hypothesis\n",
    "    * repeatable experiments\n",
    "    * pick simplest input to test with"
   ]
  },
  {
   "cell_type": "code",
   "execution_count": null,
   "metadata": {},
   "outputs": [],
   "source": [
    "#try-except\n",
    "try\n",
    "except\n",
    "except2\n",
    "else\n",
    "finally\n",
    "\n",
    "raise Error('msg')"
   ]
  },
  {
   "cell_type": "code",
   "execution_count": null,
   "metadata": {},
   "outputs": [],
   "source": [
    "# Assertions\n",
    "* goal is to spot bbugs as soon as introduced and make clear where they happened\n",
    "* use as a supplement to testing\n",
    "* raise exceptions if users supllies bad data input\n",
    "* use assertions to:\n",
    "    * check types of arguments or values\n",
    "    * check that invariants on data structures are met\n",
    "    * check constraints on return values\n",
    "    * check for violations of constraints on procedure (e/g/ no duplicates in a list)"
   ]
  }
 ],
 "metadata": {
  "kernelspec": {
   "display_name": "Python 3 (Spyder)",
   "language": "python3",
   "name": "python3"
  },
  "language_info": {
   "codemirror_mode": {
    "name": "ipython",
    "version": 3
   },
   "file_extension": ".py",
   "mimetype": "text/x-python",
   "name": "python",
   "nbconvert_exporter": "python",
   "pygments_lexer": "ipython3",
   "version": "3.8.6"
  }
 },
 "nbformat": 4,
 "nbformat_minor": 4
}