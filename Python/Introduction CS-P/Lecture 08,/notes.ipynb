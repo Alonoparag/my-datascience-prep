{
 "metadata": {
  "language_info": {
   "codemirror_mode": {
    "name": "ipython",
    "version": 3
   },
   "file_extension": ".py",
   "mimetype": "text/x-python",
   "name": "python",
   "nbconvert_exporter": "python",
   "pygments_lexer": "ipython3",
   "version": "3.8.6-final"
  },
  "orig_nbformat": 2,
  "kernelspec": {
   "name": "python3",
   "display_name": "Python 3"
  }
 },
 "nbformat": 4,
 "nbformat_minor": 2,
 "cells": [
  {
   "cell_type": "code",
   "execution_count": null,
   "metadata": {},
   "outputs": [],
   "source": [
    "# OOP\n",
    "* every object has type\n",
    "* every object has daata representation\n",
    "* every object has a set of procedures for interaction with object\n",
    "\n",
    "* an object is an instance of a type\n",
    "\n",
    "* **Everything is an object**\n",
    "* object is a data abstraction that capture:\n",
    " * internal representation\n",
    " * an interface for interacting with objects through methods\n",
    " * defines behaviors but hides implementaition\n",
    " * self is a placeholder for the instance created withnthe class,\n",
    "## use:\n",
    "* create a new object\n",
    "* manipulate it\n",
    "* destroy it\n",
    "\n",
    "## Best Practices\n",
    "* every object should have a __str__ method to print information on the object\n",
    "* every object should have __eq__ methoud to check for identicality\n",
    "* implement special operators:\n",
    "    *__add__(self, other)\n",
    "    *__sub__(self, other)\n",
    "    *__eq__(self, other)\n",
    "    *__lt__(self, other)\n",
    "    *__len__(self)\n",
    "    *__str__(self)"
   ]
  },
  {
   "cell_type": "code",
   "execution_count": null,
   "metadata": {},
   "outputs": [],
   "source": [
    "## methods"
   ]
  },
  {
   "cell_type": "code",
   "execution_count": 7,
   "metadata": {},
   "outputs": [
    {
     "output_type": "execute_result",
     "data": {
      "text/plain": [
       "4.47213595499958"
      ]
     },
     "metadata": {},
     "execution_count": 7
    }
   ],
   "source": [
    "class Coordinate(object):\n",
    "    \"\"\"\n",
    "    Assumes x,y are type floats\n",
    "    returns a Coordinate object\n",
    "    \"\"\"\n",
    "    def __init__(self,x,y):\n",
    "        assert type(x) == float\n",
    "        assert type(y) == float\n",
    "        self.x = x\n",
    "        self.y = y\n",
    "    \n",
    "    def distance(self, other):\n",
    "        x_diff_sq = (self.x - other.x)**2\n",
    "        y_diff_sq = (self.y - other.y)**2\n",
    "        return (x_diff_sq + y_diff_sq)**0.5\n",
    "\n",
    "c = Coordinate(3.0,5.0)\n",
    "a = Coordinate(7.0, 3.0)\n",
    "c.distance(a)"
   ]
  },
  {
   "cell_type": "code",
   "execution_count": 14,
   "metadata": {},
   "outputs": [
    {
     "output_type": "stream",
     "name": "stdout",
     "text": [
      "16/16\n1.0\n1.0\n1.3333333333333333\n"
     ]
    }
   ],
   "source": [
    "class Coordinate(object):\n",
    "    \"\"\"\n",
    "    Assumes x,y are type floats\n",
    "    returns a Coordinate object\n",
    "    \"\"\"\n",
    "    def __init__(self,x,y):\n",
    "        assert type((x, y)) == float\n",
    "        self.__x = x\n",
    "        self.__y = y\n",
    "    \n",
    "    def distance(self, other):\n",
    "        x_diff_sq = (self.x - other.x)**2\n",
    "        y_diff_sq = (self.y - other.y)**2\n",
    "        return (x_diff_sq + y_diff_sq)**0.5\n",
    "    \n",
    "    def __str__(self):\n",
    "        return \"<\"+str(self.x)+\", \"+str(self.y)+\">\"\n",
    "    \n",
    "\n",
    "class Fraction(object):\n",
    "    \"\"\"\n",
    "    A number represented as a fraction\n",
    "    \"\"\"\n",
    "    def __init__(self, num, denom):\n",
    "        \"\"\"\n",
    "        num and denom are integers\n",
    "        \"\"\"\n",
    "        assert type(num) == int and type(denom) == int\n",
    "        self.__num = num\n",
    "        self.__denom = denom\n",
    "\n",
    "    def get_num(self):\n",
    "        return self.__num\n",
    "    \n",
    "    def get_denom(self):\n",
    "        return self.__denom\n",
    "\n",
    "    def __str__(self):\n",
    "        \"\"\"returns a string representation of self\"\"\"\n",
    "        return str(self.__num)+\"/\"+str(self.__denom)\n",
    "\n",
    "    def __add__(self, other):\n",
    "        top = self.get_num()*other.get_denom() + self.get_denom()*other.get_num()\n",
    "        bott = self.get_denom()*other.get_denom()\n",
    "        return Fraction(top, bott)\n",
    "\n",
    "    def __sub__(self, other):\n",
    "        top = self.get_num()*other.get_denom() - self.get_denom()*other.get_num()\n",
    "        bott = self.get_denom()*other.get_denom()\n",
    "        return Fraction(top, bott)\n",
    "\n",
    "    def __float__(self):\n",
    "        return self.get_num()/self.get_denom()\n",
    "\n",
    "    def inverse(self):\n",
    "        return Fraction(self.get_denom(), self.get_num())\n",
    "\n",
    "a = Fraction(1, 4)\n",
    "b = Fraction(3, 4)\n",
    "c = a+b\n",
    "print(c)\n",
    "print(float(c))\n",
    "print(Fraction.__float__(c))\n",
    "print(float(b.inverse()))"
   ]
  }
 ]
}