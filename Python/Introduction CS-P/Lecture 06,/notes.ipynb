{
 "metadata": {
  "language_info": {
   "codemirror_mode": {
    "name": "ipython",
    "version": 3
   },
   "file_extension": ".py",
   "mimetype": "text/x-python",
   "name": "python",
   "nbconvert_exporter": "python",
   "pygments_lexer": "ipython3",
   "version": 3
  },
  "orig_nbformat": 2
 },
 "nbformat": 4,
 "nbformat_minor": 2,
 "cells": [
  {
   "cell_type": "code",
   "execution_count": null,
   "metadata": {},
   "outputs": [],
   "source": [
    "# recursion\n",
    "* Repeating an idea multiple time\n",
    "* reducing a problem to a simpler problem, and repeating untill ariving to a simple case which is solveable\n",
    "* semantically: a function calling itself\n",
    "    * must have at least 1 base case\n",
    "* \n",
    "## how to?\n",
    "* Define a base case\n",
    "* return a functionn call reduced untill the base case"
   ]
  },
  {
   "cell_type": "code",
   "execution_count": null,
   "metadata": {},
   "outputs": [],
   "source": [
    "# Mathematichal inductions\n",
    "* prove true for the smallest number of n\n",
    "* If it prove for n, it's also true for n+1"
   ]
  },
  {
   "cell_type": "code",
   "execution_count": null,
   "metadata": {},
   "outputs": [],
   "source": [
    "# Dictionaries\n",
    "* Uses one data structure instead by seperate ones\n",
    "* Combines a key with a value\n",
    "* indexing is done by a value\n",
    "* values could be of any type\n",
    "* could be duplicates\n",
    "* keys need to be unique and immutable\n",
    "## Operations:\n",
    "* add an entry: dict[key] = value\n",
    "* test if key in dictionary\n",
    "* remove: del(grades['ana'])\n",
    "* dict.keys() return an iterable with an undefined order of the keys"
   ]
  }
 ]
}